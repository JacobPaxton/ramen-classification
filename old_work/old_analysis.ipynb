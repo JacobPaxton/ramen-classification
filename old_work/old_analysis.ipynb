{
 "cells": [
  {
   "cell_type": "markdown",
   "id": "6f2e2796",
   "metadata": {},
   "source": [
    "# Ramen Classification\n",
    "\n",
    "**Goal**: Accurately predict a ramen's rating (Stars) using the brand, variety, style and country of the ramen."
   ]
  },
  {
   "cell_type": "markdown",
   "id": "4d112bf7",
   "metadata": {},
   "source": [
    "# Imports"
   ]
  },
  {
   "cell_type": "code",
   "execution_count": 1,
   "id": "3a3803d5",
   "metadata": {},
   "outputs": [],
   "source": [
    "import warnings\n",
    "warnings.filterwarnings('ignore')\n",
    "\n",
    "import numpy as np\n",
    "import pandas as pd\n",
    "import seaborn as sns\n",
    "import matplotlib.pyplot as plt\n",
    "import scipy.stats as stats\n",
    "\n",
    "from sklearn.model_selection import train_test_split\n",
    "from sklearn.ensemble import RandomForestClassifier\n",
    "from sklearn.tree import DecisionTreeClassifier\n",
    "from sklearn.neighbors import KNeighborsClassifier\n",
    "from sklearn.linear_model import LogisticRegression\n",
    "\n",
    "from sklearn.feature_selection import RFE\n",
    "from sklearn.linear_model import LinearRegression\n",
    "\n",
    "from sklearn.metrics import classification_report"
   ]
  },
  {
   "cell_type": "code",
   "execution_count": 2,
   "id": "df4e1340",
   "metadata": {},
   "outputs": [
    {
     "data": {
      "text/html": [
       "<div>\n",
       "<style scoped>\n",
       "    .dataframe tbody tr th:only-of-type {\n",
       "        vertical-align: middle;\n",
       "    }\n",
       "\n",
       "    .dataframe tbody tr th {\n",
       "        vertical-align: top;\n",
       "    }\n",
       "\n",
       "    .dataframe thead th {\n",
       "        text-align: right;\n",
       "    }\n",
       "</style>\n",
       "<table border=\"1\" class=\"dataframe\">\n",
       "  <thead>\n",
       "    <tr style=\"text-align: right;\">\n",
       "      <th></th>\n",
       "      <th>Review #</th>\n",
       "      <th>Brand</th>\n",
       "      <th>Variety</th>\n",
       "      <th>Style</th>\n",
       "      <th>Country</th>\n",
       "      <th>Stars</th>\n",
       "      <th>Top Ten</th>\n",
       "    </tr>\n",
       "  </thead>\n",
       "  <tbody>\n",
       "    <tr>\n",
       "      <th>0</th>\n",
       "      <td>2580</td>\n",
       "      <td>New Touch</td>\n",
       "      <td>T's Restaurant Tantanmen</td>\n",
       "      <td>Cup</td>\n",
       "      <td>Japan</td>\n",
       "      <td>3.75</td>\n",
       "      <td>NaN</td>\n",
       "    </tr>\n",
       "    <tr>\n",
       "      <th>1</th>\n",
       "      <td>2579</td>\n",
       "      <td>Just Way</td>\n",
       "      <td>Noodles Spicy Hot Sesame Spicy Hot Sesame Guan...</td>\n",
       "      <td>Pack</td>\n",
       "      <td>Taiwan</td>\n",
       "      <td>1</td>\n",
       "      <td>NaN</td>\n",
       "    </tr>\n",
       "    <tr>\n",
       "      <th>2</th>\n",
       "      <td>2578</td>\n",
       "      <td>Nissin</td>\n",
       "      <td>Cup Noodles Chicken Vegetable</td>\n",
       "      <td>Cup</td>\n",
       "      <td>USA</td>\n",
       "      <td>2.25</td>\n",
       "      <td>NaN</td>\n",
       "    </tr>\n",
       "  </tbody>\n",
       "</table>\n",
       "</div>"
      ],
      "text/plain": [
       "   Review #      Brand                                            Variety  \\\n",
       "0      2580  New Touch                          T's Restaurant Tantanmen    \n",
       "1      2579   Just Way  Noodles Spicy Hot Sesame Spicy Hot Sesame Guan...   \n",
       "2      2578     Nissin                      Cup Noodles Chicken Vegetable   \n",
       "\n",
       "  Style Country Stars Top Ten  \n",
       "0   Cup   Japan  3.75     NaN  \n",
       "1  Pack  Taiwan     1     NaN  \n",
       "2   Cup     USA  2.25     NaN  "
      ]
     },
     "execution_count": 2,
     "metadata": {},
     "output_type": "execute_result"
    }
   ],
   "source": [
    "df = pd.read_csv('ramen-ratings.csv')\n",
    "df.head(3)"
   ]
  },
  {
   "cell_type": "markdown",
   "id": "810a71f2",
   "metadata": {},
   "source": [
    "# Tidying Data (dtypes, nulls, etc)"
   ]
  },
  {
   "cell_type": "code",
   "execution_count": 3,
   "id": "adfc0f1f",
   "metadata": {},
   "outputs": [
    {
     "data": {
      "text/plain": [
       "Review #     int64\n",
       "Brand       object\n",
       "Variety     object\n",
       "Style       object\n",
       "Country     object\n",
       "Stars       object\n",
       "Top Ten     object\n",
       "dtype: object"
      ]
     },
     "execution_count": 3,
     "metadata": {},
     "output_type": "execute_result"
    }
   ],
   "source": [
    "### Identify dtypes that need to be fixed ###\n",
    "df.dtypes"
   ]
  },
  {
   "cell_type": "code",
   "execution_count": 4,
   "id": "542fc748",
   "metadata": {},
   "outputs": [
    {
     "data": {
      "text/plain": [
       "array(['3.75', '1', '2.25', '2.75', '4.75', '4', '0.25', '2.5', '5',\n",
       "       '4.25', '4.5', '3.5', 'Unrated', '1.5', '3.25', '2', '0', '3',\n",
       "       '0.5', '4.00', '5.0', '3.50', '3.8', '4.3', '2.3', '5.00', '3.3',\n",
       "       '4.0', '3.00', '1.75', '3.0', '4.50', '0.75', '1.25', '1.1', '2.1',\n",
       "       '0.9', '3.1', '4.125', '3.125', '2.125', '2.9', '0.1', '2.8',\n",
       "       '3.7', '3.4', '3.6', '2.85', '3.2', '3.65', '1.8'], dtype=object)"
      ]
     },
     "execution_count": 4,
     "metadata": {},
     "output_type": "execute_result"
    }
   ],
   "source": [
    "### Cast review number as string ###\n",
    "df['Review #'] = df['Review #'].astype('str')\n",
    "### Identify non-float numbers in Stars column ###\n",
    "df.Stars.unique()"
   ]
  },
  {
   "cell_type": "code",
   "execution_count": 5,
   "id": "fbc72d3c",
   "metadata": {},
   "outputs": [
    {
     "data": {
      "text/html": [
       "<div>\n",
       "<style scoped>\n",
       "    .dataframe tbody tr th:only-of-type {\n",
       "        vertical-align: middle;\n",
       "    }\n",
       "\n",
       "    .dataframe tbody tr th {\n",
       "        vertical-align: top;\n",
       "    }\n",
       "\n",
       "    .dataframe thead th {\n",
       "        text-align: right;\n",
       "    }\n",
       "</style>\n",
       "<table border=\"1\" class=\"dataframe\">\n",
       "  <thead>\n",
       "    <tr style=\"text-align: right;\">\n",
       "      <th></th>\n",
       "      <th>Review #</th>\n",
       "      <th>Brand</th>\n",
       "      <th>Variety</th>\n",
       "      <th>Style</th>\n",
       "      <th>Country</th>\n",
       "      <th>Stars</th>\n",
       "      <th>Top Ten</th>\n",
       "    </tr>\n",
       "  </thead>\n",
       "  <tbody>\n",
       "    <tr>\n",
       "      <th>32</th>\n",
       "      <td>2548</td>\n",
       "      <td>Ottogi</td>\n",
       "      <td>Plain Instant Noodle No Soup Included</td>\n",
       "      <td>Pack</td>\n",
       "      <td>South Korea</td>\n",
       "      <td>Unrated</td>\n",
       "      <td>NaN</td>\n",
       "    </tr>\n",
       "    <tr>\n",
       "      <th>122</th>\n",
       "      <td>2458</td>\n",
       "      <td>Samyang Foods</td>\n",
       "      <td>Sari Ramen</td>\n",
       "      <td>Pack</td>\n",
       "      <td>South Korea</td>\n",
       "      <td>Unrated</td>\n",
       "      <td>NaN</td>\n",
       "    </tr>\n",
       "    <tr>\n",
       "      <th>993</th>\n",
       "      <td>1587</td>\n",
       "      <td>Mi E-Zee</td>\n",
       "      <td>Plain Noodles</td>\n",
       "      <td>Pack</td>\n",
       "      <td>Malaysia</td>\n",
       "      <td>Unrated</td>\n",
       "      <td>NaN</td>\n",
       "    </tr>\n",
       "  </tbody>\n",
       "</table>\n",
       "</div>"
      ],
      "text/plain": [
       "    Review #          Brand                                Variety Style  \\\n",
       "32      2548         Ottogi  Plain Instant Noodle No Soup Included  Pack   \n",
       "122     2458  Samyang Foods                             Sari Ramen  Pack   \n",
       "993     1587       Mi E-Zee                          Plain Noodles  Pack   \n",
       "\n",
       "         Country    Stars Top Ten  \n",
       "32   South Korea  Unrated     NaN  \n",
       "122  South Korea  Unrated     NaN  \n",
       "993     Malaysia  Unrated     NaN  "
      ]
     },
     "execution_count": 5,
     "metadata": {},
     "output_type": "execute_result"
    }
   ],
   "source": [
    "### Locate the index of non-float values in Stars ###\n",
    "df[df.Stars == 'Unrated']"
   ]
  },
  {
   "cell_type": "code",
   "execution_count": 6,
   "id": "d0079360",
   "metadata": {},
   "outputs": [],
   "source": [
    "### Drop those indices ###\n",
    "df = df.drop([32,122,993])"
   ]
  },
  {
   "cell_type": "code",
   "execution_count": 7,
   "id": "890a28a6",
   "metadata": {},
   "outputs": [
    {
     "data": {
      "text/plain": [
       "Review #     object\n",
       "Brand        object\n",
       "Variety      object\n",
       "Style        object\n",
       "Country      object\n",
       "Stars       float64\n",
       "Top Ten      object\n",
       "dtype: object"
      ]
     },
     "execution_count": 7,
     "metadata": {},
     "output_type": "execute_result"
    }
   ],
   "source": [
    "### Cast Stars as float ###\n",
    "df['Stars'] = df['Stars'].astype('float')\n",
    "df.dtypes"
   ]
  },
  {
   "cell_type": "code",
   "execution_count": 8,
   "id": "982a61c4",
   "metadata": {},
   "outputs": [
    {
     "data": {
      "text/plain": [
       "Pack    1528\n",
       "Bowl     481\n",
       "Cup      450\n",
       "Tray     108\n",
       "Box        6\n",
       "Can        1\n",
       "Bar        1\n",
       "Name: Style, dtype: int64"
      ]
     },
     "execution_count": 8,
     "metadata": {},
     "output_type": "execute_result"
    }
   ],
   "source": [
    "### Identify low-count values in Style ###\n",
    "df.Style.value_counts()"
   ]
  },
  {
   "cell_type": "code",
   "execution_count": 9,
   "id": "c7e30c44",
   "metadata": {},
   "outputs": [
    {
     "data": {
      "text/html": [
       "<div>\n",
       "<style scoped>\n",
       "    .dataframe tbody tr th:only-of-type {\n",
       "        vertical-align: middle;\n",
       "    }\n",
       "\n",
       "    .dataframe tbody tr th {\n",
       "        vertical-align: top;\n",
       "    }\n",
       "\n",
       "    .dataframe thead th {\n",
       "        text-align: right;\n",
       "    }\n",
       "</style>\n",
       "<table border=\"1\" class=\"dataframe\">\n",
       "  <thead>\n",
       "    <tr style=\"text-align: right;\">\n",
       "      <th></th>\n",
       "      <th>Review #</th>\n",
       "      <th>Brand</th>\n",
       "      <th>Variety</th>\n",
       "      <th>Style</th>\n",
       "      <th>Country</th>\n",
       "      <th>Stars</th>\n",
       "      <th>Top Ten</th>\n",
       "    </tr>\n",
       "  </thead>\n",
       "  <tbody>\n",
       "    <tr>\n",
       "      <th>36</th>\n",
       "      <td>2544</td>\n",
       "      <td>Lipton</td>\n",
       "      <td>Cup-A-Soup Chicken Noodle With White Meat Inst...</td>\n",
       "      <td>Box</td>\n",
       "      <td>USA</td>\n",
       "      <td>1.50</td>\n",
       "      <td>NaN</td>\n",
       "    </tr>\n",
       "    <tr>\n",
       "      <th>80</th>\n",
       "      <td>2500</td>\n",
       "      <td>The Ramen Rater Select</td>\n",
       "      <td>Supreme Creamy Tom Yum Noodle</td>\n",
       "      <td>Box</td>\n",
       "      <td>Malaysia</td>\n",
       "      <td>5.00</td>\n",
       "      <td>NaN</td>\n",
       "    </tr>\n",
       "    <tr>\n",
       "      <th>139</th>\n",
       "      <td>2441</td>\n",
       "      <td>MyKuali</td>\n",
       "      <td>Penang Hokkien Prawn Flavor Noodle</td>\n",
       "      <td>Box</td>\n",
       "      <td>Japan</td>\n",
       "      <td>5.00</td>\n",
       "      <td>NaN</td>\n",
       "    </tr>\n",
       "    <tr>\n",
       "      <th>161</th>\n",
       "      <td>2419</td>\n",
       "      <td>MyKuali</td>\n",
       "      <td>Penang Red Tom Yum Goong</td>\n",
       "      <td>Box</td>\n",
       "      <td>Japan</td>\n",
       "      <td>5.00</td>\n",
       "      <td>NaN</td>\n",
       "    </tr>\n",
       "    <tr>\n",
       "      <th>203</th>\n",
       "      <td>2377</td>\n",
       "      <td>MyKuali</td>\n",
       "      <td>Penang White Curry Instant Noodle (Japan Version)</td>\n",
       "      <td>Box</td>\n",
       "      <td>Malaysia</td>\n",
       "      <td>5.00</td>\n",
       "      <td>NaN</td>\n",
       "    </tr>\n",
       "    <tr>\n",
       "      <th>1471</th>\n",
       "      <td>1109</td>\n",
       "      <td>La Fonte</td>\n",
       "      <td>Spaghetti With Bolognese Sauce</td>\n",
       "      <td>Box</td>\n",
       "      <td>Indonesia</td>\n",
       "      <td>4.25</td>\n",
       "      <td>NaN</td>\n",
       "    </tr>\n",
       "  </tbody>\n",
       "</table>\n",
       "</div>"
      ],
      "text/plain": [
       "     Review #                   Brand  \\\n",
       "36       2544                  Lipton   \n",
       "80       2500  The Ramen Rater Select   \n",
       "139      2441                 MyKuali   \n",
       "161      2419                 MyKuali   \n",
       "203      2377                 MyKuali   \n",
       "1471     1109                La Fonte   \n",
       "\n",
       "                                                Variety Style    Country  \\\n",
       "36    Cup-A-Soup Chicken Noodle With White Meat Inst...   Box        USA   \n",
       "80                        Supreme Creamy Tom Yum Noodle   Box   Malaysia   \n",
       "139                  Penang Hokkien Prawn Flavor Noodle   Box      Japan   \n",
       "161                            Penang Red Tom Yum Goong   Box      Japan   \n",
       "203   Penang White Curry Instant Noodle (Japan Version)   Box   Malaysia   \n",
       "1471                     Spaghetti With Bolognese Sauce   Box  Indonesia   \n",
       "\n",
       "      Stars Top Ten  \n",
       "36     1.50     NaN  \n",
       "80     5.00     NaN  \n",
       "139    5.00     NaN  \n",
       "161    5.00     NaN  \n",
       "203    5.00     NaN  \n",
       "1471   4.25     NaN  "
      ]
     },
     "execution_count": 9,
     "metadata": {},
     "output_type": "execute_result"
    }
   ],
   "source": [
    "### Locate indices of low-count Style ###\n",
    "df[df.Style == 'Box']"
   ]
  },
  {
   "cell_type": "code",
   "execution_count": 10,
   "id": "71522c86",
   "metadata": {},
   "outputs": [],
   "source": [
    "### Drop those indices ###\n",
    "df.drop([36,80,139,161,203,1471], inplace=True)"
   ]
  },
  {
   "cell_type": "code",
   "execution_count": 11,
   "id": "daea2a3a",
   "metadata": {},
   "outputs": [
    {
     "data": {
      "text/html": [
       "<div>\n",
       "<style scoped>\n",
       "    .dataframe tbody tr th:only-of-type {\n",
       "        vertical-align: middle;\n",
       "    }\n",
       "\n",
       "    .dataframe tbody tr th {\n",
       "        vertical-align: top;\n",
       "    }\n",
       "\n",
       "    .dataframe thead th {\n",
       "        text-align: right;\n",
       "    }\n",
       "</style>\n",
       "<table border=\"1\" class=\"dataframe\">\n",
       "  <thead>\n",
       "    <tr style=\"text-align: right;\">\n",
       "      <th></th>\n",
       "      <th>Review #</th>\n",
       "      <th>Brand</th>\n",
       "      <th>Variety</th>\n",
       "      <th>Style</th>\n",
       "      <th>Country</th>\n",
       "      <th>Stars</th>\n",
       "      <th>Top Ten</th>\n",
       "    </tr>\n",
       "  </thead>\n",
       "  <tbody>\n",
       "    <tr>\n",
       "      <th>67</th>\n",
       "      <td>2513</td>\n",
       "      <td>Pringles</td>\n",
       "      <td>Nissin Top Ramen Chicken Flavor Potato Crisps</td>\n",
       "      <td>Can</td>\n",
       "      <td>USA</td>\n",
       "      <td>3.5</td>\n",
       "      <td>NaN</td>\n",
       "    </tr>\n",
       "    <tr>\n",
       "      <th>1425</th>\n",
       "      <td>1155</td>\n",
       "      <td>Komforte Chockolates</td>\n",
       "      <td>Savory Ramen</td>\n",
       "      <td>Bar</td>\n",
       "      <td>USA</td>\n",
       "      <td>5.0</td>\n",
       "      <td>NaN</td>\n",
       "    </tr>\n",
       "  </tbody>\n",
       "</table>\n",
       "</div>"
      ],
      "text/plain": [
       "     Review #                 Brand  \\\n",
       "67       2513              Pringles   \n",
       "1425     1155  Komforte Chockolates   \n",
       "\n",
       "                                             Variety Style Country  Stars  \\\n",
       "67    Nissin Top Ramen Chicken Flavor Potato Crisps    Can     USA    3.5   \n",
       "1425                                   Savory Ramen    Bar     USA    5.0   \n",
       "\n",
       "     Top Ten  \n",
       "67       NaN  \n",
       "1425     NaN  "
      ]
     },
     "execution_count": 11,
     "metadata": {},
     "output_type": "execute_result"
    }
   ],
   "source": [
    "### Locate more indices of low-count Styles ###\n",
    "df[(df.Style == 'Can') | (df.Style == 'Bar')]"
   ]
  },
  {
   "cell_type": "code",
   "execution_count": 12,
   "id": "97b5f761",
   "metadata": {},
   "outputs": [],
   "source": [
    "### Drop those indices ###\n",
    "df.drop([67,1425], inplace=True)"
   ]
  },
  {
   "cell_type": "code",
   "execution_count": 13,
   "id": "f19522ec",
   "metadata": {},
   "outputs": [
    {
     "data": {
      "text/plain": [
       "array(['Cup', 'Pack', 'Tray', 'Bowl', nan], dtype=object)"
      ]
     },
     "execution_count": 13,
     "metadata": {},
     "output_type": "execute_result"
    }
   ],
   "source": [
    "### Check work ###\n",
    "df.Style.unique()"
   ]
  },
  {
   "cell_type": "code",
   "execution_count": 14,
   "id": "7393e1f0",
   "metadata": {},
   "outputs": [
    {
     "data": {
      "text/plain": [
       "Review #       0\n",
       "Brand          0\n",
       "Variety        0\n",
       "Style          2\n",
       "Country        0\n",
       "Stars          0\n",
       "Top Ten     2528\n",
       "dtype: int64"
      ]
     },
     "execution_count": 14,
     "metadata": {},
     "output_type": "execute_result"
    }
   ],
   "source": [
    "### Check null counts ###\n",
    "df.isna().sum()"
   ]
  },
  {
   "cell_type": "code",
   "execution_count": 15,
   "id": "2861ce3b",
   "metadata": {},
   "outputs": [
    {
     "data": {
      "text/html": [
       "<div>\n",
       "<style scoped>\n",
       "    .dataframe tbody tr th:only-of-type {\n",
       "        vertical-align: middle;\n",
       "    }\n",
       "\n",
       "    .dataframe tbody tr th {\n",
       "        vertical-align: top;\n",
       "    }\n",
       "\n",
       "    .dataframe thead th {\n",
       "        text-align: right;\n",
       "    }\n",
       "</style>\n",
       "<table border=\"1\" class=\"dataframe\">\n",
       "  <thead>\n",
       "    <tr style=\"text-align: right;\">\n",
       "      <th></th>\n",
       "      <th>Review #</th>\n",
       "      <th>Brand</th>\n",
       "      <th>Variety</th>\n",
       "      <th>Style</th>\n",
       "      <th>Country</th>\n",
       "      <th>Stars</th>\n",
       "      <th>Top Ten</th>\n",
       "    </tr>\n",
       "  </thead>\n",
       "  <tbody>\n",
       "    <tr>\n",
       "      <th>2152</th>\n",
       "      <td>428</td>\n",
       "      <td>Kamfen</td>\n",
       "      <td>E Menm Chicken</td>\n",
       "      <td>NaN</td>\n",
       "      <td>China</td>\n",
       "      <td>3.75</td>\n",
       "      <td>NaN</td>\n",
       "    </tr>\n",
       "    <tr>\n",
       "      <th>2442</th>\n",
       "      <td>138</td>\n",
       "      <td>Unif</td>\n",
       "      <td>100 Furong Shrimp</td>\n",
       "      <td>NaN</td>\n",
       "      <td>Taiwan</td>\n",
       "      <td>3.00</td>\n",
       "      <td>NaN</td>\n",
       "    </tr>\n",
       "  </tbody>\n",
       "</table>\n",
       "</div>"
      ],
      "text/plain": [
       "     Review #   Brand            Variety Style Country  Stars Top Ten\n",
       "2152      428  Kamfen     E Menm Chicken   NaN   China   3.75     NaN\n",
       "2442      138    Unif  100 Furong Shrimp   NaN  Taiwan   3.00     NaN"
      ]
     },
     "execution_count": 15,
     "metadata": {},
     "output_type": "execute_result"
    }
   ],
   "source": [
    "### Identify indices for null Style ###\n",
    "df[df.Style.isna()]"
   ]
  },
  {
   "cell_type": "code",
   "execution_count": 16,
   "id": "4f100a1a",
   "metadata": {},
   "outputs": [],
   "source": [
    "### Drop those indices ###\n",
    "df.drop([2152, 2442], inplace=True)"
   ]
  },
  {
   "cell_type": "code",
   "execution_count": 17,
   "id": "0d219427",
   "metadata": {},
   "outputs": [
    {
     "data": {
      "text/plain": [
       "Review #       0\n",
       "Brand          0\n",
       "Variety        0\n",
       "Style          0\n",
       "Country        0\n",
       "Stars          0\n",
       "Top Ten     2526\n",
       "dtype: int64"
      ]
     },
     "execution_count": 17,
     "metadata": {},
     "output_type": "execute_result"
    }
   ],
   "source": [
    "### Check work ###\n",
    "df.isna().sum()"
   ]
  },
  {
   "cell_type": "code",
   "execution_count": 18,
   "id": "f887d4d3",
   "metadata": {},
   "outputs": [
    {
     "data": {
      "text/html": [
       "<div>\n",
       "<style scoped>\n",
       "    .dataframe tbody tr th:only-of-type {\n",
       "        vertical-align: middle;\n",
       "    }\n",
       "\n",
       "    .dataframe tbody tr th {\n",
       "        vertical-align: top;\n",
       "    }\n",
       "\n",
       "    .dataframe thead th {\n",
       "        text-align: right;\n",
       "    }\n",
       "</style>\n",
       "<table border=\"1\" class=\"dataframe\">\n",
       "  <thead>\n",
       "    <tr style=\"text-align: right;\">\n",
       "      <th></th>\n",
       "      <th>Review #</th>\n",
       "      <th>Brand</th>\n",
       "      <th>Variety</th>\n",
       "      <th>Style</th>\n",
       "      <th>Country</th>\n",
       "      <th>Stars</th>\n",
       "    </tr>\n",
       "  </thead>\n",
       "  <tbody>\n",
       "    <tr>\n",
       "      <th>0</th>\n",
       "      <td>2580</td>\n",
       "      <td>New Touch</td>\n",
       "      <td>T's Restaurant Tantanmen</td>\n",
       "      <td>Cup</td>\n",
       "      <td>Japan</td>\n",
       "      <td>3.75</td>\n",
       "    </tr>\n",
       "    <tr>\n",
       "      <th>1</th>\n",
       "      <td>2579</td>\n",
       "      <td>Just Way</td>\n",
       "      <td>Noodles Spicy Hot Sesame Spicy Hot Sesame Guan...</td>\n",
       "      <td>Pack</td>\n",
       "      <td>Taiwan</td>\n",
       "      <td>1.00</td>\n",
       "    </tr>\n",
       "    <tr>\n",
       "      <th>2</th>\n",
       "      <td>2578</td>\n",
       "      <td>Nissin</td>\n",
       "      <td>Cup Noodles Chicken Vegetable</td>\n",
       "      <td>Cup</td>\n",
       "      <td>USA</td>\n",
       "      <td>2.25</td>\n",
       "    </tr>\n",
       "  </tbody>\n",
       "</table>\n",
       "</div>"
      ],
      "text/plain": [
       "  Review #      Brand                                            Variety  \\\n",
       "0     2580  New Touch                          T's Restaurant Tantanmen    \n",
       "1     2579   Just Way  Noodles Spicy Hot Sesame Spicy Hot Sesame Guan...   \n",
       "2     2578     Nissin                      Cup Noodles Chicken Vegetable   \n",
       "\n",
       "  Style Country  Stars  \n",
       "0   Cup   Japan   3.75  \n",
       "1  Pack  Taiwan   1.00  \n",
       "2   Cup     USA   2.25  "
      ]
     },
     "execution_count": 18,
     "metadata": {},
     "output_type": "execute_result"
    }
   ],
   "source": [
    "### Drop high-nulls column Top Ten ###\n",
    "df.drop(columns='Top Ten', inplace=True)\n",
    "df.head(3)"
   ]
  },
  {
   "cell_type": "code",
   "execution_count": 19,
   "id": "a3622235",
   "metadata": {},
   "outputs": [
    {
     "data": {
      "text/plain": [
       "Nissin           381\n",
       "Nongshim          98\n",
       "Maruchan          76\n",
       "Mama              71\n",
       "Paldo             66\n",
       "Myojo             63\n",
       "Indomie           53\n",
       "Samyang Foods     51\n",
       "Ottogi            45\n",
       "Lucky Me!         34\n",
       "Name: Brand, dtype: int64"
      ]
     },
     "execution_count": 19,
     "metadata": {},
     "output_type": "execute_result"
    }
   ],
   "source": [
    "### Check value counts per Brand ###\n",
    "df.Brand.value_counts().head(10)"
   ]
  },
  {
   "cell_type": "code",
   "execution_count": 20,
   "id": "34115139",
   "metadata": {},
   "outputs": [
    {
     "data": {
      "text/plain": [
       "Chicken                                 7\n",
       "Beef                                    7\n",
       "Yakisoba                                6\n",
       "Vegetable                               6\n",
       "Artificial Chicken                      6\n",
       "                                       ..\n",
       "Otentiq Cheezy Curry Instant Noodles    1\n",
       "Mi Goreng Dengan Abon                   1\n",
       "Grilled Pork Flavour Instant Noodles    1\n",
       "Hao Hao Sate Onion Flavour              1\n",
       "Tom Yum Chili Flavor                    1\n",
       "Name: Variety, Length: 2400, dtype: int64"
      ]
     },
     "execution_count": 20,
     "metadata": {},
     "output_type": "execute_result"
    }
   ],
   "source": [
    "### Check value counts per variety ###\n",
    "df.Variety.value_counts() # 2400 unique values, too many to plot"
   ]
  },
  {
   "cell_type": "code",
   "execution_count": 21,
   "id": "c297dad2",
   "metadata": {
    "scrolled": false
   },
   "outputs": [
    {
     "data": {
      "image/png": "[encoded data removed]",
      "text/plain": [
       "<Figure size 720x504 with 1 Axes>"
      ]
     },
     "metadata": {
      "needs_background": "light"
     },
     "output_type": "display_data"
    },
    {
     "data": {
      "image/png": "[encoded data removed]",
      "text/plain": [
       "<Figure size 720x504 with 1 Axes>"
      ]
     },
     "metadata": {
      "needs_background": "light"
     },
     "output_type": "display_data"
    },
    {
     "data": {
      "image/png": "[encoded data removed]",
      "text/plain": [
       "<Figure size 720x504 with 1 Axes>"
      ]
     },
     "metadata": {
      "needs_background": "light"
     },
     "output_type": "display_data"
    },
    {
     "data": {
      "image/png": "[encoded data removed]",
      "text/plain": [
       "<Figure size 720x504 with 1 Axes>"
      ]
     },
     "metadata": {
      "needs_background": "light"
     },
     "output_type": "display_data"
    }
   ],
   "source": [
    "### Plot distributions ###\n",
    "## Count by Stars ##\n",
    "plt.figure(figsize=(10,7))\n",
    "df.Stars.value_counts().sort_index().plot(kind='barh')\n",
    "plt.show()\n",
    "## Count by Styles ##\n",
    "plt.figure(figsize=(10,7))\n",
    "df.Style.value_counts(ascending=True).plot(kind='barh')\n",
    "plt.show()\n",
    "## Count by Country ##\n",
    "plt.figure(figsize=(10,7))\n",
    "df.Country.value_counts(ascending=True).plot(kind='barh')\n",
    "plt.show()\n",
    "## Count by Brand ##\n",
    "plt.figure(figsize=(10,7))\n",
    "brand_array = df.Brand.value_counts(ascending=False)[:30].sort_values(ascending=True)\n",
    "brand_array.plot(kind='barh')\n",
    "plt.show()"
   ]
  },
  {
   "cell_type": "markdown",
   "id": "07cc3888",
   "metadata": {},
   "source": [
    "# Split Data\n",
    "Note: I noticed later on that some countries and brands only have a few reviews, so I'm dropping anything less than 10 for country counts and dropping brand as a feature until I can engineer a solution. (First up is the MVP)"
   ]
  },
  {
   "cell_type": "code",
   "execution_count": 22,
   "id": "ed2e9919",
   "metadata": {},
   "outputs": [],
   "source": [
    "# df.Country.value_counts()\n",
    "df = df.groupby('Country').filter(lambda x: len(x) > 10)"
   ]
  },
  {
   "cell_type": "code",
   "execution_count": 23,
   "id": "2e67fb96",
   "metadata": {},
   "outputs": [],
   "source": [
    "### Split into subsets ###\n",
    "train_validate, test = train_test_split(df, test_size=0.2, random_state=123)\n",
    "train, validate = train_test_split(train_validate, test_size=0.25, random_state=123)\n",
    "### Isolate targets ###\n",
    "X_train, y_train = train.drop(columns='Stars'), train.Stars\n",
    "X_validate, y_validate = validate.drop(columns='Stars'), validate.Stars\n",
    "X_test, y_test = test.drop(columns='Stars'), test.Stars"
   ]
  },
  {
   "cell_type": "markdown",
   "id": "78418b89",
   "metadata": {},
   "source": [
    "# Explore Data"
   ]
  },
  {
   "cell_type": "markdown",
   "id": "b1d5a373",
   "metadata": {},
   "source": [
    "## Do bowls rank statistically higher than cups?\n",
    "Confidence interval: 95%\n",
    "\n",
    "$H_0$: Bowls do not rank statistically higher than cups.\n",
    "\n",
    "$H_a$: Bowls rank statistically higher than cups."
   ]
  },
  {
   "cell_type": "code",
   "execution_count": 24,
   "id": "19be766d",
   "metadata": {},
   "outputs": [
    {
     "data": {
      "image/png": "[encoded data removed]",
      "text/plain": [
       "<Figure size 432x288 with 1 Axes>"
      ]
     },
     "metadata": {
      "needs_background": "light"
     },
     "output_type": "display_data"
    }
   ],
   "source": [
    "### Visualize Comparison ###\n",
    "sns.boxplot(data=train, x='Style', y='Stars')\n",
    "plt.title('Ramen Styles and their Ratings')\n",
    "plt.show()"
   ]
  },
  {
   "cell_type": "code",
   "execution_count": 25,
   "id": "290a2f22",
   "metadata": {},
   "outputs": [
    {
     "name": "stdout",
     "output_type": "stream",
     "text": [
      "Bowls rank statistically higher than cups. We reject the null hypothesis with 95% confidence.\n"
     ]
    }
   ],
   "source": [
    "### Hypothesis Testing ###\n",
    "alpha = .05\n",
    "t, p = stats.mannwhitneyu(train[train.Style == 'Bowl'].Stars, \n",
    "                          train[train.Style == 'Cup'].Stars,\n",
    "                          alternative='greater')\n",
    "\n",
    "if t > 0 and p < alpha:\n",
    "    print('Bowls rank statistically higher than cups. We reject the null hypothesis with 95% confidence.')\n",
    "else:\n",
    "    print('Bowls do not rank statistically higher than cups. Results do not breach the 95% confidence threshold.')"
   ]
  },
  {
   "cell_type": "markdown",
   "id": "289fc9d3",
   "metadata": {},
   "source": [
    "## Does Japan produce better ramen than USA?\n",
    "Confidence interval: 95%\n",
    "\n",
    "$H_0$: Japan does not statistically produce better-rated ramen than USA.\n",
    "\n",
    "$H_a$: Japan statistically produces better-rated ramen than USA."
   ]
  },
  {
   "cell_type": "code",
   "execution_count": 26,
   "id": "37e75807",
   "metadata": {},
   "outputs": [
    {
     "data": {
      "image/png": "[encoded data removed]",
      "text/plain": [
       "<Figure size 432x288 with 1 Axes>"
      ]
     },
     "metadata": {
      "needs_background": "light"
     },
     "output_type": "display_data"
    }
   ],
   "source": [
    "### Visualize comparison ##\n",
    "sns.boxplot(data=train[(train.Country == 'Japan') | (train.Country == 'USA')], \n",
    "           x='Country',\n",
    "           y='Stars')\n",
    "plt.title('USA and Japan for Ramen Ratings')\n",
    "plt.show()"
   ]
  },
  {
   "cell_type": "code",
   "execution_count": 27,
   "id": "8ec4dda3",
   "metadata": {},
   "outputs": [
    {
     "name": "stdout",
     "output_type": "stream",
     "text": [
      "Japan statistically produces better-rated ramen than USA.\n",
      "            We reject the null hypothesis with 95% confidence.\n"
     ]
    }
   ],
   "source": [
    "### Hypothesis Testing ###\n",
    "alpha = .05\n",
    "t, p = stats.mannwhitneyu(train[train.Country == 'Japan'].Stars, \n",
    "                          train[train.Country == 'USA'].Stars,\n",
    "                          alternative='greater')\n",
    "\n",
    "if t > 0 and p < alpha:\n",
    "    print('Japan statistically produces better-rated ramen than USA.\\n\\\n",
    "            We reject the null hypothesis with 95% confidence.')\n",
    "else:\n",
    "    print('Japan does not statistically produce better-rated ramen than USA.\\n\\\n",
    "            Results do not breach the 95% confidence threshold.')"
   ]
  },
  {
   "cell_type": "markdown",
   "id": "a069ab93",
   "metadata": {},
   "source": [
    "## Does Japan produce better ramen than the countries with over 100 ramen reviews?\n",
    "Confidence interval: 95%\n",
    "\n",
    "$H_0$: Japan does not statistically produce better-rated ramen than USA.\n",
    "\n",
    "$H_a$: Japan statistically produces better-rated ramen than USA."
   ]
  },
  {
   "cell_type": "code",
   "execution_count": 28,
   "id": "89bc9de2",
   "metadata": {},
   "outputs": [],
   "source": [
    "### Get Country Names (top 11 countries have over 100 ramen reviews) ###\n",
    "countries = train.Country.value_counts()[:11].index.to_list()"
   ]
  },
  {
   "cell_type": "code",
   "execution_count": 29,
   "id": "197914ea",
   "metadata": {},
   "outputs": [
    {
     "data": {
      "text/plain": [
       "array(['Japan', 'USA', 'South Korea', 'Taiwan', 'Thailand', 'China',\n",
       "       'Malaysia', 'Hong Kong', 'Indonesia', 'Singapore', 'Vietnam'],\n",
       "      dtype=object)"
      ]
     },
     "execution_count": 29,
     "metadata": {},
     "output_type": "execute_result"
    }
   ],
   "source": [
    "### Put top 11 countries to new dataframe ###\n",
    "train_top11 = train[train.Country == 'Japan']\n",
    "for country in countries[1:]:\n",
    "    train_top11 = train_top11.append(train[train.Country == country])\n",
    "train_top11.Country.unique()"
   ]
  },
  {
   "cell_type": "code",
   "execution_count": 30,
   "id": "807d2efa",
   "metadata": {},
   "outputs": [
    {
     "data": {
      "image/png": "[encoded data removed]",
      "text/plain": [
       "<Figure size 1080x720 with 1 Axes>"
      ]
     },
     "metadata": {
      "needs_background": "light"
     },
     "output_type": "display_data"
    }
   ],
   "source": [
    "### Visualize Comparisons of top 11 Countries ###\n",
    "plt.figure(figsize=(15,10))\n",
    "sns.boxplot(data=train_top11, x='Country', y='Stars')\n",
    "plt.title('Ramen Ratings by Country in Top-11 Most-Reviewed Countries')\n",
    "plt.show()"
   ]
  },
  {
   "cell_type": "code",
   "execution_count": 31,
   "id": "7fde6420",
   "metadata": {},
   "outputs": [
    {
     "data": {
      "text/html": [
       "<div>\n",
       "<style scoped>\n",
       "    .dataframe tbody tr th:only-of-type {\n",
       "        vertical-align: middle;\n",
       "    }\n",
       "\n",
       "    .dataframe tbody tr th {\n",
       "        vertical-align: top;\n",
       "    }\n",
       "\n",
       "    .dataframe thead th {\n",
       "        text-align: right;\n",
       "    }\n",
       "</style>\n",
       "<table border=\"1\" class=\"dataframe\">\n",
       "  <thead>\n",
       "    <tr style=\"text-align: right;\">\n",
       "      <th></th>\n",
       "      <th>Review #</th>\n",
       "      <th>Brand</th>\n",
       "      <th>Variety</th>\n",
       "      <th>Style</th>\n",
       "      <th>Country</th>\n",
       "      <th>Stars</th>\n",
       "      <th>is_Japan</th>\n",
       "    </tr>\n",
       "  </thead>\n",
       "  <tbody>\n",
       "    <tr>\n",
       "      <th>1996</th>\n",
       "      <td>584</td>\n",
       "      <td>Baijia</td>\n",
       "      <td>Single Noble Black Bone Chicken Sweet Potato T...</td>\n",
       "      <td>Cup</td>\n",
       "      <td>China</td>\n",
       "      <td>0.00</td>\n",
       "      <td>False</td>\n",
       "    </tr>\n",
       "    <tr>\n",
       "      <th>2339</th>\n",
       "      <td>241</td>\n",
       "      <td>Fu Chang Chinese Noodle Company</td>\n",
       "      <td>Hot &amp; Spicy Beef</td>\n",
       "      <td>Tray</td>\n",
       "      <td>USA</td>\n",
       "      <td>4.00</td>\n",
       "      <td>False</td>\n",
       "    </tr>\n",
       "    <tr>\n",
       "      <th>471</th>\n",
       "      <td>2109</td>\n",
       "      <td>Oni Hot Pot</td>\n",
       "      <td>Tuna With Shallot Flavor Noodle</td>\n",
       "      <td>Pack</td>\n",
       "      <td>Taiwan</td>\n",
       "      <td>4.30</td>\n",
       "      <td>False</td>\n",
       "    </tr>\n",
       "    <tr>\n",
       "      <th>1721</th>\n",
       "      <td>859</td>\n",
       "      <td>Tradition</td>\n",
       "      <td>Imitation Chicken Vegetarian</td>\n",
       "      <td>Cup</td>\n",
       "      <td>USA</td>\n",
       "      <td>3.75</td>\n",
       "      <td>False</td>\n",
       "    </tr>\n",
       "    <tr>\n",
       "      <th>1443</th>\n",
       "      <td>1137</td>\n",
       "      <td>Koka</td>\n",
       "      <td>Oriental Style Instant Noodles Crab Flavour</td>\n",
       "      <td>Pack</td>\n",
       "      <td>Singapore</td>\n",
       "      <td>3.75</td>\n",
       "      <td>False</td>\n",
       "    </tr>\n",
       "  </tbody>\n",
       "</table>\n",
       "</div>"
      ],
      "text/plain": [
       "     Review #                            Brand  \\\n",
       "1996      584                           Baijia   \n",
       "2339      241  Fu Chang Chinese Noodle Company   \n",
       "471      2109                      Oni Hot Pot   \n",
       "1721      859                        Tradition   \n",
       "1443     1137                             Koka   \n",
       "\n",
       "                                                Variety Style    Country  \\\n",
       "1996  Single Noble Black Bone Chicken Sweet Potato T...   Cup      China   \n",
       "2339                                   Hot & Spicy Beef  Tray        USA   \n",
       "471                     Tuna With Shallot Flavor Noodle  Pack     Taiwan   \n",
       "1721                       Imitation Chicken Vegetarian   Cup        USA   \n",
       "1443        Oriental Style Instant Noodles Crab Flavour  Pack  Singapore   \n",
       "\n",
       "      Stars  is_Japan  \n",
       "1996   0.00     False  \n",
       "2339   4.00     False  \n",
       "471    4.30     False  \n",
       "1721   3.75     False  \n",
       "1443   3.75     False  "
      ]
     },
     "execution_count": 31,
     "metadata": {},
     "output_type": "execute_result"
    }
   ],
   "source": [
    "### Create new column is_Japan ###\n",
    "train_top11['is_Japan'] = train_top11.Country == 'Japan'\n",
    "train_top11.sample(5)"
   ]
  },
  {
   "cell_type": "code",
   "execution_count": 32,
   "id": "5f7d67bb",
   "metadata": {},
   "outputs": [
    {
     "data": {
      "image/png": "[encoded data removed]",
      "text/plain": [
       "<Figure size 432x288 with 1 Axes>"
      ]
     },
     "metadata": {
      "needs_background": "light"
     },
     "output_type": "display_data"
    }
   ],
   "source": [
    "### Visualize Comparison between Japan and all of top 11 ###\n",
    "sns.boxplot(data=train_top11, x='is_Japan', y='Stars')\n",
    "plt.title('Japan versus Top 11 Most-Reviewed Countries on Ramen Ratings')\n",
    "plt.show()"
   ]
  },
  {
   "cell_type": "code",
   "execution_count": 33,
   "id": "6f3cdd96",
   "metadata": {},
   "outputs": [
    {
     "name": "stdout",
     "output_type": "stream",
     "text": [
      "Japan statistically produces better-rated ramen than the rest.\n",
      "            We reject the null hypothesis with 95% confidence.\n"
     ]
    }
   ],
   "source": [
    "### Hypothesis Testing ###\n",
    "alpha = .05\n",
    "t, p = stats.mannwhitneyu(train_top11[train_top11.is_Japan == True].Stars, \n",
    "                          train_top11[train_top11.is_Japan == False].Stars,\n",
    "                          alternative='greater')\n",
    "\n",
    "if t > 0 and p < alpha:\n",
    "    print('Japan statistically produces better-rated ramen than the rest.\\n\\\n",
    "            We reject the null hypothesis with 95% confidence.')\n",
    "else:\n",
    "    print('Japan does not statistically produce better-rated ramen than the rest.\\n\\\n",
    "            Results do not breach the 95% confidence threshold.')"
   ]
  },
  {
   "cell_type": "markdown",
   "id": "65271c51",
   "metadata": {},
   "source": [
    "## Does Nissin produce better ramen than the next 8 most-reviewed brands?\n",
    "Confidence interval: 95%\n",
    "\n",
    "$H_0$: Nissin does not statistically produce better-rated ramen than other brands.\n",
    "\n",
    "$H_a$: Nissin statistically produces better-rated ramen than other brands."
   ]
  },
  {
   "cell_type": "code",
   "execution_count": 34,
   "id": "2cf39769",
   "metadata": {},
   "outputs": [
    {
     "data": {
      "text/plain": [
       "Nissin           381\n",
       "Nongshim          98\n",
       "Maruchan          76\n",
       "Mama              71\n",
       "Paldo             66\n",
       "Myojo             63\n",
       "Indomie           53\n",
       "Samyang Foods     51\n",
       "Ottogi            45\n",
       "Name: Brand, dtype: int64"
      ]
     },
     "execution_count": 34,
     "metadata": {},
     "output_type": "execute_result"
    }
   ],
   "source": [
    "### Discover top 9 most-reviewed brands ###\n",
    "df_9brands = brand_array.sort_values(ascending=False)[:9]\n",
    "df_9brands"
   ]
  },
  {
   "cell_type": "code",
   "execution_count": 35,
   "id": "2dd6d778",
   "metadata": {},
   "outputs": [
    {
     "data": {
      "text/plain": [
       "array(['Nissin', 'Nongshim', 'Maruchan', 'Mama', 'Paldo', 'Myojo',\n",
       "       'Indomie', 'Samyang Foods', 'Ottogi'], dtype=object)"
      ]
     },
     "execution_count": 35,
     "metadata": {},
     "output_type": "execute_result"
    }
   ],
   "source": [
    "### Push brands to list ###\n",
    "brand_list = df_9brands.index.to_list()\n",
    "### Initialize dataframe ###\n",
    "train_9brands = train[train.Brand == 'Nissin']\n",
    "### Append remaining 8 brands' data to dataframe ###\n",
    "for brand in brand_list[1:]:\n",
    "    train_9brands = train_9brands.append(train[train.Brand == brand])\n",
    "    \n",
    "train_9brands.Brand.unique()"
   ]
  },
  {
   "cell_type": "code",
   "execution_count": 36,
   "id": "eb776672",
   "metadata": {},
   "outputs": [
    {
     "data": {
      "image/png": "[encoded data removed]",
      "text/plain": [
       "<Figure size 1080x720 with 1 Axes>"
      ]
     },
     "metadata": {
      "needs_background": "light"
     },
     "output_type": "display_data"
    }
   ],
   "source": [
    "### Plot all brands individually against their ratings ###\n",
    "plt.figure(figsize=(15,10))\n",
    "sns.boxplot(data=train_9brands, x='Brand', y='Stars')\n",
    "plt.title('Top 9 Most-Reviewed Brands by Rating')\n",
    "plt.show()"
   ]
  },
  {
   "cell_type": "code",
   "execution_count": 37,
   "id": "4224554a",
   "metadata": {},
   "outputs": [
    {
     "data": {
      "text/html": [
       "<div>\n",
       "<style scoped>\n",
       "    .dataframe tbody tr th:only-of-type {\n",
       "        vertical-align: middle;\n",
       "    }\n",
       "\n",
       "    .dataframe tbody tr th {\n",
       "        vertical-align: top;\n",
       "    }\n",
       "\n",
       "    .dataframe thead th {\n",
       "        text-align: right;\n",
       "    }\n",
       "</style>\n",
       "<table border=\"1\" class=\"dataframe\">\n",
       "  <thead>\n",
       "    <tr style=\"text-align: right;\">\n",
       "      <th></th>\n",
       "      <th>Review #</th>\n",
       "      <th>Brand</th>\n",
       "      <th>Variety</th>\n",
       "      <th>Style</th>\n",
       "      <th>Country</th>\n",
       "      <th>Stars</th>\n",
       "      <th>is_Nissin</th>\n",
       "    </tr>\n",
       "  </thead>\n",
       "  <tbody>\n",
       "    <tr>\n",
       "      <th>664</th>\n",
       "      <td>1916</td>\n",
       "      <td>Nissin</td>\n",
       "      <td>Soba Fried Noodles Teriyaki</td>\n",
       "      <td>Pack</td>\n",
       "      <td>Germany</td>\n",
       "      <td>3.0</td>\n",
       "      <td>True</td>\n",
       "    </tr>\n",
       "    <tr>\n",
       "      <th>2289</th>\n",
       "      <td>291</td>\n",
       "      <td>Nongshim</td>\n",
       "      <td>Shin Bowl</td>\n",
       "      <td>Bowl</td>\n",
       "      <td>South Korea</td>\n",
       "      <td>3.0</td>\n",
       "      <td>False</td>\n",
       "    </tr>\n",
       "    <tr>\n",
       "      <th>290</th>\n",
       "      <td>2290</td>\n",
       "      <td>Nissin</td>\n",
       "      <td>Demae Ramen Straight Noodle Black Garlic Oil T...</td>\n",
       "      <td>Pack</td>\n",
       "      <td>Hong Kong</td>\n",
       "      <td>5.0</td>\n",
       "      <td>True</td>\n",
       "    </tr>\n",
       "  </tbody>\n",
       "</table>\n",
       "</div>"
      ],
      "text/plain": [
       "     Review #     Brand                                            Variety  \\\n",
       "664      1916    Nissin                        Soba Fried Noodles Teriyaki   \n",
       "2289      291  Nongshim                                          Shin Bowl   \n",
       "290      2290    Nissin  Demae Ramen Straight Noodle Black Garlic Oil T...   \n",
       "\n",
       "     Style      Country  Stars  is_Nissin  \n",
       "664   Pack      Germany    3.0       True  \n",
       "2289  Bowl  South Korea    3.0      False  \n",
       "290   Pack    Hong Kong    5.0       True  "
      ]
     },
     "execution_count": 37,
     "metadata": {},
     "output_type": "execute_result"
    }
   ],
   "source": [
    "### New column for is_Nissin ###\n",
    "train_9brands['is_Nissin'] = train_9brands.Brand == 'Nissin'\n",
    "train_9brands.sample(3)"
   ]
  },
  {
   "cell_type": "code",
   "execution_count": 38,
   "id": "ee2cb3e5",
   "metadata": {},
   "outputs": [
    {
     "data": {
      "image/png": "[encoded data removed]",
      "text/plain": [
       "<Figure size 432x288 with 1 Axes>"
      ]
     },
     "metadata": {
      "needs_background": "light"
     },
     "output_type": "display_data"
    }
   ],
   "source": [
    "### Plot comparison ###\n",
    "sns.boxplot(data=train_9brands, x='is_Nissin', y='Stars')\n",
    "plt.title('Nissin Ratings versus Rest of Top 8 Most-Reviewed Brands')\n",
    "plt.show()"
   ]
  },
  {
   "cell_type": "code",
   "execution_count": 39,
   "id": "42473713",
   "metadata": {},
   "outputs": [
    {
     "name": "stdout",
     "output_type": "stream",
     "text": [
      "Nissin does not statistically produce better-rated ramen than the rest.\n",
      "            Results do not breach the 95% confidence threshold.\n"
     ]
    }
   ],
   "source": [
    "### Hypothesis Testing ###\n",
    "alpha = .05\n",
    "t, p = stats.mannwhitneyu(train_9brands[train_9brands.is_Nissin == True].Stars, \n",
    "                          train_9brands[train_9brands.is_Nissin == False].Stars,\n",
    "                          alternative='greater')\n",
    "\n",
    "if t > 0 and p < alpha:\n",
    "    print('Nissin statistically produces better-rated ramen than the rest.\\n\\\n",
    "            We reject the null hypothesis with 95% confidence.')\n",
    "else:\n",
    "    print('Nissin does not statistically produce better-rated ramen than the rest.\\n\\\n",
    "            Results do not breach the 95% confidence threshold.')"
   ]
  },
  {
   "cell_type": "markdown",
   "id": "116befa9",
   "metadata": {},
   "source": [
    "## What do the 5-Star Reviews look like?"
   ]
  },
  {
   "cell_type": "markdown",
   "id": "372ddd90",
   "metadata": {},
   "source": [
    "### By Country"
   ]
  },
  {
   "cell_type": "code",
   "execution_count": 40,
   "id": "8d6ba44b",
   "metadata": {},
   "outputs": [
    {
     "data": {
      "text/html": [
       "<div>\n",
       "<style scoped>\n",
       "    .dataframe tbody tr th:only-of-type {\n",
       "        vertical-align: middle;\n",
       "    }\n",
       "\n",
       "    .dataframe tbody tr th {\n",
       "        vertical-align: top;\n",
       "    }\n",
       "\n",
       "    .dataframe thead th {\n",
       "        text-align: right;\n",
       "    }\n",
       "</style>\n",
       "<table border=\"1\" class=\"dataframe\">\n",
       "  <thead>\n",
       "    <tr style=\"text-align: right;\">\n",
       "      <th></th>\n",
       "      <th>0</th>\n",
       "      <th>1</th>\n",
       "      <th>2</th>\n",
       "      <th>3</th>\n",
       "      <th>4</th>\n",
       "      <th>5</th>\n",
       "      <th>6</th>\n",
       "      <th>7</th>\n",
       "      <th>8</th>\n",
       "      <th>9</th>\n",
       "      <th>10</th>\n",
       "      <th>11</th>\n",
       "      <th>12</th>\n",
       "      <th>13</th>\n",
       "      <th>14</th>\n",
       "      <th>15</th>\n",
       "      <th>16</th>\n",
       "      <th>17</th>\n",
       "    </tr>\n",
       "  </thead>\n",
       "  <tbody>\n",
       "    <tr>\n",
       "      <th>index</th>\n",
       "      <td>Japan</td>\n",
       "      <td>Malaysia</td>\n",
       "      <td>South Korea</td>\n",
       "      <td>Taiwan</td>\n",
       "      <td>Singapore</td>\n",
       "      <td>Hong Kong</td>\n",
       "      <td>USA</td>\n",
       "      <td>Thailand</td>\n",
       "      <td>Indonesia</td>\n",
       "      <td>China</td>\n",
       "      <td>Myanmar</td>\n",
       "      <td>Philippines</td>\n",
       "      <td>UK</td>\n",
       "      <td>India</td>\n",
       "      <td>Canada</td>\n",
       "      <td>Nepal</td>\n",
       "      <td>Germany</td>\n",
       "      <td>Vietnam</td>\n",
       "    </tr>\n",
       "    <tr>\n",
       "      <th>Country</th>\n",
       "      <td>43</td>\n",
       "      <td>31</td>\n",
       "      <td>27</td>\n",
       "      <td>21</td>\n",
       "      <td>20</td>\n",
       "      <td>18</td>\n",
       "      <td>17</td>\n",
       "      <td>12</td>\n",
       "      <td>11</td>\n",
       "      <td>5</td>\n",
       "      <td>2</td>\n",
       "      <td>2</td>\n",
       "      <td>2</td>\n",
       "      <td>2</td>\n",
       "      <td>1</td>\n",
       "      <td>1</td>\n",
       "      <td>1</td>\n",
       "      <td>1</td>\n",
       "    </tr>\n",
       "  </tbody>\n",
       "</table>\n",
       "</div>"
      ],
      "text/plain": [
       "            0         1            2       3          4          5    6   \\\n",
       "index    Japan  Malaysia  South Korea  Taiwan  Singapore  Hong Kong  USA   \n",
       "Country     43        31           27      21         20         18   17   \n",
       "\n",
       "               7          8      9        10           11  12     13      14  \\\n",
       "index    Thailand  Indonesia  China  Myanmar  Philippines  UK  India  Canada   \n",
       "Country        12         11      5        2            2   2      2       1   \n",
       "\n",
       "            15       16       17  \n",
       "index    Nepal  Germany  Vietnam  \n",
       "Country      1        1        1  "
      ]
     },
     "execution_count": 40,
     "metadata": {},
     "output_type": "execute_result"
    }
   ],
   "source": [
    "### Create new dataframe for countries and 5-star value counts ###\n",
    "five_star_country_counts = pd.DataFrame(train[train.Stars == 5].Country.value_counts()).reset_index()\n",
    "five_star_country_counts.T"
   ]
  },
  {
   "cell_type": "code",
   "execution_count": 41,
   "id": "810f9982",
   "metadata": {},
   "outputs": [
    {
     "data": {
      "text/html": [
       "<div>\n",
       "<style scoped>\n",
       "    .dataframe tbody tr th:only-of-type {\n",
       "        vertical-align: middle;\n",
       "    }\n",
       "\n",
       "    .dataframe tbody tr th {\n",
       "        vertical-align: top;\n",
       "    }\n",
       "\n",
       "    .dataframe thead th {\n",
       "        text-align: right;\n",
       "    }\n",
       "</style>\n",
       "<table border=\"1\" class=\"dataframe\">\n",
       "  <thead>\n",
       "    <tr style=\"text-align: right;\">\n",
       "      <th></th>\n",
       "      <th>index</th>\n",
       "      <th>Country_x</th>\n",
       "      <th>Country_y</th>\n",
       "    </tr>\n",
       "  </thead>\n",
       "  <tbody>\n",
       "    <tr>\n",
       "      <th>0</th>\n",
       "      <td>Japan</td>\n",
       "      <td>43</td>\n",
       "      <td>210</td>\n",
       "    </tr>\n",
       "    <tr>\n",
       "      <th>1</th>\n",
       "      <td>Malaysia</td>\n",
       "      <td>31</td>\n",
       "      <td>93</td>\n",
       "    </tr>\n",
       "    <tr>\n",
       "      <th>2</th>\n",
       "      <td>South Korea</td>\n",
       "      <td>27</td>\n",
       "      <td>173</td>\n",
       "    </tr>\n",
       "  </tbody>\n",
       "</table>\n",
       "</div>"
      ],
      "text/plain": [
       "         index  Country_x  Country_y\n",
       "0        Japan         43        210\n",
       "1     Malaysia         31         93\n",
       "2  South Korea         27        173"
      ]
     },
     "execution_count": 41,
     "metadata": {},
     "output_type": "execute_result"
    }
   ],
   "source": [
    "### Create count of all reviews per country and merge to count of 5-stars ###\n",
    "country_counts = pd.DataFrame(train.Country.value_counts()).reset_index()\n",
    "five_star_country_counts = pd.merge(five_star_country_counts, country_counts, \n",
    "                                    left_on='index',\n",
    "                                    right_on='index')\n",
    "five_star_country_counts.head(3)"
   ]
  },
  {
   "cell_type": "code",
   "execution_count": 42,
   "id": "c54c952c",
   "metadata": {},
   "outputs": [
    {
     "data": {
      "text/html": [
       "<div>\n",
       "<style scoped>\n",
       "    .dataframe tbody tr th:only-of-type {\n",
       "        vertical-align: middle;\n",
       "    }\n",
       "\n",
       "    .dataframe tbody tr th {\n",
       "        vertical-align: top;\n",
       "    }\n",
       "\n",
       "    .dataframe thead th {\n",
       "        text-align: right;\n",
       "    }\n",
       "</style>\n",
       "<table border=\"1\" class=\"dataframe\">\n",
       "  <thead>\n",
       "    <tr style=\"text-align: right;\">\n",
       "      <th></th>\n",
       "      <th>index</th>\n",
       "      <th>Country_x</th>\n",
       "      <th>Country_y</th>\n",
       "      <th>fiver_percent_of_total</th>\n",
       "    </tr>\n",
       "  </thead>\n",
       "  <tbody>\n",
       "    <tr>\n",
       "      <th>0</th>\n",
       "      <td>Japan</td>\n",
       "      <td>43</td>\n",
       "      <td>210</td>\n",
       "      <td>0.204762</td>\n",
       "    </tr>\n",
       "    <tr>\n",
       "      <th>1</th>\n",
       "      <td>Malaysia</td>\n",
       "      <td>31</td>\n",
       "      <td>93</td>\n",
       "      <td>0.333333</td>\n",
       "    </tr>\n",
       "    <tr>\n",
       "      <th>2</th>\n",
       "      <td>South Korea</td>\n",
       "      <td>27</td>\n",
       "      <td>173</td>\n",
       "      <td>0.156069</td>\n",
       "    </tr>\n",
       "    <tr>\n",
       "      <th>3</th>\n",
       "      <td>Taiwan</td>\n",
       "      <td>21</td>\n",
       "      <td>139</td>\n",
       "      <td>0.151079</td>\n",
       "    </tr>\n",
       "    <tr>\n",
       "      <th>4</th>\n",
       "      <td>Singapore</td>\n",
       "      <td>20</td>\n",
       "      <td>75</td>\n",
       "      <td>0.266667</td>\n",
       "    </tr>\n",
       "    <tr>\n",
       "      <th>5</th>\n",
       "      <td>Hong Kong</td>\n",
       "      <td>18</td>\n",
       "      <td>79</td>\n",
       "      <td>0.227848</td>\n",
       "    </tr>\n",
       "    <tr>\n",
       "      <th>6</th>\n",
       "      <td>USA</td>\n",
       "      <td>17</td>\n",
       "      <td>194</td>\n",
       "      <td>0.087629</td>\n",
       "    </tr>\n",
       "    <tr>\n",
       "      <th>7</th>\n",
       "      <td>Thailand</td>\n",
       "      <td>12</td>\n",
       "      <td>125</td>\n",
       "      <td>0.096000</td>\n",
       "    </tr>\n",
       "    <tr>\n",
       "      <th>8</th>\n",
       "      <td>Indonesia</td>\n",
       "      <td>11</td>\n",
       "      <td>79</td>\n",
       "      <td>0.139241</td>\n",
       "    </tr>\n",
       "    <tr>\n",
       "      <th>9</th>\n",
       "      <td>China</td>\n",
       "      <td>5</td>\n",
       "      <td>101</td>\n",
       "      <td>0.049505</td>\n",
       "    </tr>\n",
       "    <tr>\n",
       "      <th>10</th>\n",
       "      <td>Myanmar</td>\n",
       "      <td>2</td>\n",
       "      <td>8</td>\n",
       "      <td>0.250000</td>\n",
       "    </tr>\n",
       "    <tr>\n",
       "      <th>11</th>\n",
       "      <td>Philippines</td>\n",
       "      <td>2</td>\n",
       "      <td>27</td>\n",
       "      <td>0.074074</td>\n",
       "    </tr>\n",
       "    <tr>\n",
       "      <th>12</th>\n",
       "      <td>UK</td>\n",
       "      <td>2</td>\n",
       "      <td>43</td>\n",
       "      <td>0.046512</td>\n",
       "    </tr>\n",
       "    <tr>\n",
       "      <th>13</th>\n",
       "      <td>India</td>\n",
       "      <td>2</td>\n",
       "      <td>19</td>\n",
       "      <td>0.105263</td>\n",
       "    </tr>\n",
       "    <tr>\n",
       "      <th>14</th>\n",
       "      <td>Canada</td>\n",
       "      <td>1</td>\n",
       "      <td>21</td>\n",
       "      <td>0.047619</td>\n",
       "    </tr>\n",
       "    <tr>\n",
       "      <th>15</th>\n",
       "      <td>Nepal</td>\n",
       "      <td>1</td>\n",
       "      <td>8</td>\n",
       "      <td>0.125000</td>\n",
       "    </tr>\n",
       "    <tr>\n",
       "      <th>16</th>\n",
       "      <td>Germany</td>\n",
       "      <td>1</td>\n",
       "      <td>16</td>\n",
       "      <td>0.062500</td>\n",
       "    </tr>\n",
       "    <tr>\n",
       "      <th>17</th>\n",
       "      <td>Vietnam</td>\n",
       "      <td>1</td>\n",
       "      <td>50</td>\n",
       "      <td>0.020000</td>\n",
       "    </tr>\n",
       "  </tbody>\n",
       "</table>\n",
       "</div>"
      ],
      "text/plain": [
       "          index  Country_x  Country_y  fiver_percent_of_total\n",
       "0         Japan         43        210                0.204762\n",
       "1      Malaysia         31         93                0.333333\n",
       "2   South Korea         27        173                0.156069\n",
       "3        Taiwan         21        139                0.151079\n",
       "4     Singapore         20         75                0.266667\n",
       "5     Hong Kong         18         79                0.227848\n",
       "6           USA         17        194                0.087629\n",
       "7      Thailand         12        125                0.096000\n",
       "8     Indonesia         11         79                0.139241\n",
       "9         China          5        101                0.049505\n",
       "10      Myanmar          2          8                0.250000\n",
       "11  Philippines          2         27                0.074074\n",
       "12           UK          2         43                0.046512\n",
       "13        India          2         19                0.105263\n",
       "14       Canada          1         21                0.047619\n",
       "15        Nepal          1          8                0.125000\n",
       "16      Germany          1         16                0.062500\n",
       "17      Vietnam          1         50                0.020000"
      ]
     },
     "execution_count": 42,
     "metadata": {},
     "output_type": "execute_result"
    }
   ],
   "source": [
    "### Calculate percentage of 5-star reviews to all reviews ###\n",
    "five_star_country_counts['fiver_percent_of_total'] = five_star_country_counts.Country_x / five_star_country_counts.Country_y\n",
    "five_star_country_counts"
   ]
  },
  {
   "cell_type": "code",
   "execution_count": 43,
   "id": "f32e3cf9",
   "metadata": {},
   "outputs": [
    {
     "data": {
      "text/html": [
       "<div>\n",
       "<style scoped>\n",
       "    .dataframe tbody tr th:only-of-type {\n",
       "        vertical-align: middle;\n",
       "    }\n",
       "\n",
       "    .dataframe tbody tr th {\n",
       "        vertical-align: top;\n",
       "    }\n",
       "\n",
       "    .dataframe thead th {\n",
       "        text-align: right;\n",
       "    }\n",
       "</style>\n",
       "<table border=\"1\" class=\"dataframe\">\n",
       "  <thead>\n",
       "    <tr style=\"text-align: right;\">\n",
       "      <th></th>\n",
       "      <th>index</th>\n",
       "      <th>Country_x</th>\n",
       "      <th>Country_y</th>\n",
       "      <th>fiver_percent_of_total</th>\n",
       "    </tr>\n",
       "  </thead>\n",
       "  <tbody>\n",
       "    <tr>\n",
       "      <th>1</th>\n",
       "      <td>Malaysia</td>\n",
       "      <td>31</td>\n",
       "      <td>93</td>\n",
       "      <td>0.333333</td>\n",
       "    </tr>\n",
       "    <tr>\n",
       "      <th>4</th>\n",
       "      <td>Singapore</td>\n",
       "      <td>20</td>\n",
       "      <td>75</td>\n",
       "      <td>0.266667</td>\n",
       "    </tr>\n",
       "    <tr>\n",
       "      <th>5</th>\n",
       "      <td>Hong Kong</td>\n",
       "      <td>18</td>\n",
       "      <td>79</td>\n",
       "      <td>0.227848</td>\n",
       "    </tr>\n",
       "    <tr>\n",
       "      <th>0</th>\n",
       "      <td>Japan</td>\n",
       "      <td>43</td>\n",
       "      <td>210</td>\n",
       "      <td>0.204762</td>\n",
       "    </tr>\n",
       "    <tr>\n",
       "      <th>2</th>\n",
       "      <td>South Korea</td>\n",
       "      <td>27</td>\n",
       "      <td>173</td>\n",
       "      <td>0.156069</td>\n",
       "    </tr>\n",
       "    <tr>\n",
       "      <th>3</th>\n",
       "      <td>Taiwan</td>\n",
       "      <td>21</td>\n",
       "      <td>139</td>\n",
       "      <td>0.151079</td>\n",
       "    </tr>\n",
       "    <tr>\n",
       "      <th>7</th>\n",
       "      <td>Thailand</td>\n",
       "      <td>12</td>\n",
       "      <td>125</td>\n",
       "      <td>0.096000</td>\n",
       "    </tr>\n",
       "    <tr>\n",
       "      <th>6</th>\n",
       "      <td>USA</td>\n",
       "      <td>17</td>\n",
       "      <td>194</td>\n",
       "      <td>0.087629</td>\n",
       "    </tr>\n",
       "  </tbody>\n",
       "</table>\n",
       "</div>"
      ],
      "text/plain": [
       "         index  Country_x  Country_y  fiver_percent_of_total\n",
       "1     Malaysia         31         93                0.333333\n",
       "4    Singapore         20         75                0.266667\n",
       "5    Hong Kong         18         79                0.227848\n",
       "0        Japan         43        210                0.204762\n",
       "2  South Korea         27        173                0.156069\n",
       "3       Taiwan         21        139                0.151079\n",
       "7     Thailand         12        125                0.096000\n",
       "6          USA         17        194                0.087629"
      ]
     },
     "execution_count": 43,
     "metadata": {},
     "output_type": "execute_result"
    }
   ],
   "source": [
    "### Sort by percentage ###\n",
    "five_star_country_counts[:8].sort_values('fiver_percent_of_total', ascending=False)"
   ]
  },
  {
   "cell_type": "markdown",
   "id": "530bcd32",
   "metadata": {},
   "source": [
    "### By Brand"
   ]
  },
  {
   "cell_type": "code",
   "execution_count": 44,
   "id": "80e4031c",
   "metadata": {},
   "outputs": [
    {
     "data": {
      "text/plain": [
       "Nissin          52\n",
       "Nongshim        11\n",
       "MyKuali         10\n",
       "Indomie          9\n",
       "Paldo            9\n",
       "                ..\n",
       "Happy Cook       1\n",
       "Wang             1\n",
       "Itsuki           1\n",
       "Ottogi           1\n",
       "Urban Noodle     1\n",
       "Name: Brand, Length: 77, dtype: int64"
      ]
     },
     "execution_count": 44,
     "metadata": {},
     "output_type": "execute_result"
    }
   ],
   "source": [
    "### Check number of 5-star reviews by brand ###\n",
    "train[train.Stars == 5].Brand.value_counts()"
   ]
  },
  {
   "cell_type": "code",
   "execution_count": 45,
   "id": "89894bd7",
   "metadata": {},
   "outputs": [
    {
     "data": {
      "text/html": [
       "<div>\n",
       "<style scoped>\n",
       "    .dataframe tbody tr th:only-of-type {\n",
       "        vertical-align: middle;\n",
       "    }\n",
       "\n",
       "    .dataframe tbody tr th {\n",
       "        vertical-align: top;\n",
       "    }\n",
       "\n",
       "    .dataframe thead th {\n",
       "        text-align: right;\n",
       "    }\n",
       "</style>\n",
       "<table border=\"1\" class=\"dataframe\">\n",
       "  <thead>\n",
       "    <tr style=\"text-align: right;\">\n",
       "      <th></th>\n",
       "      <th>0</th>\n",
       "      <th>1</th>\n",
       "      <th>2</th>\n",
       "      <th>3</th>\n",
       "      <th>4</th>\n",
       "      <th>5</th>\n",
       "      <th>6</th>\n",
       "      <th>7</th>\n",
       "      <th>8</th>\n",
       "      <th>9</th>\n",
       "      <th>...</th>\n",
       "      <th>67</th>\n",
       "      <th>68</th>\n",
       "      <th>69</th>\n",
       "      <th>70</th>\n",
       "      <th>71</th>\n",
       "      <th>72</th>\n",
       "      <th>73</th>\n",
       "      <th>74</th>\n",
       "      <th>75</th>\n",
       "      <th>76</th>\n",
       "    </tr>\n",
       "  </thead>\n",
       "  <tbody>\n",
       "    <tr>\n",
       "      <th>index</th>\n",
       "      <td>Nissin</td>\n",
       "      <td>Nongshim</td>\n",
       "      <td>MyKuali</td>\n",
       "      <td>Indomie</td>\n",
       "      <td>Paldo</td>\n",
       "      <td>Samyang Foods</td>\n",
       "      <td>Mama</td>\n",
       "      <td>KOKA</td>\n",
       "      <td>Maruchan</td>\n",
       "      <td>CarJEN</td>\n",
       "      <td>...</td>\n",
       "      <td>Dream Kitchen</td>\n",
       "      <td>Yamachan</td>\n",
       "      <td>Chering Chang</td>\n",
       "      <td>Ibumie</td>\n",
       "      <td>Daikoku</td>\n",
       "      <td>Happy Cook</td>\n",
       "      <td>Wang</td>\n",
       "      <td>Itsuki</td>\n",
       "      <td>Ottogi</td>\n",
       "      <td>Urban Noodle</td>\n",
       "    </tr>\n",
       "    <tr>\n",
       "      <th>Brand</th>\n",
       "      <td>52</td>\n",
       "      <td>11</td>\n",
       "      <td>10</td>\n",
       "      <td>9</td>\n",
       "      <td>9</td>\n",
       "      <td>7</td>\n",
       "      <td>7</td>\n",
       "      <td>5</td>\n",
       "      <td>5</td>\n",
       "      <td>5</td>\n",
       "      <td>...</td>\n",
       "      <td>1</td>\n",
       "      <td>1</td>\n",
       "      <td>1</td>\n",
       "      <td>1</td>\n",
       "      <td>1</td>\n",
       "      <td>1</td>\n",
       "      <td>1</td>\n",
       "      <td>1</td>\n",
       "      <td>1</td>\n",
       "      <td>1</td>\n",
       "    </tr>\n",
       "  </tbody>\n",
       "</table>\n",
       "<p>2 rows × 77 columns</p>\n",
       "</div>"
      ],
      "text/plain": [
       "           0         1        2        3      4              5     6     7   \\\n",
       "index  Nissin  Nongshim  MyKuali  Indomie  Paldo  Samyang Foods  Mama  KOKA   \n",
       "Brand      52        11       10        9      9              7     7     5   \n",
       "\n",
       "             8       9   ...             67        68             69      70  \\\n",
       "index  Maruchan  CarJEN  ...  Dream Kitchen  Yamachan  Chering Chang  Ibumie   \n",
       "Brand         5       5  ...              1         1              1       1   \n",
       "\n",
       "            71          72    73      74      75            76  \n",
       "index  Daikoku  Happy Cook  Wang  Itsuki  Ottogi  Urban Noodle  \n",
       "Brand        1           1     1       1       1             1  \n",
       "\n",
       "[2 rows x 77 columns]"
      ]
     },
     "execution_count": 45,
     "metadata": {},
     "output_type": "execute_result"
    }
   ],
   "source": [
    "### Create dataframe of brands and their number of 5-star reviews ###\n",
    "five_star_brand_counts = pd.DataFrame(train[train.Stars == 5].Brand.value_counts()).reset_index()\n",
    "five_star_brand_counts.T"
   ]
  },
  {
   "cell_type": "code",
   "execution_count": 46,
   "id": "b722221d",
   "metadata": {},
   "outputs": [
    {
     "data": {
      "text/html": [
       "<div>\n",
       "<style scoped>\n",
       "    .dataframe tbody tr th:only-of-type {\n",
       "        vertical-align: middle;\n",
       "    }\n",
       "\n",
       "    .dataframe tbody tr th {\n",
       "        vertical-align: top;\n",
       "    }\n",
       "\n",
       "    .dataframe thead th {\n",
       "        text-align: right;\n",
       "    }\n",
       "</style>\n",
       "<table border=\"1\" class=\"dataframe\">\n",
       "  <thead>\n",
       "    <tr style=\"text-align: right;\">\n",
       "      <th></th>\n",
       "      <th>index</th>\n",
       "      <th>Brand_x</th>\n",
       "      <th>Brand_y</th>\n",
       "    </tr>\n",
       "  </thead>\n",
       "  <tbody>\n",
       "    <tr>\n",
       "      <th>0</th>\n",
       "      <td>Nissin</td>\n",
       "      <td>52</td>\n",
       "      <td>221</td>\n",
       "    </tr>\n",
       "    <tr>\n",
       "      <th>1</th>\n",
       "      <td>Nongshim</td>\n",
       "      <td>11</td>\n",
       "      <td>62</td>\n",
       "    </tr>\n",
       "    <tr>\n",
       "      <th>2</th>\n",
       "      <td>MyKuali</td>\n",
       "      <td>10</td>\n",
       "      <td>12</td>\n",
       "    </tr>\n",
       "  </tbody>\n",
       "</table>\n",
       "</div>"
      ],
      "text/plain": [
       "      index  Brand_x  Brand_y\n",
       "0    Nissin       52      221\n",
       "1  Nongshim       11       62\n",
       "2   MyKuali       10       12"
      ]
     },
     "execution_count": 46,
     "metadata": {},
     "output_type": "execute_result"
    }
   ],
   "source": [
    "### Affix dataframe of total review counts per brand to dataframe containing 5-star counts ###\n",
    "brand_counts = pd.DataFrame(train.Brand.value_counts()).reset_index()\n",
    "five_star_brand_counts = pd.merge(five_star_brand_counts, brand_counts, \n",
    "                                    left_on='index',\n",
    "                                    right_on='index')\n",
    "five_star_brand_counts.head(3)"
   ]
  },
  {
   "cell_type": "code",
   "execution_count": 47,
   "id": "5ae40103",
   "metadata": {},
   "outputs": [
    {
     "data": {
      "text/html": [
       "<div>\n",
       "<style scoped>\n",
       "    .dataframe tbody tr th:only-of-type {\n",
       "        vertical-align: middle;\n",
       "    }\n",
       "\n",
       "    .dataframe tbody tr th {\n",
       "        vertical-align: top;\n",
       "    }\n",
       "\n",
       "    .dataframe thead th {\n",
       "        text-align: right;\n",
       "    }\n",
       "</style>\n",
       "<table border=\"1\" class=\"dataframe\">\n",
       "  <thead>\n",
       "    <tr style=\"text-align: right;\">\n",
       "      <th></th>\n",
       "      <th>index</th>\n",
       "      <th>Brand_x</th>\n",
       "      <th>Brand_y</th>\n",
       "      <th>fiver_percent_of_total</th>\n",
       "    </tr>\n",
       "  </thead>\n",
       "  <tbody>\n",
       "    <tr>\n",
       "      <th>0</th>\n",
       "      <td>Nissin</td>\n",
       "      <td>52</td>\n",
       "      <td>221</td>\n",
       "      <td>0.235294</td>\n",
       "    </tr>\n",
       "    <tr>\n",
       "      <th>1</th>\n",
       "      <td>Nongshim</td>\n",
       "      <td>11</td>\n",
       "      <td>62</td>\n",
       "      <td>0.177419</td>\n",
       "    </tr>\n",
       "    <tr>\n",
       "      <th>2</th>\n",
       "      <td>MyKuali</td>\n",
       "      <td>10</td>\n",
       "      <td>12</td>\n",
       "      <td>0.833333</td>\n",
       "    </tr>\n",
       "    <tr>\n",
       "      <th>3</th>\n",
       "      <td>Indomie</td>\n",
       "      <td>9</td>\n",
       "      <td>33</td>\n",
       "      <td>0.272727</td>\n",
       "    </tr>\n",
       "    <tr>\n",
       "      <th>4</th>\n",
       "      <td>Paldo</td>\n",
       "      <td>9</td>\n",
       "      <td>37</td>\n",
       "      <td>0.243243</td>\n",
       "    </tr>\n",
       "    <tr>\n",
       "      <th>...</th>\n",
       "      <td>...</td>\n",
       "      <td>...</td>\n",
       "      <td>...</td>\n",
       "      <td>...</td>\n",
       "    </tr>\n",
       "    <tr>\n",
       "      <th>72</th>\n",
       "      <td>Happy Cook</td>\n",
       "      <td>1</td>\n",
       "      <td>3</td>\n",
       "      <td>0.333333</td>\n",
       "    </tr>\n",
       "    <tr>\n",
       "      <th>73</th>\n",
       "      <td>Wang</td>\n",
       "      <td>1</td>\n",
       "      <td>3</td>\n",
       "      <td>0.333333</td>\n",
       "    </tr>\n",
       "    <tr>\n",
       "      <th>74</th>\n",
       "      <td>Itsuki</td>\n",
       "      <td>1</td>\n",
       "      <td>3</td>\n",
       "      <td>0.333333</td>\n",
       "    </tr>\n",
       "    <tr>\n",
       "      <th>75</th>\n",
       "      <td>Ottogi</td>\n",
       "      <td>1</td>\n",
       "      <td>27</td>\n",
       "      <td>0.037037</td>\n",
       "    </tr>\n",
       "    <tr>\n",
       "      <th>76</th>\n",
       "      <td>Urban Noodle</td>\n",
       "      <td>1</td>\n",
       "      <td>5</td>\n",
       "      <td>0.200000</td>\n",
       "    </tr>\n",
       "  </tbody>\n",
       "</table>\n",
       "<p>77 rows × 4 columns</p>\n",
       "</div>"
      ],
      "text/plain": [
       "           index  Brand_x  Brand_y  fiver_percent_of_total\n",
       "0         Nissin       52      221                0.235294\n",
       "1       Nongshim       11       62                0.177419\n",
       "2        MyKuali       10       12                0.833333\n",
       "3        Indomie        9       33                0.272727\n",
       "4          Paldo        9       37                0.243243\n",
       "..           ...      ...      ...                     ...\n",
       "72    Happy Cook        1        3                0.333333\n",
       "73          Wang        1        3                0.333333\n",
       "74        Itsuki        1        3                0.333333\n",
       "75        Ottogi        1       27                0.037037\n",
       "76  Urban Noodle        1        5                0.200000\n",
       "\n",
       "[77 rows x 4 columns]"
      ]
     },
     "execution_count": 47,
     "metadata": {},
     "output_type": "execute_result"
    }
   ],
   "source": [
    "### Calculate proportion of 5-star reviews to all reviews ###\n",
    "five_star_brand_counts['fiver_percent_of_total'] = five_star_brand_counts.Brand_x / five_star_brand_counts.Brand_y\n",
    "five_star_brand_counts"
   ]
  },
  {
   "cell_type": "code",
   "execution_count": 48,
   "id": "4fee889e",
   "metadata": {},
   "outputs": [
    {
     "data": {
      "text/html": [
       "<div>\n",
       "<style scoped>\n",
       "    .dataframe tbody tr th:only-of-type {\n",
       "        vertical-align: middle;\n",
       "    }\n",
       "\n",
       "    .dataframe tbody tr th {\n",
       "        vertical-align: top;\n",
       "    }\n",
       "\n",
       "    .dataframe thead th {\n",
       "        text-align: right;\n",
       "    }\n",
       "</style>\n",
       "<table border=\"1\" class=\"dataframe\">\n",
       "  <thead>\n",
       "    <tr style=\"text-align: right;\">\n",
       "      <th></th>\n",
       "      <th>index</th>\n",
       "      <th>Brand_x</th>\n",
       "      <th>Brand_y</th>\n",
       "      <th>fiver_percent_of_total</th>\n",
       "    </tr>\n",
       "  </thead>\n",
       "  <tbody>\n",
       "    <tr>\n",
       "      <th>2</th>\n",
       "      <td>MyKuali</td>\n",
       "      <td>10</td>\n",
       "      <td>12</td>\n",
       "      <td>0.833333</td>\n",
       "    </tr>\n",
       "    <tr>\n",
       "      <th>7</th>\n",
       "      <td>KOKA</td>\n",
       "      <td>5</td>\n",
       "      <td>17</td>\n",
       "      <td>0.294118</td>\n",
       "    </tr>\n",
       "    <tr>\n",
       "      <th>3</th>\n",
       "      <td>Indomie</td>\n",
       "      <td>9</td>\n",
       "      <td>33</td>\n",
       "      <td>0.272727</td>\n",
       "    </tr>\n",
       "    <tr>\n",
       "      <th>4</th>\n",
       "      <td>Paldo</td>\n",
       "      <td>9</td>\n",
       "      <td>37</td>\n",
       "      <td>0.243243</td>\n",
       "    </tr>\n",
       "    <tr>\n",
       "      <th>0</th>\n",
       "      <td>Nissin</td>\n",
       "      <td>52</td>\n",
       "      <td>221</td>\n",
       "      <td>0.235294</td>\n",
       "    </tr>\n",
       "    <tr>\n",
       "      <th>5</th>\n",
       "      <td>Samyang Foods</td>\n",
       "      <td>7</td>\n",
       "      <td>33</td>\n",
       "      <td>0.212121</td>\n",
       "    </tr>\n",
       "    <tr>\n",
       "      <th>6</th>\n",
       "      <td>Mama</td>\n",
       "      <td>7</td>\n",
       "      <td>38</td>\n",
       "      <td>0.184211</td>\n",
       "    </tr>\n",
       "    <tr>\n",
       "      <th>1</th>\n",
       "      <td>Nongshim</td>\n",
       "      <td>11</td>\n",
       "      <td>62</td>\n",
       "      <td>0.177419</td>\n",
       "    </tr>\n",
       "  </tbody>\n",
       "</table>\n",
       "</div>"
      ],
      "text/plain": [
       "           index  Brand_x  Brand_y  fiver_percent_of_total\n",
       "2        MyKuali       10       12                0.833333\n",
       "7           KOKA        5       17                0.294118\n",
       "3        Indomie        9       33                0.272727\n",
       "4          Paldo        9       37                0.243243\n",
       "0         Nissin       52      221                0.235294\n",
       "5  Samyang Foods        7       33                0.212121\n",
       "6           Mama        7       38                0.184211\n",
       "1       Nongshim       11       62                0.177419"
      ]
     },
     "execution_count": 48,
     "metadata": {},
     "output_type": "execute_result"
    }
   ],
   "source": [
    "### Sort by percentage ###\n",
    "five_star_brand_counts[:8].sort_values('fiver_percent_of_total', ascending=False)"
   ]
  },
  {
   "cell_type": "markdown",
   "id": "0eb64f7c",
   "metadata": {},
   "source": [
    "MyKuali has a suspiciously-high number of 5-star reviews... what's the distribution of all MyKuali reviews?"
   ]
  },
  {
   "cell_type": "code",
   "execution_count": 49,
   "id": "7b91e56f",
   "metadata": {},
   "outputs": [
    {
     "data": {
      "text/plain": [
       "<AxesSubplot:xlabel='Brand', ylabel='Stars'>"
      ]
     },
     "execution_count": 49,
     "metadata": {},
     "output_type": "execute_result"
    },
    {
     "data": {
      "image/png": "[encoded data removed]",
      "text/plain": [
       "<Figure size 432x288 with 1 Axes>"
      ]
     },
     "metadata": {
      "needs_background": "light"
     },
     "output_type": "display_data"
    }
   ],
   "source": [
    "### Compare boxplots of MyKuali to next high-5-star-proprtion ramen brand ###\n",
    "sns.boxplot(data=train, x=train[(train.Brand == 'MyKuali') | ((train.Brand == 'Paldo'))].Brand, y=train.Stars)"
   ]
  },
  {
   "cell_type": "code",
   "execution_count": 50,
   "id": "73fd2475",
   "metadata": {},
   "outputs": [
    {
     "data": {
      "text/html": [
       "<div>\n",
       "<style scoped>\n",
       "    .dataframe tbody tr th:only-of-type {\n",
       "        vertical-align: middle;\n",
       "    }\n",
       "\n",
       "    .dataframe tbody tr th {\n",
       "        vertical-align: top;\n",
       "    }\n",
       "\n",
       "    .dataframe thead th {\n",
       "        text-align: right;\n",
       "    }\n",
       "</style>\n",
       "<table border=\"1\" class=\"dataframe\">\n",
       "  <thead>\n",
       "    <tr style=\"text-align: right;\">\n",
       "      <th></th>\n",
       "      <th>Review #</th>\n",
       "      <th>Brand</th>\n",
       "      <th>Variety</th>\n",
       "      <th>Style</th>\n",
       "      <th>Country</th>\n",
       "      <th>Stars</th>\n",
       "    </tr>\n",
       "  </thead>\n",
       "  <tbody>\n",
       "    <tr>\n",
       "      <th>599</th>\n",
       "      <td>1981</td>\n",
       "      <td>MyKuali</td>\n",
       "      <td>Penang Red tom Yum Goong Noodle Authentic Taste</td>\n",
       "      <td>Pack</td>\n",
       "      <td>Malaysia</td>\n",
       "      <td>5.00</td>\n",
       "    </tr>\n",
       "    <tr>\n",
       "      <th>757</th>\n",
       "      <td>1823</td>\n",
       "      <td>MyKuali</td>\n",
       "      <td>MeeKuali spicy Fried Noodle</td>\n",
       "      <td>Pack</td>\n",
       "      <td>Malaysia</td>\n",
       "      <td>4.00</td>\n",
       "    </tr>\n",
       "    <tr>\n",
       "      <th>176</th>\n",
       "      <td>2404</td>\n",
       "      <td>MyKuali</td>\n",
       "      <td>Penang Hokkien Prawn Noodle Soup</td>\n",
       "      <td>Pack</td>\n",
       "      <td>Singapore</td>\n",
       "      <td>5.00</td>\n",
       "    </tr>\n",
       "    <tr>\n",
       "      <th>530</th>\n",
       "      <td>2050</td>\n",
       "      <td>MyKuali</td>\n",
       "      <td>Penang Red Tom Yum Goong Noodle Authentic Taste</td>\n",
       "      <td>Cup</td>\n",
       "      <td>Malaysia</td>\n",
       "      <td>5.00</td>\n",
       "    </tr>\n",
       "    <tr>\n",
       "      <th>591</th>\n",
       "      <td>1989</td>\n",
       "      <td>MyKuali</td>\n",
       "      <td>Penang White curry Noodle Authentic Taste</td>\n",
       "      <td>Pack</td>\n",
       "      <td>Malaysia</td>\n",
       "      <td>5.00</td>\n",
       "    </tr>\n",
       "    <tr>\n",
       "      <th>554</th>\n",
       "      <td>2026</td>\n",
       "      <td>MyKuali</td>\n",
       "      <td>Penang White Curry Authentic Taste Cup</td>\n",
       "      <td>Cup</td>\n",
       "      <td>Malaysia</td>\n",
       "      <td>4.75</td>\n",
       "    </tr>\n",
       "    <tr>\n",
       "      <th>963</th>\n",
       "      <td>1617</td>\n",
       "      <td>MyKuali</td>\n",
       "      <td>Penang Hokkien Prawn Noodle (New Improved Taste)</td>\n",
       "      <td>Pack</td>\n",
       "      <td>Malaysia</td>\n",
       "      <td>5.00</td>\n",
       "    </tr>\n",
       "    <tr>\n",
       "      <th>799</th>\n",
       "      <td>1781</td>\n",
       "      <td>MyKuali</td>\n",
       "      <td>Penang Hokkien Prawn Soup Rice Vermicelli (Bihun)</td>\n",
       "      <td>Bowl</td>\n",
       "      <td>Malaysia</td>\n",
       "      <td>5.00</td>\n",
       "    </tr>\n",
       "    <tr>\n",
       "      <th>732</th>\n",
       "      <td>1848</td>\n",
       "      <td>MyKuali</td>\n",
       "      <td>Penang Red tom Yum Goong Noodle (New Version)</td>\n",
       "      <td>Pack</td>\n",
       "      <td>Malaysia</td>\n",
       "      <td>5.00</td>\n",
       "    </tr>\n",
       "    <tr>\n",
       "      <th>489</th>\n",
       "      <td>2091</td>\n",
       "      <td>MyKuali</td>\n",
       "      <td>Penang Hokkien Prawn Noodle Authentic Taste</td>\n",
       "      <td>Cup</td>\n",
       "      <td>Malaysia</td>\n",
       "      <td>5.00</td>\n",
       "    </tr>\n",
       "    <tr>\n",
       "      <th>188</th>\n",
       "      <td>2392</td>\n",
       "      <td>MyKuali</td>\n",
       "      <td>Penang Red Tom Yum Goong Rice Vermicelli Soup</td>\n",
       "      <td>Bowl</td>\n",
       "      <td>Malaysia</td>\n",
       "      <td>5.00</td>\n",
       "    </tr>\n",
       "    <tr>\n",
       "      <th>150</th>\n",
       "      <td>2430</td>\n",
       "      <td>MyKuali</td>\n",
       "      <td>MeeKuali Bihun Sup Rempah Perisa Daging</td>\n",
       "      <td>Pack</td>\n",
       "      <td>Malaysia</td>\n",
       "      <td>5.00</td>\n",
       "    </tr>\n",
       "  </tbody>\n",
       "</table>\n",
       "</div>"
      ],
      "text/plain": [
       "    Review #    Brand                                            Variety  \\\n",
       "599     1981  MyKuali    Penang Red tom Yum Goong Noodle Authentic Taste   \n",
       "757     1823  MyKuali                        MeeKuali spicy Fried Noodle   \n",
       "176     2404  MyKuali                   Penang Hokkien Prawn Noodle Soup   \n",
       "530     2050  MyKuali    Penang Red Tom Yum Goong Noodle Authentic Taste   \n",
       "591     1989  MyKuali          Penang White curry Noodle Authentic Taste   \n",
       "554     2026  MyKuali             Penang White Curry Authentic Taste Cup   \n",
       "963     1617  MyKuali   Penang Hokkien Prawn Noodle (New Improved Taste)   \n",
       "799     1781  MyKuali  Penang Hokkien Prawn Soup Rice Vermicelli (Bihun)   \n",
       "732     1848  MyKuali      Penang Red tom Yum Goong Noodle (New Version)   \n",
       "489     2091  MyKuali        Penang Hokkien Prawn Noodle Authentic Taste   \n",
       "188     2392  MyKuali      Penang Red Tom Yum Goong Rice Vermicelli Soup   \n",
       "150     2430  MyKuali            MeeKuali Bihun Sup Rempah Perisa Daging   \n",
       "\n",
       "    Style    Country  Stars  \n",
       "599  Pack   Malaysia   5.00  \n",
       "757  Pack   Malaysia   4.00  \n",
       "176  Pack  Singapore   5.00  \n",
       "530   Cup   Malaysia   5.00  \n",
       "591  Pack   Malaysia   5.00  \n",
       "554   Cup   Malaysia   4.75  \n",
       "963  Pack   Malaysia   5.00  \n",
       "799  Bowl   Malaysia   5.00  \n",
       "732  Pack   Malaysia   5.00  \n",
       "489   Cup   Malaysia   5.00  \n",
       "188  Bowl   Malaysia   5.00  \n",
       "150  Pack   Malaysia   5.00  "
      ]
     },
     "execution_count": 50,
     "metadata": {},
     "output_type": "execute_result"
    }
   ],
   "source": [
    "### Sanity check on high-review MyKuali ###\n",
    "train[train.Brand == 'MyKuali']"
   ]
  },
  {
   "cell_type": "code",
   "execution_count": 51,
   "id": "cd11d3bc",
   "metadata": {},
   "outputs": [
    {
     "data": {
      "text/plain": [
       "<AxesSubplot:xlabel='Country', ylabel='Stars'>"
      ]
     },
     "execution_count": 51,
     "metadata": {},
     "output_type": "execute_result"
    },
    {
     "data": {
      "image/png": "[encoded data removed]",
      "text/plain": [
       "<Figure size 720x504 with 1 Axes>"
      ]
     },
     "metadata": {
      "needs_background": "light"
     },
     "output_type": "display_data"
    }
   ],
   "source": [
    "### Plot top-11 countries *without MyKuali* to see what happens to distribution ###\n",
    "plt.figure(figsize=(10,7))\n",
    "mykuali_indices = train_top11[train_top11.Brand == 'MyKuali'].index\n",
    "sns.boxplot(data=train_top11.drop(index=mykuali_indices), x='Country', y='Stars')"
   ]
  },
  {
   "cell_type": "markdown",
   "id": "12db268e",
   "metadata": {},
   "source": [
    "It seems Malaysia's distribution didn't change much. Maybe Malaysia is just really good at making ramen."
   ]
  },
  {
   "cell_type": "markdown",
   "id": "553d835d",
   "metadata": {},
   "source": [
    "# Modeling\n",
    "Gameplan: \n",
    "1. Filter dataframe to 0.25 increments between 0 and 5 - *Done*\n",
    "2. Multiply all values by 4 (0 -> 0, 0.25 -> 1, 0.5 -> 2, 0.75 -> 3, etc) - *Done*\n",
    "3. Choose most common rating for baseline (classification approach, will explain my reasoning below) - *Done*\n",
    "4. Calculate baseline accuracy (number of chosen-baseline values / all values) - *Done*\n",
    "5. Build MVP models using Style and Country all encoded\n",
    "    * Later perform Feature Engineering on Brand to simplify column for brand names only\n",
    "    * Later perform Feature Engineering on Variety to simplify column for Chicken, Beef, etc\n",
    "6. Evaluate models on validate set\n",
    "7. Re-set baseline accuracy using best-selected model for train and validate\n",
    "8. Feature engineering on Variety\n",
    "9. One-hot encoding on all engineered Variety values and all Brand, Style, and Country values (yep)\n",
    "10. SelectKBest/RFE to determine which features to use in model\n",
    "11. Note which features SelectKBest/RFE chose\n",
    "12. Build models using the features\n",
    "13. Evaluate on validate\n",
    "14. Compare to new baseline\n",
    "15. Choose best model\n",
    "16. Evaluate on test\n",
    "17. Formalize results in a presentation notebook\n",
    "\n",
    "## Prep"
   ]
  },
  {
   "cell_type": "code",
   "execution_count": 52,
   "id": "99787890",
   "metadata": {},
   "outputs": [
    {
     "data": {
      "text/plain": [
       "array([4.25 , 3.5  , 4.   , 5.   , 3.75 , 1.   , 2.75 , 4.75 , 3.25 ,\n",
       "       4.5  , 0.   , 2.5  , 2.   , 1.75 , 3.   , 1.25 , 2.25 , 0.5  ,\n",
       "       1.5  , 2.85 , 0.75 , 4.3  , 3.8  , 0.25 , 2.1  , 2.8  , 1.8  ,\n",
       "       1.1  , 2.125, 2.9  , 3.1  , 4.125, 3.3  , 3.6  , 3.125, 3.7  ,\n",
       "       2.3  ])"
      ]
     },
     "execution_count": 52,
     "metadata": {},
     "output_type": "execute_result"
    }
   ],
   "source": [
    "train.Stars.unique()"
   ]
  },
  {
   "cell_type": "code",
   "execution_count": 53,
   "id": "7d437f87",
   "metadata": {},
   "outputs": [],
   "source": [
    "train['Stars'] = (train.Stars * 4).round() / 4\n",
    "validate['Stars'] = (validate.Stars * 4).round() / 4\n",
    "test['Stars'] = (test.Stars * 4).round() / 4"
   ]
  },
  {
   "cell_type": "code",
   "execution_count": 54,
   "id": "5765c454",
   "metadata": {},
   "outputs": [
    {
     "data": {
      "text/plain": [
       "array([4.25, 3.5 , 4.  , 5.  , 3.75, 1.  , 2.75, 4.75, 3.25, 4.5 , 0.  ,\n",
       "       2.5 , 2.  , 1.75, 3.  , 1.25, 2.25, 0.5 , 1.5 , 0.75, 0.25])"
      ]
     },
     "execution_count": 54,
     "metadata": {},
     "output_type": "execute_result"
    }
   ],
   "source": [
    "# Checking work\n",
    "train.Stars.unique()"
   ]
  },
  {
   "cell_type": "code",
   "execution_count": 55,
   "id": "b3d7ecb9",
   "metadata": {},
   "outputs": [
    {
     "data": {
      "text/html": [
       "<div>\n",
       "<style scoped>\n",
       "    .dataframe tbody tr th:only-of-type {\n",
       "        vertical-align: middle;\n",
       "    }\n",
       "\n",
       "    .dataframe tbody tr th {\n",
       "        vertical-align: top;\n",
       "    }\n",
       "\n",
       "    .dataframe thead th {\n",
       "        text-align: right;\n",
       "    }\n",
       "</style>\n",
       "<table border=\"1\" class=\"dataframe\">\n",
       "  <thead>\n",
       "    <tr style=\"text-align: right;\">\n",
       "      <th></th>\n",
       "      <th>Review #</th>\n",
       "      <th>Brand</th>\n",
       "      <th>Variety</th>\n",
       "      <th>Style</th>\n",
       "      <th>Country</th>\n",
       "      <th>Stars</th>\n",
       "    </tr>\n",
       "  </thead>\n",
       "  <tbody>\n",
       "  </tbody>\n",
       "</table>\n",
       "</div>"
      ],
      "text/plain": [
       "Empty DataFrame\n",
       "Columns: [Review #, Brand, Variety, Style, Country, Stars]\n",
       "Index: []"
      ]
     },
     "execution_count": 55,
     "metadata": {},
     "output_type": "execute_result"
    }
   ],
   "source": [
    "train[train.Stars.isna()]"
   ]
  },
  {
   "cell_type": "code",
   "execution_count": 56,
   "id": "13d82ebf",
   "metadata": {},
   "outputs": [
    {
     "name": "stdout",
     "output_type": "stream",
     "text": [
      "594     4.25\n",
      "1828    3.50\n",
      "1611    4.00\n",
      "215     5.00\n",
      "1003    3.75\n",
      "Name: Stars, dtype: float64\n",
      "594     17.0\n",
      "1828    14.0\n",
      "1611    16.0\n",
      "215     20.0\n",
      "1003    15.0\n",
      "Name: Stars, dtype: float64\n"
     ]
    }
   ],
   "source": [
    "# Multiplying all values by 4 (0.25 -> 1, 0.5 -> 2, 0.75 -> 3, ...)\n",
    "print(train.Stars[:5])\n",
    "train['Stars'] = train.Stars * 4\n",
    "validate['Stars'] = validate.Stars * 4\n",
    "test['Stars'] = test.Stars * 4\n",
    "print(train.Stars[:5])"
   ]
  },
  {
   "cell_type": "code",
   "execution_count": 57,
   "id": "c540ec2c",
   "metadata": {},
   "outputs": [
    {
     "data": {
      "text/plain": [
       "array([17., 14., 16., 20., 15.,  4., 11., 19., 13., 18.,  0., 10.,  8.,\n",
       "        7., 12.,  5.,  9.,  2.,  6.,  3.,  1.])"
      ]
     },
     "execution_count": 57,
     "metadata": {},
     "output_type": "execute_result"
    }
   ],
   "source": [
    "train.Stars.unique()"
   ]
  },
  {
   "cell_type": "code",
   "execution_count": 58,
   "id": "8ab895cb",
   "metadata": {},
   "outputs": [
    {
     "data": {
      "text/plain": [
       "dtype('int64')"
      ]
     },
     "execution_count": 58,
     "metadata": {},
     "output_type": "execute_result"
    }
   ],
   "source": [
    "# Casting Stars column as int\n",
    "train['Stars'] = train['Stars'].astype('int')\n",
    "train['Stars'].dtype"
   ]
  },
  {
   "cell_type": "code",
   "execution_count": 59,
   "id": "32bc9daf",
   "metadata": {},
   "outputs": [
    {
     "data": {
      "text/plain": [
       "16    229\n",
       "Name: Stars, dtype: int64"
      ]
     },
     "execution_count": 59,
     "metadata": {},
     "output_type": "execute_result"
    }
   ],
   "source": [
    "# Discover most common rating (will use as baseline)\n",
    "train['Stars'].value_counts().head(1)"
   ]
  },
  {
   "cell_type": "code",
   "execution_count": 60,
   "id": "c4c096fd",
   "metadata": {},
   "outputs": [],
   "source": [
    "# 4-star rating is most common, set to value 16\n",
    "most_common = 16"
   ]
  },
  {
   "cell_type": "markdown",
   "id": "6d6d0556",
   "metadata": {},
   "source": [
    "## Minimum Viable Product (MVP)"
   ]
  },
  {
   "cell_type": "code",
   "execution_count": 61,
   "id": "6aafb693",
   "metadata": {},
   "outputs": [
    {
     "name": "stdout",
     "output_type": "stream",
     "text": [
      "Baseline accuracy: 15.83%\n"
     ]
    }
   ],
   "source": [
    "# Calculate baseline accuracy\n",
    "print('Baseline accuracy:', str(round((237 / len(train)) * 100, 2)) + '%')"
   ]
  },
  {
   "cell_type": "markdown",
   "id": "47301fd4",
   "metadata": {},
   "source": [
    "**MVP Columns**: Brand, Style, Country\n",
    "\n",
    "One-hot encode columns"
   ]
  },
  {
   "cell_type": "code",
   "execution_count": 62,
   "id": "6ee91842",
   "metadata": {},
   "outputs": [],
   "source": [
    "train_encoded = pd.get_dummies(train, columns=['Style','Country']).drop(columns=['Brand','Review #','Variety'])\n",
    "validate_encoded = pd.get_dummies(validate, columns=['Style','Country']).drop(columns=['Brand','Review #','Variety'])\n",
    "test_encoded = pd.get_dummies(test, columns=['Style','Country']).drop(columns=['Brand','Review #','Variety'])"
   ]
  },
  {
   "cell_type": "code",
   "execution_count": 63,
   "id": "3cfc646f",
   "metadata": {},
   "outputs": [
    {
     "data": {
      "text/html": [
       "<div>\n",
       "<style scoped>\n",
       "    .dataframe tbody tr th:only-of-type {\n",
       "        vertical-align: middle;\n",
       "    }\n",
       "\n",
       "    .dataframe tbody tr th {\n",
       "        vertical-align: top;\n",
       "    }\n",
       "\n",
       "    .dataframe thead th {\n",
       "        text-align: right;\n",
       "    }\n",
       "</style>\n",
       "<table border=\"1\" class=\"dataframe\">\n",
       "  <thead>\n",
       "    <tr style=\"text-align: right;\">\n",
       "      <th></th>\n",
       "      <th>Stars</th>\n",
       "      <th>Style_Bowl</th>\n",
       "      <th>Style_Cup</th>\n",
       "      <th>Style_Pack</th>\n",
       "      <th>Style_Tray</th>\n",
       "      <th>Country_Australia</th>\n",
       "      <th>Country_Canada</th>\n",
       "      <th>Country_China</th>\n",
       "      <th>Country_Germany</th>\n",
       "      <th>Country_Hong Kong</th>\n",
       "      <th>...</th>\n",
       "      <th>Country_Nepal</th>\n",
       "      <th>Country_Netherlands</th>\n",
       "      <th>Country_Philippines</th>\n",
       "      <th>Country_Singapore</th>\n",
       "      <th>Country_South Korea</th>\n",
       "      <th>Country_Taiwan</th>\n",
       "      <th>Country_Thailand</th>\n",
       "      <th>Country_UK</th>\n",
       "      <th>Country_USA</th>\n",
       "      <th>Country_Vietnam</th>\n",
       "    </tr>\n",
       "  </thead>\n",
       "  <tbody>\n",
       "    <tr>\n",
       "      <th>594</th>\n",
       "      <td>17</td>\n",
       "      <td>0</td>\n",
       "      <td>0</td>\n",
       "      <td>1</td>\n",
       "      <td>0</td>\n",
       "      <td>0</td>\n",
       "      <td>0</td>\n",
       "      <td>0</td>\n",
       "      <td>0</td>\n",
       "      <td>0</td>\n",
       "      <td>...</td>\n",
       "      <td>0</td>\n",
       "      <td>0</td>\n",
       "      <td>0</td>\n",
       "      <td>0</td>\n",
       "      <td>0</td>\n",
       "      <td>1</td>\n",
       "      <td>0</td>\n",
       "      <td>0</td>\n",
       "      <td>0</td>\n",
       "      <td>0</td>\n",
       "    </tr>\n",
       "  </tbody>\n",
       "</table>\n",
       "<p>1 rows × 26 columns</p>\n",
       "</div>"
      ],
      "text/plain": [
       "     Stars  Style_Bowl  Style_Cup  Style_Pack  Style_Tray  Country_Australia  \\\n",
       "594     17           0          0           1           0                  0   \n",
       "\n",
       "     Country_Canada  Country_China  Country_Germany  Country_Hong Kong  ...  \\\n",
       "594               0              0                0                  0  ...   \n",
       "\n",
       "     Country_Nepal  Country_Netherlands  Country_Philippines  \\\n",
       "594              0                    0                    0   \n",
       "\n",
       "     Country_Singapore  Country_South Korea  Country_Taiwan  Country_Thailand  \\\n",
       "594                  0                    0               1                 0   \n",
       "\n",
       "     Country_UK  Country_USA  Country_Vietnam  \n",
       "594           0            0                0  \n",
       "\n",
       "[1 rows x 26 columns]"
      ]
     },
     "execution_count": 63,
     "metadata": {},
     "output_type": "execute_result"
    }
   ],
   "source": [
    "train_encoded.head(1)"
   ]
  },
  {
   "cell_type": "code",
   "execution_count": 64,
   "id": "fa9b6595",
   "metadata": {},
   "outputs": [
    {
     "data": {
      "text/html": [
       "<div>\n",
       "<style scoped>\n",
       "    .dataframe tbody tr th:only-of-type {\n",
       "        vertical-align: middle;\n",
       "    }\n",
       "\n",
       "    .dataframe tbody tr th {\n",
       "        vertical-align: top;\n",
       "    }\n",
       "\n",
       "    .dataframe thead th {\n",
       "        text-align: right;\n",
       "    }\n",
       "</style>\n",
       "<table border=\"1\" class=\"dataframe\">\n",
       "  <thead>\n",
       "    <tr style=\"text-align: right;\">\n",
       "      <th></th>\n",
       "      <th>Style_Bowl</th>\n",
       "      <th>Style_Cup</th>\n",
       "      <th>Style_Pack</th>\n",
       "      <th>Style_Tray</th>\n",
       "      <th>Country_Australia</th>\n",
       "      <th>Country_Canada</th>\n",
       "      <th>Country_China</th>\n",
       "      <th>Country_Germany</th>\n",
       "      <th>Country_Hong Kong</th>\n",
       "      <th>Country_India</th>\n",
       "      <th>...</th>\n",
       "      <th>Country_Nepal</th>\n",
       "      <th>Country_Netherlands</th>\n",
       "      <th>Country_Philippines</th>\n",
       "      <th>Country_Singapore</th>\n",
       "      <th>Country_South Korea</th>\n",
       "      <th>Country_Taiwan</th>\n",
       "      <th>Country_Thailand</th>\n",
       "      <th>Country_UK</th>\n",
       "      <th>Country_USA</th>\n",
       "      <th>Country_Vietnam</th>\n",
       "    </tr>\n",
       "  </thead>\n",
       "  <tbody>\n",
       "    <tr>\n",
       "      <th>1299</th>\n",
       "      <td>1</td>\n",
       "      <td>0</td>\n",
       "      <td>0</td>\n",
       "      <td>0</td>\n",
       "      <td>0</td>\n",
       "      <td>0</td>\n",
       "      <td>0</td>\n",
       "      <td>0</td>\n",
       "      <td>0</td>\n",
       "      <td>0</td>\n",
       "      <td>...</td>\n",
       "      <td>0</td>\n",
       "      <td>0</td>\n",
       "      <td>0</td>\n",
       "      <td>0</td>\n",
       "      <td>0</td>\n",
       "      <td>0</td>\n",
       "      <td>0</td>\n",
       "      <td>0</td>\n",
       "      <td>0</td>\n",
       "      <td>0</td>\n",
       "    </tr>\n",
       "  </tbody>\n",
       "</table>\n",
       "<p>1 rows × 25 columns</p>\n",
       "</div>"
      ],
      "text/plain": [
       "      Style_Bowl  Style_Cup  Style_Pack  Style_Tray  Country_Australia  \\\n",
       "1299           1          0           0           0                  0   \n",
       "\n",
       "      Country_Canada  Country_China  Country_Germany  Country_Hong Kong  \\\n",
       "1299               0              0                0                  0   \n",
       "\n",
       "      Country_India  ...  Country_Nepal  Country_Netherlands  \\\n",
       "1299              0  ...              0                    0   \n",
       "\n",
       "      Country_Philippines  Country_Singapore  Country_South Korea  \\\n",
       "1299                    0                  0                    0   \n",
       "\n",
       "      Country_Taiwan  Country_Thailand  Country_UK  Country_USA  \\\n",
       "1299               0                 0           0            0   \n",
       "\n",
       "      Country_Vietnam  \n",
       "1299                0  \n",
       "\n",
       "[1 rows x 25 columns]"
      ]
     },
     "execution_count": 64,
     "metadata": {},
     "output_type": "execute_result"
    }
   ],
   "source": [
    "X_train, y_train = train_encoded.drop(columns='Stars'), train_encoded.Stars\n",
    "X_validate, y_validate = validate_encoded.drop(columns='Stars'), validate_encoded.Stars\n",
    "X_test, y_test = test_encoded.drop(columns='Stars'), test_encoded.Stars\n",
    "X_test.head(1)"
   ]
  },
  {
   "cell_type": "code",
   "execution_count": 65,
   "id": "557b44a8",
   "metadata": {},
   "outputs": [
    {
     "name": "stdout",
     "output_type": "stream",
     "text": [
      "0.23714094856379425\n",
      "0.2124248496993988\n"
     ]
    }
   ],
   "source": [
    "rf = RandomForestClassifier(n_estimators=2, random_state=99)\n",
    "rf.fit(X_train, y_train)\n",
    "print((rf.predict(X_train) == y_train).mean())\n",
    "print((rf.predict(X_validate) == y_validate).mean())"
   ]
  },
  {
   "cell_type": "code",
   "execution_count": 66,
   "id": "46c324e5",
   "metadata": {},
   "outputs": [
    {
     "name": "stdout",
     "output_type": "stream",
     "text": [
      "0.23647294589178355\n",
      "0.22244488977955912\n"
     ]
    }
   ],
   "source": [
    "tree = DecisionTreeClassifier(max_depth=16, min_samples_leaf=4, random_state=123)\n",
    "tree.fit(X_train, y_train)\n",
    "print((tree.predict(X_train) == y_train).mean())\n",
    "print((tree.predict(X_validate) == y_validate).mean())"
   ]
  },
  {
   "cell_type": "code",
   "execution_count": 67,
   "id": "672aa56c",
   "metadata": {},
   "outputs": [
    {
     "name": "stdout",
     "output_type": "stream",
     "text": [
      "0.20975283901135605\n",
      "0.17635270541082165\n"
     ]
    }
   ],
   "source": [
    "knn = KNeighborsClassifier(n_neighbors=10)\n",
    "knn.fit(X_train, y_train)\n",
    "print((knn.predict(X_train) == y_train).mean())\n",
    "print((knn.predict(X_validate) == y_validate).mean())"
   ]
  },
  {
   "cell_type": "code",
   "execution_count": 68,
   "id": "4f8cf4b6",
   "metadata": {},
   "outputs": [
    {
     "name": "stdout",
     "output_type": "stream",
     "text": [
      "0.21977287909151635\n",
      "0.19238476953907815\n"
     ]
    }
   ],
   "source": [
    "logit = LogisticRegression(random_state=123)\n",
    "logit.fit(X_train, y_train)\n",
    "print((logit.predict(X_train) == y_train).mean())\n",
    "print((logit.predict(X_validate) == y_validate).mean())"
   ]
  },
  {
   "cell_type": "markdown",
   "id": "386d2702",
   "metadata": {},
   "source": [
    "## Results of MVP\n",
    "- All algorithms performed better than the baseline.\n",
    "- DecisionTreeClassifier with max_depth=16 and min_samples_leaf=4 performed best of all classification algorithms tried."
   ]
  },
  {
   "cell_type": "code",
   "execution_count": 69,
   "id": "23390445",
   "metadata": {},
   "outputs": [
    {
     "name": "stdout",
     "output_type": "stream",
     "text": [
      "              precision    recall  f1-score   support\n",
      "\n",
      "           0       0.00      0.00      0.00        15\n",
      "           1       0.00      0.00      0.00         7\n",
      "           2       0.00      0.00      0.00         8\n",
      "           3       0.00      0.00      0.00         1\n",
      "           4       0.00      0.00      0.00        20\n",
      "           5       0.00      0.00      0.00         4\n",
      "           6       0.13      0.21      0.16        19\n",
      "           7       0.00      0.00      0.00        17\n",
      "           8       0.23      0.12      0.16        42\n",
      "           9       0.00      0.00      0.00        13\n",
      "          10       0.00      0.00      0.00        33\n",
      "          11       0.00      0.00      0.00        53\n",
      "          12       0.19      0.11      0.14       111\n",
      "          13       0.00      0.00      0.00        92\n",
      "          14       0.25      0.45      0.32       186\n",
      "          15       0.24      0.38      0.30       224\n",
      "          16       0.22      0.32      0.26       229\n",
      "          17       0.00      0.00      0.00        91\n",
      "          18       0.00      0.00      0.00        74\n",
      "          19       0.00      0.00      0.00        41\n",
      "          20       0.25      0.42      0.32       217\n",
      "\n",
      "    accuracy                           0.24      1497\n",
      "   macro avg       0.07      0.10      0.08      1497\n",
      "weighted avg       0.16      0.24      0.19      1497\n",
      "\n"
     ]
    }
   ],
   "source": [
    "# Classification report\n",
    "print(classification_report(y_train, tree.predict(X_train)))"
   ]
  },
  {
   "cell_type": "markdown",
   "id": "0e393422",
   "metadata": {},
   "source": [
    "Values 6, 8, 12, 14, 15, 16, and 20 had better-than-0% prediction (ratings: 1.5, 2, 3, 3.5, 3.75, 4, and 5), try a different classification report to see what it did?"
   ]
  },
  {
   "cell_type": "code",
   "execution_count": 70,
   "id": "8426f846",
   "metadata": {},
   "outputs": [],
   "source": [
    "# print(classification_report(y_train, rf.predict(X_train))) # 2, 6, 8, 11, 12, 13, 14, 15, 16, 20 (10 in total)\n",
    "# print(classification_report(y_train, knn.predict(X_train))) # 7, 8, 11, 12, 13, 14, 15, 16, 17, 19, 20 (11 in total)\n",
    "# print(classification_report(y_train, logit.predict(X_train))) # 8, 12, 14, 15, 16, 20 (6 in total)"
   ]
  },
  {
   "cell_type": "markdown",
   "id": "f550c4eb",
   "metadata": {},
   "source": [
    "So this is the result of using Style and Country only, peaking at around 22% for out-of-sample data. MORE FEATURES!"
   ]
  },
  {
   "cell_type": "markdown",
   "id": "d484d682",
   "metadata": {},
   "source": [
    "# Feature Engineering\n",
    "## Brand\n",
    "Pretty easy fix, just limit column to brands with over 10 reviews\n",
    "### Prep"
   ]
  },
  {
   "cell_type": "code",
   "execution_count": 71,
   "id": "48b3cf10",
   "metadata": {},
   "outputs": [],
   "source": [
    "# Brands with more than 10 reviews\n",
    "df = df.groupby('Brand').filter(lambda x: len(x) > 10)"
   ]
  },
  {
   "cell_type": "code",
   "execution_count": 72,
   "id": "0bd8c826",
   "metadata": {},
   "outputs": [],
   "source": [
    "# Re-split data\n",
    "### Split into subsets ###\n",
    "train_validate, test = train_test_split(df, test_size=0.2, random_state=124, stratify=df.Brand)\n",
    "train, validate = train_test_split(train_validate, test_size=0.25, random_state=124, stratify=train_validate.Brand)\n",
    "### Isolate targets ###\n",
    "X_train, y_train = train.drop(columns='Stars'), train.Stars\n",
    "X_validate, y_validate = validate.drop(columns='Stars'), validate.Stars\n",
    "X_test, y_test = test.drop(columns='Stars'), test.Stars"
   ]
  },
  {
   "cell_type": "code",
   "execution_count": 73,
   "id": "4dbb3f04",
   "metadata": {},
   "outputs": [],
   "source": [
    "train['Stars'] = (train.Stars * 4).round()\n",
    "validate['Stars'] = (validate.Stars * 4).round()\n",
    "test['Stars'] = (test.Stars * 4).round()"
   ]
  },
  {
   "cell_type": "code",
   "execution_count": 74,
   "id": "6fcf9bfc",
   "metadata": {},
   "outputs": [
    {
     "data": {
      "text/plain": [
       "20.0    167\n",
       "Name: Stars, dtype: int64"
      ]
     },
     "execution_count": 74,
     "metadata": {},
     "output_type": "execute_result"
    }
   ],
   "source": [
    "# Discover most common rating (will use as baseline)\n",
    "train['Stars'].value_counts().head(1)"
   ]
  },
  {
   "cell_type": "code",
   "execution_count": 75,
   "id": "21d315f7",
   "metadata": {},
   "outputs": [],
   "source": [
    "# 4-star rating is most common, set to value 16\n",
    "most_common = 16"
   ]
  },
  {
   "cell_type": "code",
   "execution_count": 76,
   "id": "87f5f8d1",
   "metadata": {},
   "outputs": [
    {
     "name": "stdout",
     "output_type": "stream",
     "text": [
      "Baseline accuracy: 16.6%\n"
     ]
    }
   ],
   "source": [
    "# Calculate baseline accuracy\n",
    "print('Baseline accuracy:', str(round((164 / len(train)) * 100, 2)) + '%')"
   ]
  },
  {
   "cell_type": "code",
   "execution_count": 77,
   "id": "8277cdbd",
   "metadata": {},
   "outputs": [],
   "source": [
    "### Encode data ###\n",
    "train_encoded = pd.get_dummies(train, columns=['Brand','Style','Country']).drop(columns=['Review #','Variety'])\n",
    "validate_encoded = pd.get_dummies(validate, columns=['Brand','Style','Country']).drop(columns=['Review #','Variety'])\n",
    "test_encoded = pd.get_dummies(test, columns=['Brand','Style','Country']).drop(columns=['Review #','Variety'])"
   ]
  },
  {
   "cell_type": "code",
   "execution_count": 78,
   "id": "94d08568",
   "metadata": {},
   "outputs": [
    {
     "data": {
      "text/html": [
       "<div>\n",
       "<style scoped>\n",
       "    .dataframe tbody tr th:only-of-type {\n",
       "        vertical-align: middle;\n",
       "    }\n",
       "\n",
       "    .dataframe tbody tr th {\n",
       "        vertical-align: top;\n",
       "    }\n",
       "\n",
       "    .dataframe thead th {\n",
       "        text-align: right;\n",
       "    }\n",
       "</style>\n",
       "<table border=\"1\" class=\"dataframe\">\n",
       "  <thead>\n",
       "    <tr style=\"text-align: right;\">\n",
       "      <th></th>\n",
       "      <th>Brand_A-Sha Dry Noodle</th>\n",
       "      <th>Brand_ABC</th>\n",
       "      <th>Brand_Acecook</th>\n",
       "      <th>Brand_Annie Chun's</th>\n",
       "      <th>Brand_Asian Thai Foods</th>\n",
       "      <th>Brand_Baijia</th>\n",
       "      <th>Brand_Batchelors</th>\n",
       "      <th>Brand_Deshome</th>\n",
       "      <th>Brand_Doll</th>\n",
       "      <th>Brand_Dragonfly</th>\n",
       "      <th>...</th>\n",
       "      <th>Country_Myanmar</th>\n",
       "      <th>Country_Nepal</th>\n",
       "      <th>Country_Philippines</th>\n",
       "      <th>Country_Singapore</th>\n",
       "      <th>Country_South Korea</th>\n",
       "      <th>Country_Taiwan</th>\n",
       "      <th>Country_Thailand</th>\n",
       "      <th>Country_UK</th>\n",
       "      <th>Country_USA</th>\n",
       "      <th>Country_Vietnam</th>\n",
       "    </tr>\n",
       "  </thead>\n",
       "  <tbody>\n",
       "    <tr>\n",
       "      <th>2124</th>\n",
       "      <td>0</td>\n",
       "      <td>0</td>\n",
       "      <td>0</td>\n",
       "      <td>0</td>\n",
       "      <td>0</td>\n",
       "      <td>0</td>\n",
       "      <td>0</td>\n",
       "      <td>0</td>\n",
       "      <td>0</td>\n",
       "      <td>0</td>\n",
       "      <td>...</td>\n",
       "      <td>0</td>\n",
       "      <td>0</td>\n",
       "      <td>0</td>\n",
       "      <td>0</td>\n",
       "      <td>0</td>\n",
       "      <td>1</td>\n",
       "      <td>0</td>\n",
       "      <td>0</td>\n",
       "      <td>0</td>\n",
       "      <td>0</td>\n",
       "    </tr>\n",
       "  </tbody>\n",
       "</table>\n",
       "<p>1 rows × 76 columns</p>\n",
       "</div>"
      ],
      "text/plain": [
       "      Brand_A-Sha Dry Noodle  Brand_ABC  Brand_Acecook  Brand_Annie Chun's  \\\n",
       "2124                       0          0              0                   0   \n",
       "\n",
       "      Brand_Asian Thai Foods  Brand_Baijia  Brand_Batchelors  Brand_Deshome  \\\n",
       "2124                       0             0                 0              0   \n",
       "\n",
       "      Brand_Doll  Brand_Dragonfly  ...  Country_Myanmar  Country_Nepal  \\\n",
       "2124           0                0  ...                0              0   \n",
       "\n",
       "      Country_Philippines  Country_Singapore  Country_South Korea  \\\n",
       "2124                    0                  0                    0   \n",
       "\n",
       "      Country_Taiwan  Country_Thailand  Country_UK  Country_USA  \\\n",
       "2124               1                 0           0            0   \n",
       "\n",
       "      Country_Vietnam  \n",
       "2124                0  \n",
       "\n",
       "[1 rows x 76 columns]"
      ]
     },
     "execution_count": 78,
     "metadata": {},
     "output_type": "execute_result"
    }
   ],
   "source": [
    "X_train, y_train = train_encoded.drop(columns='Stars'), train_encoded.Stars\n",
    "X_validate, y_validate = validate_encoded.drop(columns='Stars'), validate_encoded.Stars\n",
    "X_test, y_test = test_encoded.drop(columns='Stars'), test_encoded.Stars\n",
    "X_test.head(1)"
   ]
  },
  {
   "cell_type": "code",
   "execution_count": 79,
   "id": "1f95d0ad",
   "metadata": {},
   "outputs": [
    {
     "name": "stdout",
     "output_type": "stream",
     "text": [
      "0.34210526315789475\n",
      "0.18181818181818182\n"
     ]
    }
   ],
   "source": [
    "rf = RandomForestClassifier(n_estimators=1, random_state=99)\n",
    "rf.fit(X_train, y_train)\n",
    "print((rf.predict(X_train) == y_train).mean())\n",
    "print((rf.predict(X_validate) == y_validate).mean())"
   ]
  },
  {
   "cell_type": "code",
   "execution_count": 80,
   "id": "51716b02",
   "metadata": {},
   "outputs": [
    {
     "name": "stdout",
     "output_type": "stream",
     "text": [
      "0.29048582995951416\n",
      "0.15151515151515152\n"
     ]
    }
   ],
   "source": [
    "tree = DecisionTreeClassifier(max_depth=10, min_samples_leaf=1, random_state=123)\n",
    "tree.fit(X_train, y_train)\n",
    "print((tree.predict(X_train) == y_train).mean())\n",
    "print((tree.predict(X_validate) == y_validate).mean())"
   ]
  },
  {
   "cell_type": "code",
   "execution_count": 81,
   "id": "330e5d89",
   "metadata": {},
   "outputs": [
    {
     "name": "stdout",
     "output_type": "stream",
     "text": [
      "0.3360323886639676\n",
      "0.19090909090909092\n"
     ]
    }
   ],
   "source": [
    "knn = KNeighborsClassifier(n_neighbors=6)\n",
    "knn.fit(X_train, y_train)\n",
    "print((knn.predict(X_train) == y_train).mean())\n",
    "print((knn.predict(X_validate) == y_validate).mean())"
   ]
  },
  {
   "cell_type": "code",
   "execution_count": 82,
   "id": "a4bc73e3",
   "metadata": {},
   "outputs": [
    {
     "name": "stdout",
     "output_type": "stream",
     "text": [
      "0.31983805668016196\n",
      "0.20303030303030303\n"
     ]
    }
   ],
   "source": [
    "logit = LogisticRegression(penalty='l2', random_state=123)\n",
    "logit.fit(X_train, y_train)\n",
    "print((logit.predict(X_train) == y_train).mean())\n",
    "print((logit.predict(X_validate) == y_validate).mean())"
   ]
  },
  {
   "cell_type": "markdown",
   "id": "ffff6a1c",
   "metadata": {},
   "source": [
    "### Results with unmodified Brand\n",
    "On all 4 algorithms with varying hyperparameters, having Brand created an overfit situation causing the models to perform worse on out-of-sample data compared to models without Brand."
   ]
  },
  {
   "cell_type": "markdown",
   "id": "68d990e8",
   "metadata": {},
   "source": [
    "## Variety"
   ]
  },
  {
   "cell_type": "code",
   "execution_count": 83,
   "id": "e8366cf1",
   "metadata": {},
   "outputs": [
    {
     "data": {
      "text/html": [
       "<div>\n",
       "<style scoped>\n",
       "    .dataframe tbody tr th:only-of-type {\n",
       "        vertical-align: middle;\n",
       "    }\n",
       "\n",
       "    .dataframe tbody tr th {\n",
       "        vertical-align: top;\n",
       "    }\n",
       "\n",
       "    .dataframe thead th {\n",
       "        text-align: right;\n",
       "    }\n",
       "</style>\n",
       "<table border=\"1\" class=\"dataframe\">\n",
       "  <thead>\n",
       "    <tr style=\"text-align: right;\">\n",
       "      <th></th>\n",
       "      <th>Review #</th>\n",
       "      <th>Brand</th>\n",
       "      <th>Variety</th>\n",
       "      <th>Style</th>\n",
       "      <th>Country</th>\n",
       "      <th>Stars</th>\n",
       "    </tr>\n",
       "  </thead>\n",
       "  <tbody>\n",
       "    <tr>\n",
       "      <th>2</th>\n",
       "      <td>2578</td>\n",
       "      <td>Nissin</td>\n",
       "      <td>Cup Noodles Chicken Vegetable</td>\n",
       "      <td>Cup</td>\n",
       "      <td>USA</td>\n",
       "      <td>2.25</td>\n",
       "    </tr>\n",
       "    <tr>\n",
       "      <th>3</th>\n",
       "      <td>2577</td>\n",
       "      <td>Wei Lih</td>\n",
       "      <td>GGE Ramen Snack Tomato Flavor</td>\n",
       "      <td>Pack</td>\n",
       "      <td>Taiwan</td>\n",
       "      <td>2.75</td>\n",
       "    </tr>\n",
       "    <tr>\n",
       "      <th>5</th>\n",
       "      <td>2575</td>\n",
       "      <td>Samyang Foods</td>\n",
       "      <td>Kimchi song Song Ramen</td>\n",
       "      <td>Pack</td>\n",
       "      <td>South Korea</td>\n",
       "      <td>4.75</td>\n",
       "    </tr>\n",
       "  </tbody>\n",
       "</table>\n",
       "</div>"
      ],
      "text/plain": [
       "  Review #          Brand                        Variety Style      Country  \\\n",
       "2     2578         Nissin  Cup Noodles Chicken Vegetable   Cup          USA   \n",
       "3     2577        Wei Lih  GGE Ramen Snack Tomato Flavor  Pack       Taiwan   \n",
       "5     2575  Samyang Foods         Kimchi song Song Ramen  Pack  South Korea   \n",
       "\n",
       "   Stars  \n",
       "2   2.25  \n",
       "3   2.75  \n",
       "5   4.75  "
      ]
     },
     "execution_count": 83,
     "metadata": {},
     "output_type": "execute_result"
    }
   ],
   "source": [
    "df.head(3)"
   ]
  },
  {
   "cell_type": "markdown",
   "id": "fe4d33d4",
   "metadata": {},
   "source": [
    "### Artificial"
   ]
  },
  {
   "cell_type": "code",
   "execution_count": 84,
   "id": "7b052ff6",
   "metadata": {},
   "outputs": [
    {
     "data": {
      "text/plain": [
       "3.3159574468085107"
      ]
     },
     "execution_count": 84,
     "metadata": {},
     "output_type": "execute_result"
    }
   ],
   "source": [
    "df[df.Variety.str[:10] == 'Artificial'].Stars.mean()"
   ]
  },
  {
   "cell_type": "code",
   "execution_count": 85,
   "id": "38b62237",
   "metadata": {},
   "outputs": [
    {
     "data": {
      "text/plain": [
       "3.749594003747658"
      ]
     },
     "execution_count": 85,
     "metadata": {},
     "output_type": "execute_result"
    }
   ],
   "source": [
    "df[df.Variety.str[:10] != 'Artificial'].Stars.mean()"
   ]
  },
  {
   "cell_type": "code",
   "execution_count": 86,
   "id": "e185c89d",
   "metadata": {},
   "outputs": [
    {
     "data": {
      "text/html": [
       "<div>\n",
       "<style scoped>\n",
       "    .dataframe tbody tr th:only-of-type {\n",
       "        vertical-align: middle;\n",
       "    }\n",
       "\n",
       "    .dataframe tbody tr th {\n",
       "        vertical-align: top;\n",
       "    }\n",
       "\n",
       "    .dataframe thead th {\n",
       "        text-align: right;\n",
       "    }\n",
       "</style>\n",
       "<table border=\"1\" class=\"dataframe\">\n",
       "  <thead>\n",
       "    <tr style=\"text-align: right;\">\n",
       "      <th></th>\n",
       "      <th>Review #</th>\n",
       "      <th>Brand</th>\n",
       "      <th>Variety</th>\n",
       "      <th>Style</th>\n",
       "      <th>Country</th>\n",
       "      <th>Stars</th>\n",
       "      <th>Artificial</th>\n",
       "    </tr>\n",
       "  </thead>\n",
       "  <tbody>\n",
       "    <tr>\n",
       "      <th>612</th>\n",
       "      <td>1968</td>\n",
       "      <td>Nissin</td>\n",
       "      <td>Top Ramen Chicken Flavor Ramen Noodle Soup (Ne...</td>\n",
       "      <td>Pack</td>\n",
       "      <td>USA</td>\n",
       "      <td>3.5</td>\n",
       "      <td>False</td>\n",
       "    </tr>\n",
       "    <tr>\n",
       "      <th>1146</th>\n",
       "      <td>1434</td>\n",
       "      <td>Maggi</td>\n",
       "      <td>Hot Cup Perisa Kari</td>\n",
       "      <td>Cup</td>\n",
       "      <td>Malaysia</td>\n",
       "      <td>3.5</td>\n",
       "      <td>False</td>\n",
       "    </tr>\n",
       "    <tr>\n",
       "      <th>2163</th>\n",
       "      <td>417</td>\n",
       "      <td>Vifon</td>\n",
       "      <td>Tu Quy Spicy Beef</td>\n",
       "      <td>Pack</td>\n",
       "      <td>Vietnam</td>\n",
       "      <td>3.5</td>\n",
       "      <td>False</td>\n",
       "    </tr>\n",
       "  </tbody>\n",
       "</table>\n",
       "</div>"
      ],
      "text/plain": [
       "     Review #   Brand                                            Variety  \\\n",
       "612      1968  Nissin  Top Ramen Chicken Flavor Ramen Noodle Soup (Ne...   \n",
       "1146     1434   Maggi                                Hot Cup Perisa Kari   \n",
       "2163      417   Vifon                                  Tu Quy Spicy Beef   \n",
       "\n",
       "     Style   Country  Stars  Artificial  \n",
       "612   Pack       USA    3.5       False  \n",
       "1146   Cup  Malaysia    3.5       False  \n",
       "2163  Pack   Vietnam    3.5       False  "
      ]
     },
     "execution_count": 86,
     "metadata": {},
     "output_type": "execute_result"
    }
   ],
   "source": [
    "eng = df.copy()\n",
    "eng['Artificial'] = df.Variety.str.contains('artificial', case=False)\n",
    "#eng['Artificial'] = df.Variety.str[:10] == 'Artificial'\n",
    "eng.sample(3)"
   ]
  },
  {
   "cell_type": "code",
   "execution_count": 87,
   "id": "3cbd7f2f",
   "metadata": {
    "scrolled": true
   },
   "outputs": [
    {
     "data": {
      "text/plain": [
       "<AxesSubplot:xlabel='Artificial', ylabel='Stars'>"
      ]
     },
     "execution_count": 87,
     "metadata": {},
     "output_type": "execute_result"
    },
    {
     "data": {
      "image/png": "[encoded data removed]",
      "text/plain": [
       "<Figure size 432x288 with 1 Axes>"
      ]
     },
     "metadata": {
      "needs_background": "light"
     },
     "output_type": "display_data"
    }
   ],
   "source": [
    "sns.boxplot(eng.Artificial, eng.Stars)"
   ]
  },
  {
   "cell_type": "code",
   "execution_count": 88,
   "id": "2b5ec93e",
   "metadata": {},
   "outputs": [
    {
     "name": "stdout",
     "output_type": "stream",
     "text": [
      "Artificial is worse-rated ramen than the rest.\n",
      "            We reject the null hypothesis with 95% confidence.\n"
     ]
    }
   ],
   "source": [
    "### Hypothesis Testing ###\n",
    "alpha = .05\n",
    "t, p = stats.mannwhitneyu(eng[eng.Artificial == True].Stars, \n",
    "                          eng[eng.Artificial == False].Stars,\n",
    "                          alternative='less')\n",
    "\n",
    "if t > 0 and p < alpha:\n",
    "    print('Artificial is worse-rated ramen than the rest.\\n\\\n",
    "            We reject the null hypothesis with 95% confidence.')\n",
    "else:\n",
    "    print('Artificial is not worse-rated ramen than the rest.\\n\\\n",
    "            Results do not breach the 95% confidence threshold.')"
   ]
  },
  {
   "cell_type": "markdown",
   "id": "c671b58d",
   "metadata": {},
   "source": [
    "### Instant"
   ]
  },
  {
   "cell_type": "code",
   "execution_count": 89,
   "id": "d0c414cf",
   "metadata": {},
   "outputs": [
    {
     "data": {
      "text/html": [
       "<div>\n",
       "<style scoped>\n",
       "    .dataframe tbody tr th:only-of-type {\n",
       "        vertical-align: middle;\n",
       "    }\n",
       "\n",
       "    .dataframe tbody tr th {\n",
       "        vertical-align: top;\n",
       "    }\n",
       "\n",
       "    .dataframe thead th {\n",
       "        text-align: right;\n",
       "    }\n",
       "</style>\n",
       "<table border=\"1\" class=\"dataframe\">\n",
       "  <thead>\n",
       "    <tr style=\"text-align: right;\">\n",
       "      <th></th>\n",
       "      <th>Review #</th>\n",
       "      <th>Brand</th>\n",
       "      <th>Variety</th>\n",
       "      <th>Style</th>\n",
       "      <th>Country</th>\n",
       "      <th>Stars</th>\n",
       "      <th>Artificial</th>\n",
       "      <th>Instant</th>\n",
       "    </tr>\n",
       "  </thead>\n",
       "  <tbody>\n",
       "    <tr>\n",
       "      <th>1806</th>\n",
       "      <td>774</td>\n",
       "      <td>Indomie</td>\n",
       "      <td>Rasa Sup Sayuran Vegan</td>\n",
       "      <td>Pack</td>\n",
       "      <td>Indonesia</td>\n",
       "      <td>2.25</td>\n",
       "      <td>False</td>\n",
       "      <td>False</td>\n",
       "    </tr>\n",
       "    <tr>\n",
       "      <th>2243</th>\n",
       "      <td>337</td>\n",
       "      <td>Maruchan</td>\n",
       "      <td>Ramen Noodle Soup Creamy Chicken</td>\n",
       "      <td>Pack</td>\n",
       "      <td>USA</td>\n",
       "      <td>5.00</td>\n",
       "      <td>False</td>\n",
       "      <td>False</td>\n",
       "    </tr>\n",
       "    <tr>\n",
       "      <th>1748</th>\n",
       "      <td>832</td>\n",
       "      <td>Dragonfly</td>\n",
       "      <td>Mee Goreng Dry Ramen Noodles</td>\n",
       "      <td>Pack</td>\n",
       "      <td>China</td>\n",
       "      <td>3.75</td>\n",
       "      <td>False</td>\n",
       "      <td>False</td>\n",
       "    </tr>\n",
       "  </tbody>\n",
       "</table>\n",
       "</div>"
      ],
      "text/plain": [
       "     Review #      Brand                           Variety Style    Country  \\\n",
       "1806      774    Indomie            Rasa Sup Sayuran Vegan  Pack  Indonesia   \n",
       "2243      337   Maruchan  Ramen Noodle Soup Creamy Chicken  Pack        USA   \n",
       "1748      832  Dragonfly      Mee Goreng Dry Ramen Noodles  Pack      China   \n",
       "\n",
       "      Stars  Artificial  Instant  \n",
       "1806   2.25       False    False  \n",
       "2243   5.00       False    False  \n",
       "1748   3.75       False    False  "
      ]
     },
     "execution_count": 89,
     "metadata": {},
     "output_type": "execute_result"
    }
   ],
   "source": [
    "eng['Instant'] = df.Variety.str.contains('instant', case=False)\n",
    "eng.sample(3)"
   ]
  },
  {
   "cell_type": "code",
   "execution_count": 90,
   "id": "aaf8606c",
   "metadata": {},
   "outputs": [
    {
     "name": "stdout",
     "output_type": "stream",
     "text": [
      "Instant: 3.808267716535433\n",
      "Not-Instant: 3.7242826398852227\n"
     ]
    },
    {
     "data": {
      "image/png": "[encoded data removed]",
      "text/plain": [
       "<Figure size 432x288 with 1 Axes>"
      ]
     },
     "metadata": {
      "needs_background": "light"
     },
     "output_type": "display_data"
    }
   ],
   "source": [
    "print(\"Instant:\", eng[eng.Instant].Stars.mean())\n",
    "print(\"Not-Instant:\", eng[eng.Instant == False].Stars.mean())\n",
    "sns.boxplot(eng.Instant, eng.Stars)\n",
    "plt.show()"
   ]
  },
  {
   "cell_type": "code",
   "execution_count": 91,
   "id": "9a93806c",
   "metadata": {},
   "outputs": [
    {
     "name": "stdout",
     "output_type": "stream",
     "text": [
      "Instant is not better-rated ramen than the rest.\n",
      "            Results do not breach the 95% confidence threshold.\n"
     ]
    }
   ],
   "source": [
    "### Hypothesis Testing ###\n",
    "alpha = .05\n",
    "t, p = stats.mannwhitneyu(eng[eng.Instant == True].Stars, \n",
    "                          eng[eng.Instant == False].Stars,\n",
    "                          alternative='greater')\n",
    "\n",
    "if t > 0 and p < alpha:\n",
    "    print('Instant is better-rated ramen than the rest.\\n\\\n",
    "            We reject the null hypothesis with 95% confidence.')\n",
    "else:\n",
    "    print('Instant is not better-rated ramen than the rest.\\n\\\n",
    "            Results do not breach the 95% confidence threshold.')"
   ]
  },
  {
   "cell_type": "markdown",
   "id": "abaf99fb",
   "metadata": {},
   "source": [
    "### Flavor (suggesting artificial?)"
   ]
  },
  {
   "cell_type": "code",
   "execution_count": 92,
   "id": "a5de9f2e",
   "metadata": {},
   "outputs": [
    {
     "data": {
      "text/plain": [
       "array(['GGE Ramen Snack Tomato Flavor',\n",
       "       'Mr. Bibim Stir-Fried Kimchi Flavor',\n",
       "       'Deka Buto Kimchi Pork Flavor',\n",
       "       'Creamy Soup With Crushed Noodles Hot & Sour Fish Flavor',\n",
       "       'Signature Tom Yum Flavor Instant Noodles',\n",
       "       'Cup Noodles Very Veggie Spicy Chicken Flavor Ramen Noodle Soup',\n",
       "       'Cup Noodles Very Veggie Beef Flavor Ramen Noodle Soup',\n",
       "       'Cup Noodles Very Veggie Chicken Flavor Ramen Noodle Soup',\n",
       "       'Mushroom Flavor',\n",
       "       'Man Han Feast Spicy Beef Flavor Instant Noodles',\n",
       "       'Delight Chicken Flavor Instant Non-Fried Noodles',\n",
       "       'Creamy Soup With Crushed Noodles Chicken Flavor',\n",
       "       'Ppushu Ppushu Noodle Snack Chilli Cheese Flavor',\n",
       "       'Udon Japanese Style Noodles With Soup Base Hot & Sour Flavor',\n",
       "       'Signature Curry Flavor Instant Noodles',\n",
       "       'Creamy Soup With Crushed Noodles Sweet Corn Flavor',\n",
       "       'Silk Beef Pho Flavor Instant Rice Fettuccine',\n",
       "       'Delight Spicy Sesame Flavor Instant Non-Fried Noodles',\n",
       "       'Delight Spicy Black Pepper Flavor Instant Non-Fried Noodles',\n",
       "       'Purple Wheat Noodles Chili & Lime Flavor',\n",
       "       'Delight Tomato Flavor Instant Non-Fried Noodles',\n",
       "       'Seafood Flavor Instant Noodles',\n",
       "       'Signature Stir-Fry Original Flavor Instant Noodles',\n",
       "       'Creamy Soup Witrh Crushed Noodles Curry Flavor',\n",
       "       'Delight Laksa Singapura Flavor Instant Non-Fried Noodles',\n",
       "       'Signature Chicken Flavor Instant Noodles',\n",
       "       'Man Han Feast Super Hot Pot Beef Flavor Instant Noodles',\n",
       "       'Kung-Fu Instant Oriental Noodles Soup Artificial Onion Flavor',\n",
       "       'Cup Noodles Spicy Seafood Flavor',\n",
       "       'Yomise No Yakisoba Karashi Mentaiko Flavor',\n",
       "       'Sanukiya Udon Shrimp Flavor', 'Chicken Flavor Instant Noolde',\n",
       "       'Man Han Feast Chilli Beef Flavor Instant Noodles',\n",
       "       'Cup Noodles Beef Flavor Ramen Noodle Soup (New Recipe)',\n",
       "       'Cup Noodles Hot & Spicy Shrimp Flavor Ramen Noodle Soup (New Recipe)',\n",
       "       'Man Han Feast Braised Pork Flavor Instant Noodles',\n",
       "       'Noodle King Artificial Wonton Soup Flavored',\n",
       "       'Minced Pork Flavor Instant Noodles',\n",
       "       'Little Prince(ss) Brand Snack Noodles Artificial Mexican Pizza Flavor',\n",
       "       'Cup Noodles Spicy Lime Flavor Ramen Noodle Soup (New Recipe)',\n",
       "       'Instant Bowl Noodles Shrimp (Tom Yum) Flavor Base',\n",
       "       'Buldak Bokkummyun Cheese Flavor',\n",
       "       'Artificial Abalone Crab Flavor Instant Noodle',\n",
       "       'Noodle King Artificial Abalone And Chicken Soup Flavored',\n",
       "       'A Q Bucket Noodle Korean Kimchi Flavor',\n",
       "       'Cup Noodles Chicken Flavor Ramen Noodle Soup (New Recipe)',\n",
       "       'Ramen Noodle Soup Sriracha Chicken Flavor',\n",
       "       'Chow Mein Spicy Flavor',\n",
       "       'Bowl Taste Of Asia Hearty Pork Flavor Tonkotsu Ramen',\n",
       "       'Bowl Noodle Soup Independence Day Limited Edition Spicy Chicken Flavor',\n",
       "       'Ramen Noodle soup Mushroom Flavor',\n",
       "       'Instant Noodle Artificial Beef Flavor 7 sour Pickled Cabbage',\n",
       "       'Chow Mein Original Flavor',\n",
       "       'Artificial Mushroom Chicken Flavor Instant Noodle',\n",
       "       'Chow Mein Oyster Sauce BBQ Flavor',\n",
       "       'Instant Lunch Pork Flavor Ramen Noodles With Vegetables',\n",
       "       'Bowl Taste Of Asia Miso Chicken Flavor Spicy Miso Ramen',\n",
       "       'Instant Lunch Chipotle Chicken Flavor Ramen Noodle Soup',\n",
       "       'Ramen Noodle Soup Chicken Tortilla Flavor',\n",
       "       'Kimchi Flavor Noodle Soup',\n",
       "       'Champong Noodle Soup Spicy Seafood Flavor',\n",
       "       'Bowl Taste Of Asia Beef Flavor Sukiyaki Ramen',\n",
       "       'Instant Lunch Sriracha Chicken Flavor Ramen Noodle Soup',\n",
       "       'Noodle King Artificial Beef Soup Flavored',\n",
       "       'Charumera Atyificial Tonkotsu Shouyu Flavor',\n",
       "       'Raoh Rich Miso Flavor',\n",
       "       'Top Ramen Chicken Flavor Ramen Noodle Soup (New Packaging)',\n",
       "       'Raoh Ramen Noodle Soup Umami Soy Sauce Flavor',\n",
       "       'Kung-Fu Brand Instant Oriental Noodle Soup Artificial Beef Flavor',\n",
       "       'Cup Noodles Ramen Noodle Soup Hearty Chicken Flavor [New Package]',\n",
       "       'Bowl Noodles Hot & Spicy Chicken Flavor Less Sodium Ramen Noodle Soup',\n",
       "       'Cup Noodles Ramen Noodle Soup Chicken Flavor [New Package]',\n",
       "       'Tonkotsu Ramen Artificially Flavored Tonkotsu White Chicken Broth',\n",
       "       'Raoh Ramen Noodle Soup Umami Tonkotsu Flavor',\n",
       "       'Broad Noodle Pickled Vegetable Artificial Beef Flavor',\n",
       "       'Udon Japanese Style Precooked Noodles With Soup Hot & Spicy Flavor',\n",
       "       'Raoh Ramen Noodle Soup Umami Miso Flavor',\n",
       "       'Chow Mein Savory Sauce And Restayrant Quality Noodles Roast Chicken Flavor ',\n",
       "       'Udon Japanese Style Pre-Cooked Noodles With Soup Beef Flavor',\n",
       "       'Asian Style Instant Noodles Artificial Beef Flavor',\n",
       "       'Cup Noodles Ramen Noodles Ramen Noodle Soup Beef Flavor (New Package) ',\n",
       "       'Chow Mein Premium Savory Sauce And Restaurant Quality Noodles Sriracha Flavor',\n",
       "       'Udon Japanese Style Pre-Cooked Noodles With Soup Chicken Flavor',\n",
       "       'BBQ Pork Flavor Chow Mein', 'Instant Noodles Minced Pork Flavor',\n",
       "       'Instant Lunch Chicken Tortilla Flavor Ramen Noodles With Vegetables',\n",
       "       'Instant Cup Noodles Minced Prok Flavor',\n",
       "       'Shin Black Spicy Po-Au-Feu Flavor (Mew Edition)',\n",
       "       'Aloe Thin Noodles With Camelia Oil Vegetable Sauce Flavor',\n",
       "       'Oriental Noodles Prawn Flavor',\n",
       "       'Non-Fried Instant Noodles Ramen Tonkotsu Flavor',\n",
       "       'Ho Fan Wonton Soup Flavored',\n",
       "       'Artificial Pickled Vegetable Beef Flavor',\n",
       "       'Sesame Flavor Ramen Korean Style Instant Noodle',\n",
       "       'Aloe This Noodles With Camellia Oil Spicy Bean Sauce Flavor',\n",
       "       'Supreme Seafood Flavor Big Cup',\n",
       "       'Mikochi Tom Yum Flavor Instant Noodles',\n",
       "       'Original Chow Mein Premium Spicy Chicken Flavor',\n",
       "       'Artificial Seafood Flavor Instant Noodle',\n",
       "       'Big Cup Ramen Corn, Salt & Butter Flavor',\n",
       "       'Purple Wheat Noodles Soy & Vinegar Flavor',\n",
       "       'Spicy Beef Flavor Instant Noodle',\n",
       "       'Oat Noodle Tomato Soup Flavored', 'Oat Noodle Pork Rib Flavored',\n",
       "       'Special Instant Noodles Jjamppong Flavor',\n",
       "       'Special Instant sopas Chicken Flavor',\n",
       "       'Stewed Beef Flavor Cooking Noodle',\n",
       "       'Bowl Noodle Soup Shrimp Habanero Lime Flavor',\n",
       "       'Artificial Pork Flavor Noodles',\n",
       "       'Sogokimyun Hot Flavor Noodle Soup',\n",
       "       'Easy Fideos Picante Lime Shrimp Flavor Ramen Noodle Soup',\n",
       "       'Mianba Pork Ribs Flavor Instant Noodles',\n",
       "       'Magomi-an Kitsune Udon (Eastern Japan Flavor)',\n",
       "       \"I Want To Eat Ramen' Shoyu Flavor\",\n",
       "       'Cup Noodles Easy Fideos Tomato Chicken Flavor Ramen Noodle Soup',\n",
       "       'Instant Lunch Jalapeno Cheddar Flavor Ramen Noodles',\n",
       "       'Souper Meal Chili Picante Chicken With Lime Flavor Ramen Noodle Soup',\n",
       "       'Dried Noodle With Beef Flavor Sauce',\n",
       "       'Pan Asian Kitchen Spicy Szechuan Chicken Flavor Ramen Noodles',\n",
       "       'Ppushu Ppushu Grilled Chicken Flavor',\n",
       "       'Oat Noodle Abalone Flavored',\n",
       "       'Yomise No Yakisoba Shiodare Flavor With Black Pepper Mayonnaise',\n",
       "       'Steam Seafood Flavor Ramen', 'Instant Noodle King Won Ton Flavor',\n",
       "       'Oriental Style Instant Noodle Mi Ga Chicken Flavor',\n",
       "       'Hello Kitty La Wei (Spicy Flavor)',\n",
       "       'Unif-100 Instant Noodles Artificial Tart Beef Flavor',\n",
       "       'Little Prince Brand Snack Noodles Original Flavor',\n",
       "       'I Want To Eat Ramen Miso Flavor',\n",
       "       'Instant Noodle Original Flavor',\n",
       "       'Ramen With Pickled Mustard Flavor', 'Steam Mushroom Flavor Ramen',\n",
       "       'Supreme Chow Mein Seafood Flavor Instant Stir-Fried Noodles',\n",
       "       'Ppushu Ppushu Noodle Snack Bulgogi Flavor',\n",
       "       'Mì Gà Tìm Chua Cay Hot & Sour Chicken Flavor Instant Noodles',\n",
       "       'Ramen With Stewed Pork Flavor', 'Shiitake Flavor Spinach Ramen',\n",
       "       'Chow Mein Teriyaki Chicken Flavor Chow Mein Noodles',\n",
       "       'I Want To Eat Ramen Pork Tonkotsu Flavor',\n",
       "       'Ramen House Chicken Vegetable Flavored Ramen',\n",
       "       'Unif-100 Pickled Cayenne Flavor Beef Ramen',\n",
       "       'Donbei Kansai Soy Sauce Flavor Udon',\n",
       "       'Big Kari Perencah (Big Curry Flavor) 2 Minute Noodles',\n",
       "       'Demae Ramen Miso Tonkotsu Artificial Pork Flavor Ramen Noodle',\n",
       "       'Instant Noodle Shallot Flavor',\n",
       "       'Artificial Braised Beef Flavor Instant Noodle',\n",
       "       'Pan Asian Kitchen Sweet & Sour Chicken Flavor Ramen Noodles',\n",
       "       'Ho Fan Beef Soup Flavored', 'Bowl Noodles Chicken Flavor',\n",
       "       'Ramen With Simmered Pork Flavor',\n",
       "       'What’s That? Leisure Meatballs Spicy Chicken Flavor',\n",
       "       'Shin Black Spicy Pot-au-feu Flavor Premium Noodle Soup',\n",
       "       'Man Han Feast Sichuan Chilli Eel Flavor',\n",
       "       'Spicy Flavor Tomato Ramen', 'Fatafat Vegetable Flavor',\n",
       "       'Krrish Instant Noodles Chicken Flavor',\n",
       "       'Miteri Instant Noodles Vegetable Flavor',\n",
       "       'Fatafat Chicken Flavor',\n",
       "       'Krrish Instant Noodles Vegetable Curry Flavor',\n",
       "       'Miteri Instant Noodles Chicken Flavor',\n",
       "       'E-Men Noodles Abalone Soup Flavor',\n",
       "       'What’s That? Leisure Meatballs Chicken Flavor',\n",
       "       'Big Cup Noodles Habanero Lime Shrimp Flavor Ramen Noodle Soup',\n",
       "       'Japanese Style Noodles Shio Flavor',\n",
       "       'Oat Noodle Sesame Oil Flavored',\n",
       "       'Selera Pedas Mi Rebus Hot Gulai Flavor',\n",
       "       'Pan Asian Kitchen Sukiyaki Beef Flavor Savory Soy Sauce Ramen Noodles',\n",
       "       'Ippei-chan Yomise No Yakisoba Teriyaki Mayo Flavor',\n",
       "       'Bowl Beef Simulated Flavor',\n",
       "       'Bowl Hot & Spicy Shrimp Flavor Ramen Noodles With Vegetables',\n",
       "       'Spicy Sichuan Flavor Instant Noodle',\n",
       "       'Beef Flavor Ramyun (SK Version)',\n",
       "       'Big Cup Noodles Habanero Lime Chicken Flavor Ramen Noodle Soup',\n",
       "       'Bowl Hot & Spicy Chicken Flavor Ramen Noodles With Vegetables',\n",
       "       'Sesame Flavor Noodle Bowl', 'ДОШИРАК (Dosirac) Beef Flavor',\n",
       "       'Yakisoba Beef Taco Flavor', 'Bowl Chicken Flavor',\n",
       "       'Raoh Backfat Rich Soy Sauce Flavor',\n",
       "       'Bowl Noodle Soup Spicy Seafood Flavor (New Version)',\n",
       "       'Sour Soup Flavor', 'Tempura Udon Flavor Cup Ramyun',\n",
       "       'Original Flavor', 'Bowl Noodle Shrimp Flavor',\n",
       "       'Selera Pedas Hot Tomato Soup Flavor',\n",
       "       'Mushroom Flavor Ramen Noodles',\n",
       "       'Tonkotsu-Shoyu Rich Pork Flavor\\xa0Ramen',\n",
       "       'Kung Fu Artificial Pork Flavor',\n",
       "       'Artificial Onion Flavor Bean Thread', 'Shrimp Tom Yum Flavor',\n",
       "       'Chicken Flavor', 'Mi Hai Cua Crab Flavor', 'Beef Flavorc',\n",
       "       'Artificial Beef Flavor', 'Instant Lunch Lime Flavor with Shrimp',\n",
       "       'Cup Shrimp Tom Yum Flavor', 'South Korean Noodle Kimchi Flavor',\n",
       "       'Instant Lunch Roast Chicken Flavor',\n",
       "       'Souper Meal Beef Flavor Minestrone', 'Beef Flavor',\n",
       "       'Chukazanmai Served Cool Sesame Flavored Rice Vinegar Sesame',\n",
       "       'Soy Flavor Noodle', 'Hyobanya No Yakisoba Sauce Flavor',\n",
       "       'Japanese Seafood Flavor Udon', 'Shrimp Flavor',\n",
       "       'Vegetarian Flavor', 'Onion Flavor', 'Demae Ramen Spicy Flavor',\n",
       "       'Meatball Flavor',\n",
       "       'Souper Meal Chicken Flavor With Vegetable Medley',\n",
       "       'Chinese Noodles Lemon Chicken Flavor', 'Kung-Fu Chicken Flavor',\n",
       "       'Supreme Bulalo Flavor', 'Pancit Canton Citrus Flavor',\n",
       "       'Pancit Canton Hot Chili Flavor', 'Demae Ramen Curry Flavor',\n",
       "       'Tom Yum Chili Flavor'], dtype=object)"
      ]
     },
     "execution_count": 92,
     "metadata": {},
     "output_type": "execute_result"
    }
   ],
   "source": [
    "eng[eng.Variety.str.contains('flavor', case=False)].Variety.unique()"
   ]
  },
  {
   "cell_type": "markdown",
   "id": "5c203ecf",
   "metadata": {},
   "source": [
    "Flavors:\n",
    "- Tomato iii / Tomato Chicken i / Spicy Flavor Tomato i / Hot Tomato i\n",
    "- Stir-Fried Kimchi ii\n",
    "- Kimchi iii\n",
    "- Stir Fry ii\n",
    "- Chicken iiiiiiiiiiiiiiiiiiiiii / Spicy Chicken iii / Hot and Spicy Chicken ii / Hot and Sour Chicken i / Sweet and Sour Chicken i / Abalone and Chicken i / Sriracha Chicken ii / Mushroom Chicken i / Miso Chicken i / Chipotle Chicken i / Chicken Tortilla ii / Roast Chicken ii / Spicy Szechuan Chicken i / Grilled Chicken i / Chicken Vegetable i / Habanero Lime Chicken i / Lemon Chicken i\n",
    "- Kimchi Pork ii / Braised Pork i / Minced Pork ii (mispelled Prok) i / Pork iiii / Stewed Pork i / BBQ Pork i / Pork Rib ii / Simmered Pork i / Tonkotsu/Shoyu Rich Pork\n",
    "- Beef iiiiiiiiiiiiiiiiiii / Spicy Beef ii / Beef Pho i / Stewed Beef i / Pickled Vegetable Beef i / Tart Beef i / Braised Beef i / Sukiyaki Beef Flavor Savory Soy Sauce i / Beef Taco i / Beef Flavor Minestrone i\n",
    "- Hot & Sour i\n",
    "- Sour i\n",
    "- Hot & Spicy i / Spicy Sichuan i\n",
    "- Hot i\n",
    "- Spicy i\n",
    "- Spicy Po-Au-Feu ii\n",
    "- Sriracha i\n",
    "- Hot & Sour Fish i / Seafood iiii / Spicy Seafood iii / Seafood Flavor Udon i\n",
    "- Shallot i\n",
    "- Shrimp iii / Hot and Spicy Shrimp ii / Shrimp (Tom Yum) i (Shrimp Tom Yum) ii / Shrimp Habanero Lime i (Habanero Lime Shrimp) i / Picante Lime Shrimp i / Lime Flavor with Shrimp\n",
    "- Prawn i\n",
    "- Abalone Crab i\n",
    "- Mushroom iiii\n",
    "- Cheese ii / Jalapeno Cheddar i\n",
    "- Pickled Mustard i\n",
    "- Teriyaki Mayo i\n",
    "- Sweet and Sour i\n",
    "- Non-Fried i\n",
    "- Chilli Cheese (mispelled) i / Chili & Lime i / Chilli Beef (mispelled) i / Sichuan Chilli Eel i / Hot Chili / Tom Yum Chili i\n",
    "- Curry iiiii / Vegetable Curry i\n",
    "- Sweet Corn i / Corn, Salt & Butter i\n",
    "- Sesame ii / Spicy Sesame i / Sesame Oil i / Rice Vinegar Sesame i\n",
    "- Spicy Black Pepper i\n",
    "- Tom Yum ii\n",
    "- Singapura i\n",
    "- Onion iii\n",
    "- Karashi Mentaiko i\n",
    "- Tonkotsu i / Pork Tonkotsu / Umami Tonkotsu i / Tonkotsu Shouyu i / Shoyu i\n",
    "- Jjamppong i\n",
    "- Shiodare i\n",
    "- Bulgogi i\n",
    "- Shiitake Flavor Spinach i\n",
    "- La Wei (Spicy i\n",
    "- Wonton i / Wonton Soup i\n",
    "- Shio i\n",
    "- Hot Gulai i\n",
    "- Mexican Pizza i\n",
    "- Spicy Lime i\n",
    "- Chow Mein i / Chow Mein Spicy i / Chow Mein Premium Spicy Chicken i / Chow Mein Oyster Sauce BBQ i / Chow Mein Seafood i / Chow Mein Teriyaki Chicken i\n",
    "- Miso ii\n",
    "- Umami Miso i / Umami Soy Sauce i\n",
    "- Soy i / Soy Sauce i / Soy Sauce Flavor Udon i\n",
    "- Udon i\n",
    "- Camelia Oil Vegetable Sauce i / Camellia Oil Spicy Bean Sauce i\n",
    "- Soy & Vinegar i\n",
    "- Chili Picante Chicken With Lime Flavor i\n",
    "- Abalone ii\n",
    "- Bulalo i\n",
    "- Pickled Cayenne i\n",
    "- Vegetable ii / Vegetarian i\n",
    "- Crab i\n",
    "- Citrus i\n",
    "- Original iii\n",
    "\n",
    "Extra notes:\n",
    "- with Vegetable / Vegetables iiii\n",
    "- having Lime\n",
    "- Sodium (having less)\n",
    "- Simulated is used, add to Artificial\n",
    "- is Tonkotsu\n",
    "- is Shouyu / Shoyu\n",
    "- is Miso\n",
    "- is Abalone\n",
    "- has Soy\n",
    "- Tom Yum\n",
    "- Meatball (a few with this characteristic)\n",
    "\n",
    "Ideas:\n",
    "- Traditional ramen flavors have better ratings than non-traditional flavors\n",
    "- Meats v Vegetables/other\n",
    "- Location-based (like Sichuan)"
   ]
  },
  {
   "cell_type": "markdown",
   "id": "7b2b762a",
   "metadata": {},
   "source": [
    "#### Potential Features from Flavor:\n",
    "- Chicken (48); Beef (30); Pork (16); Shrimp (12); Fish/Seafood (10); Chow Mein (6);\n",
    "- Chili/Chilli (7); Curry (6); Kimchi (5); Stir-Fry (4);\n",
    "- Tom Yum (6); Tonkotsu (5); Miso (4); Wonton (2); Jjamppong (1); Shiodare (1); Bulgogi (1); Bulalo (1);\n",
    "- Tomato (6); Mushroom (5); Sesame (5); Onion (3); Shiitake (1);\n",
    "- Spicy (26); Hot (12); Soy (6); Sour (6); Sweet (2); Umami [savory] (2);\n",
    "- Sriracha (3); \n",
    "- Abalone (4);\n",
    "- Vegetable (11);\n",
    "- has_Lime (8);\n",
    "\n",
    "### Chicken"
   ]
  },
  {
   "cell_type": "code",
   "execution_count": 93,
   "id": "677a5bf6",
   "metadata": {},
   "outputs": [
    {
     "data": {
      "text/html": [
       "<div>\n",
       "<style scoped>\n",
       "    .dataframe tbody tr th:only-of-type {\n",
       "        vertical-align: middle;\n",
       "    }\n",
       "\n",
       "    .dataframe tbody tr th {\n",
       "        vertical-align: top;\n",
       "    }\n",
       "\n",
       "    .dataframe thead th {\n",
       "        text-align: right;\n",
       "    }\n",
       "</style>\n",
       "<table border=\"1\" class=\"dataframe\">\n",
       "  <thead>\n",
       "    <tr style=\"text-align: right;\">\n",
       "      <th></th>\n",
       "      <th>Review #</th>\n",
       "      <th>Brand</th>\n",
       "      <th>Variety</th>\n",
       "      <th>Style</th>\n",
       "      <th>Country</th>\n",
       "      <th>Stars</th>\n",
       "      <th>Artificial</th>\n",
       "      <th>Instant</th>\n",
       "      <th>Chicken</th>\n",
       "    </tr>\n",
       "  </thead>\n",
       "  <tbody>\n",
       "    <tr>\n",
       "      <th>2</th>\n",
       "      <td>2578</td>\n",
       "      <td>Nissin</td>\n",
       "      <td>Cup Noodles Chicken Vegetable</td>\n",
       "      <td>Cup</td>\n",
       "      <td>USA</td>\n",
       "      <td>2.25</td>\n",
       "      <td>False</td>\n",
       "      <td>False</td>\n",
       "      <td>True</td>\n",
       "    </tr>\n",
       "    <tr>\n",
       "      <th>3</th>\n",
       "      <td>2577</td>\n",
       "      <td>Wei Lih</td>\n",
       "      <td>GGE Ramen Snack Tomato Flavor</td>\n",
       "      <td>Pack</td>\n",
       "      <td>Taiwan</td>\n",
       "      <td>2.75</td>\n",
       "      <td>False</td>\n",
       "      <td>False</td>\n",
       "      <td>False</td>\n",
       "    </tr>\n",
       "  </tbody>\n",
       "</table>\n",
       "</div>"
      ],
      "text/plain": [
       "  Review #    Brand                        Variety Style Country  Stars  \\\n",
       "2     2578   Nissin  Cup Noodles Chicken Vegetable   Cup     USA   2.25   \n",
       "3     2577  Wei Lih  GGE Ramen Snack Tomato Flavor  Pack  Taiwan   2.75   \n",
       "\n",
       "   Artificial  Instant  Chicken  \n",
       "2       False    False     True  \n",
       "3       False    False    False  "
      ]
     },
     "execution_count": 93,
     "metadata": {},
     "output_type": "execute_result"
    }
   ],
   "source": [
    "eng['Chicken'] = eng.Variety.str.contains('chicken', case=False)\n",
    "eng.head(2)"
   ]
  },
  {
   "cell_type": "code",
   "execution_count": 94,
   "id": "09c85db4",
   "metadata": {},
   "outputs": [
    {
     "data": {
      "text/plain": [
       "<AxesSubplot:xlabel='Chicken', ylabel='Stars'>"
      ]
     },
     "execution_count": 94,
     "metadata": {},
     "output_type": "execute_result"
    },
    {
     "data": {
      "image/png": "[encoded data removed]",
      "text/plain": [
       "<Figure size 432x288 with 1 Axes>"
      ]
     },
     "metadata": {
      "needs_background": "light"
     },
     "output_type": "display_data"
    }
   ],
   "source": [
    "sns.boxplot(eng.Chicken, eng.Stars)"
   ]
  },
  {
   "cell_type": "code",
   "execution_count": 95,
   "id": "6ea5284f",
   "metadata": {},
   "outputs": [
    {
     "name": "stdout",
     "output_type": "stream",
     "text": [
      "Chicken is worse-rated ramen than the rest.\n",
      "            We reject the null hypothesis with 95% confidence.\n"
     ]
    }
   ],
   "source": [
    "### Hypothesis Testing ###\n",
    "alpha = .05\n",
    "t, p = stats.mannwhitneyu(eng[eng.Chicken == True].Stars, \n",
    "                          eng[eng.Chicken == False].Stars,\n",
    "                          alternative='less')\n",
    "\n",
    "if t > 0 and p < alpha:\n",
    "    print('Chicken is worse-rated ramen than the rest.\\n\\\n",
    "            We reject the null hypothesis with 95% confidence.')\n",
    "else:\n",
    "    print('Chicken is not worse-rated ramen than the rest.\\n\\\n",
    "            Results do not breach the 95% confidence threshold.')"
   ]
  },
  {
   "cell_type": "markdown",
   "id": "6d2809f7",
   "metadata": {},
   "source": [
    "### Beef"
   ]
  },
  {
   "cell_type": "code",
   "execution_count": 96,
   "id": "cf483189",
   "metadata": {},
   "outputs": [
    {
     "data": {
      "text/html": [
       "<div>\n",
       "<style scoped>\n",
       "    .dataframe tbody tr th:only-of-type {\n",
       "        vertical-align: middle;\n",
       "    }\n",
       "\n",
       "    .dataframe tbody tr th {\n",
       "        vertical-align: top;\n",
       "    }\n",
       "\n",
       "    .dataframe thead th {\n",
       "        text-align: right;\n",
       "    }\n",
       "</style>\n",
       "<table border=\"1\" class=\"dataframe\">\n",
       "  <thead>\n",
       "    <tr style=\"text-align: right;\">\n",
       "      <th></th>\n",
       "      <th>Review #</th>\n",
       "      <th>Brand</th>\n",
       "      <th>Variety</th>\n",
       "      <th>Style</th>\n",
       "      <th>Country</th>\n",
       "      <th>Stars</th>\n",
       "      <th>Artificial</th>\n",
       "      <th>Instant</th>\n",
       "      <th>Chicken</th>\n",
       "      <th>Beef</th>\n",
       "    </tr>\n",
       "  </thead>\n",
       "  <tbody>\n",
       "    <tr>\n",
       "      <th>2</th>\n",
       "      <td>2578</td>\n",
       "      <td>Nissin</td>\n",
       "      <td>Cup Noodles Chicken Vegetable</td>\n",
       "      <td>Cup</td>\n",
       "      <td>USA</td>\n",
       "      <td>2.25</td>\n",
       "      <td>False</td>\n",
       "      <td>False</td>\n",
       "      <td>True</td>\n",
       "      <td>False</td>\n",
       "    </tr>\n",
       "    <tr>\n",
       "      <th>3</th>\n",
       "      <td>2577</td>\n",
       "      <td>Wei Lih</td>\n",
       "      <td>GGE Ramen Snack Tomato Flavor</td>\n",
       "      <td>Pack</td>\n",
       "      <td>Taiwan</td>\n",
       "      <td>2.75</td>\n",
       "      <td>False</td>\n",
       "      <td>False</td>\n",
       "      <td>False</td>\n",
       "      <td>False</td>\n",
       "    </tr>\n",
       "  </tbody>\n",
       "</table>\n",
       "</div>"
      ],
      "text/plain": [
       "  Review #    Brand                        Variety Style Country  Stars  \\\n",
       "2     2578   Nissin  Cup Noodles Chicken Vegetable   Cup     USA   2.25   \n",
       "3     2577  Wei Lih  GGE Ramen Snack Tomato Flavor  Pack  Taiwan   2.75   \n",
       "\n",
       "   Artificial  Instant  Chicken   Beef  \n",
       "2       False    False     True  False  \n",
       "3       False    False    False  False  "
      ]
     },
     "execution_count": 96,
     "metadata": {},
     "output_type": "execute_result"
    }
   ],
   "source": [
    "eng['Beef'] = eng.Variety.str.contains('beef', case=False)\n",
    "eng.head(2)"
   ]
  },
  {
   "cell_type": "code",
   "execution_count": 97,
   "id": "83de0448",
   "metadata": {},
   "outputs": [
    {
     "data": {
      "text/plain": [
       "<AxesSubplot:xlabel='Beef', ylabel='Stars'>"
      ]
     },
     "execution_count": 97,
     "metadata": {},
     "output_type": "execute_result"
    },
    {
     "data": {
      "image/png": "[encoded data removed]",
      "text/plain": [
       "<Figure size 432x288 with 1 Axes>"
      ]
     },
     "metadata": {
      "needs_background": "light"
     },
     "output_type": "display_data"
    }
   ],
   "source": [
    "sns.boxplot(eng.Beef, eng.Stars)"
   ]
  },
  {
   "cell_type": "code",
   "execution_count": 98,
   "id": "cd26fad4",
   "metadata": {},
   "outputs": [
    {
     "name": "stdout",
     "output_type": "stream",
     "text": [
      "Beef is worse-rated ramen than the rest.\n",
      "            We reject the null hypothesis with 95% confidence.\n"
     ]
    }
   ],
   "source": [
    "### Hypothesis Testing ###\n",
    "alpha = .05\n",
    "t, p = stats.mannwhitneyu(eng[eng.Beef == True].Stars, \n",
    "                          eng[eng.Beef == False].Stars,\n",
    "                          alternative='less')\n",
    "\n",
    "if t > 0 and p < alpha:\n",
    "    print('Beef is worse-rated ramen than the rest.\\n\\\n",
    "            We reject the null hypothesis with 95% confidence.')\n",
    "else:\n",
    "    print('Beef is not worse-rated ramen than the rest.\\n\\\n",
    "            Results do not breach the 95% confidence threshold.')"
   ]
  },
  {
   "cell_type": "markdown",
   "id": "ce62a699",
   "metadata": {},
   "source": [
    "### Shrimp"
   ]
  },
  {
   "cell_type": "code",
   "execution_count": 99,
   "id": "8e3d72ca",
   "metadata": {},
   "outputs": [
    {
     "data": {
      "text/html": [
       "<div>\n",
       "<style scoped>\n",
       "    .dataframe tbody tr th:only-of-type {\n",
       "        vertical-align: middle;\n",
       "    }\n",
       "\n",
       "    .dataframe tbody tr th {\n",
       "        vertical-align: top;\n",
       "    }\n",
       "\n",
       "    .dataframe thead th {\n",
       "        text-align: right;\n",
       "    }\n",
       "</style>\n",
       "<table border=\"1\" class=\"dataframe\">\n",
       "  <thead>\n",
       "    <tr style=\"text-align: right;\">\n",
       "      <th></th>\n",
       "      <th>Review #</th>\n",
       "      <th>Brand</th>\n",
       "      <th>Variety</th>\n",
       "      <th>Style</th>\n",
       "      <th>Country</th>\n",
       "      <th>Stars</th>\n",
       "      <th>Artificial</th>\n",
       "      <th>Instant</th>\n",
       "      <th>Chicken</th>\n",
       "      <th>Beef</th>\n",
       "      <th>Shrimp</th>\n",
       "    </tr>\n",
       "  </thead>\n",
       "  <tbody>\n",
       "    <tr>\n",
       "      <th>2</th>\n",
       "      <td>2578</td>\n",
       "      <td>Nissin</td>\n",
       "      <td>Cup Noodles Chicken Vegetable</td>\n",
       "      <td>Cup</td>\n",
       "      <td>USA</td>\n",
       "      <td>2.25</td>\n",
       "      <td>False</td>\n",
       "      <td>False</td>\n",
       "      <td>True</td>\n",
       "      <td>False</td>\n",
       "      <td>False</td>\n",
       "    </tr>\n",
       "    <tr>\n",
       "      <th>3</th>\n",
       "      <td>2577</td>\n",
       "      <td>Wei Lih</td>\n",
       "      <td>GGE Ramen Snack Tomato Flavor</td>\n",
       "      <td>Pack</td>\n",
       "      <td>Taiwan</td>\n",
       "      <td>2.75</td>\n",
       "      <td>False</td>\n",
       "      <td>False</td>\n",
       "      <td>False</td>\n",
       "      <td>False</td>\n",
       "      <td>False</td>\n",
       "    </tr>\n",
       "  </tbody>\n",
       "</table>\n",
       "</div>"
      ],
      "text/plain": [
       "  Review #    Brand                        Variety Style Country  Stars  \\\n",
       "2     2578   Nissin  Cup Noodles Chicken Vegetable   Cup     USA   2.25   \n",
       "3     2577  Wei Lih  GGE Ramen Snack Tomato Flavor  Pack  Taiwan   2.75   \n",
       "\n",
       "   Artificial  Instant  Chicken   Beef  Shrimp  \n",
       "2       False    False     True  False   False  \n",
       "3       False    False    False  False   False  "
      ]
     },
     "execution_count": 99,
     "metadata": {},
     "output_type": "execute_result"
    }
   ],
   "source": [
    "eng['Shrimp'] = eng.Variety.str.contains('shrimp', case=False)\n",
    "eng.head(2)"
   ]
  },
  {
   "cell_type": "code",
   "execution_count": 100,
   "id": "7c3c2b95",
   "metadata": {},
   "outputs": [
    {
     "data": {
      "text/plain": [
       "<AxesSubplot:xlabel='Shrimp', ylabel='Stars'>"
      ]
     },
     "execution_count": 100,
     "metadata": {},
     "output_type": "execute_result"
    },
    {
     "data": {
      "image/png": "[encoded data removed]",
      "text/plain": [
       "<Figure size 432x288 with 1 Axes>"
      ]
     },
     "metadata": {
      "needs_background": "light"
     },
     "output_type": "display_data"
    }
   ],
   "source": [
    "sns.boxplot(eng.Shrimp, eng.Stars)"
   ]
  },
  {
   "cell_type": "code",
   "execution_count": 101,
   "id": "433b6b89",
   "metadata": {},
   "outputs": [
    {
     "name": "stdout",
     "output_type": "stream",
     "text": [
      "Shrimp is worse-rated ramen than the rest.\n",
      "            We reject the null hypothesis with 95% confidence.\n"
     ]
    }
   ],
   "source": [
    "### Hypothesis Testing ###\n",
    "alpha = .05\n",
    "t, p = stats.mannwhitneyu(eng[eng.Shrimp == True].Stars, \n",
    "                          eng[eng.Shrimp == False].Stars,\n",
    "                          alternative='less')\n",
    "\n",
    "if t > 0 and p < alpha:\n",
    "    print('Shrimp is worse-rated ramen than the rest.\\n\\\n",
    "            We reject the null hypothesis with 95% confidence.')\n",
    "else:\n",
    "    print('Shrimp is not worse-rated ramen than the rest.\\n\\\n",
    "            Results do not breach the 95% confidence threshold.')"
   ]
  },
  {
   "cell_type": "markdown",
   "id": "7087656b",
   "metadata": {},
   "source": [
    "### Seafood"
   ]
  },
  {
   "cell_type": "code",
   "execution_count": 102,
   "id": "d35dd5b8",
   "metadata": {},
   "outputs": [
    {
     "data": {
      "text/html": [
       "<div>\n",
       "<style scoped>\n",
       "    .dataframe tbody tr th:only-of-type {\n",
       "        vertical-align: middle;\n",
       "    }\n",
       "\n",
       "    .dataframe tbody tr th {\n",
       "        vertical-align: top;\n",
       "    }\n",
       "\n",
       "    .dataframe thead th {\n",
       "        text-align: right;\n",
       "    }\n",
       "</style>\n",
       "<table border=\"1\" class=\"dataframe\">\n",
       "  <thead>\n",
       "    <tr style=\"text-align: right;\">\n",
       "      <th></th>\n",
       "      <th>Review #</th>\n",
       "      <th>Brand</th>\n",
       "      <th>Variety</th>\n",
       "      <th>Style</th>\n",
       "      <th>Country</th>\n",
       "      <th>Stars</th>\n",
       "      <th>Artificial</th>\n",
       "      <th>Instant</th>\n",
       "      <th>Chicken</th>\n",
       "      <th>Beef</th>\n",
       "      <th>Shrimp</th>\n",
       "      <th>Seafood</th>\n",
       "    </tr>\n",
       "  </thead>\n",
       "  <tbody>\n",
       "    <tr>\n",
       "      <th>2</th>\n",
       "      <td>2578</td>\n",
       "      <td>Nissin</td>\n",
       "      <td>Cup Noodles Chicken Vegetable</td>\n",
       "      <td>Cup</td>\n",
       "      <td>USA</td>\n",
       "      <td>2.25</td>\n",
       "      <td>False</td>\n",
       "      <td>False</td>\n",
       "      <td>True</td>\n",
       "      <td>False</td>\n",
       "      <td>False</td>\n",
       "      <td>False</td>\n",
       "    </tr>\n",
       "    <tr>\n",
       "      <th>3</th>\n",
       "      <td>2577</td>\n",
       "      <td>Wei Lih</td>\n",
       "      <td>GGE Ramen Snack Tomato Flavor</td>\n",
       "      <td>Pack</td>\n",
       "      <td>Taiwan</td>\n",
       "      <td>2.75</td>\n",
       "      <td>False</td>\n",
       "      <td>False</td>\n",
       "      <td>False</td>\n",
       "      <td>False</td>\n",
       "      <td>False</td>\n",
       "      <td>False</td>\n",
       "    </tr>\n",
       "  </tbody>\n",
       "</table>\n",
       "</div>"
      ],
      "text/plain": [
       "  Review #    Brand                        Variety Style Country  Stars  \\\n",
       "2     2578   Nissin  Cup Noodles Chicken Vegetable   Cup     USA   2.25   \n",
       "3     2577  Wei Lih  GGE Ramen Snack Tomato Flavor  Pack  Taiwan   2.75   \n",
       "\n",
       "   Artificial  Instant  Chicken   Beef  Shrimp  Seafood  \n",
       "2       False    False     True  False   False    False  \n",
       "3       False    False    False  False   False    False  "
      ]
     },
     "execution_count": 102,
     "metadata": {},
     "output_type": "execute_result"
    }
   ],
   "source": [
    "eng['Seafood'] = eng.Variety.str.contains('fish', case=False) | eng.Variety.str.contains('seafood', case=False)\n",
    "eng.head(2)"
   ]
  },
  {
   "cell_type": "code",
   "execution_count": 103,
   "id": "00d6b124",
   "metadata": {},
   "outputs": [
    {
     "data": {
      "text/plain": [
       "<AxesSubplot:xlabel='Seafood', ylabel='Stars'>"
      ]
     },
     "execution_count": 103,
     "metadata": {},
     "output_type": "execute_result"
    },
    {
     "data": {
      "image/png": "[encoded data removed]",
      "text/plain": [
       "<Figure size 432x288 with 1 Axes>"
      ]
     },
     "metadata": {
      "needs_background": "light"
     },
     "output_type": "display_data"
    }
   ],
   "source": [
    "sns.boxplot(eng.Seafood, eng.Stars)"
   ]
  },
  {
   "cell_type": "code",
   "execution_count": 104,
   "id": "1a1dac83",
   "metadata": {},
   "outputs": [
    {
     "name": "stdout",
     "output_type": "stream",
     "text": [
      "Seafood is not better-rated ramen than the rest.\n",
      "            Results do not breach the 95% confidence threshold.\n"
     ]
    }
   ],
   "source": [
    "### Hypothesis Testing ###\n",
    "alpha = .05\n",
    "t, p = stats.mannwhitneyu(eng[eng.Seafood == True].Stars, \n",
    "                          eng[eng.Seafood == False].Stars,\n",
    "                          alternative='greater')\n",
    "\n",
    "if t > 0 and p < alpha:\n",
    "    print('Seafood is better-rated ramen than the rest.\\n\\\n",
    "            We reject the null hypothesis with 95% confidence.')\n",
    "else:\n",
    "    print('Seafood is not better-rated ramen than the rest.\\n\\\n",
    "            Results do not breach the 95% confidence threshold.')"
   ]
  },
  {
   "cell_type": "markdown",
   "id": "bfd287c2",
   "metadata": {},
   "source": [
    "### Chow Mein"
   ]
  },
  {
   "cell_type": "code",
   "execution_count": 105,
   "id": "df0e0dcf",
   "metadata": {},
   "outputs": [
    {
     "data": {
      "text/html": [
       "<div>\n",
       "<style scoped>\n",
       "    .dataframe tbody tr th:only-of-type {\n",
       "        vertical-align: middle;\n",
       "    }\n",
       "\n",
       "    .dataframe tbody tr th {\n",
       "        vertical-align: top;\n",
       "    }\n",
       "\n",
       "    .dataframe thead th {\n",
       "        text-align: right;\n",
       "    }\n",
       "</style>\n",
       "<table border=\"1\" class=\"dataframe\">\n",
       "  <thead>\n",
       "    <tr style=\"text-align: right;\">\n",
       "      <th></th>\n",
       "      <th>Review #</th>\n",
       "      <th>Brand</th>\n",
       "      <th>Variety</th>\n",
       "      <th>Style</th>\n",
       "      <th>Country</th>\n",
       "      <th>Stars</th>\n",
       "      <th>Artificial</th>\n",
       "      <th>Instant</th>\n",
       "      <th>Chicken</th>\n",
       "      <th>Beef</th>\n",
       "      <th>Shrimp</th>\n",
       "      <th>Seafood</th>\n",
       "      <th>ChowMein</th>\n",
       "    </tr>\n",
       "  </thead>\n",
       "  <tbody>\n",
       "    <tr>\n",
       "      <th>2</th>\n",
       "      <td>2578</td>\n",
       "      <td>Nissin</td>\n",
       "      <td>Cup Noodles Chicken Vegetable</td>\n",
       "      <td>Cup</td>\n",
       "      <td>USA</td>\n",
       "      <td>2.25</td>\n",
       "      <td>False</td>\n",
       "      <td>False</td>\n",
       "      <td>True</td>\n",
       "      <td>False</td>\n",
       "      <td>False</td>\n",
       "      <td>False</td>\n",
       "      <td>False</td>\n",
       "    </tr>\n",
       "    <tr>\n",
       "      <th>3</th>\n",
       "      <td>2577</td>\n",
       "      <td>Wei Lih</td>\n",
       "      <td>GGE Ramen Snack Tomato Flavor</td>\n",
       "      <td>Pack</td>\n",
       "      <td>Taiwan</td>\n",
       "      <td>2.75</td>\n",
       "      <td>False</td>\n",
       "      <td>False</td>\n",
       "      <td>False</td>\n",
       "      <td>False</td>\n",
       "      <td>False</td>\n",
       "      <td>False</td>\n",
       "      <td>False</td>\n",
       "    </tr>\n",
       "  </tbody>\n",
       "</table>\n",
       "</div>"
      ],
      "text/plain": [
       "  Review #    Brand                        Variety Style Country  Stars  \\\n",
       "2     2578   Nissin  Cup Noodles Chicken Vegetable   Cup     USA   2.25   \n",
       "3     2577  Wei Lih  GGE Ramen Snack Tomato Flavor  Pack  Taiwan   2.75   \n",
       "\n",
       "   Artificial  Instant  Chicken   Beef  Shrimp  Seafood  ChowMein  \n",
       "2       False    False     True  False   False    False     False  \n",
       "3       False    False    False  False   False    False     False  "
      ]
     },
     "execution_count": 105,
     "metadata": {},
     "output_type": "execute_result"
    }
   ],
   "source": [
    "eng['ChowMein'] = eng.Variety.str.contains('chow mein', case=False)\n",
    "eng.head(2)"
   ]
  },
  {
   "cell_type": "code",
   "execution_count": 106,
   "id": "5a9273bf",
   "metadata": {},
   "outputs": [
    {
     "data": {
      "text/plain": [
       "<AxesSubplot:xlabel='ChowMein', ylabel='Stars'>"
      ]
     },
     "execution_count": 106,
     "metadata": {},
     "output_type": "execute_result"
    },
    {
     "data": {
      "image/png": "[encoded data removed]",
      "text/plain": [
       "<Figure size 432x288 with 1 Axes>"
      ]
     },
     "metadata": {
      "needs_background": "light"
     },
     "output_type": "display_data"
    }
   ],
   "source": [
    "sns.boxplot(eng.ChowMein, eng.Stars)"
   ]
  },
  {
   "cell_type": "code",
   "execution_count": 107,
   "id": "506d5127",
   "metadata": {},
   "outputs": [
    {
     "name": "stdout",
     "output_type": "stream",
     "text": [
      "Chow Mein is not better-rated ramen than the rest.\n",
      "            Results do not breach the 95% confidence threshold.\n"
     ]
    }
   ],
   "source": [
    "### Hypothesis Testing ###\n",
    "alpha = .05\n",
    "t, p = stats.mannwhitneyu(eng[eng.ChowMein == True].Stars, \n",
    "                          eng[eng.ChowMein == False].Stars,\n",
    "                          alternative='greater')\n",
    "\n",
    "if t > 0 and p < alpha:\n",
    "    print('Chow Mein is better-rated ramen than the rest.\\n\\\n",
    "            We reject the null hypothesis with 95% confidence.')\n",
    "else:\n",
    "    print('Chow Mein is not better-rated ramen than the rest.\\n\\\n",
    "            Results do not breach the 95% confidence threshold.')"
   ]
  },
  {
   "cell_type": "markdown",
   "id": "4f7ca3fa",
   "metadata": {},
   "source": [
    "### Spicy"
   ]
  },
  {
   "cell_type": "code",
   "execution_count": 108,
   "id": "be381841",
   "metadata": {},
   "outputs": [
    {
     "data": {
      "text/html": [
       "<div>\n",
       "<style scoped>\n",
       "    .dataframe tbody tr th:only-of-type {\n",
       "        vertical-align: middle;\n",
       "    }\n",
       "\n",
       "    .dataframe tbody tr th {\n",
       "        vertical-align: top;\n",
       "    }\n",
       "\n",
       "    .dataframe thead th {\n",
       "        text-align: right;\n",
       "    }\n",
       "</style>\n",
       "<table border=\"1\" class=\"dataframe\">\n",
       "  <thead>\n",
       "    <tr style=\"text-align: right;\">\n",
       "      <th></th>\n",
       "      <th>Review #</th>\n",
       "      <th>Brand</th>\n",
       "      <th>Variety</th>\n",
       "      <th>Style</th>\n",
       "      <th>Country</th>\n",
       "      <th>Stars</th>\n",
       "      <th>Artificial</th>\n",
       "      <th>Instant</th>\n",
       "      <th>Chicken</th>\n",
       "      <th>Beef</th>\n",
       "      <th>Shrimp</th>\n",
       "      <th>Seafood</th>\n",
       "      <th>ChowMein</th>\n",
       "      <th>Spicy</th>\n",
       "    </tr>\n",
       "  </thead>\n",
       "  <tbody>\n",
       "    <tr>\n",
       "      <th>2</th>\n",
       "      <td>2578</td>\n",
       "      <td>Nissin</td>\n",
       "      <td>Cup Noodles Chicken Vegetable</td>\n",
       "      <td>Cup</td>\n",
       "      <td>USA</td>\n",
       "      <td>2.25</td>\n",
       "      <td>False</td>\n",
       "      <td>False</td>\n",
       "      <td>True</td>\n",
       "      <td>False</td>\n",
       "      <td>False</td>\n",
       "      <td>False</td>\n",
       "      <td>False</td>\n",
       "      <td>False</td>\n",
       "    </tr>\n",
       "    <tr>\n",
       "      <th>3</th>\n",
       "      <td>2577</td>\n",
       "      <td>Wei Lih</td>\n",
       "      <td>GGE Ramen Snack Tomato Flavor</td>\n",
       "      <td>Pack</td>\n",
       "      <td>Taiwan</td>\n",
       "      <td>2.75</td>\n",
       "      <td>False</td>\n",
       "      <td>False</td>\n",
       "      <td>False</td>\n",
       "      <td>False</td>\n",
       "      <td>False</td>\n",
       "      <td>False</td>\n",
       "      <td>False</td>\n",
       "      <td>False</td>\n",
       "    </tr>\n",
       "  </tbody>\n",
       "</table>\n",
       "</div>"
      ],
      "text/plain": [
       "  Review #    Brand                        Variety Style Country  Stars  \\\n",
       "2     2578   Nissin  Cup Noodles Chicken Vegetable   Cup     USA   2.25   \n",
       "3     2577  Wei Lih  GGE Ramen Snack Tomato Flavor  Pack  Taiwan   2.75   \n",
       "\n",
       "   Artificial  Instant  Chicken   Beef  Shrimp  Seafood  ChowMein  Spicy  \n",
       "2       False    False     True  False   False    False     False  False  \n",
       "3       False    False    False  False   False    False     False  False  "
      ]
     },
     "execution_count": 108,
     "metadata": {},
     "output_type": "execute_result"
    }
   ],
   "source": [
    "eng['Spicy'] = eng.Variety.str.contains('spicy', case=False)\n",
    "eng.head(2)"
   ]
  },
  {
   "cell_type": "code",
   "execution_count": 109,
   "id": "3007aab6",
   "metadata": {},
   "outputs": [
    {
     "data": {
      "text/plain": [
       "<AxesSubplot:xlabel='Spicy', ylabel='Stars'>"
      ]
     },
     "execution_count": 109,
     "metadata": {},
     "output_type": "execute_result"
    },
    {
     "data": {
      "image/png": "[encoded data removed]",
      "text/plain": [
       "<Figure size 432x288 with 1 Axes>"
      ]
     },
     "metadata": {
      "needs_background": "light"
     },
     "output_type": "display_data"
    }
   ],
   "source": [
    "sns.boxplot(eng.Spicy, eng.Stars)"
   ]
  },
  {
   "cell_type": "code",
   "execution_count": 110,
   "id": "c143de50",
   "metadata": {},
   "outputs": [
    {
     "name": "stdout",
     "output_type": "stream",
     "text": [
      "Spicy is not better-rated ramen than the rest.\n",
      "            Results do not breach the 95% confidence threshold.\n"
     ]
    }
   ],
   "source": [
    "### Hypothesis Testing ###\n",
    "alpha = .05\n",
    "t, p = stats.mannwhitneyu(eng[eng.Spicy == True].Stars, \n",
    "                          eng[eng.Spicy == False].Stars,\n",
    "                          alternative='greater')\n",
    "\n",
    "if t > 0 and p < alpha:\n",
    "    print('Spicy is better-rated ramen than the rest.\\n\\\n",
    "            We reject the null hypothesis with 95% confidence.')\n",
    "else:\n",
    "    print('Spicy is not better-rated ramen than the rest.\\n\\\n",
    "            Results do not breach the 95% confidence threshold.')"
   ]
  },
  {
   "cell_type": "markdown",
   "id": "2cfa07ef",
   "metadata": {},
   "source": [
    "### Vegetable/Vegetarian"
   ]
  },
  {
   "cell_type": "code",
   "execution_count": 111,
   "id": "a542a207",
   "metadata": {},
   "outputs": [
    {
     "data": {
      "text/html": [
       "<div>\n",
       "<style scoped>\n",
       "    .dataframe tbody tr th:only-of-type {\n",
       "        vertical-align: middle;\n",
       "    }\n",
       "\n",
       "    .dataframe tbody tr th {\n",
       "        vertical-align: top;\n",
       "    }\n",
       "\n",
       "    .dataframe thead th {\n",
       "        text-align: right;\n",
       "    }\n",
       "</style>\n",
       "<table border=\"1\" class=\"dataframe\">\n",
       "  <thead>\n",
       "    <tr style=\"text-align: right;\">\n",
       "      <th></th>\n",
       "      <th>Review #</th>\n",
       "      <th>Brand</th>\n",
       "      <th>Variety</th>\n",
       "      <th>Style</th>\n",
       "      <th>Country</th>\n",
       "      <th>Stars</th>\n",
       "      <th>Artificial</th>\n",
       "      <th>Instant</th>\n",
       "      <th>Chicken</th>\n",
       "      <th>Beef</th>\n",
       "      <th>Shrimp</th>\n",
       "      <th>Seafood</th>\n",
       "      <th>ChowMein</th>\n",
       "      <th>Spicy</th>\n",
       "      <th>Veggie</th>\n",
       "    </tr>\n",
       "  </thead>\n",
       "  <tbody>\n",
       "    <tr>\n",
       "      <th>2</th>\n",
       "      <td>2578</td>\n",
       "      <td>Nissin</td>\n",
       "      <td>Cup Noodles Chicken Vegetable</td>\n",
       "      <td>Cup</td>\n",
       "      <td>USA</td>\n",
       "      <td>2.25</td>\n",
       "      <td>False</td>\n",
       "      <td>False</td>\n",
       "      <td>True</td>\n",
       "      <td>False</td>\n",
       "      <td>False</td>\n",
       "      <td>False</td>\n",
       "      <td>False</td>\n",
       "      <td>False</td>\n",
       "      <td>True</td>\n",
       "    </tr>\n",
       "    <tr>\n",
       "      <th>3</th>\n",
       "      <td>2577</td>\n",
       "      <td>Wei Lih</td>\n",
       "      <td>GGE Ramen Snack Tomato Flavor</td>\n",
       "      <td>Pack</td>\n",
       "      <td>Taiwan</td>\n",
       "      <td>2.75</td>\n",
       "      <td>False</td>\n",
       "      <td>False</td>\n",
       "      <td>False</td>\n",
       "      <td>False</td>\n",
       "      <td>False</td>\n",
       "      <td>False</td>\n",
       "      <td>False</td>\n",
       "      <td>False</td>\n",
       "      <td>False</td>\n",
       "    </tr>\n",
       "  </tbody>\n",
       "</table>\n",
       "</div>"
      ],
      "text/plain": [
       "  Review #    Brand                        Variety Style Country  Stars  \\\n",
       "2     2578   Nissin  Cup Noodles Chicken Vegetable   Cup     USA   2.25   \n",
       "3     2577  Wei Lih  GGE Ramen Snack Tomato Flavor  Pack  Taiwan   2.75   \n",
       "\n",
       "   Artificial  Instant  Chicken   Beef  Shrimp  Seafood  ChowMein  Spicy  \\\n",
       "2       False    False     True  False   False    False     False  False   \n",
       "3       False    False    False  False   False    False     False  False   \n",
       "\n",
       "   Veggie  \n",
       "2    True  \n",
       "3   False  "
      ]
     },
     "execution_count": 111,
     "metadata": {},
     "output_type": "execute_result"
    }
   ],
   "source": [
    "eng['Veggie'] = eng.Variety.str.contains('vegetable', case=False) | eng.Variety.str.contains('vegetarian', case=False)\n",
    "eng.head(2)"
   ]
  },
  {
   "cell_type": "code",
   "execution_count": 112,
   "id": "42edd7b7",
   "metadata": {},
   "outputs": [
    {
     "data": {
      "text/plain": [
       "<AxesSubplot:xlabel='Veggie', ylabel='Stars'>"
      ]
     },
     "execution_count": 112,
     "metadata": {},
     "output_type": "execute_result"
    },
    {
     "data": {
      "image/png": "[encoded data removed]",
      "text/plain": [
       "<Figure size 432x288 with 1 Axes>"
      ]
     },
     "metadata": {
      "needs_background": "light"
     },
     "output_type": "display_data"
    }
   ],
   "source": [
    "sns.boxplot(eng.Veggie, eng.Stars)"
   ]
  },
  {
   "cell_type": "code",
   "execution_count": 113,
   "id": "e0157906",
   "metadata": {},
   "outputs": [
    {
     "name": "stdout",
     "output_type": "stream",
     "text": [
      "Veggie is worse-rated ramen than the rest.\n",
      "            We reject the null hypothesis with 95% confidence.\n"
     ]
    }
   ],
   "source": [
    "### Hypothesis Testing ###\n",
    "alpha = .05\n",
    "t, p = stats.mannwhitneyu(eng[eng.Veggie == True].Stars, \n",
    "                          eng[eng.Veggie == False].Stars,\n",
    "                          alternative='less')\n",
    "\n",
    "if t > 0 and p < alpha:\n",
    "    print('Veggie is worse-rated ramen than the rest.\\n\\\n",
    "            We reject the null hypothesis with 95% confidence.')\n",
    "else:\n",
    "    print('Veggie is not worse-rated ramen than the rest.\\n\\\n",
    "            Results do not breach the 95% confidence threshold.')"
   ]
  },
  {
   "cell_type": "markdown",
   "id": "5737a9c7",
   "metadata": {},
   "source": [
    "# Modeling - Post-MVP #1\n",
    "## Prep"
   ]
  },
  {
   "cell_type": "code",
   "execution_count": 114,
   "id": "92f8ef5f",
   "metadata": {},
   "outputs": [],
   "source": [
    "# eng.Country.value_counts() # Going to drop low value counts\n",
    "eng = eng.drop([eng[eng.Country == 'Australia'].index.item()]) # Australia has one observation"
   ]
  },
  {
   "cell_type": "code",
   "execution_count": 115,
   "id": "a7227a59",
   "metadata": {},
   "outputs": [],
   "source": [
    "# Encode\n",
    "eng = pd.get_dummies(eng, columns=['Style'])\n",
    "eng['Stars'] = (eng['Stars'] * 4).round() # Turn each 0.25-step into 1-step"
   ]
  },
  {
   "cell_type": "markdown",
   "id": "ed20c54b",
   "metadata": {},
   "source": [
    "## Split"
   ]
  },
  {
   "cell_type": "code",
   "execution_count": 116,
   "id": "bc79096a",
   "metadata": {},
   "outputs": [
    {
     "data": {
      "text/plain": [
       "((987, 14), (330, 14), (330, 14))"
      ]
     },
     "execution_count": 116,
     "metadata": {},
     "output_type": "execute_result"
    }
   ],
   "source": [
    "# Specify columns to drop\n",
    "columns_to_drop = ['Review #','Brand','Variety','Country']\n",
    "# Split\n",
    "train_validate, test = train_test_split(eng.drop(columns=columns_to_drop), test_size=0.2, random_state=99)\n",
    "train, validate = train_test_split(train_validate, test_size=0.25, random_state=99)\n",
    "train.shape, validate.shape, test.shape"
   ]
  },
  {
   "cell_type": "code",
   "execution_count": 117,
   "id": "c40306d6",
   "metadata": {},
   "outputs": [
    {
     "data": {
      "text/html": [
       "<div>\n",
       "<style scoped>\n",
       "    .dataframe tbody tr th:only-of-type {\n",
       "        vertical-align: middle;\n",
       "    }\n",
       "\n",
       "    .dataframe tbody tr th {\n",
       "        vertical-align: top;\n",
       "    }\n",
       "\n",
       "    .dataframe thead th {\n",
       "        text-align: right;\n",
       "    }\n",
       "</style>\n",
       "<table border=\"1\" class=\"dataframe\">\n",
       "  <thead>\n",
       "    <tr style=\"text-align: right;\">\n",
       "      <th></th>\n",
       "      <th>Stars</th>\n",
       "      <th>Artificial</th>\n",
       "      <th>Instant</th>\n",
       "      <th>Chicken</th>\n",
       "      <th>Beef</th>\n",
       "      <th>Shrimp</th>\n",
       "      <th>Seafood</th>\n",
       "      <th>ChowMein</th>\n",
       "      <th>Spicy</th>\n",
       "      <th>Veggie</th>\n",
       "      <th>Style_Bowl</th>\n",
       "      <th>Style_Cup</th>\n",
       "      <th>Style_Pack</th>\n",
       "      <th>Style_Tray</th>\n",
       "    </tr>\n",
       "  </thead>\n",
       "  <tbody>\n",
       "    <tr>\n",
       "      <th>743</th>\n",
       "      <td>20.0</td>\n",
       "      <td>False</td>\n",
       "      <td>False</td>\n",
       "      <td>False</td>\n",
       "      <td>False</td>\n",
       "      <td>False</td>\n",
       "      <td>False</td>\n",
       "      <td>False</td>\n",
       "      <td>False</td>\n",
       "      <td>False</td>\n",
       "      <td>0</td>\n",
       "      <td>0</td>\n",
       "      <td>1</td>\n",
       "      <td>0</td>\n",
       "    </tr>\n",
       "  </tbody>\n",
       "</table>\n",
       "</div>"
      ],
      "text/plain": [
       "     Stars  Artificial  Instant  Chicken   Beef  Shrimp  Seafood  ChowMein  \\\n",
       "743   20.0       False    False    False  False   False    False     False   \n",
       "\n",
       "     Spicy  Veggie  Style_Bowl  Style_Cup  Style_Pack  Style_Tray  \n",
       "743  False   False           0          0           1           0  "
      ]
     },
     "execution_count": 117,
     "metadata": {},
     "output_type": "execute_result"
    }
   ],
   "source": [
    "# Check work\n",
    "train.head(1)"
   ]
  },
  {
   "cell_type": "markdown",
   "id": "7aea3f77",
   "metadata": {},
   "source": [
    "## Isolate Target"
   ]
  },
  {
   "cell_type": "code",
   "execution_count": 118,
   "id": "7770081e",
   "metadata": {},
   "outputs": [],
   "source": [
    "# Splits\n",
    "X_train, y_train = train.drop(columns='Stars'), train.Stars\n",
    "X_validate, y_validate = validate.drop(columns='Stars'), validate.Stars\n",
    "X_test, y_test = test.drop(columns='Stars'), test.Stars"
   ]
  },
  {
   "cell_type": "code",
   "execution_count": 119,
   "id": "eace1ab7",
   "metadata": {},
   "outputs": [],
   "source": [
    "# Fix dtypes\n",
    "X_train = X_train.astype('int')\n",
    "X_validate = X_validate.astype('int')\n",
    "X_test = X_test.astype('int')"
   ]
  },
  {
   "cell_type": "markdown",
   "id": "aec21f43",
   "metadata": {},
   "source": [
    "## Model!"
   ]
  },
  {
   "cell_type": "code",
   "execution_count": 120,
   "id": "71fe2ce6",
   "metadata": {},
   "outputs": [
    {
     "name": "stdout",
     "output_type": "stream",
     "text": [
      "0.23910840932117527\n",
      "0.17575757575757575\n"
     ]
    }
   ],
   "source": [
    "rf2 = RandomForestClassifier(n_estimators=1, random_state=99)\n",
    "rf2.fit(X_train, y_train)\n",
    "print((rf2.predict(X_train) == y_train).mean())\n",
    "print((rf2.predict(X_validate) == y_validate).mean())"
   ]
  },
  {
   "cell_type": "code",
   "execution_count": 121,
   "id": "96453235",
   "metadata": {},
   "outputs": [
    {
     "name": "stdout",
     "output_type": "stream",
     "text": [
      "0.2857142857142857\n",
      "0.14242424242424243\n"
     ]
    }
   ],
   "source": [
    "tree2 = DecisionTreeClassifier(max_depth=10, min_samples_leaf=1, random_state=123)\n",
    "tree2.fit(X_train, y_train)\n",
    "print((tree2.predict(X_train) == y_train).mean())\n",
    "print((tree2.predict(X_validate) == y_validate).mean())"
   ]
  },
  {
   "cell_type": "code",
   "execution_count": 122,
   "id": "3dea04ad",
   "metadata": {},
   "outputs": [
    {
     "name": "stdout",
     "output_type": "stream",
     "text": [
      "0.22188449848024316\n",
      "0.18484848484848485\n"
     ]
    }
   ],
   "source": [
    "knn2 = KNeighborsClassifier(n_neighbors=20)\n",
    "knn2.fit(X_train, y_train)\n",
    "print((knn2.predict(X_train) == y_train).mean())\n",
    "print((knn2.predict(X_validate) == y_validate).mean())"
   ]
  },
  {
   "cell_type": "code",
   "execution_count": 123,
   "id": "bce32670",
   "metadata": {},
   "outputs": [
    {
     "name": "stdout",
     "output_type": "stream",
     "text": [
      "0.22391084093211752\n",
      "0.2\n"
     ]
    }
   ],
   "source": [
    "logit2 = LogisticRegression(random_state=123)\n",
    "logit2.fit(X_train, y_train)\n",
    "print((logit2.predict(X_train) == y_train).mean())\n",
    "print((logit2.predict(X_validate) == y_validate).mean())"
   ]
  },
  {
   "cell_type": "markdown",
   "id": "84ad33ad",
   "metadata": {},
   "source": [
    "### Results with new engineered features, not selecting k best or RFE\n",
    "Logistic Regression performed best on out-of-sample data than other models, but did not perform as well as the MVP.\n",
    "\n",
    "Let's see how adding Country column affects the results..."
   ]
  },
  {
   "cell_type": "markdown",
   "id": "bbc53823",
   "metadata": {},
   "source": [
    "# Modeling - Post-MVP #2 (add Country)\n",
    "## Prep"
   ]
  },
  {
   "cell_type": "code",
   "execution_count": 124,
   "id": "66bb8e90",
   "metadata": {},
   "outputs": [
    {
     "data": {
      "text/html": [
       "<div>\n",
       "<style scoped>\n",
       "    .dataframe tbody tr th:only-of-type {\n",
       "        vertical-align: middle;\n",
       "    }\n",
       "\n",
       "    .dataframe tbody tr th {\n",
       "        vertical-align: top;\n",
       "    }\n",
       "\n",
       "    .dataframe thead th {\n",
       "        text-align: right;\n",
       "    }\n",
       "</style>\n",
       "<table border=\"1\" class=\"dataframe\">\n",
       "  <thead>\n",
       "    <tr style=\"text-align: right;\">\n",
       "      <th></th>\n",
       "      <th>Review #</th>\n",
       "      <th>Brand</th>\n",
       "      <th>Variety</th>\n",
       "      <th>Stars</th>\n",
       "      <th>Artificial</th>\n",
       "      <th>Instant</th>\n",
       "      <th>Chicken</th>\n",
       "      <th>Beef</th>\n",
       "      <th>Shrimp</th>\n",
       "      <th>Seafood</th>\n",
       "      <th>...</th>\n",
       "      <th>Country_Myanmar</th>\n",
       "      <th>Country_Nepal</th>\n",
       "      <th>Country_Philippines</th>\n",
       "      <th>Country_Singapore</th>\n",
       "      <th>Country_South Korea</th>\n",
       "      <th>Country_Taiwan</th>\n",
       "      <th>Country_Thailand</th>\n",
       "      <th>Country_UK</th>\n",
       "      <th>Country_USA</th>\n",
       "      <th>Country_Vietnam</th>\n",
       "    </tr>\n",
       "  </thead>\n",
       "  <tbody>\n",
       "    <tr>\n",
       "      <th>2</th>\n",
       "      <td>2578</td>\n",
       "      <td>Nissin</td>\n",
       "      <td>Cup Noodles Chicken Vegetable</td>\n",
       "      <td>9.0</td>\n",
       "      <td>False</td>\n",
       "      <td>False</td>\n",
       "      <td>True</td>\n",
       "      <td>False</td>\n",
       "      <td>False</td>\n",
       "      <td>False</td>\n",
       "      <td>...</td>\n",
       "      <td>0</td>\n",
       "      <td>0</td>\n",
       "      <td>0</td>\n",
       "      <td>0</td>\n",
       "      <td>0</td>\n",
       "      <td>0</td>\n",
       "      <td>0</td>\n",
       "      <td>0</td>\n",
       "      <td>1</td>\n",
       "      <td>0</td>\n",
       "    </tr>\n",
       "  </tbody>\n",
       "</table>\n",
       "<p>1 rows × 36 columns</p>\n",
       "</div>"
      ],
      "text/plain": [
       "  Review #   Brand                        Variety  Stars  Artificial  Instant  \\\n",
       "2     2578  Nissin  Cup Noodles Chicken Vegetable    9.0       False    False   \n",
       "\n",
       "   Chicken   Beef  Shrimp  Seafood  ...  Country_Myanmar  Country_Nepal  \\\n",
       "2     True  False   False    False  ...                0              0   \n",
       "\n",
       "   Country_Philippines  Country_Singapore  Country_South Korea  \\\n",
       "2                    0                  0                    0   \n",
       "\n",
       "   Country_Taiwan  Country_Thailand  Country_UK  Country_USA  Country_Vietnam  \n",
       "2               0                 0           0            1                0  \n",
       "\n",
       "[1 rows x 36 columns]"
      ]
     },
     "execution_count": 124,
     "metadata": {},
     "output_type": "execute_result"
    }
   ],
   "source": [
    "eng = pd.get_dummies(eng, columns=['Country'])\n",
    "eng.head(1)"
   ]
  },
  {
   "cell_type": "markdown",
   "id": "5a108355",
   "metadata": {},
   "source": [
    "## Split"
   ]
  },
  {
   "cell_type": "code",
   "execution_count": 125,
   "id": "06c2ba44",
   "metadata": {},
   "outputs": [
    {
     "data": {
      "text/plain": [
       "((987, 33), (330, 33), (330, 33))"
      ]
     },
     "execution_count": 125,
     "metadata": {},
     "output_type": "execute_result"
    }
   ],
   "source": [
    "# Specify columns to drop\n",
    "columns_to_drop = ['Review #','Brand','Variety']\n",
    "# Split\n",
    "train_validate, test = train_test_split(eng.drop(columns=columns_to_drop), test_size=0.2, random_state=99)\n",
    "train, validate = train_test_split(train_validate, test_size=0.25, random_state=99)\n",
    "train.shape, validate.shape, test.shape"
   ]
  },
  {
   "cell_type": "markdown",
   "id": "d3d74502",
   "metadata": {},
   "source": [
    "## Isolate Target"
   ]
  },
  {
   "cell_type": "code",
   "execution_count": 126,
   "id": "c1ccc026",
   "metadata": {},
   "outputs": [],
   "source": [
    "# Splits\n",
    "X_train, y_train = train.drop(columns='Stars'), train.Stars\n",
    "X_validate, y_validate = validate.drop(columns='Stars'), validate.Stars\n",
    "X_test, y_test = test.drop(columns='Stars'), test.Stars"
   ]
  },
  {
   "cell_type": "code",
   "execution_count": 127,
   "id": "edb09c83",
   "metadata": {},
   "outputs": [],
   "source": [
    "# Encode\n",
    "X_train = X_train.astype('int')\n",
    "X_validate = X_validate.astype('int')\n",
    "X_test = X_test.astype('int')"
   ]
  },
  {
   "cell_type": "markdown",
   "id": "e0afe67c",
   "metadata": {},
   "source": [
    "## Model!"
   ]
  },
  {
   "cell_type": "code",
   "execution_count": 128,
   "id": "3389dfc8",
   "metadata": {},
   "outputs": [
    {
     "name": "stdout",
     "output_type": "stream",
     "text": [
      "0.49848024316109424\n",
      "0.20909090909090908\n"
     ]
    }
   ],
   "source": [
    "rf3 = RandomForestClassifier(n_estimators=20, random_state=99)\n",
    "rf3.fit(X_train, y_train)\n",
    "print((rf3.predict(X_train) == y_train).mean())\n",
    "print((rf3.predict(X_validate) == y_validate).mean())"
   ]
  },
  {
   "cell_type": "code",
   "execution_count": 129,
   "id": "f45459ab",
   "metadata": {},
   "outputs": [
    {
     "name": "stdout",
     "output_type": "stream",
     "text": [
      "0.47315096251266464\n",
      "0.18484848484848485\n"
     ]
    }
   ],
   "source": [
    "tree3 = DecisionTreeClassifier(max_depth=20, min_samples_leaf=1, random_state=123)\n",
    "tree3.fit(X_train, y_train)\n",
    "print((tree3.predict(X_train) == y_train).mean())\n",
    "print((tree3.predict(X_validate) == y_validate).mean())"
   ]
  },
  {
   "cell_type": "code",
   "execution_count": 130,
   "id": "6df668c5",
   "metadata": {},
   "outputs": [
    {
     "name": "stdout",
     "output_type": "stream",
     "text": [
      "0.26038500506585616\n",
      "0.21515151515151515\n"
     ]
    }
   ],
   "source": [
    "knn3 = KNeighborsClassifier(n_neighbors=60)\n",
    "knn3.fit(X_train, y_train)\n",
    "print((knn3.predict(X_train) == y_train).mean())\n",
    "print((knn3.predict(X_validate) == y_validate).mean())"
   ]
  },
  {
   "cell_type": "code",
   "execution_count": 131,
   "id": "9156cbe2",
   "metadata": {},
   "outputs": [
    {
     "name": "stdout",
     "output_type": "stream",
     "text": [
      "0.26545086119554206\n",
      "0.21515151515151515\n"
     ]
    }
   ],
   "source": [
    "logit3 = LogisticRegression(random_state=123)\n",
    "logit3.fit(X_train, y_train)\n",
    "print((logit3.predict(X_train) == y_train).mean())\n",
    "print((logit3.predict(X_validate) == y_validate).mean())"
   ]
  },
  {
   "cell_type": "markdown",
   "id": "2d56eafd",
   "metadata": {},
   "source": [
    "### Results including Country, still not doing RFE or SelectKBest\n",
    "KNN with 60 neighbors performed best by being not-overfit-as-much compared to Logistic Regression.\n",
    "\n",
    "Now, let's run RFE to see if we can filter down features and improve model performance..."
   ]
  },
  {
   "cell_type": "markdown",
   "id": "5d2f42e1",
   "metadata": {},
   "source": [
    "# Recursive Feature Engineering"
   ]
  },
  {
   "cell_type": "code",
   "execution_count": 132,
   "id": "cbc37eeb",
   "metadata": {},
   "outputs": [],
   "source": [
    "rfe = RFE(estimator=LinearRegression(), n_features_to_select=20)"
   ]
  },
  {
   "cell_type": "code",
   "execution_count": 133,
   "id": "5137f3de",
   "metadata": {},
   "outputs": [
    {
     "data": {
      "text/plain": [
       "RFE(estimator=LinearRegression(), n_features_to_select=20)"
      ]
     },
     "execution_count": 133,
     "metadata": {},
     "output_type": "execute_result"
    }
   ],
   "source": [
    "rfe.fit(X_train, y_train)"
   ]
  },
  {
   "cell_type": "code",
   "execution_count": 134,
   "id": "0cba5a7f",
   "metadata": {},
   "outputs": [
    {
     "data": {
      "text/plain": [
       "Artificial              6\n",
       "Instant                11\n",
       "Chicken                 7\n",
       "Beef                   13\n",
       "Shrimp                  9\n",
       "Seafood                12\n",
       "ChowMein                8\n",
       "Spicy                  10\n",
       "Veggie                  5\n",
       "Style_Bowl              4\n",
       "Style_Cup               2\n",
       "Style_Pack              3\n",
       "Style_Tray              1\n",
       "Country_Canada          1\n",
       "Country_China           1\n",
       "Country_Germany         1\n",
       "Country_Hong Kong       1\n",
       "Country_India           1\n",
       "Country_Indonesia       1\n",
       "Country_Japan           1\n",
       "Country_Malaysia        1\n",
       "Country_Mexico          1\n",
       "Country_Myanmar         1\n",
       "Country_Nepal           1\n",
       "Country_Philippines     1\n",
       "Country_Singapore       1\n",
       "Country_South Korea     1\n",
       "Country_Taiwan          1\n",
       "Country_Thailand        1\n",
       "Country_UK              1\n",
       "Country_USA             1\n",
       "Country_Vietnam         1\n",
       "dtype: int64"
      ]
     },
     "execution_count": 134,
     "metadata": {},
     "output_type": "execute_result"
    }
   ],
   "source": [
    "pd.Series(rfe.ranking_, index=X_train.columns)"
   ]
  },
  {
   "cell_type": "markdown",
   "id": "9a3aab22",
   "metadata": {},
   "source": [
    "That's interesting... it seems the countries all are more important in determining rating than any other feature, engineered or not. Hmm.\n",
    "\n",
    "Well, let's approach this specifically from the Country column and see what happens."
   ]
  },
  {
   "cell_type": "markdown",
   "id": "62a6cc53",
   "metadata": {},
   "source": [
    "# Modeling - Post-MVP #3 - Only Country\n",
    "## Prep"
   ]
  },
  {
   "cell_type": "code",
   "execution_count": 135,
   "id": "867911a9",
   "metadata": {},
   "outputs": [],
   "source": [
    "# Set columns\n",
    "new_approach = df[['Country','Stars']]"
   ]
  },
  {
   "cell_type": "code",
   "execution_count": 136,
   "id": "773379b0",
   "metadata": {},
   "outputs": [],
   "source": [
    "# Encode\n",
    "new_approach = pd.get_dummies(new_approach, columns=['Country'])\n",
    "new_approach['Stars'] = (new_approach['Stars'] * 4).round()"
   ]
  },
  {
   "cell_type": "code",
   "execution_count": 137,
   "id": "c982b949",
   "metadata": {},
   "outputs": [
    {
     "data": {
      "text/plain": [
       "((988, 21), (330, 21), (330, 21))"
      ]
     },
     "execution_count": 137,
     "metadata": {},
     "output_type": "execute_result"
    }
   ],
   "source": [
    "# Split\n",
    "train_validate, test = train_test_split(new_approach, test_size=0.2, random_state=99)\n",
    "train, validate = train_test_split(train_validate, test_size=0.25, random_state=99)\n",
    "train.shape, validate.shape, test.shape"
   ]
  },
  {
   "cell_type": "code",
   "execution_count": 138,
   "id": "c4409b09",
   "metadata": {},
   "outputs": [],
   "source": [
    "# Isolate target\n",
    "X_train, y_train = train.drop(columns='Stars'), train.Stars\n",
    "X_validate, y_validate = validate.drop(columns='Stars'), validate.Stars\n",
    "X_test, y_test = test.drop(columns='Stars'), test.Stars"
   ]
  },
  {
   "cell_type": "markdown",
   "id": "6bde0d16",
   "metadata": {},
   "source": [
    "## Model!"
   ]
  },
  {
   "cell_type": "code",
   "execution_count": 139,
   "id": "49aa7769",
   "metadata": {},
   "outputs": [
    {
     "name": "stdout",
     "output_type": "stream",
     "text": [
      "0.23481781376518218\n",
      "0.18787878787878787\n"
     ]
    }
   ],
   "source": [
    "rf3 = RandomForestClassifier(n_estimators=20, random_state=99)\n",
    "rf3.fit(X_train, y_train)\n",
    "print((rf3.predict(X_train) == y_train).mean())\n",
    "print((rf3.predict(X_validate) == y_validate).mean())"
   ]
  },
  {
   "cell_type": "code",
   "execution_count": 140,
   "id": "0521fa32",
   "metadata": {},
   "outputs": [
    {
     "name": "stdout",
     "output_type": "stream",
     "text": [
      "0.23684210526315788\n",
      "0.1787878787878788\n"
     ]
    }
   ],
   "source": [
    "tree3 = DecisionTreeClassifier(max_depth=20, min_samples_leaf=1, random_state=123)\n",
    "tree3.fit(X_train, y_train)\n",
    "print((tree3.predict(X_train) == y_train).mean())\n",
    "print((tree3.predict(X_validate) == y_validate).mean())"
   ]
  },
  {
   "cell_type": "code",
   "execution_count": 141,
   "id": "67c8035e",
   "metadata": {},
   "outputs": [
    {
     "name": "stdout",
     "output_type": "stream",
     "text": [
      "0.21356275303643724\n",
      "0.19090909090909092\n"
     ]
    }
   ],
   "source": [
    "knn3 = KNeighborsClassifier(n_neighbors=20)\n",
    "knn3.fit(X_train, y_train)\n",
    "print((knn3.predict(X_train) == y_train).mean())\n",
    "print((knn3.predict(X_validate) == y_validate).mean())"
   ]
  },
  {
   "cell_type": "code",
   "execution_count": 142,
   "id": "f8eb7ec6",
   "metadata": {},
   "outputs": [
    {
     "name": "stdout",
     "output_type": "stream",
     "text": [
      "0.23582995951417005\n",
      "0.19393939393939394\n"
     ]
    }
   ],
   "source": [
    "logit3 = LogisticRegression(random_state=123)\n",
    "logit3.fit(X_train, y_train)\n",
    "print((logit3.predict(X_train) == y_train).mean())\n",
    "print((logit3.predict(X_validate) == y_validate).mean())"
   ]
  },
  {
   "cell_type": "markdown",
   "id": "5b98caab",
   "metadata": {},
   "source": [
    "### Modeling Results\n",
    "Logistic Regression performed best, but not better than the MVP.\n",
    "\n",
    "Since no feature combination breached 25% accuracy, I'm going to change up the target a bit. Instead of using 0.25 steps, I'm going to round the steps up to 1, so stars from 0 to 5."
   ]
  },
  {
   "cell_type": "markdown",
   "id": "01f7ca21",
   "metadata": {},
   "source": [
    "# Modeling - Decrease Precision of Target\n",
    "## Prep"
   ]
  },
  {
   "cell_type": "code",
   "execution_count": 143,
   "id": "48ffb833",
   "metadata": {},
   "outputs": [
    {
     "data": {
      "text/plain": [
       "array([20., 18., 14.,  6., 10., 12., 16.,  9., 11., 13., 15., 19., 17.,\n",
       "        8.,  7.,  4.,  2.,  0.,  5.,  1.])"
      ]
     },
     "execution_count": 143,
     "metadata": {},
     "output_type": "execute_result"
    }
   ],
   "source": [
    "y_train.unique()"
   ]
  },
  {
   "cell_type": "code",
   "execution_count": 144,
   "id": "78845bcb",
   "metadata": {},
   "outputs": [
    {
     "data": {
      "text/plain": [
       "array([5., 4., 2., 3., 1., 0.])"
      ]
     },
     "execution_count": 144,
     "metadata": {},
     "output_type": "execute_result"
    }
   ],
   "source": [
    "y_train = (y_train / 4).round()\n",
    "y_validate = (y_validate / 4).round()\n",
    "y_test = (y_test / 4).round()\n",
    "y_train.unique()"
   ]
  },
  {
   "cell_type": "markdown",
   "id": "98b30d28",
   "metadata": {},
   "source": [
    "## Model!"
   ]
  },
  {
   "cell_type": "code",
   "execution_count": 145,
   "id": "dabb300d",
   "metadata": {},
   "outputs": [
    {
     "name": "stdout",
     "output_type": "stream",
     "text": [
      "0.5566801619433198\n",
      "0.5424242424242425\n"
     ]
    }
   ],
   "source": [
    "rf3 = RandomForestClassifier(n_estimators=2, random_state=99)\n",
    "rf3.fit(X_train, y_train)\n",
    "print((rf3.predict(X_train) == y_train).mean())\n",
    "print((rf3.predict(X_validate) == y_validate).mean())"
   ]
  },
  {
   "cell_type": "code",
   "execution_count": 146,
   "id": "dcb28f48",
   "metadata": {},
   "outputs": [
    {
     "name": "stdout",
     "output_type": "stream",
     "text": [
      "0.5516194331983806\n",
      "0.5424242424242425\n"
     ]
    }
   ],
   "source": [
    "tree3 = DecisionTreeClassifier(max_depth=2, min_samples_leaf=1, random_state=123)\n",
    "tree3.fit(X_train, y_train)\n",
    "print((tree3.predict(X_train) == y_train).mean())\n",
    "print((tree3.predict(X_validate) == y_validate).mean())"
   ]
  },
  {
   "cell_type": "code",
   "execution_count": 147,
   "id": "59fca894",
   "metadata": {},
   "outputs": [
    {
     "name": "stdout",
     "output_type": "stream",
     "text": [
      "0.5516194331983806\n",
      "0.5424242424242425\n"
     ]
    }
   ],
   "source": [
    "knn3 = KNeighborsClassifier(n_neighbors=70)\n",
    "knn3.fit(X_train, y_train)\n",
    "print((knn3.predict(X_train) == y_train).mean())\n",
    "print((knn3.predict(X_validate) == y_validate).mean())"
   ]
  },
  {
   "cell_type": "code",
   "execution_count": 148,
   "id": "9a32f02e",
   "metadata": {},
   "outputs": [
    {
     "name": "stdout",
     "output_type": "stream",
     "text": [
      "0.5566801619433198\n",
      "0.5484848484848485\n"
     ]
    }
   ],
   "source": [
    "logit3 = LogisticRegression(random_state=123)\n",
    "logit3.fit(X_train, y_train)\n",
    "print((logit3.predict(X_train) == y_train).mean())\n",
    "print((logit3.predict(X_validate) == y_validate).mean())"
   ]
  },
  {
   "cell_type": "markdown",
   "id": "beffbb97",
   "metadata": {},
   "source": [
    "### Modeling Results\n",
    "By decreasing the precision of the target by four times, the models performed twice as well as before. Let's re-calculate the baseline real quick to see if this new performance still beats threshold..."
   ]
  },
  {
   "cell_type": "code",
   "execution_count": 149,
   "id": "5ec49868",
   "metadata": {},
   "outputs": [
    {
     "data": {
      "text/plain": [
       "4.0    536\n",
       "5.0    187\n",
       "3.0    161\n",
       "2.0     78\n",
       "1.0     15\n",
       "0.0     11\n",
       "Name: Stars, dtype: int64"
      ]
     },
     "execution_count": 149,
     "metadata": {},
     "output_type": "execute_result"
    }
   ],
   "source": [
    "y_train.value_counts()"
   ]
  },
  {
   "cell_type": "code",
   "execution_count": 150,
   "id": "5a5c2fc0",
   "metadata": {},
   "outputs": [
    {
     "name": "stdout",
     "output_type": "stream",
     "text": [
      "Baseline Accuracy: 0.5425101214574899\n"
     ]
    }
   ],
   "source": [
    "print(\"Baseline Accuracy:\", 536 / len(y_train))"
   ]
  },
  {
   "cell_type": "markdown",
   "id": "c58482ff",
   "metadata": {},
   "source": [
    "So baseline accuracy is 55.25%. When only using Country as a one-hot-encoded feature, all models had similar performance to the baseline (within 1% of baseline).\n",
    "\n",
    "Let's try a different feature combination on this less-precise target."
   ]
  },
  {
   "cell_type": "markdown",
   "id": "1050d22e",
   "metadata": {},
   "source": [
    "# Modeling - Post-Precision Decrease\n",
    "So since I've already prepared different feature combinations, I'm simply bringing the code up to this section.\n",
    "\n",
    "## Brand\n",
    "### Prep"
   ]
  },
  {
   "cell_type": "code",
   "execution_count": 151,
   "id": "37e4ab0c",
   "metadata": {},
   "outputs": [
    {
     "data": {
      "text/html": [
       "<div>\n",
       "<style scoped>\n",
       "    .dataframe tbody tr th:only-of-type {\n",
       "        vertical-align: middle;\n",
       "    }\n",
       "\n",
       "    .dataframe tbody tr th {\n",
       "        vertical-align: top;\n",
       "    }\n",
       "\n",
       "    .dataframe thead th {\n",
       "        text-align: right;\n",
       "    }\n",
       "</style>\n",
       "<table border=\"1\" class=\"dataframe\">\n",
       "  <thead>\n",
       "    <tr style=\"text-align: right;\">\n",
       "      <th></th>\n",
       "      <th>Review #</th>\n",
       "      <th>Brand</th>\n",
       "      <th>Variety</th>\n",
       "      <th>Style</th>\n",
       "      <th>Country</th>\n",
       "      <th>Stars</th>\n",
       "    </tr>\n",
       "  </thead>\n",
       "  <tbody>\n",
       "    <tr>\n",
       "      <th>2</th>\n",
       "      <td>2578</td>\n",
       "      <td>Nissin</td>\n",
       "      <td>Cup Noodles Chicken Vegetable</td>\n",
       "      <td>Cup</td>\n",
       "      <td>USA</td>\n",
       "      <td>2</td>\n",
       "    </tr>\n",
       "    <tr>\n",
       "      <th>3</th>\n",
       "      <td>2577</td>\n",
       "      <td>Wei Lih</td>\n",
       "      <td>GGE Ramen Snack Tomato Flavor</td>\n",
       "      <td>Pack</td>\n",
       "      <td>Taiwan</td>\n",
       "      <td>3</td>\n",
       "    </tr>\n",
       "  </tbody>\n",
       "</table>\n",
       "</div>"
      ],
      "text/plain": [
       "  Review #    Brand                        Variety Style Country  Stars\n",
       "2     2578   Nissin  Cup Noodles Chicken Vegetable   Cup     USA      2\n",
       "3     2577  Wei Lih  GGE Ramen Snack Tomato Flavor  Pack  Taiwan      3"
      ]
     },
     "execution_count": 151,
     "metadata": {},
     "output_type": "execute_result"
    }
   ],
   "source": [
    "### Decrease target's precision ###\n",
    "df['Stars'] = df['Stars'].round().astype('int')\n",
    "df.head(2)"
   ]
  },
  {
   "cell_type": "code",
   "execution_count": 152,
   "id": "86ba6348",
   "metadata": {},
   "outputs": [],
   "source": [
    "### Split into subsets ###\n",
    "train_validate, test = train_test_split(df, test_size=0.2, random_state=124, stratify=df.Brand)\n",
    "train, validate = train_test_split(train_validate, test_size=0.25, random_state=124, stratify=train_validate.Brand)"
   ]
  },
  {
   "cell_type": "code",
   "execution_count": 153,
   "id": "9f49d5c6",
   "metadata": {},
   "outputs": [],
   "source": [
    "### Encode data ###\n",
    "train_encoded = pd.get_dummies(train, columns=['Brand','Style','Country']).drop(columns=['Review #','Variety'])\n",
    "validate_encoded = pd.get_dummies(validate, columns=['Brand','Style','Country']).drop(columns=['Review #','Variety'])\n",
    "test_encoded = pd.get_dummies(test, columns=['Brand','Style','Country']).drop(columns=['Review #','Variety'])"
   ]
  },
  {
   "cell_type": "code",
   "execution_count": 154,
   "id": "21540439",
   "metadata": {},
   "outputs": [],
   "source": [
    "### Isolate target ###\n",
    "X_train, y_train = train_encoded.drop(columns='Stars'), train_encoded.Stars\n",
    "X_validate, y_validate = validate_encoded.drop(columns='Stars'), validate_encoded.Stars\n",
    "X_test, y_test = test_encoded.drop(columns='Stars'), test_encoded.Stars"
   ]
  },
  {
   "cell_type": "markdown",
   "id": "7d0252d6",
   "metadata": {},
   "source": [
    "### Model!"
   ]
  },
  {
   "cell_type": "code",
   "execution_count": 155,
   "id": "7c33e707",
   "metadata": {},
   "outputs": [
    {
     "name": "stdout",
     "output_type": "stream",
     "text": [
      "0.6204453441295547\n",
      "0.503030303030303\n"
     ]
    }
   ],
   "source": [
    "rf_v2 = RandomForestClassifier(n_estimators=10, random_state=99)\n",
    "rf_v2.fit(X_train, y_train)\n",
    "print((rf_v2.predict(X_train) == y_train).mean())\n",
    "print((rf_v2.predict(X_validate) == y_validate).mean())"
   ]
  },
  {
   "cell_type": "code",
   "execution_count": 156,
   "id": "39d0ff17",
   "metadata": {},
   "outputs": [
    {
     "name": "stdout",
     "output_type": "stream",
     "text": [
      "0.597165991902834\n",
      "0.5606060606060606\n"
     ]
    }
   ],
   "source": [
    "tree_v2 = DecisionTreeClassifier(max_depth=10, min_samples_leaf=1, random_state=123)\n",
    "tree_v2.fit(X_train, y_train)\n",
    "print((tree_v2.predict(X_train) == y_train).mean())\n",
    "print((tree_v2.predict(X_validate) == y_validate).mean())"
   ]
  },
  {
   "cell_type": "code",
   "execution_count": 157,
   "id": "3df1bfc2",
   "metadata": {},
   "outputs": [
    {
     "name": "stdout",
     "output_type": "stream",
     "text": [
      "0.5597165991902834\n",
      "0.5454545454545454\n"
     ]
    }
   ],
   "source": [
    "knn_v2 = KNeighborsClassifier(n_neighbors=40)\n",
    "knn_v2.fit(X_train, y_train)\n",
    "print((knn_v2.predict(X_train) == y_train).mean())\n",
    "print((knn_v2.predict(X_validate) == y_validate).mean())"
   ]
  },
  {
   "cell_type": "code",
   "execution_count": 158,
   "id": "4ce0d0f2",
   "metadata": {},
   "outputs": [
    {
     "name": "stdout",
     "output_type": "stream",
     "text": [
      "0.5850202429149798\n",
      "0.5515151515151515\n"
     ]
    }
   ],
   "source": [
    "logit_v2 = LogisticRegression(random_state=123)\n",
    "logit_v2.fit(X_train, y_train)\n",
    "print((logit_v2.predict(X_train) == y_train).mean())\n",
    "print((logit_v2.predict(X_validate) == y_validate).mean())"
   ]
  },
  {
   "cell_type": "markdown",
   "id": "b3df916d",
   "metadata": {},
   "source": [
    "### Results\n",
    "Decision Tree had the best performance at 56% prediction of out-of-sample data. Let's try another feature combination.\n",
    "## Variety\n",
    "### Prep"
   ]
  },
  {
   "cell_type": "code",
   "execution_count": 159,
   "id": "04fe4d1b",
   "metadata": {},
   "outputs": [
    {
     "data": {
      "text/html": [
       "<div>\n",
       "<style scoped>\n",
       "    .dataframe tbody tr th:only-of-type {\n",
       "        vertical-align: middle;\n",
       "    }\n",
       "\n",
       "    .dataframe tbody tr th {\n",
       "        vertical-align: top;\n",
       "    }\n",
       "\n",
       "    .dataframe thead th {\n",
       "        text-align: right;\n",
       "    }\n",
       "</style>\n",
       "<table border=\"1\" class=\"dataframe\">\n",
       "  <thead>\n",
       "    <tr style=\"text-align: right;\">\n",
       "      <th></th>\n",
       "      <th>Review #</th>\n",
       "      <th>Brand</th>\n",
       "      <th>Variety</th>\n",
       "      <th>Style</th>\n",
       "      <th>Country</th>\n",
       "      <th>Stars</th>\n",
       "      <th>Artificial</th>\n",
       "      <th>Instant</th>\n",
       "      <th>Chicken</th>\n",
       "      <th>Beef</th>\n",
       "      <th>Shrimp</th>\n",
       "      <th>Seafood</th>\n",
       "      <th>ChowMein</th>\n",
       "      <th>Spicy</th>\n",
       "      <th>Veggie</th>\n",
       "    </tr>\n",
       "  </thead>\n",
       "  <tbody>\n",
       "    <tr>\n",
       "      <th>2</th>\n",
       "      <td>2578</td>\n",
       "      <td>Nissin</td>\n",
       "      <td>Cup Noodles Chicken Vegetable</td>\n",
       "      <td>Cup</td>\n",
       "      <td>USA</td>\n",
       "      <td>2</td>\n",
       "      <td>False</td>\n",
       "      <td>False</td>\n",
       "      <td>True</td>\n",
       "      <td>False</td>\n",
       "      <td>False</td>\n",
       "      <td>False</td>\n",
       "      <td>False</td>\n",
       "      <td>False</td>\n",
       "      <td>True</td>\n",
       "    </tr>\n",
       "    <tr>\n",
       "      <th>3</th>\n",
       "      <td>2577</td>\n",
       "      <td>Wei Lih</td>\n",
       "      <td>GGE Ramen Snack Tomato Flavor</td>\n",
       "      <td>Pack</td>\n",
       "      <td>Taiwan</td>\n",
       "      <td>3</td>\n",
       "      <td>False</td>\n",
       "      <td>False</td>\n",
       "      <td>False</td>\n",
       "      <td>False</td>\n",
       "      <td>False</td>\n",
       "      <td>False</td>\n",
       "      <td>False</td>\n",
       "      <td>False</td>\n",
       "      <td>False</td>\n",
       "    </tr>\n",
       "    <tr>\n",
       "      <th>5</th>\n",
       "      <td>2575</td>\n",
       "      <td>Samyang Foods</td>\n",
       "      <td>Kimchi song Song Ramen</td>\n",
       "      <td>Pack</td>\n",
       "      <td>South Korea</td>\n",
       "      <td>5</td>\n",
       "      <td>False</td>\n",
       "      <td>False</td>\n",
       "      <td>False</td>\n",
       "      <td>False</td>\n",
       "      <td>False</td>\n",
       "      <td>False</td>\n",
       "      <td>False</td>\n",
       "      <td>False</td>\n",
       "      <td>False</td>\n",
       "    </tr>\n",
       "  </tbody>\n",
       "</table>\n",
       "</div>"
      ],
      "text/plain": [
       "  Review #          Brand                        Variety Style      Country  \\\n",
       "2     2578         Nissin  Cup Noodles Chicken Vegetable   Cup          USA   \n",
       "3     2577        Wei Lih  GGE Ramen Snack Tomato Flavor  Pack       Taiwan   \n",
       "5     2575  Samyang Foods         Kimchi song Song Ramen  Pack  South Korea   \n",
       "\n",
       "   Stars  Artificial  Instant  Chicken   Beef  Shrimp  Seafood  ChowMein  \\\n",
       "2      2       False    False     True  False   False    False     False   \n",
       "3      3       False    False    False  False   False    False     False   \n",
       "5      5       False    False    False  False   False    False     False   \n",
       "\n",
       "   Spicy  Veggie  \n",
       "2  False    True  \n",
       "3  False   False  \n",
       "5  False   False  "
      ]
     },
     "execution_count": 159,
     "metadata": {},
     "output_type": "execute_result"
    }
   ],
   "source": [
    "# Initialize engineered dataframe\n",
    "eng = df.copy()\n",
    "# Add columns for Variety elements\n",
    "eng['Artificial'] = df.Variety.str.contains('artificial', case=False)\n",
    "eng['Instant'] = df.Variety.str.contains('instant', case=False)\n",
    "eng['Chicken'] = eng.Variety.str.contains('chicken', case=False)\n",
    "eng['Beef'] = eng.Variety.str.contains('beef', case=False)\n",
    "eng['Shrimp'] = eng.Variety.str.contains('shrimp', case=False)\n",
    "eng['Seafood'] = eng.Variety.str.contains('fish', case=False) | eng.Variety.str.contains('seafood', case=False)\n",
    "eng['ChowMein'] = eng.Variety.str.contains('chow mein', case=False)\n",
    "eng['Spicy'] = eng.Variety.str.contains('spicy', case=False)\n",
    "eng['Veggie'] = eng.Variety.str.contains('vegetable', case=False) | eng.Variety.str.contains('vegetarian', case=False)\n",
    "# Check work\n",
    "eng.head(3)"
   ]
  },
  {
   "cell_type": "code",
   "execution_count": 160,
   "id": "bf0868c6",
   "metadata": {},
   "outputs": [],
   "source": [
    "# Encoding\n",
    "eng = pd.get_dummies(eng, columns=['Style','Country']).drop(columns=['Review #','Brand','Variety'])"
   ]
  },
  {
   "cell_type": "code",
   "execution_count": 161,
   "id": "b4b43757",
   "metadata": {},
   "outputs": [
    {
     "data": {
      "text/plain": [
       "((988, 34), (330, 34), (330, 34))"
      ]
     },
     "execution_count": 161,
     "metadata": {},
     "output_type": "execute_result"
    }
   ],
   "source": [
    "# Split\n",
    "train_validate, test = train_test_split(eng, test_size=0.2, random_state=99)\n",
    "train, validate = train_test_split(train_validate, test_size=0.25, random_state=99)\n",
    "train.shape, validate.shape, test.shape"
   ]
  },
  {
   "cell_type": "code",
   "execution_count": 162,
   "id": "2bdea1b6",
   "metadata": {},
   "outputs": [],
   "source": [
    "# Isolate target\n",
    "X_train, y_train = train.drop(columns='Stars'), train.Stars\n",
    "X_validate, y_validate = validate.drop(columns='Stars'), validate.Stars\n",
    "X_test, y_test = test.drop(columns='Stars'), test.Stars"
   ]
  },
  {
   "cell_type": "markdown",
   "id": "d138c9b9",
   "metadata": {},
   "source": [
    "### Model!"
   ]
  },
  {
   "cell_type": "code",
   "execution_count": 163,
   "id": "e894d330",
   "metadata": {},
   "outputs": [
    {
     "name": "stdout",
     "output_type": "stream",
     "text": [
      "0.6204453441295547\n",
      "0.4303030303030303\n"
     ]
    }
   ],
   "source": [
    "rf_v2_1 = RandomForestClassifier(n_estimators=1, random_state=99)\n",
    "rf_v2_1.fit(X_train, y_train)\n",
    "print((rf_v2_1.predict(X_train) == y_train).mean())\n",
    "print((rf_v2_1.predict(X_validate) == y_validate).mean())"
   ]
  },
  {
   "cell_type": "code",
   "execution_count": 164,
   "id": "9c327b01",
   "metadata": {},
   "outputs": [
    {
     "name": "stdout",
     "output_type": "stream",
     "text": [
      "0.5576923076923077\n",
      "0.5424242424242425\n"
     ]
    }
   ],
   "source": [
    "tree_v2_1 = DecisionTreeClassifier(max_depth=2, min_samples_leaf=1, random_state=123)\n",
    "tree_v2_1.fit(X_train, y_train)\n",
    "print((tree_v2_1.predict(X_train) == y_train).mean())\n",
    "print((tree_v2_1.predict(X_validate) == y_validate).mean())"
   ]
  },
  {
   "cell_type": "code",
   "execution_count": 165,
   "id": "70ef83b3",
   "metadata": {},
   "outputs": [
    {
     "name": "stdout",
     "output_type": "stream",
     "text": [
      "0.5526315789473685\n",
      "0.5333333333333333\n"
     ]
    }
   ],
   "source": [
    "knn_v2_1 = KNeighborsClassifier(n_neighbors=40)\n",
    "knn_v2_1.fit(X_train, y_train)\n",
    "print((knn_v2_1.predict(X_train) == y_train).mean())\n",
    "print((knn_v2_1.predict(X_validate) == y_validate).mean())"
   ]
  },
  {
   "cell_type": "code",
   "execution_count": 166,
   "id": "6f7d53ea",
   "metadata": {},
   "outputs": [
    {
     "name": "stdout",
     "output_type": "stream",
     "text": [
      "0.5678137651821862\n",
      "0.5333333333333333\n"
     ]
    }
   ],
   "source": [
    "logit_v2_1 = LogisticRegression(random_state=123)\n",
    "logit_v2_1.fit(X_train, y_train)\n",
    "print((logit_v2_1.predict(X_train) == y_train).mean())\n",
    "print((logit_v2_1.predict(X_validate) == y_validate).mean())"
   ]
  },
  {
   "cell_type": "markdown",
   "id": "2c0f6965",
   "metadata": {},
   "source": [
    "### Modeling Results\n",
    "Decision Tree performed best of the models, but performed almost exactly the same as baseline."
   ]
  },
  {
   "cell_type": "markdown",
   "id": "bea6bd6e",
   "metadata": {},
   "source": [
    "# Goal Wrap-Up\n",
    "Through this classification approach, I've been able to beat mean baseline on both the precise rating and imprecise rating target."
   ]
  },
  {
   "cell_type": "code",
   "execution_count": null,
   "id": "76bcd579",
   "metadata": {},
   "outputs": [],
   "source": []
  }
 ],
 "metadata": {
  "kernelspec": {
   "display_name": "Python 3 (ipykernel)",
   "language": "python",
   "name": "python3"
  },
  "language_info": {
   "codemirror_mode": {
    "name": "ipython",
    "version": 3
   },
   "file_extension": ".py",
   "mimetype": "text/x-python",
   "name": "python",
   "nbconvert_exporter": "python",
   "pygments_lexer": "ipython3",
   "version": "3.8.8"
  }
 },
 "nbformat": 4,
 "nbformat_minor": 5
}
