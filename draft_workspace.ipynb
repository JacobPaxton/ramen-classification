{
 "cells": [
  {
   "cell_type": "markdown",
   "id": "6f2e2796",
   "metadata": {},
   "source": [
    "# Ramen Classification\n",
    "\n",
    "**Goal**: Accurately predict a ramen's rating (Stars) using the brand, variety, style and country of the ramen."
   ]
  },
  {
   "cell_type": "markdown",
   "id": "4d112bf7",
   "metadata": {},
   "source": [
    "# Imports"
   ]
  },
  {
   "cell_type": "code",
   "execution_count": 1,
   "id": "3a3803d5",
   "metadata": {},
   "outputs": [],
   "source": [
    "import numpy as np\n",
    "import pandas as pd\n",
    "import seaborn as sns\n",
    "import matplotlib.pyplot as plt\n",
    "import scipy.stats as stats\n",
    "\n",
    "from sklearn.model_selection import train_test_split"
   ]
  },
  {
   "cell_type": "code",
   "execution_count": 2,
   "id": "df4e1340",
   "metadata": {},
   "outputs": [
    {
     "data": {
      "text/html": [
       "<div>\n",
       "<style scoped>\n",
       "    .dataframe tbody tr th:only-of-type {\n",
       "        vertical-align: middle;\n",
       "    }\n",
       "\n",
       "    .dataframe tbody tr th {\n",
       "        vertical-align: top;\n",
       "    }\n",
       "\n",
       "    .dataframe thead th {\n",
       "        text-align: right;\n",
       "    }\n",
       "</style>\n",
       "<table border=\"1\" class=\"dataframe\">\n",
       "  <thead>\n",
       "    <tr style=\"text-align: right;\">\n",
       "      <th></th>\n",
       "      <th>Review #</th>\n",
       "      <th>Brand</th>\n",
       "      <th>Variety</th>\n",
       "      <th>Style</th>\n",
       "      <th>Country</th>\n",
       "      <th>Stars</th>\n",
       "      <th>Top Ten</th>\n",
       "    </tr>\n",
       "  </thead>\n",
       "  <tbody>\n",
       "    <tr>\n",
       "      <th>0</th>\n",
       "      <td>2580</td>\n",
       "      <td>New Touch</td>\n",
       "      <td>T's Restaurant Tantanmen</td>\n",
       "      <td>Cup</td>\n",
       "      <td>Japan</td>\n",
       "      <td>3.75</td>\n",
       "      <td>NaN</td>\n",
       "    </tr>\n",
       "    <tr>\n",
       "      <th>1</th>\n",
       "      <td>2579</td>\n",
       "      <td>Just Way</td>\n",
       "      <td>Noodles Spicy Hot Sesame Spicy Hot Sesame Guan...</td>\n",
       "      <td>Pack</td>\n",
       "      <td>Taiwan</td>\n",
       "      <td>1</td>\n",
       "      <td>NaN</td>\n",
       "    </tr>\n",
       "    <tr>\n",
       "      <th>2</th>\n",
       "      <td>2578</td>\n",
       "      <td>Nissin</td>\n",
       "      <td>Cup Noodles Chicken Vegetable</td>\n",
       "      <td>Cup</td>\n",
       "      <td>USA</td>\n",
       "      <td>2.25</td>\n",
       "      <td>NaN</td>\n",
       "    </tr>\n",
       "  </tbody>\n",
       "</table>\n",
       "</div>"
      ],
      "text/plain": [
       "   Review #      Brand                                            Variety  \\\n",
       "0      2580  New Touch                          T's Restaurant Tantanmen    \n",
       "1      2579   Just Way  Noodles Spicy Hot Sesame Spicy Hot Sesame Guan...   \n",
       "2      2578     Nissin                      Cup Noodles Chicken Vegetable   \n",
       "\n",
       "  Style Country Stars Top Ten  \n",
       "0   Cup   Japan  3.75     NaN  \n",
       "1  Pack  Taiwan     1     NaN  \n",
       "2   Cup     USA  2.25     NaN  "
      ]
     },
     "execution_count": 2,
     "metadata": {},
     "output_type": "execute_result"
    }
   ],
   "source": [
    "df = pd.read_csv('ramen-ratings.csv')\n",
    "df.head(3)"
   ]
  },
  {
   "cell_type": "markdown",
   "id": "810a71f2",
   "metadata": {},
   "source": [
    "# Tidying Data (dtypes, nulls, etc)"
   ]
  },
  {
   "cell_type": "code",
   "execution_count": 3,
   "id": "adfc0f1f",
   "metadata": {},
   "outputs": [
    {
     "data": {
      "text/plain": [
       "Review #     int64\n",
       "Brand       object\n",
       "Variety     object\n",
       "Style       object\n",
       "Country     object\n",
       "Stars       object\n",
       "Top Ten     object\n",
       "dtype: object"
      ]
     },
     "execution_count": 3,
     "metadata": {},
     "output_type": "execute_result"
    }
   ],
   "source": [
    "### Identify dtypes that need to be fixed ###\n",
    "df.dtypes"
   ]
  },
  {
   "cell_type": "code",
   "execution_count": 4,
   "id": "542fc748",
   "metadata": {},
   "outputs": [
    {
     "data": {
      "text/plain": [
       "array(['3.75', '1', '2.25', '2.75', '4.75', '4', '0.25', '2.5', '5',\n",
       "       '4.25', '4.5', '3.5', 'Unrated', '1.5', '3.25', '2', '0', '3',\n",
       "       '0.5', '4.00', '5.0', '3.50', '3.8', '4.3', '2.3', '5.00', '3.3',\n",
       "       '4.0', '3.00', '1.75', '3.0', '4.50', '0.75', '1.25', '1.1', '2.1',\n",
       "       '0.9', '3.1', '4.125', '3.125', '2.125', '2.9', '0.1', '2.8',\n",
       "       '3.7', '3.4', '3.6', '2.85', '3.2', '3.65', '1.8'], dtype=object)"
      ]
     },
     "execution_count": 4,
     "metadata": {},
     "output_type": "execute_result"
    }
   ],
   "source": [
    "### Cast review number as string ###\n",
    "df['Review #'] = df['Review #'].astype('str')\n",
    "### Identify non-float numbers in Stars column ###\n",
    "df.Stars.unique()"
   ]
  },
  {
   "cell_type": "code",
   "execution_count": 5,
   "id": "fbc72d3c",
   "metadata": {},
   "outputs": [
    {
     "data": {
      "text/html": [
       "<div>\n",
       "<style scoped>\n",
       "    .dataframe tbody tr th:only-of-type {\n",
       "        vertical-align: middle;\n",
       "    }\n",
       "\n",
       "    .dataframe tbody tr th {\n",
       "        vertical-align: top;\n",
       "    }\n",
       "\n",
       "    .dataframe thead th {\n",
       "        text-align: right;\n",
       "    }\n",
       "</style>\n",
       "<table border=\"1\" class=\"dataframe\">\n",
       "  <thead>\n",
       "    <tr style=\"text-align: right;\">\n",
       "      <th></th>\n",
       "      <th>Review #</th>\n",
       "      <th>Brand</th>\n",
       "      <th>Variety</th>\n",
       "      <th>Style</th>\n",
       "      <th>Country</th>\n",
       "      <th>Stars</th>\n",
       "      <th>Top Ten</th>\n",
       "    </tr>\n",
       "  </thead>\n",
       "  <tbody>\n",
       "    <tr>\n",
       "      <th>32</th>\n",
       "      <td>2548</td>\n",
       "      <td>Ottogi</td>\n",
       "      <td>Plain Instant Noodle No Soup Included</td>\n",
       "      <td>Pack</td>\n",
       "      <td>South Korea</td>\n",
       "      <td>Unrated</td>\n",
       "      <td>NaN</td>\n",
       "    </tr>\n",
       "    <tr>\n",
       "      <th>122</th>\n",
       "      <td>2458</td>\n",
       "      <td>Samyang Foods</td>\n",
       "      <td>Sari Ramen</td>\n",
       "      <td>Pack</td>\n",
       "      <td>South Korea</td>\n",
       "      <td>Unrated</td>\n",
       "      <td>NaN</td>\n",
       "    </tr>\n",
       "    <tr>\n",
       "      <th>993</th>\n",
       "      <td>1587</td>\n",
       "      <td>Mi E-Zee</td>\n",
       "      <td>Plain Noodles</td>\n",
       "      <td>Pack</td>\n",
       "      <td>Malaysia</td>\n",
       "      <td>Unrated</td>\n",
       "      <td>NaN</td>\n",
       "    </tr>\n",
       "  </tbody>\n",
       "</table>\n",
       "</div>"
      ],
      "text/plain": [
       "    Review #          Brand                                Variety Style  \\\n",
       "32      2548         Ottogi  Plain Instant Noodle No Soup Included  Pack   \n",
       "122     2458  Samyang Foods                             Sari Ramen  Pack   \n",
       "993     1587       Mi E-Zee                          Plain Noodles  Pack   \n",
       "\n",
       "         Country    Stars Top Ten  \n",
       "32   South Korea  Unrated     NaN  \n",
       "122  South Korea  Unrated     NaN  \n",
       "993     Malaysia  Unrated     NaN  "
      ]
     },
     "execution_count": 5,
     "metadata": {},
     "output_type": "execute_result"
    }
   ],
   "source": [
    "### Locate the index of non-float values in Stars ###\n",
    "df[df.Stars == 'Unrated']"
   ]
  },
  {
   "cell_type": "code",
   "execution_count": 6,
   "id": "d0079360",
   "metadata": {},
   "outputs": [],
   "source": [
    "### Drop those indices ###\n",
    "df = df.drop([32,122,993])"
   ]
  },
  {
   "cell_type": "code",
   "execution_count": 7,
   "id": "890a28a6",
   "metadata": {},
   "outputs": [
    {
     "data": {
      "text/plain": [
       "Review #     object\n",
       "Brand        object\n",
       "Variety      object\n",
       "Style        object\n",
       "Country      object\n",
       "Stars       float64\n",
       "Top Ten      object\n",
       "dtype: object"
      ]
     },
     "execution_count": 7,
     "metadata": {},
     "output_type": "execute_result"
    }
   ],
   "source": [
    "### Cast Stars as float ###\n",
    "df['Stars'] = df['Stars'].astype('float')\n",
    "df.dtypes"
   ]
  },
  {
   "cell_type": "code",
   "execution_count": 8,
   "id": "982a61c4",
   "metadata": {},
   "outputs": [
    {
     "data": {
      "text/plain": [
       "Pack    1528\n",
       "Bowl     481\n",
       "Cup      450\n",
       "Tray     108\n",
       "Box        6\n",
       "Can        1\n",
       "Bar        1\n",
       "Name: Style, dtype: int64"
      ]
     },
     "execution_count": 8,
     "metadata": {},
     "output_type": "execute_result"
    }
   ],
   "source": [
    "### Identify low-count values in Style ###\n",
    "df.Style.value_counts()"
   ]
  },
  {
   "cell_type": "code",
   "execution_count": 9,
   "id": "c7e30c44",
   "metadata": {},
   "outputs": [
    {
     "data": {
      "text/html": [
       "<div>\n",
       "<style scoped>\n",
       "    .dataframe tbody tr th:only-of-type {\n",
       "        vertical-align: middle;\n",
       "    }\n",
       "\n",
       "    .dataframe tbody tr th {\n",
       "        vertical-align: top;\n",
       "    }\n",
       "\n",
       "    .dataframe thead th {\n",
       "        text-align: right;\n",
       "    }\n",
       "</style>\n",
       "<table border=\"1\" class=\"dataframe\">\n",
       "  <thead>\n",
       "    <tr style=\"text-align: right;\">\n",
       "      <th></th>\n",
       "      <th>Review #</th>\n",
       "      <th>Brand</th>\n",
       "      <th>Variety</th>\n",
       "      <th>Style</th>\n",
       "      <th>Country</th>\n",
       "      <th>Stars</th>\n",
       "      <th>Top Ten</th>\n",
       "    </tr>\n",
       "  </thead>\n",
       "  <tbody>\n",
       "    <tr>\n",
       "      <th>36</th>\n",
       "      <td>2544</td>\n",
       "      <td>Lipton</td>\n",
       "      <td>Cup-A-Soup Chicken Noodle With White Meat Inst...</td>\n",
       "      <td>Box</td>\n",
       "      <td>USA</td>\n",
       "      <td>1.50</td>\n",
       "      <td>NaN</td>\n",
       "    </tr>\n",
       "    <tr>\n",
       "      <th>80</th>\n",
       "      <td>2500</td>\n",
       "      <td>The Ramen Rater Select</td>\n",
       "      <td>Supreme Creamy Tom Yum Noodle</td>\n",
       "      <td>Box</td>\n",
       "      <td>Malaysia</td>\n",
       "      <td>5.00</td>\n",
       "      <td>NaN</td>\n",
       "    </tr>\n",
       "    <tr>\n",
       "      <th>139</th>\n",
       "      <td>2441</td>\n",
       "      <td>MyKuali</td>\n",
       "      <td>Penang Hokkien Prawn Flavor Noodle</td>\n",
       "      <td>Box</td>\n",
       "      <td>Japan</td>\n",
       "      <td>5.00</td>\n",
       "      <td>NaN</td>\n",
       "    </tr>\n",
       "    <tr>\n",
       "      <th>161</th>\n",
       "      <td>2419</td>\n",
       "      <td>MyKuali</td>\n",
       "      <td>Penang Red Tom Yum Goong</td>\n",
       "      <td>Box</td>\n",
       "      <td>Japan</td>\n",
       "      <td>5.00</td>\n",
       "      <td>NaN</td>\n",
       "    </tr>\n",
       "    <tr>\n",
       "      <th>203</th>\n",
       "      <td>2377</td>\n",
       "      <td>MyKuali</td>\n",
       "      <td>Penang White Curry Instant Noodle (Japan Version)</td>\n",
       "      <td>Box</td>\n",
       "      <td>Malaysia</td>\n",
       "      <td>5.00</td>\n",
       "      <td>NaN</td>\n",
       "    </tr>\n",
       "    <tr>\n",
       "      <th>1471</th>\n",
       "      <td>1109</td>\n",
       "      <td>La Fonte</td>\n",
       "      <td>Spaghetti With Bolognese Sauce</td>\n",
       "      <td>Box</td>\n",
       "      <td>Indonesia</td>\n",
       "      <td>4.25</td>\n",
       "      <td>NaN</td>\n",
       "    </tr>\n",
       "  </tbody>\n",
       "</table>\n",
       "</div>"
      ],
      "text/plain": [
       "     Review #                   Brand  \\\n",
       "36       2544                  Lipton   \n",
       "80       2500  The Ramen Rater Select   \n",
       "139      2441                 MyKuali   \n",
       "161      2419                 MyKuali   \n",
       "203      2377                 MyKuali   \n",
       "1471     1109                La Fonte   \n",
       "\n",
       "                                                Variety Style    Country  \\\n",
       "36    Cup-A-Soup Chicken Noodle With White Meat Inst...   Box        USA   \n",
       "80                        Supreme Creamy Tom Yum Noodle   Box   Malaysia   \n",
       "139                  Penang Hokkien Prawn Flavor Noodle   Box      Japan   \n",
       "161                            Penang Red Tom Yum Goong   Box      Japan   \n",
       "203   Penang White Curry Instant Noodle (Japan Version)   Box   Malaysia   \n",
       "1471                     Spaghetti With Bolognese Sauce   Box  Indonesia   \n",
       "\n",
       "      Stars Top Ten  \n",
       "36     1.50     NaN  \n",
       "80     5.00     NaN  \n",
       "139    5.00     NaN  \n",
       "161    5.00     NaN  \n",
       "203    5.00     NaN  \n",
       "1471   4.25     NaN  "
      ]
     },
     "execution_count": 9,
     "metadata": {},
     "output_type": "execute_result"
    }
   ],
   "source": [
    "### Locate indices of low-count Style ###\n",
    "df[df.Style == 'Box']"
   ]
  },
  {
   "cell_type": "code",
   "execution_count": 10,
   "id": "71522c86",
   "metadata": {},
   "outputs": [],
   "source": [
    "### Drop those indices ###\n",
    "df.drop([36,80,139,161,203,1471], inplace=True)"
   ]
  },
  {
   "cell_type": "code",
   "execution_count": 11,
   "id": "daea2a3a",
   "metadata": {},
   "outputs": [
    {
     "data": {
      "text/html": [
       "<div>\n",
       "<style scoped>\n",
       "    .dataframe tbody tr th:only-of-type {\n",
       "        vertical-align: middle;\n",
       "    }\n",
       "\n",
       "    .dataframe tbody tr th {\n",
       "        vertical-align: top;\n",
       "    }\n",
       "\n",
       "    .dataframe thead th {\n",
       "        text-align: right;\n",
       "    }\n",
       "</style>\n",
       "<table border=\"1\" class=\"dataframe\">\n",
       "  <thead>\n",
       "    <tr style=\"text-align: right;\">\n",
       "      <th></th>\n",
       "      <th>Review #</th>\n",
       "      <th>Brand</th>\n",
       "      <th>Variety</th>\n",
       "      <th>Style</th>\n",
       "      <th>Country</th>\n",
       "      <th>Stars</th>\n",
       "      <th>Top Ten</th>\n",
       "    </tr>\n",
       "  </thead>\n",
       "  <tbody>\n",
       "    <tr>\n",
       "      <th>67</th>\n",
       "      <td>2513</td>\n",
       "      <td>Pringles</td>\n",
       "      <td>Nissin Top Ramen Chicken Flavor Potato Crisps</td>\n",
       "      <td>Can</td>\n",
       "      <td>USA</td>\n",
       "      <td>3.5</td>\n",
       "      <td>NaN</td>\n",
       "    </tr>\n",
       "    <tr>\n",
       "      <th>1425</th>\n",
       "      <td>1155</td>\n",
       "      <td>Komforte Chockolates</td>\n",
       "      <td>Savory Ramen</td>\n",
       "      <td>Bar</td>\n",
       "      <td>USA</td>\n",
       "      <td>5.0</td>\n",
       "      <td>NaN</td>\n",
       "    </tr>\n",
       "  </tbody>\n",
       "</table>\n",
       "</div>"
      ],
      "text/plain": [
       "     Review #                 Brand  \\\n",
       "67       2513              Pringles   \n",
       "1425     1155  Komforte Chockolates   \n",
       "\n",
       "                                             Variety Style Country  Stars  \\\n",
       "67    Nissin Top Ramen Chicken Flavor Potato Crisps    Can     USA    3.5   \n",
       "1425                                   Savory Ramen    Bar     USA    5.0   \n",
       "\n",
       "     Top Ten  \n",
       "67       NaN  \n",
       "1425     NaN  "
      ]
     },
     "execution_count": 11,
     "metadata": {},
     "output_type": "execute_result"
    }
   ],
   "source": [
    "### Locate more indices of low-count Styles ###\n",
    "df[(df.Style == 'Can') | (df.Style == 'Bar')]"
   ]
  },
  {
   "cell_type": "code",
   "execution_count": 12,
   "id": "97b5f761",
   "metadata": {},
   "outputs": [],
   "source": [
    "### Drop those indices ###\n",
    "df.drop([67,1425], inplace=True)"
   ]
  },
  {
   "cell_type": "code",
   "execution_count": 13,
   "id": "f19522ec",
   "metadata": {},
   "outputs": [
    {
     "data": {
      "text/plain": [
       "array(['Cup', 'Pack', 'Tray', 'Bowl', nan], dtype=object)"
      ]
     },
     "execution_count": 13,
     "metadata": {},
     "output_type": "execute_result"
    }
   ],
   "source": [
    "### Check work ###\n",
    "df.Style.unique()"
   ]
  },
  {
   "cell_type": "code",
   "execution_count": 14,
   "id": "7393e1f0",
   "metadata": {},
   "outputs": [
    {
     "data": {
      "text/plain": [
       "Review #       0\n",
       "Brand          0\n",
       "Variety        0\n",
       "Style          2\n",
       "Country        0\n",
       "Stars          0\n",
       "Top Ten     2528\n",
       "dtype: int64"
      ]
     },
     "execution_count": 14,
     "metadata": {},
     "output_type": "execute_result"
    }
   ],
   "source": [
    "### Check null counts ###\n",
    "df.isna().sum()"
   ]
  },
  {
   "cell_type": "code",
   "execution_count": 15,
   "id": "2861ce3b",
   "metadata": {},
   "outputs": [
    {
     "data": {
      "text/html": [
       "<div>\n",
       "<style scoped>\n",
       "    .dataframe tbody tr th:only-of-type {\n",
       "        vertical-align: middle;\n",
       "    }\n",
       "\n",
       "    .dataframe tbody tr th {\n",
       "        vertical-align: top;\n",
       "    }\n",
       "\n",
       "    .dataframe thead th {\n",
       "        text-align: right;\n",
       "    }\n",
       "</style>\n",
       "<table border=\"1\" class=\"dataframe\">\n",
       "  <thead>\n",
       "    <tr style=\"text-align: right;\">\n",
       "      <th></th>\n",
       "      <th>Review #</th>\n",
       "      <th>Brand</th>\n",
       "      <th>Variety</th>\n",
       "      <th>Style</th>\n",
       "      <th>Country</th>\n",
       "      <th>Stars</th>\n",
       "      <th>Top Ten</th>\n",
       "    </tr>\n",
       "  </thead>\n",
       "  <tbody>\n",
       "    <tr>\n",
       "      <th>2152</th>\n",
       "      <td>428</td>\n",
       "      <td>Kamfen</td>\n",
       "      <td>E Menm Chicken</td>\n",
       "      <td>NaN</td>\n",
       "      <td>China</td>\n",
       "      <td>3.75</td>\n",
       "      <td>NaN</td>\n",
       "    </tr>\n",
       "    <tr>\n",
       "      <th>2442</th>\n",
       "      <td>138</td>\n",
       "      <td>Unif</td>\n",
       "      <td>100 Furong Shrimp</td>\n",
       "      <td>NaN</td>\n",
       "      <td>Taiwan</td>\n",
       "      <td>3.00</td>\n",
       "      <td>NaN</td>\n",
       "    </tr>\n",
       "  </tbody>\n",
       "</table>\n",
       "</div>"
      ],
      "text/plain": [
       "     Review #   Brand            Variety Style Country  Stars Top Ten\n",
       "2152      428  Kamfen     E Menm Chicken   NaN   China   3.75     NaN\n",
       "2442      138    Unif  100 Furong Shrimp   NaN  Taiwan   3.00     NaN"
      ]
     },
     "execution_count": 15,
     "metadata": {},
     "output_type": "execute_result"
    }
   ],
   "source": [
    "### Identify indices for null Style ###\n",
    "df[df.Style.isna()]"
   ]
  },
  {
   "cell_type": "code",
   "execution_count": 16,
   "id": "4f100a1a",
   "metadata": {},
   "outputs": [],
   "source": [
    "### Drop those indices ###\n",
    "df.drop([2152, 2442], inplace=True)"
   ]
  },
  {
   "cell_type": "code",
   "execution_count": 17,
   "id": "0d219427",
   "metadata": {},
   "outputs": [
    {
     "data": {
      "text/plain": [
       "Review #       0\n",
       "Brand          0\n",
       "Variety        0\n",
       "Style          0\n",
       "Country        0\n",
       "Stars          0\n",
       "Top Ten     2526\n",
       "dtype: int64"
      ]
     },
     "execution_count": 17,
     "metadata": {},
     "output_type": "execute_result"
    }
   ],
   "source": [
    "### Check work ###\n",
    "df.isna().sum()"
   ]
  },
  {
   "cell_type": "code",
   "execution_count": 18,
   "id": "f887d4d3",
   "metadata": {},
   "outputs": [
    {
     "data": {
      "text/html": [
       "<div>\n",
       "<style scoped>\n",
       "    .dataframe tbody tr th:only-of-type {\n",
       "        vertical-align: middle;\n",
       "    }\n",
       "\n",
       "    .dataframe tbody tr th {\n",
       "        vertical-align: top;\n",
       "    }\n",
       "\n",
       "    .dataframe thead th {\n",
       "        text-align: right;\n",
       "    }\n",
       "</style>\n",
       "<table border=\"1\" class=\"dataframe\">\n",
       "  <thead>\n",
       "    <tr style=\"text-align: right;\">\n",
       "      <th></th>\n",
       "      <th>Review #</th>\n",
       "      <th>Brand</th>\n",
       "      <th>Variety</th>\n",
       "      <th>Style</th>\n",
       "      <th>Country</th>\n",
       "      <th>Stars</th>\n",
       "    </tr>\n",
       "  </thead>\n",
       "  <tbody>\n",
       "    <tr>\n",
       "      <th>0</th>\n",
       "      <td>2580</td>\n",
       "      <td>New Touch</td>\n",
       "      <td>T's Restaurant Tantanmen</td>\n",
       "      <td>Cup</td>\n",
       "      <td>Japan</td>\n",
       "      <td>3.75</td>\n",
       "    </tr>\n",
       "    <tr>\n",
       "      <th>1</th>\n",
       "      <td>2579</td>\n",
       "      <td>Just Way</td>\n",
       "      <td>Noodles Spicy Hot Sesame Spicy Hot Sesame Guan...</td>\n",
       "      <td>Pack</td>\n",
       "      <td>Taiwan</td>\n",
       "      <td>1.00</td>\n",
       "    </tr>\n",
       "    <tr>\n",
       "      <th>2</th>\n",
       "      <td>2578</td>\n",
       "      <td>Nissin</td>\n",
       "      <td>Cup Noodles Chicken Vegetable</td>\n",
       "      <td>Cup</td>\n",
       "      <td>USA</td>\n",
       "      <td>2.25</td>\n",
       "    </tr>\n",
       "  </tbody>\n",
       "</table>\n",
       "</div>"
      ],
      "text/plain": [
       "  Review #      Brand                                            Variety  \\\n",
       "0     2580  New Touch                          T's Restaurant Tantanmen    \n",
       "1     2579   Just Way  Noodles Spicy Hot Sesame Spicy Hot Sesame Guan...   \n",
       "2     2578     Nissin                      Cup Noodles Chicken Vegetable   \n",
       "\n",
       "  Style Country  Stars  \n",
       "0   Cup   Japan   3.75  \n",
       "1  Pack  Taiwan   1.00  \n",
       "2   Cup     USA   2.25  "
      ]
     },
     "execution_count": 18,
     "metadata": {},
     "output_type": "execute_result"
    }
   ],
   "source": [
    "### Drop high-nulls column Top Ten ###\n",
    "df.drop(columns='Top Ten', inplace=True)\n",
    "df.head(3)"
   ]
  },
  {
   "cell_type": "code",
   "execution_count": 19,
   "id": "a3622235",
   "metadata": {},
   "outputs": [
    {
     "data": {
      "text/plain": [
       "Nissin           381\n",
       "Nongshim          98\n",
       "Maruchan          76\n",
       "Mama              71\n",
       "Paldo             66\n",
       "Myojo             63\n",
       "Indomie           53\n",
       "Samyang Foods     51\n",
       "Ottogi            45\n",
       "Lucky Me!         34\n",
       "Name: Brand, dtype: int64"
      ]
     },
     "execution_count": 19,
     "metadata": {},
     "output_type": "execute_result"
    }
   ],
   "source": [
    "### Check value counts per Brand ###\n",
    "df.Brand.value_counts().head(10)"
   ]
  },
  {
   "cell_type": "code",
   "execution_count": 20,
   "id": "34115139",
   "metadata": {},
   "outputs": [
    {
     "data": {
      "text/plain": [
       "Chicken                                 7\n",
       "Beef                                    7\n",
       "Yakisoba                                6\n",
       "Vegetable                               6\n",
       "Artificial Chicken                      6\n",
       "                                       ..\n",
       "Otentiq Cheezy Curry Instant Noodles    1\n",
       "Mi Goreng Dengan Abon                   1\n",
       "Grilled Pork Flavour Instant Noodles    1\n",
       "Hao Hao Sate Onion Flavour              1\n",
       "Tom Yum Chili Flavor                    1\n",
       "Name: Variety, Length: 2400, dtype: int64"
      ]
     },
     "execution_count": 20,
     "metadata": {},
     "output_type": "execute_result"
    }
   ],
   "source": [
    "### Check value counts per variety ###\n",
    "df.Variety.value_counts() # 2400 unique values, too many to plot"
   ]
  },
  {
   "cell_type": "code",
   "execution_count": 21,
   "id": "c297dad2",
   "metadata": {
    "scrolled": false
   },
   "outputs": [
    {
     "data": {
      "image/png": "[encoded data removed]",
      "text/plain": [
       "<Figure size 720x504 with 1 Axes>"
      ]
     },
     "metadata": {
      "needs_background": "light"
     },
     "output_type": "display_data"
    },
    {
     "data": {
      "image/png": "[encoded data removed]",
      "text/plain": [
       "<Figure size 720x504 with 1 Axes>"
      ]
     },
     "metadata": {
      "needs_background": "light"
     },
     "output_type": "display_data"
    },
    {
     "data": {
      "image/png": "[encoded data removed]",
      "text/plain": [
       "<Figure size 720x504 with 1 Axes>"
      ]
     },
     "metadata": {
      "needs_background": "light"
     },
     "output_type": "display_data"
    },
    {
     "data": {
      "image/png": "[encoded data removed]",
      "text/plain": [
       "<Figure size 720x504 with 1 Axes>"
      ]
     },
     "metadata": {
      "needs_background": "light"
     },
     "output_type": "display_data"
    }
   ],
   "source": [
    "### Plot distributions ###\n",
    "## Count by Stars ##\n",
    "plt.figure(figsize=(10,7))\n",
    "df.Stars.value_counts().sort_index().plot(kind='barh')\n",
    "plt.show()\n",
    "## Count by Styles ##\n",
    "plt.figure(figsize=(10,7))\n",
    "df.Style.value_counts(ascending=True).plot(kind='barh')\n",
    "plt.show()\n",
    "## Count by Country ##\n",
    "plt.figure(figsize=(10,7))\n",
    "df.Country.value_counts(ascending=True).plot(kind='barh')\n",
    "plt.show()\n",
    "## Count by Brand ##\n",
    "plt.figure(figsize=(10,7))\n",
    "brand_array = df.Brand.value_counts(ascending=False)[:30].sort_values(ascending=True)\n",
    "brand_array.plot(kind='barh')\n",
    "plt.show()"
   ]
  },
  {
   "cell_type": "markdown",
   "id": "07cc3888",
   "metadata": {},
   "source": [
    "# Split Data"
   ]
  },
  {
   "cell_type": "code",
   "execution_count": 22,
   "id": "2e67fb96",
   "metadata": {},
   "outputs": [],
   "source": [
    "### Split into subsets ###\n",
    "train_validate, test = train_test_split(df, test_size=0.2, random_state=123)\n",
    "train, validate = train_test_split(train_validate, test_size=0.25, random_state=123)\n",
    "### Isolate targets ###\n",
    "X_train, y_train = train.drop(columns='Stars'), train.Stars\n",
    "X_validate, y_validate = validate.drop(columns='Stars'), validate.Stars\n",
    "X_test, y_test = test.drop(columns='Stars'), test.Stars"
   ]
  },
  {
   "cell_type": "markdown",
   "id": "78418b89",
   "metadata": {},
   "source": [
    "# Explore Data"
   ]
  },
  {
   "cell_type": "markdown",
   "id": "b1d5a373",
   "metadata": {},
   "source": [
    "## Do bowls rank statistically higher than cups?\n",
    "Confidence interval: 95%\n",
    "\n",
    "$H_0$: Bowls do not rank statistically higher than cups.\n",
    "\n",
    "$H_a$: Bowls rank statistically higher than cups."
   ]
  },
  {
   "cell_type": "code",
   "execution_count": 23,
   "id": "19be766d",
   "metadata": {},
   "outputs": [
    {
     "data": {
      "image/png": "[encoded data removed]",
      "text/plain": [
       "<Figure size 432x288 with 1 Axes>"
      ]
     },
     "metadata": {
      "needs_background": "light"
     },
     "output_type": "display_data"
    }
   ],
   "source": [
    "### Visualize Comparison ###\n",
    "sns.boxplot(data=train, x='Style', y='Stars')\n",
    "plt.title('Ramen Styles and their Ratings')\n",
    "plt.show()"
   ]
  },
  {
   "cell_type": "code",
   "execution_count": 24,
   "id": "290a2f22",
   "metadata": {},
   "outputs": [
    {
     "name": "stdout",
     "output_type": "stream",
     "text": [
      "Bowls rank statistically higher than cups. We reject the null hypothesis with 95% confidence.\n"
     ]
    }
   ],
   "source": [
    "### Hypothesis Testing ###\n",
    "alpha = .05\n",
    "t, p = stats.mannwhitneyu(train[train.Style == 'Bowl'].Stars, \n",
    "                          train[train.Style == 'Cup'].Stars,\n",
    "                          alternative='greater')\n",
    "\n",
    "if t > 0 and p < alpha:\n",
    "    print('Bowls rank statistically higher than cups. We reject the null hypothesis with 95% confidence.')\n",
    "else:\n",
    "    print('Bowls do not rank statistically higher than cups. Results do not breach the 95% confidence threshold.')"
   ]
  },
  {
   "cell_type": "markdown",
   "id": "289fc9d3",
   "metadata": {},
   "source": [
    "## Does Japan produce better ramen than USA?\n",
    "Confidence interval: 95%\n",
    "\n",
    "$H_0$: Japan does not statistically produce better-rated ramen than USA.\n",
    "\n",
    "$H_a$: Japan statistically produces better-rated ramen than USA."
   ]
  },
  {
   "cell_type": "code",
   "execution_count": 25,
   "id": "37e75807",
   "metadata": {},
   "outputs": [
    {
     "data": {
      "image/png": "[encoded data removed]",
      "text/plain": [
       "<Figure size 432x288 with 1 Axes>"
      ]
     },
     "metadata": {
      "needs_background": "light"
     },
     "output_type": "display_data"
    }
   ],
   "source": [
    "### Visualize comparison ##\n",
    "sns.boxplot(data=train[(train.Country == 'Japan') | (train.Country == 'USA')], \n",
    "           x='Country',\n",
    "           y='Stars')\n",
    "plt.title('USA and Japan for Ramen Ratings')\n",
    "plt.show()"
   ]
  },
  {
   "cell_type": "code",
   "execution_count": 26,
   "id": "8ec4dda3",
   "metadata": {},
   "outputs": [
    {
     "name": "stdout",
     "output_type": "stream",
     "text": [
      "Japan statistically produces better-rated ramen than USA.\n",
      "            We reject the null hypothesis with 95% confidence.\n"
     ]
    }
   ],
   "source": [
    "### Hypothesis Testing ###\n",
    "alpha = .05\n",
    "t, p = stats.mannwhitneyu(train[train.Country == 'Japan'].Stars, \n",
    "                          train[train.Country == 'USA'].Stars,\n",
    "                          alternative='greater')\n",
    "\n",
    "if t > 0 and p < alpha:\n",
    "    print('Japan statistically produces better-rated ramen than USA.\\n\\\n",
    "            We reject the null hypothesis with 95% confidence.')\n",
    "else:\n",
    "    print('Japan does not statistically produce better-rated ramen than USA.\\n\\\n",
    "            Results do not breach the 95% confidence threshold.')"
   ]
  },
  {
   "cell_type": "markdown",
   "id": "a069ab93",
   "metadata": {},
   "source": [
    "## Does Japan produce better ramen than the countries with over 100 ramen reviews?\n",
    "Confidence interval: 95%\n",
    "\n",
    "$H_0$: Japan does not statistically produce better-rated ramen than USA.\n",
    "\n",
    "$H_a$: Japan statistically produces better-rated ramen than USA."
   ]
  },
  {
   "cell_type": "code",
   "execution_count": 27,
   "id": "89bc9de2",
   "metadata": {},
   "outputs": [],
   "source": [
    "### Get Country Names (top 11 countries have over 100 ramen reviews) ###\n",
    "countries = train.Country.value_counts()[:11].index.to_list()"
   ]
  },
  {
   "cell_type": "code",
   "execution_count": 28,
   "id": "197914ea",
   "metadata": {},
   "outputs": [
    {
     "data": {
      "text/plain": [
       "array(['Japan', 'USA', 'Taiwan', 'Thailand', 'China', 'Malaysia',\n",
       "       'Hong Kong', 'Indonesia', 'Singapore', 'Vietnam'], dtype=object)"
      ]
     },
     "execution_count": 28,
     "metadata": {},
     "output_type": "execute_result"
    }
   ],
   "source": [
    "### Put top 11 countries to new dataframe ###\n",
    "train_top11 = train[train.Country == 'Japan']\n",
    "for country in countries[1:]:\n",
    "    train_top11 = train_top11.append(train[train.Country == country])\n",
    "train_top11.Country.unique()"
   ]
  },
  {
   "cell_type": "code",
   "execution_count": 29,
   "id": "807d2efa",
   "metadata": {},
   "outputs": [
    {
     "data": {
      "image/png": "[encoded data removed]",
      "text/plain": [
       "<Figure size 1080x720 with 1 Axes>"
      ]
     },
     "metadata": {
      "needs_background": "light"
     },
     "output_type": "display_data"
    }
   ],
   "source": [
    "### Visualize Comparisons of top 11 Countries ###\n",
    "plt.figure(figsize=(15,10))\n",
    "sns.boxplot(data=train_top11, x='Country', y='Stars')\n",
    "plt.title('Ramen Ratings by Country in Top-11 Most-Reviewed Countries')\n",
    "plt.show()"
   ]
  },
  {
   "cell_type": "code",
   "execution_count": 30,
   "id": "7fde6420",
   "metadata": {},
   "outputs": [
    {
     "data": {
      "text/html": [
       "<div>\n",
       "<style scoped>\n",
       "    .dataframe tbody tr th:only-of-type {\n",
       "        vertical-align: middle;\n",
       "    }\n",
       "\n",
       "    .dataframe tbody tr th {\n",
       "        vertical-align: top;\n",
       "    }\n",
       "\n",
       "    .dataframe thead th {\n",
       "        text-align: right;\n",
       "    }\n",
       "</style>\n",
       "<table border=\"1\" class=\"dataframe\">\n",
       "  <thead>\n",
       "    <tr style=\"text-align: right;\">\n",
       "      <th></th>\n",
       "      <th>Review #</th>\n",
       "      <th>Brand</th>\n",
       "      <th>Variety</th>\n",
       "      <th>Style</th>\n",
       "      <th>Country</th>\n",
       "      <th>Stars</th>\n",
       "      <th>is_Japan</th>\n",
       "    </tr>\n",
       "  </thead>\n",
       "  <tbody>\n",
       "    <tr>\n",
       "      <th>2385</th>\n",
       "      <td>195</td>\n",
       "      <td>Myojo</td>\n",
       "      <td>Chukazanmai Served Cool Sesame Flavored Rice V...</td>\n",
       "      <td>Pack</td>\n",
       "      <td>Japan</td>\n",
       "      <td>3.00</td>\n",
       "      <td>True</td>\n",
       "    </tr>\n",
       "    <tr>\n",
       "      <th>55</th>\n",
       "      <td>2525</td>\n",
       "      <td>Sokensha</td>\n",
       "      <td>Curry Udon</td>\n",
       "      <td>Pack</td>\n",
       "      <td>Japan</td>\n",
       "      <td>3.50</td>\n",
       "      <td>True</td>\n",
       "    </tr>\n",
       "    <tr>\n",
       "      <th>1149</th>\n",
       "      <td>1431</td>\n",
       "      <td>Maggi</td>\n",
       "      <td>Extra Spicy Curry Instant Noodles</td>\n",
       "      <td>Pack</td>\n",
       "      <td>Singapore</td>\n",
       "      <td>5.00</td>\n",
       "      <td>False</td>\n",
       "    </tr>\n",
       "    <tr>\n",
       "      <th>1852</th>\n",
       "      <td>728</td>\n",
       "      <td>Indomie</td>\n",
       "      <td>Rasa Kari Ayam Medan</td>\n",
       "      <td>Pack</td>\n",
       "      <td>Indonesia</td>\n",
       "      <td>5.00</td>\n",
       "      <td>False</td>\n",
       "    </tr>\n",
       "    <tr>\n",
       "      <th>2372</th>\n",
       "      <td>208</td>\n",
       "      <td>Sao Tao</td>\n",
       "      <td>Ramen King Scallop Seafood</td>\n",
       "      <td>Pack</td>\n",
       "      <td>China</td>\n",
       "      <td>4.25</td>\n",
       "      <td>False</td>\n",
       "    </tr>\n",
       "  </tbody>\n",
       "</table>\n",
       "</div>"
      ],
      "text/plain": [
       "     Review #     Brand                                            Variety  \\\n",
       "2385      195     Myojo  Chukazanmai Served Cool Sesame Flavored Rice V...   \n",
       "55       2525  Sokensha                                         Curry Udon   \n",
       "1149     1431     Maggi                  Extra Spicy Curry Instant Noodles   \n",
       "1852      728   Indomie                               Rasa Kari Ayam Medan   \n",
       "2372      208   Sao Tao                         Ramen King Scallop Seafood   \n",
       "\n",
       "     Style    Country  Stars  is_Japan  \n",
       "2385  Pack      Japan   3.00      True  \n",
       "55    Pack      Japan   3.50      True  \n",
       "1149  Pack  Singapore   5.00     False  \n",
       "1852  Pack  Indonesia   5.00     False  \n",
       "2372  Pack      China   4.25     False  "
      ]
     },
     "execution_count": 30,
     "metadata": {},
     "output_type": "execute_result"
    }
   ],
   "source": [
    "### Create new column is_Japan ###\n",
    "train_top11['is_Japan'] = train_top11.Country == 'Japan'\n",
    "train_top11.sample(5)"
   ]
  },
  {
   "cell_type": "code",
   "execution_count": 31,
   "id": "5f7d67bb",
   "metadata": {},
   "outputs": [
    {
     "data": {
      "image/png": "[encoded data removed]",
      "text/plain": [
       "<Figure size 432x288 with 1 Axes>"
      ]
     },
     "metadata": {
      "needs_background": "light"
     },
     "output_type": "display_data"
    }
   ],
   "source": [
    "### Visualize Comparison between Japan and all of top 11 ###\n",
    "sns.boxplot(data=train_top11, x='is_Japan', y='Stars')\n",
    "plt.title('Japan versus Top 11 Most-Reviewed Countries on Ramen Ratings')\n",
    "plt.show()"
   ]
  },
  {
   "cell_type": "code",
   "execution_count": 32,
   "id": "6f3cdd96",
   "metadata": {},
   "outputs": [
    {
     "name": "stdout",
     "output_type": "stream",
     "text": [
      "Japan statistically produces better-rated ramen than the rest.\n",
      "            We reject the null hypothesis with 95% confidence.\n"
     ]
    }
   ],
   "source": [
    "### Hypothesis Testing ###\n",
    "alpha = .05\n",
    "t, p = stats.mannwhitneyu(train_top11[train_top11.is_Japan == True].Stars, \n",
    "                          train_top11[train_top11.is_Japan == False].Stars,\n",
    "                          alternative='greater')\n",
    "\n",
    "if t > 0 and p < alpha:\n",
    "    print('Japan statistically produces better-rated ramen than the rest.\\n\\\n",
    "            We reject the null hypothesis with 95% confidence.')\n",
    "else:\n",
    "    print('Japan does not statistically produce better-rated ramen than the rest.\\n\\\n",
    "            Results do not breach the 95% confidence threshold.')"
   ]
  },
  {
   "cell_type": "markdown",
   "id": "65271c51",
   "metadata": {},
   "source": [
    "## Does Nissin produce better ramen than the next 8 most-reviewed brands?\n",
    "Confidence interval: 95%\n",
    "\n",
    "$H_0$: Nissin does not statistically produce better-rated ramen than other brands.\n",
    "\n",
    "$H_a$: Nissin statistically produces better-rated ramen than other brands."
   ]
  },
  {
   "cell_type": "code",
   "execution_count": 33,
   "id": "2cf39769",
   "metadata": {},
   "outputs": [
    {
     "data": {
      "text/plain": [
       "Nissin           381\n",
       "Nongshim          98\n",
       "Maruchan          76\n",
       "Mama              71\n",
       "Paldo             66\n",
       "Myojo             63\n",
       "Indomie           53\n",
       "Samyang Foods     51\n",
       "Ottogi            45\n",
       "Name: Brand, dtype: int64"
      ]
     },
     "execution_count": 33,
     "metadata": {},
     "output_type": "execute_result"
    }
   ],
   "source": [
    "### Discover top 9 most-reviewed brands ###\n",
    "df_9brands = brand_array.sort_values(ascending=False)[:9]\n",
    "df_9brands"
   ]
  },
  {
   "cell_type": "code",
   "execution_count": 34,
   "id": "2dd6d778",
   "metadata": {},
   "outputs": [
    {
     "data": {
      "text/plain": [
       "array(['Nissin', 'Nongshim', 'Maruchan', 'Mama', 'Paldo', 'Myojo',\n",
       "       'Indomie', 'Samyang Foods', 'Ottogi'], dtype=object)"
      ]
     },
     "execution_count": 34,
     "metadata": {},
     "output_type": "execute_result"
    }
   ],
   "source": [
    "### Push brands to list ###\n",
    "brand_list = df_9brands.index.to_list()\n",
    "### Initialize dataframe ###\n",
    "train_9brands = train[train.Brand == 'Nissin']\n",
    "### Append remaining 8 brands' data to dataframe ###\n",
    "for brand in brand_list[1:]:\n",
    "    train_9brands = train_9brands.append(train[train.Brand == brand])\n",
    "    \n",
    "train_9brands.Brand.unique()"
   ]
  },
  {
   "cell_type": "code",
   "execution_count": 35,
   "id": "eb776672",
   "metadata": {},
   "outputs": [
    {
     "data": {
      "image/png": "[encoded data removed]",
      "text/plain": [
       "<Figure size 1080x720 with 1 Axes>"
      ]
     },
     "metadata": {
      "needs_background": "light"
     },
     "output_type": "display_data"
    }
   ],
   "source": [
    "### Plot all brands individually against their ratings ###\n",
    "plt.figure(figsize=(15,10))\n",
    "sns.boxplot(data=train_9brands, x='Brand', y='Stars')\n",
    "plt.title('Top 9 Most-Reviewed Brands by Rating')\n",
    "plt.show()"
   ]
  },
  {
   "cell_type": "code",
   "execution_count": 36,
   "id": "4224554a",
   "metadata": {},
   "outputs": [
    {
     "data": {
      "text/html": [
       "<div>\n",
       "<style scoped>\n",
       "    .dataframe tbody tr th:only-of-type {\n",
       "        vertical-align: middle;\n",
       "    }\n",
       "\n",
       "    .dataframe tbody tr th {\n",
       "        vertical-align: top;\n",
       "    }\n",
       "\n",
       "    .dataframe thead th {\n",
       "        text-align: right;\n",
       "    }\n",
       "</style>\n",
       "<table border=\"1\" class=\"dataframe\">\n",
       "  <thead>\n",
       "    <tr style=\"text-align: right;\">\n",
       "      <th></th>\n",
       "      <th>Review #</th>\n",
       "      <th>Brand</th>\n",
       "      <th>Variety</th>\n",
       "      <th>Style</th>\n",
       "      <th>Country</th>\n",
       "      <th>Stars</th>\n",
       "      <th>is_Nissin</th>\n",
       "    </tr>\n",
       "  </thead>\n",
       "  <tbody>\n",
       "    <tr>\n",
       "      <th>954</th>\n",
       "      <td>1626</td>\n",
       "      <td>Nissin</td>\n",
       "      <td>Gonbuto Kistune Udon</td>\n",
       "      <td>Bowl</td>\n",
       "      <td>Japan</td>\n",
       "      <td>2.75</td>\n",
       "      <td>True</td>\n",
       "    </tr>\n",
       "    <tr>\n",
       "      <th>580</th>\n",
       "      <td>2000</td>\n",
       "      <td>Nissin</td>\n",
       "      <td>Chikin Ramen Donburi</td>\n",
       "      <td>Bowl</td>\n",
       "      <td>Japan</td>\n",
       "      <td>5.00</td>\n",
       "      <td>True</td>\n",
       "    </tr>\n",
       "    <tr>\n",
       "      <th>266</th>\n",
       "      <td>2314</td>\n",
       "      <td>Nissin</td>\n",
       "      <td>Cup Noodles Spicy Beef Flavour</td>\n",
       "      <td>Cup</td>\n",
       "      <td>Hong Kong</td>\n",
       "      <td>4.00</td>\n",
       "      <td>True</td>\n",
       "    </tr>\n",
       "  </tbody>\n",
       "</table>\n",
       "</div>"
      ],
      "text/plain": [
       "    Review #   Brand                         Variety Style    Country  Stars  \\\n",
       "954     1626  Nissin            Gonbuto Kistune Udon  Bowl      Japan   2.75   \n",
       "580     2000  Nissin            Chikin Ramen Donburi  Bowl      Japan   5.00   \n",
       "266     2314  Nissin  Cup Noodles Spicy Beef Flavour   Cup  Hong Kong   4.00   \n",
       "\n",
       "     is_Nissin  \n",
       "954       True  \n",
       "580       True  \n",
       "266       True  "
      ]
     },
     "execution_count": 36,
     "metadata": {},
     "output_type": "execute_result"
    }
   ],
   "source": [
    "### New column for is_Nissin ###\n",
    "train_9brands['is_Nissin'] = train_9brands.Brand == 'Nissin'\n",
    "train_9brands.sample(3)"
   ]
  },
  {
   "cell_type": "code",
   "execution_count": 37,
   "id": "ee2cb3e5",
   "metadata": {},
   "outputs": [
    {
     "data": {
      "image/png": "[encoded data removed]",
      "text/plain": [
       "<Figure size 432x288 with 1 Axes>"
      ]
     },
     "metadata": {
      "needs_background": "light"
     },
     "output_type": "display_data"
    }
   ],
   "source": [
    "### Plot comparison ###\n",
    "sns.boxplot(data=train_9brands, x='is_Nissin', y='Stars')\n",
    "plt.title('Nissin Ratings versus Rest of Top 8 Most-Reviewed Brands')\n",
    "plt.show()"
   ]
  },
  {
   "cell_type": "code",
   "execution_count": 38,
   "id": "42473713",
   "metadata": {},
   "outputs": [
    {
     "name": "stdout",
     "output_type": "stream",
     "text": [
      "Nissin does not statistically produce better-rated ramen than the rest.\n",
      "            Results do not breach the 95% confidence threshold.\n"
     ]
    }
   ],
   "source": [
    "### Hypothesis Testing ###\n",
    "alpha = .05\n",
    "t, p = stats.mannwhitneyu(train_9brands[train_9brands.is_Nissin == True].Stars, \n",
    "                          train_9brands[train_9brands.is_Nissin == False].Stars,\n",
    "                          alternative='greater')\n",
    "\n",
    "if t > 0 and p < alpha:\n",
    "    print('Nissin statistically produces better-rated ramen than the rest.\\n\\\n",
    "            We reject the null hypothesis with 95% confidence.')\n",
    "else:\n",
    "    print('Nissin does not statistically produce better-rated ramen than the rest.\\n\\\n",
    "            Results do not breach the 95% confidence threshold.')"
   ]
  },
  {
   "cell_type": "markdown",
   "id": "116befa9",
   "metadata": {},
   "source": [
    "## What do the 5-Star Reviews look like?"
   ]
  },
  {
   "cell_type": "markdown",
   "id": "372ddd90",
   "metadata": {},
   "source": [
    "### By Country"
   ]
  },
  {
   "cell_type": "code",
   "execution_count": 39,
   "id": "8d6ba44b",
   "metadata": {},
   "outputs": [
    {
     "data": {
      "text/html": [
       "<div>\n",
       "<style scoped>\n",
       "    .dataframe tbody tr th:only-of-type {\n",
       "        vertical-align: middle;\n",
       "    }\n",
       "\n",
       "    .dataframe tbody tr th {\n",
       "        vertical-align: top;\n",
       "    }\n",
       "\n",
       "    .dataframe thead th {\n",
       "        text-align: right;\n",
       "    }\n",
       "</style>\n",
       "<table border=\"1\" class=\"dataframe\">\n",
       "  <thead>\n",
       "    <tr style=\"text-align: right;\">\n",
       "      <th></th>\n",
       "      <th>0</th>\n",
       "      <th>1</th>\n",
       "      <th>2</th>\n",
       "      <th>3</th>\n",
       "      <th>4</th>\n",
       "      <th>5</th>\n",
       "      <th>6</th>\n",
       "      <th>7</th>\n",
       "      <th>8</th>\n",
       "      <th>9</th>\n",
       "      <th>10</th>\n",
       "      <th>11</th>\n",
       "      <th>12</th>\n",
       "      <th>13</th>\n",
       "      <th>14</th>\n",
       "      <th>15</th>\n",
       "      <th>16</th>\n",
       "      <th>17</th>\n",
       "      <th>18</th>\n",
       "    </tr>\n",
       "  </thead>\n",
       "  <tbody>\n",
       "    <tr>\n",
       "      <th>index</th>\n",
       "      <td>Japan</td>\n",
       "      <td>Malaysia</td>\n",
       "      <td>South Korea</td>\n",
       "      <td>Taiwan</td>\n",
       "      <td>Singapore</td>\n",
       "      <td>USA</td>\n",
       "      <td>Hong Kong</td>\n",
       "      <td>Thailand</td>\n",
       "      <td>Indonesia</td>\n",
       "      <td>China</td>\n",
       "      <td>UK</td>\n",
       "      <td>Philippines</td>\n",
       "      <td>India</td>\n",
       "      <td>Australia</td>\n",
       "      <td>Cambodia</td>\n",
       "      <td>Canada</td>\n",
       "      <td>Nepal</td>\n",
       "      <td>Brazil</td>\n",
       "      <td>Myanmar</td>\n",
       "    </tr>\n",
       "    <tr>\n",
       "      <th>Country</th>\n",
       "      <td>37</td>\n",
       "      <td>32</td>\n",
       "      <td>29</td>\n",
       "      <td>25</td>\n",
       "      <td>21</td>\n",
       "      <td>18</td>\n",
       "      <td>17</td>\n",
       "      <td>15</td>\n",
       "      <td>12</td>\n",
       "      <td>6</td>\n",
       "      <td>4</td>\n",
       "      <td>2</td>\n",
       "      <td>1</td>\n",
       "      <td>1</td>\n",
       "      <td>1</td>\n",
       "      <td>1</td>\n",
       "      <td>1</td>\n",
       "      <td>1</td>\n",
       "      <td>1</td>\n",
       "    </tr>\n",
       "  </tbody>\n",
       "</table>\n",
       "</div>"
      ],
      "text/plain": [
       "            0         1            2       3          4    5          6   \\\n",
       "index    Japan  Malaysia  South Korea  Taiwan  Singapore  USA  Hong Kong   \n",
       "Country     37        32           29      25         21   18         17   \n",
       "\n",
       "               7          8      9   10           11     12         13  \\\n",
       "index    Thailand  Indonesia  China  UK  Philippines  India  Australia   \n",
       "Country        15         12      6   4            2      1          1   \n",
       "\n",
       "               14      15     16      17       18  \n",
       "index    Cambodia  Canada  Nepal  Brazil  Myanmar  \n",
       "Country         1       1      1       1        1  "
      ]
     },
     "execution_count": 39,
     "metadata": {},
     "output_type": "execute_result"
    }
   ],
   "source": [
    "### Create new dataframe for countries and 5-star value counts ###\n",
    "five_star_country_counts = pd.DataFrame(train[train.Stars == 5].Country.value_counts()).reset_index()\n",
    "five_star_country_counts.T"
   ]
  },
  {
   "cell_type": "code",
   "execution_count": 40,
   "id": "810f9982",
   "metadata": {},
   "outputs": [
    {
     "data": {
      "text/html": [
       "<div>\n",
       "<style scoped>\n",
       "    .dataframe tbody tr th:only-of-type {\n",
       "        vertical-align: middle;\n",
       "    }\n",
       "\n",
       "    .dataframe tbody tr th {\n",
       "        vertical-align: top;\n",
       "    }\n",
       "\n",
       "    .dataframe thead th {\n",
       "        text-align: right;\n",
       "    }\n",
       "</style>\n",
       "<table border=\"1\" class=\"dataframe\">\n",
       "  <thead>\n",
       "    <tr style=\"text-align: right;\">\n",
       "      <th></th>\n",
       "      <th>index</th>\n",
       "      <th>Country_x</th>\n",
       "      <th>Country_y</th>\n",
       "    </tr>\n",
       "  </thead>\n",
       "  <tbody>\n",
       "    <tr>\n",
       "      <th>0</th>\n",
       "      <td>Japan</td>\n",
       "      <td>37</td>\n",
       "      <td>191</td>\n",
       "    </tr>\n",
       "    <tr>\n",
       "      <th>1</th>\n",
       "      <td>Malaysia</td>\n",
       "      <td>32</td>\n",
       "      <td>99</td>\n",
       "    </tr>\n",
       "    <tr>\n",
       "      <th>2</th>\n",
       "      <td>South Korea</td>\n",
       "      <td>29</td>\n",
       "      <td>196</td>\n",
       "    </tr>\n",
       "  </tbody>\n",
       "</table>\n",
       "</div>"
      ],
      "text/plain": [
       "         index  Country_x  Country_y\n",
       "0        Japan         37        191\n",
       "1     Malaysia         32         99\n",
       "2  South Korea         29        196"
      ]
     },
     "execution_count": 40,
     "metadata": {},
     "output_type": "execute_result"
    }
   ],
   "source": [
    "### Create count of all reviews per country and merge to count of 5-stars ###\n",
    "country_counts = pd.DataFrame(train.Country.value_counts()).reset_index()\n",
    "five_star_country_counts = pd.merge(five_star_country_counts, country_counts, \n",
    "                                    left_on='index',\n",
    "                                    right_on='index')\n",
    "five_star_country_counts.head(3)"
   ]
  },
  {
   "cell_type": "code",
   "execution_count": 41,
   "id": "c54c952c",
   "metadata": {},
   "outputs": [
    {
     "data": {
      "text/html": [
       "<div>\n",
       "<style scoped>\n",
       "    .dataframe tbody tr th:only-of-type {\n",
       "        vertical-align: middle;\n",
       "    }\n",
       "\n",
       "    .dataframe tbody tr th {\n",
       "        vertical-align: top;\n",
       "    }\n",
       "\n",
       "    .dataframe thead th {\n",
       "        text-align: right;\n",
       "    }\n",
       "</style>\n",
       "<table border=\"1\" class=\"dataframe\">\n",
       "  <thead>\n",
       "    <tr style=\"text-align: right;\">\n",
       "      <th></th>\n",
       "      <th>index</th>\n",
       "      <th>Country_x</th>\n",
       "      <th>Country_y</th>\n",
       "      <th>fiver_percent_of_total</th>\n",
       "    </tr>\n",
       "  </thead>\n",
       "  <tbody>\n",
       "    <tr>\n",
       "      <th>0</th>\n",
       "      <td>Japan</td>\n",
       "      <td>37</td>\n",
       "      <td>191</td>\n",
       "      <td>0.193717</td>\n",
       "    </tr>\n",
       "    <tr>\n",
       "      <th>1</th>\n",
       "      <td>Malaysia</td>\n",
       "      <td>32</td>\n",
       "      <td>99</td>\n",
       "      <td>0.323232</td>\n",
       "    </tr>\n",
       "    <tr>\n",
       "      <th>2</th>\n",
       "      <td>South Korea</td>\n",
       "      <td>29</td>\n",
       "      <td>196</td>\n",
       "      <td>0.147959</td>\n",
       "    </tr>\n",
       "    <tr>\n",
       "      <th>3</th>\n",
       "      <td>Taiwan</td>\n",
       "      <td>25</td>\n",
       "      <td>123</td>\n",
       "      <td>0.203252</td>\n",
       "    </tr>\n",
       "    <tr>\n",
       "      <th>4</th>\n",
       "      <td>Singapore</td>\n",
       "      <td>21</td>\n",
       "      <td>64</td>\n",
       "      <td>0.328125</td>\n",
       "    </tr>\n",
       "    <tr>\n",
       "      <th>5</th>\n",
       "      <td>USA</td>\n",
       "      <td>18</td>\n",
       "      <td>183</td>\n",
       "      <td>0.098361</td>\n",
       "    </tr>\n",
       "    <tr>\n",
       "      <th>6</th>\n",
       "      <td>Hong Kong</td>\n",
       "      <td>17</td>\n",
       "      <td>90</td>\n",
       "      <td>0.188889</td>\n",
       "    </tr>\n",
       "    <tr>\n",
       "      <th>7</th>\n",
       "      <td>Thailand</td>\n",
       "      <td>15</td>\n",
       "      <td>120</td>\n",
       "      <td>0.125000</td>\n",
       "    </tr>\n",
       "    <tr>\n",
       "      <th>8</th>\n",
       "      <td>Indonesia</td>\n",
       "      <td>12</td>\n",
       "      <td>78</td>\n",
       "      <td>0.153846</td>\n",
       "    </tr>\n",
       "    <tr>\n",
       "      <th>9</th>\n",
       "      <td>China</td>\n",
       "      <td>6</td>\n",
       "      <td>102</td>\n",
       "      <td>0.058824</td>\n",
       "    </tr>\n",
       "    <tr>\n",
       "      <th>10</th>\n",
       "      <td>UK</td>\n",
       "      <td>4</td>\n",
       "      <td>44</td>\n",
       "      <td>0.090909</td>\n",
       "    </tr>\n",
       "    <tr>\n",
       "      <th>11</th>\n",
       "      <td>Philippines</td>\n",
       "      <td>2</td>\n",
       "      <td>26</td>\n",
       "      <td>0.076923</td>\n",
       "    </tr>\n",
       "    <tr>\n",
       "      <th>12</th>\n",
       "      <td>India</td>\n",
       "      <td>1</td>\n",
       "      <td>19</td>\n",
       "      <td>0.052632</td>\n",
       "    </tr>\n",
       "    <tr>\n",
       "      <th>13</th>\n",
       "      <td>Australia</td>\n",
       "      <td>1</td>\n",
       "      <td>15</td>\n",
       "      <td>0.066667</td>\n",
       "    </tr>\n",
       "    <tr>\n",
       "      <th>14</th>\n",
       "      <td>Cambodia</td>\n",
       "      <td>1</td>\n",
       "      <td>2</td>\n",
       "      <td>0.500000</td>\n",
       "    </tr>\n",
       "    <tr>\n",
       "      <th>15</th>\n",
       "      <td>Canada</td>\n",
       "      <td>1</td>\n",
       "      <td>28</td>\n",
       "      <td>0.035714</td>\n",
       "    </tr>\n",
       "    <tr>\n",
       "      <th>16</th>\n",
       "      <td>Nepal</td>\n",
       "      <td>1</td>\n",
       "      <td>9</td>\n",
       "      <td>0.111111</td>\n",
       "    </tr>\n",
       "    <tr>\n",
       "      <th>17</th>\n",
       "      <td>Brazil</td>\n",
       "      <td>1</td>\n",
       "      <td>3</td>\n",
       "      <td>0.333333</td>\n",
       "    </tr>\n",
       "    <tr>\n",
       "      <th>18</th>\n",
       "      <td>Myanmar</td>\n",
       "      <td>1</td>\n",
       "      <td>7</td>\n",
       "      <td>0.142857</td>\n",
       "    </tr>\n",
       "  </tbody>\n",
       "</table>\n",
       "</div>"
      ],
      "text/plain": [
       "          index  Country_x  Country_y  fiver_percent_of_total\n",
       "0         Japan         37        191                0.193717\n",
       "1      Malaysia         32         99                0.323232\n",
       "2   South Korea         29        196                0.147959\n",
       "3        Taiwan         25        123                0.203252\n",
       "4     Singapore         21         64                0.328125\n",
       "5           USA         18        183                0.098361\n",
       "6     Hong Kong         17         90                0.188889\n",
       "7      Thailand         15        120                0.125000\n",
       "8     Indonesia         12         78                0.153846\n",
       "9         China          6        102                0.058824\n",
       "10           UK          4         44                0.090909\n",
       "11  Philippines          2         26                0.076923\n",
       "12        India          1         19                0.052632\n",
       "13    Australia          1         15                0.066667\n",
       "14     Cambodia          1          2                0.500000\n",
       "15       Canada          1         28                0.035714\n",
       "16        Nepal          1          9                0.111111\n",
       "17       Brazil          1          3                0.333333\n",
       "18      Myanmar          1          7                0.142857"
      ]
     },
     "execution_count": 41,
     "metadata": {},
     "output_type": "execute_result"
    }
   ],
   "source": [
    "### Calculate percentage of 5-star reviews to all reviews ###\n",
    "five_star_country_counts['fiver_percent_of_total'] = five_star_country_counts.Country_x / five_star_country_counts.Country_y\n",
    "five_star_country_counts"
   ]
  },
  {
   "cell_type": "code",
   "execution_count": 42,
   "id": "f32e3cf9",
   "metadata": {},
   "outputs": [
    {
     "data": {
      "text/html": [
       "<div>\n",
       "<style scoped>\n",
       "    .dataframe tbody tr th:only-of-type {\n",
       "        vertical-align: middle;\n",
       "    }\n",
       "\n",
       "    .dataframe tbody tr th {\n",
       "        vertical-align: top;\n",
       "    }\n",
       "\n",
       "    .dataframe thead th {\n",
       "        text-align: right;\n",
       "    }\n",
       "</style>\n",
       "<table border=\"1\" class=\"dataframe\">\n",
       "  <thead>\n",
       "    <tr style=\"text-align: right;\">\n",
       "      <th></th>\n",
       "      <th>index</th>\n",
       "      <th>Country_x</th>\n",
       "      <th>Country_y</th>\n",
       "      <th>fiver_percent_of_total</th>\n",
       "    </tr>\n",
       "  </thead>\n",
       "  <tbody>\n",
       "    <tr>\n",
       "      <th>4</th>\n",
       "      <td>Singapore</td>\n",
       "      <td>21</td>\n",
       "      <td>64</td>\n",
       "      <td>0.328125</td>\n",
       "    </tr>\n",
       "    <tr>\n",
       "      <th>1</th>\n",
       "      <td>Malaysia</td>\n",
       "      <td>32</td>\n",
       "      <td>99</td>\n",
       "      <td>0.323232</td>\n",
       "    </tr>\n",
       "    <tr>\n",
       "      <th>3</th>\n",
       "      <td>Taiwan</td>\n",
       "      <td>25</td>\n",
       "      <td>123</td>\n",
       "      <td>0.203252</td>\n",
       "    </tr>\n",
       "    <tr>\n",
       "      <th>0</th>\n",
       "      <td>Japan</td>\n",
       "      <td>37</td>\n",
       "      <td>191</td>\n",
       "      <td>0.193717</td>\n",
       "    </tr>\n",
       "    <tr>\n",
       "      <th>6</th>\n",
       "      <td>Hong Kong</td>\n",
       "      <td>17</td>\n",
       "      <td>90</td>\n",
       "      <td>0.188889</td>\n",
       "    </tr>\n",
       "    <tr>\n",
       "      <th>2</th>\n",
       "      <td>South Korea</td>\n",
       "      <td>29</td>\n",
       "      <td>196</td>\n",
       "      <td>0.147959</td>\n",
       "    </tr>\n",
       "    <tr>\n",
       "      <th>7</th>\n",
       "      <td>Thailand</td>\n",
       "      <td>15</td>\n",
       "      <td>120</td>\n",
       "      <td>0.125000</td>\n",
       "    </tr>\n",
       "    <tr>\n",
       "      <th>5</th>\n",
       "      <td>USA</td>\n",
       "      <td>18</td>\n",
       "      <td>183</td>\n",
       "      <td>0.098361</td>\n",
       "    </tr>\n",
       "  </tbody>\n",
       "</table>\n",
       "</div>"
      ],
      "text/plain": [
       "         index  Country_x  Country_y  fiver_percent_of_total\n",
       "4    Singapore         21         64                0.328125\n",
       "1     Malaysia         32         99                0.323232\n",
       "3       Taiwan         25        123                0.203252\n",
       "0        Japan         37        191                0.193717\n",
       "6    Hong Kong         17         90                0.188889\n",
       "2  South Korea         29        196                0.147959\n",
       "7     Thailand         15        120                0.125000\n",
       "5          USA         18        183                0.098361"
      ]
     },
     "execution_count": 42,
     "metadata": {},
     "output_type": "execute_result"
    }
   ],
   "source": [
    "### Sort by percentage ###\n",
    "five_star_country_counts[:8].sort_values('fiver_percent_of_total', ascending=False)"
   ]
  },
  {
   "cell_type": "markdown",
   "id": "530bcd32",
   "metadata": {},
   "source": [
    "### By Brand"
   ]
  },
  {
   "cell_type": "code",
   "execution_count": 43,
   "id": "80e4031c",
   "metadata": {},
   "outputs": [
    {
     "data": {
      "text/plain": [
       "Nissin          42\n",
       "Nongshim        13\n",
       "Paldo           12\n",
       "Mama            12\n",
       "MyKuali         11\n",
       "                ..\n",
       "Urban Noodle     1\n",
       "Foodmon          1\n",
       "Oni Hot Pot      1\n",
       "Wu Mu            1\n",
       "Eat & Go         1\n",
       "Name: Brand, Length: 71, dtype: int64"
      ]
     },
     "execution_count": 43,
     "metadata": {},
     "output_type": "execute_result"
    }
   ],
   "source": [
    "### Check number of 5-star reviews by brand ###\n",
    "train[train.Stars == 5].Brand.value_counts()"
   ]
  },
  {
   "cell_type": "code",
   "execution_count": 44,
   "id": "89894bd7",
   "metadata": {},
   "outputs": [
    {
     "data": {
      "text/html": [
       "<div>\n",
       "<style scoped>\n",
       "    .dataframe tbody tr th:only-of-type {\n",
       "        vertical-align: middle;\n",
       "    }\n",
       "\n",
       "    .dataframe tbody tr th {\n",
       "        vertical-align: top;\n",
       "    }\n",
       "\n",
       "    .dataframe thead th {\n",
       "        text-align: right;\n",
       "    }\n",
       "</style>\n",
       "<table border=\"1\" class=\"dataframe\">\n",
       "  <thead>\n",
       "    <tr style=\"text-align: right;\">\n",
       "      <th></th>\n",
       "      <th>0</th>\n",
       "      <th>1</th>\n",
       "      <th>2</th>\n",
       "      <th>3</th>\n",
       "      <th>4</th>\n",
       "      <th>5</th>\n",
       "      <th>6</th>\n",
       "      <th>7</th>\n",
       "      <th>8</th>\n",
       "      <th>9</th>\n",
       "      <th>...</th>\n",
       "      <th>61</th>\n",
       "      <th>62</th>\n",
       "      <th>63</th>\n",
       "      <th>64</th>\n",
       "      <th>65</th>\n",
       "      <th>66</th>\n",
       "      <th>67</th>\n",
       "      <th>68</th>\n",
       "      <th>69</th>\n",
       "      <th>70</th>\n",
       "    </tr>\n",
       "  </thead>\n",
       "  <tbody>\n",
       "    <tr>\n",
       "      <th>index</th>\n",
       "      <td>Nissin</td>\n",
       "      <td>Nongshim</td>\n",
       "      <td>Paldo</td>\n",
       "      <td>Mama</td>\n",
       "      <td>MyKuali</td>\n",
       "      <td>Indomie</td>\n",
       "      <td>Samyang Foods</td>\n",
       "      <td>Mamee</td>\n",
       "      <td>KOKA</td>\n",
       "      <td>CarJEN</td>\n",
       "      <td>...</td>\n",
       "      <td>Menraku</td>\n",
       "      <td>Happy Cook</td>\n",
       "      <td>Annie Chun's</td>\n",
       "      <td>SuperMi</td>\n",
       "      <td>Xiao Ban Mian</td>\n",
       "      <td>Urban Noodle</td>\n",
       "      <td>Foodmon</td>\n",
       "      <td>Oni Hot Pot</td>\n",
       "      <td>Wu Mu</td>\n",
       "      <td>Eat &amp; Go</td>\n",
       "    </tr>\n",
       "    <tr>\n",
       "      <th>Brand</th>\n",
       "      <td>42</td>\n",
       "      <td>13</td>\n",
       "      <td>12</td>\n",
       "      <td>12</td>\n",
       "      <td>11</td>\n",
       "      <td>8</td>\n",
       "      <td>7</td>\n",
       "      <td>6</td>\n",
       "      <td>6</td>\n",
       "      <td>5</td>\n",
       "      <td>...</td>\n",
       "      <td>1</td>\n",
       "      <td>1</td>\n",
       "      <td>1</td>\n",
       "      <td>1</td>\n",
       "      <td>1</td>\n",
       "      <td>1</td>\n",
       "      <td>1</td>\n",
       "      <td>1</td>\n",
       "      <td>1</td>\n",
       "      <td>1</td>\n",
       "    </tr>\n",
       "  </tbody>\n",
       "</table>\n",
       "<p>2 rows × 71 columns</p>\n",
       "</div>"
      ],
      "text/plain": [
       "           0         1      2     3        4        5              6      7   \\\n",
       "index  Nissin  Nongshim  Paldo  Mama  MyKuali  Indomie  Samyang Foods  Mamee   \n",
       "Brand      42        13     12    12       11        8              7      6   \n",
       "\n",
       "         8       9   ...       61          62            63       64  \\\n",
       "index  KOKA  CarJEN  ...  Menraku  Happy Cook  Annie Chun's  SuperMi   \n",
       "Brand     6       5  ...        1           1             1        1   \n",
       "\n",
       "                  65            66       67           68     69        70  \n",
       "index  Xiao Ban Mian  Urban Noodle  Foodmon  Oni Hot Pot  Wu Mu  Eat & Go  \n",
       "Brand              1             1        1            1      1         1  \n",
       "\n",
       "[2 rows x 71 columns]"
      ]
     },
     "execution_count": 44,
     "metadata": {},
     "output_type": "execute_result"
    }
   ],
   "source": [
    "### Create dataframe of brands and their number of 5-star reviews ###\n",
    "five_star_brand_counts = pd.DataFrame(train[train.Stars == 5].Brand.value_counts()).reset_index()\n",
    "five_star_brand_counts.T"
   ]
  },
  {
   "cell_type": "code",
   "execution_count": 45,
   "id": "b722221d",
   "metadata": {},
   "outputs": [
    {
     "data": {
      "text/html": [
       "<div>\n",
       "<style scoped>\n",
       "    .dataframe tbody tr th:only-of-type {\n",
       "        vertical-align: middle;\n",
       "    }\n",
       "\n",
       "    .dataframe tbody tr th {\n",
       "        vertical-align: top;\n",
       "    }\n",
       "\n",
       "    .dataframe thead th {\n",
       "        text-align: right;\n",
       "    }\n",
       "</style>\n",
       "<table border=\"1\" class=\"dataframe\">\n",
       "  <thead>\n",
       "    <tr style=\"text-align: right;\">\n",
       "      <th></th>\n",
       "      <th>index</th>\n",
       "      <th>Brand_x</th>\n",
       "      <th>Brand_y</th>\n",
       "    </tr>\n",
       "  </thead>\n",
       "  <tbody>\n",
       "    <tr>\n",
       "      <th>0</th>\n",
       "      <td>Nissin</td>\n",
       "      <td>42</td>\n",
       "      <td>238</td>\n",
       "    </tr>\n",
       "    <tr>\n",
       "      <th>1</th>\n",
       "      <td>Nongshim</td>\n",
       "      <td>13</td>\n",
       "      <td>60</td>\n",
       "    </tr>\n",
       "    <tr>\n",
       "      <th>2</th>\n",
       "      <td>Paldo</td>\n",
       "      <td>12</td>\n",
       "      <td>44</td>\n",
       "    </tr>\n",
       "  </tbody>\n",
       "</table>\n",
       "</div>"
      ],
      "text/plain": [
       "      index  Brand_x  Brand_y\n",
       "0    Nissin       42      238\n",
       "1  Nongshim       13       60\n",
       "2     Paldo       12       44"
      ]
     },
     "execution_count": 45,
     "metadata": {},
     "output_type": "execute_result"
    }
   ],
   "source": [
    "### Affix dataframe of total review counts per brand to dataframe containing 5-star counts ###\n",
    "brand_counts = pd.DataFrame(train.Brand.value_counts()).reset_index()\n",
    "five_star_brand_counts = pd.merge(five_star_brand_counts, brand_counts, \n",
    "                                    left_on='index',\n",
    "                                    right_on='index')\n",
    "five_star_brand_counts.head(3)"
   ]
  },
  {
   "cell_type": "code",
   "execution_count": 46,
   "id": "5ae40103",
   "metadata": {},
   "outputs": [
    {
     "data": {
      "text/html": [
       "<div>\n",
       "<style scoped>\n",
       "    .dataframe tbody tr th:only-of-type {\n",
       "        vertical-align: middle;\n",
       "    }\n",
       "\n",
       "    .dataframe tbody tr th {\n",
       "        vertical-align: top;\n",
       "    }\n",
       "\n",
       "    .dataframe thead th {\n",
       "        text-align: right;\n",
       "    }\n",
       "</style>\n",
       "<table border=\"1\" class=\"dataframe\">\n",
       "  <thead>\n",
       "    <tr style=\"text-align: right;\">\n",
       "      <th></th>\n",
       "      <th>index</th>\n",
       "      <th>Brand_x</th>\n",
       "      <th>Brand_y</th>\n",
       "      <th>fiver_percent_of_total</th>\n",
       "    </tr>\n",
       "  </thead>\n",
       "  <tbody>\n",
       "    <tr>\n",
       "      <th>0</th>\n",
       "      <td>Nissin</td>\n",
       "      <td>42</td>\n",
       "      <td>238</td>\n",
       "      <td>0.176471</td>\n",
       "    </tr>\n",
       "    <tr>\n",
       "      <th>1</th>\n",
       "      <td>Nongshim</td>\n",
       "      <td>13</td>\n",
       "      <td>60</td>\n",
       "      <td>0.216667</td>\n",
       "    </tr>\n",
       "    <tr>\n",
       "      <th>2</th>\n",
       "      <td>Paldo</td>\n",
       "      <td>12</td>\n",
       "      <td>44</td>\n",
       "      <td>0.272727</td>\n",
       "    </tr>\n",
       "    <tr>\n",
       "      <th>3</th>\n",
       "      <td>Mama</td>\n",
       "      <td>12</td>\n",
       "      <td>47</td>\n",
       "      <td>0.255319</td>\n",
       "    </tr>\n",
       "    <tr>\n",
       "      <th>4</th>\n",
       "      <td>MyKuali</td>\n",
       "      <td>11</td>\n",
       "      <td>13</td>\n",
       "      <td>0.846154</td>\n",
       "    </tr>\n",
       "    <tr>\n",
       "      <th>...</th>\n",
       "      <td>...</td>\n",
       "      <td>...</td>\n",
       "      <td>...</td>\n",
       "      <td>...</td>\n",
       "    </tr>\n",
       "    <tr>\n",
       "      <th>66</th>\n",
       "      <td>Urban Noodle</td>\n",
       "      <td>1</td>\n",
       "      <td>2</td>\n",
       "      <td>0.500000</td>\n",
       "    </tr>\n",
       "    <tr>\n",
       "      <th>67</th>\n",
       "      <td>Foodmon</td>\n",
       "      <td>1</td>\n",
       "      <td>1</td>\n",
       "      <td>1.000000</td>\n",
       "    </tr>\n",
       "    <tr>\n",
       "      <th>68</th>\n",
       "      <td>Oni Hot Pot</td>\n",
       "      <td>1</td>\n",
       "      <td>3</td>\n",
       "      <td>0.333333</td>\n",
       "    </tr>\n",
       "    <tr>\n",
       "      <th>69</th>\n",
       "      <td>Wu Mu</td>\n",
       "      <td>1</td>\n",
       "      <td>6</td>\n",
       "      <td>0.166667</td>\n",
       "    </tr>\n",
       "    <tr>\n",
       "      <th>70</th>\n",
       "      <td>Eat &amp; Go</td>\n",
       "      <td>1</td>\n",
       "      <td>4</td>\n",
       "      <td>0.250000</td>\n",
       "    </tr>\n",
       "  </tbody>\n",
       "</table>\n",
       "<p>71 rows × 4 columns</p>\n",
       "</div>"
      ],
      "text/plain": [
       "           index  Brand_x  Brand_y  fiver_percent_of_total\n",
       "0         Nissin       42      238                0.176471\n",
       "1       Nongshim       13       60                0.216667\n",
       "2          Paldo       12       44                0.272727\n",
       "3           Mama       12       47                0.255319\n",
       "4        MyKuali       11       13                0.846154\n",
       "..           ...      ...      ...                     ...\n",
       "66  Urban Noodle        1        2                0.500000\n",
       "67       Foodmon        1        1                1.000000\n",
       "68   Oni Hot Pot        1        3                0.333333\n",
       "69         Wu Mu        1        6                0.166667\n",
       "70      Eat & Go        1        4                0.250000\n",
       "\n",
       "[71 rows x 4 columns]"
      ]
     },
     "execution_count": 46,
     "metadata": {},
     "output_type": "execute_result"
    }
   ],
   "source": [
    "### Calculate proportion of 5-star reviews to all reviews ###\n",
    "five_star_brand_counts['fiver_percent_of_total'] = five_star_brand_counts.Brand_x / five_star_brand_counts.Brand_y\n",
    "five_star_brand_counts"
   ]
  },
  {
   "cell_type": "code",
   "execution_count": 47,
   "id": "4fee889e",
   "metadata": {},
   "outputs": [
    {
     "data": {
      "text/html": [
       "<div>\n",
       "<style scoped>\n",
       "    .dataframe tbody tr th:only-of-type {\n",
       "        vertical-align: middle;\n",
       "    }\n",
       "\n",
       "    .dataframe tbody tr th {\n",
       "        vertical-align: top;\n",
       "    }\n",
       "\n",
       "    .dataframe thead th {\n",
       "        text-align: right;\n",
       "    }\n",
       "</style>\n",
       "<table border=\"1\" class=\"dataframe\">\n",
       "  <thead>\n",
       "    <tr style=\"text-align: right;\">\n",
       "      <th></th>\n",
       "      <th>index</th>\n",
       "      <th>Brand_x</th>\n",
       "      <th>Brand_y</th>\n",
       "      <th>fiver_percent_of_total</th>\n",
       "    </tr>\n",
       "  </thead>\n",
       "  <tbody>\n",
       "    <tr>\n",
       "      <th>4</th>\n",
       "      <td>MyKuali</td>\n",
       "      <td>11</td>\n",
       "      <td>13</td>\n",
       "      <td>0.846154</td>\n",
       "    </tr>\n",
       "    <tr>\n",
       "      <th>2</th>\n",
       "      <td>Paldo</td>\n",
       "      <td>12</td>\n",
       "      <td>44</td>\n",
       "      <td>0.272727</td>\n",
       "    </tr>\n",
       "    <tr>\n",
       "      <th>5</th>\n",
       "      <td>Indomie</td>\n",
       "      <td>8</td>\n",
       "      <td>30</td>\n",
       "      <td>0.266667</td>\n",
       "    </tr>\n",
       "    <tr>\n",
       "      <th>7</th>\n",
       "      <td>Mamee</td>\n",
       "      <td>6</td>\n",
       "      <td>23</td>\n",
       "      <td>0.260870</td>\n",
       "    </tr>\n",
       "    <tr>\n",
       "      <th>3</th>\n",
       "      <td>Mama</td>\n",
       "      <td>12</td>\n",
       "      <td>47</td>\n",
       "      <td>0.255319</td>\n",
       "    </tr>\n",
       "    <tr>\n",
       "      <th>6</th>\n",
       "      <td>Samyang Foods</td>\n",
       "      <td>7</td>\n",
       "      <td>30</td>\n",
       "      <td>0.233333</td>\n",
       "    </tr>\n",
       "    <tr>\n",
       "      <th>1</th>\n",
       "      <td>Nongshim</td>\n",
       "      <td>13</td>\n",
       "      <td>60</td>\n",
       "      <td>0.216667</td>\n",
       "    </tr>\n",
       "    <tr>\n",
       "      <th>0</th>\n",
       "      <td>Nissin</td>\n",
       "      <td>42</td>\n",
       "      <td>238</td>\n",
       "      <td>0.176471</td>\n",
       "    </tr>\n",
       "  </tbody>\n",
       "</table>\n",
       "</div>"
      ],
      "text/plain": [
       "           index  Brand_x  Brand_y  fiver_percent_of_total\n",
       "4        MyKuali       11       13                0.846154\n",
       "2          Paldo       12       44                0.272727\n",
       "5        Indomie        8       30                0.266667\n",
       "7          Mamee        6       23                0.260870\n",
       "3           Mama       12       47                0.255319\n",
       "6  Samyang Foods        7       30                0.233333\n",
       "1       Nongshim       13       60                0.216667\n",
       "0         Nissin       42      238                0.176471"
      ]
     },
     "execution_count": 47,
     "metadata": {},
     "output_type": "execute_result"
    }
   ],
   "source": [
    "### Sort by percentage ###\n",
    "five_star_brand_counts[:8].sort_values('fiver_percent_of_total', ascending=False)"
   ]
  },
  {
   "cell_type": "markdown",
   "id": "0eb64f7c",
   "metadata": {},
   "source": [
    "MyKuali has a suspiciously-high number of 5-star reviews... what's the distribution of all MyKuali reviews?"
   ]
  },
  {
   "cell_type": "code",
   "execution_count": 48,
   "id": "7b91e56f",
   "metadata": {},
   "outputs": [
    {
     "data": {
      "text/plain": [
       "<AxesSubplot:xlabel='Brand', ylabel='Stars'>"
      ]
     },
     "execution_count": 48,
     "metadata": {},
     "output_type": "execute_result"
    },
    {
     "data": {
      "image/png": "[encoded data removed]",
      "text/plain": [
       "<Figure size 432x288 with 1 Axes>"
      ]
     },
     "metadata": {
      "needs_background": "light"
     },
     "output_type": "display_data"
    }
   ],
   "source": [
    "### Compare boxplots of MyKuali to next high-5-star-proprtion ramen brand ###\n",
    "sns.boxplot(data=train, x=train[(train.Brand == 'MyKuali') | ((train.Brand == 'Paldo'))].Brand, y=train.Stars)"
   ]
  },
  {
   "cell_type": "code",
   "execution_count": 49,
   "id": "73fd2475",
   "metadata": {},
   "outputs": [
    {
     "data": {
      "text/html": [
       "<div>\n",
       "<style scoped>\n",
       "    .dataframe tbody tr th:only-of-type {\n",
       "        vertical-align: middle;\n",
       "    }\n",
       "\n",
       "    .dataframe tbody tr th {\n",
       "        vertical-align: top;\n",
       "    }\n",
       "\n",
       "    .dataframe thead th {\n",
       "        text-align: right;\n",
       "    }\n",
       "</style>\n",
       "<table border=\"1\" class=\"dataframe\">\n",
       "  <thead>\n",
       "    <tr style=\"text-align: right;\">\n",
       "      <th></th>\n",
       "      <th>Review #</th>\n",
       "      <th>Brand</th>\n",
       "      <th>Variety</th>\n",
       "      <th>Style</th>\n",
       "      <th>Country</th>\n",
       "      <th>Stars</th>\n",
       "    </tr>\n",
       "  </thead>\n",
       "  <tbody>\n",
       "    <tr>\n",
       "      <th>591</th>\n",
       "      <td>1989</td>\n",
       "      <td>MyKuali</td>\n",
       "      <td>Penang White curry Noodle Authentic Taste</td>\n",
       "      <td>Pack</td>\n",
       "      <td>Malaysia</td>\n",
       "      <td>5.00</td>\n",
       "    </tr>\n",
       "    <tr>\n",
       "      <th>176</th>\n",
       "      <td>2404</td>\n",
       "      <td>MyKuali</td>\n",
       "      <td>Penang Hokkien Prawn Noodle Soup</td>\n",
       "      <td>Pack</td>\n",
       "      <td>Singapore</td>\n",
       "      <td>5.00</td>\n",
       "    </tr>\n",
       "    <tr>\n",
       "      <th>757</th>\n",
       "      <td>1823</td>\n",
       "      <td>MyKuali</td>\n",
       "      <td>MeeKuali spicy Fried Noodle</td>\n",
       "      <td>Pack</td>\n",
       "      <td>Malaysia</td>\n",
       "      <td>4.00</td>\n",
       "    </tr>\n",
       "    <tr>\n",
       "      <th>732</th>\n",
       "      <td>1848</td>\n",
       "      <td>MyKuali</td>\n",
       "      <td>Penang Red tom Yum Goong Noodle (New Version)</td>\n",
       "      <td>Pack</td>\n",
       "      <td>Malaysia</td>\n",
       "      <td>5.00</td>\n",
       "    </tr>\n",
       "    <tr>\n",
       "      <th>957</th>\n",
       "      <td>1623</td>\n",
       "      <td>MyKuali</td>\n",
       "      <td>Penang White Curry Noodle (New Improved Tatse)</td>\n",
       "      <td>Pack</td>\n",
       "      <td>Malaysia</td>\n",
       "      <td>5.00</td>\n",
       "    </tr>\n",
       "    <tr>\n",
       "      <th>489</th>\n",
       "      <td>2091</td>\n",
       "      <td>MyKuali</td>\n",
       "      <td>Penang Hokkien Prawn Noodle Authentic Taste</td>\n",
       "      <td>Cup</td>\n",
       "      <td>Malaysia</td>\n",
       "      <td>5.00</td>\n",
       "    </tr>\n",
       "    <tr>\n",
       "      <th>530</th>\n",
       "      <td>2050</td>\n",
       "      <td>MyKuali</td>\n",
       "      <td>Penang Red Tom Yum Goong Noodle Authentic Taste</td>\n",
       "      <td>Cup</td>\n",
       "      <td>Malaysia</td>\n",
       "      <td>5.00</td>\n",
       "    </tr>\n",
       "    <tr>\n",
       "      <th>70</th>\n",
       "      <td>2510</td>\n",
       "      <td>MyKuali</td>\n",
       "      <td>Penang Red Tom Yum Goong Noodle</td>\n",
       "      <td>Pack</td>\n",
       "      <td>Malaysia</td>\n",
       "      <td>5.00</td>\n",
       "    </tr>\n",
       "    <tr>\n",
       "      <th>188</th>\n",
       "      <td>2392</td>\n",
       "      <td>MyKuali</td>\n",
       "      <td>Penang Red Tom Yum Goong Rice Vermicelli Soup</td>\n",
       "      <td>Bowl</td>\n",
       "      <td>Malaysia</td>\n",
       "      <td>5.00</td>\n",
       "    </tr>\n",
       "    <tr>\n",
       "      <th>554</th>\n",
       "      <td>2026</td>\n",
       "      <td>MyKuali</td>\n",
       "      <td>Penang White Curry Authentic Taste Cup</td>\n",
       "      <td>Cup</td>\n",
       "      <td>Malaysia</td>\n",
       "      <td>4.75</td>\n",
       "    </tr>\n",
       "    <tr>\n",
       "      <th>963</th>\n",
       "      <td>1617</td>\n",
       "      <td>MyKuali</td>\n",
       "      <td>Penang Hokkien Prawn Noodle (New Improved Taste)</td>\n",
       "      <td>Pack</td>\n",
       "      <td>Malaysia</td>\n",
       "      <td>5.00</td>\n",
       "    </tr>\n",
       "    <tr>\n",
       "      <th>770</th>\n",
       "      <td>1810</td>\n",
       "      <td>MyKuali</td>\n",
       "      <td>Penang White Curry Noodle (New Version)</td>\n",
       "      <td>Pack</td>\n",
       "      <td>Malaysia</td>\n",
       "      <td>5.00</td>\n",
       "    </tr>\n",
       "    <tr>\n",
       "      <th>615</th>\n",
       "      <td>1965</td>\n",
       "      <td>MyKuali</td>\n",
       "      <td>Penang Spicy Prawn Soup Noodle Authentic Taste</td>\n",
       "      <td>Pack</td>\n",
       "      <td>Malaysia</td>\n",
       "      <td>5.00</td>\n",
       "    </tr>\n",
       "  </tbody>\n",
       "</table>\n",
       "</div>"
      ],
      "text/plain": [
       "    Review #    Brand                                           Variety Style  \\\n",
       "591     1989  MyKuali         Penang White curry Noodle Authentic Taste  Pack   \n",
       "176     2404  MyKuali                  Penang Hokkien Prawn Noodle Soup  Pack   \n",
       "757     1823  MyKuali                       MeeKuali spicy Fried Noodle  Pack   \n",
       "732     1848  MyKuali     Penang Red tom Yum Goong Noodle (New Version)  Pack   \n",
       "957     1623  MyKuali    Penang White Curry Noodle (New Improved Tatse)  Pack   \n",
       "489     2091  MyKuali       Penang Hokkien Prawn Noodle Authentic Taste   Cup   \n",
       "530     2050  MyKuali   Penang Red Tom Yum Goong Noodle Authentic Taste   Cup   \n",
       "70      2510  MyKuali                   Penang Red Tom Yum Goong Noodle  Pack   \n",
       "188     2392  MyKuali     Penang Red Tom Yum Goong Rice Vermicelli Soup  Bowl   \n",
       "554     2026  MyKuali            Penang White Curry Authentic Taste Cup   Cup   \n",
       "963     1617  MyKuali  Penang Hokkien Prawn Noodle (New Improved Taste)  Pack   \n",
       "770     1810  MyKuali           Penang White Curry Noodle (New Version)  Pack   \n",
       "615     1965  MyKuali    Penang Spicy Prawn Soup Noodle Authentic Taste  Pack   \n",
       "\n",
       "       Country  Stars  \n",
       "591   Malaysia   5.00  \n",
       "176  Singapore   5.00  \n",
       "757   Malaysia   4.00  \n",
       "732   Malaysia   5.00  \n",
       "957   Malaysia   5.00  \n",
       "489   Malaysia   5.00  \n",
       "530   Malaysia   5.00  \n",
       "70    Malaysia   5.00  \n",
       "188   Malaysia   5.00  \n",
       "554   Malaysia   4.75  \n",
       "963   Malaysia   5.00  \n",
       "770   Malaysia   5.00  \n",
       "615   Malaysia   5.00  "
      ]
     },
     "execution_count": 49,
     "metadata": {},
     "output_type": "execute_result"
    }
   ],
   "source": [
    "### Sanity check on high-review MyKuali ###\n",
    "train[train.Brand == 'MyKuali']"
   ]
  },
  {
   "cell_type": "code",
   "execution_count": 50,
   "id": "cd11d3bc",
   "metadata": {},
   "outputs": [
    {
     "data": {
      "text/plain": [
       "<AxesSubplot:xlabel='Country', ylabel='Stars'>"
      ]
     },
     "execution_count": 50,
     "metadata": {},
     "output_type": "execute_result"
    },
    {
     "data": {
      "image/png": "[encoded data removed]",
      "text/plain": [
       "<Figure size 720x504 with 1 Axes>"
      ]
     },
     "metadata": {
      "needs_background": "light"
     },
     "output_type": "display_data"
    }
   ],
   "source": [
    "### Plot top-11 countries *without MyKuali* to see what happens to distribution ###\n",
    "plt.figure(figsize=(10,7))\n",
    "mykuali_indices = train_top11[train_top11.Brand == 'MyKuali'].index\n",
    "sns.boxplot(data=train_top11.drop(index=mykuali_indices), x='Country', y='Stars')"
   ]
  },
  {
   "cell_type": "markdown",
   "id": "12db268e",
   "metadata": {},
   "source": [
    "It seems Malaysia's distribution didn't change much. Maybe Malaysia is just really good at making ramen."
   ]
  },
  {
   "cell_type": "markdown",
   "id": "553d835d",
   "metadata": {},
   "source": [
    "# Modeling\n",
    "Gameplan: \n",
    "1. Filter dataframe to 0.25 increments between 0 and 5\n",
    "2. Multiply all values by 4 (0 -> 0, 0.25 -> 1, 0.5 -> 2, 0.75 -> 3, etc)\n",
    "3. Choose most common rating for baseline (classification approach, will explain my reasoning below)\n",
    "4. Calculate baseline (number of chosen-baseline values / all values)\n",
    "5. Build MVP models using Brand, Style, and Country all label-encoded\n",
    "    * Later perform Feature Engineering on Variety to simplify column for Chicken, Beef, etc\n",
    "6. Evaluate models on validate set\n",
    "7. Re-set baseline accuracy using best-selected model for train and validate\n",
    "8. Feature engineering on Variety\n",
    "9. One-hot encoding on all engineered Variety values and all Brand, Style, and Country values (yep)\n",
    "10. SelectKBest/RFE to determine which features to use in model\n",
    "11. Note which features SelectKBest/RFE chose\n",
    "12. Build models using the features\n",
    "13. Evaluate on validate\n",
    "14. Compare to new baseline\n",
    "15. Choose best model\n",
    "16. Evaluate on test\n",
    "17. Formalize results in a presentation notebook"
   ]
  },
  {
   "cell_type": "code",
   "execution_count": null,
   "id": "99787890",
   "metadata": {},
   "outputs": [],
   "source": []
  }
 ],
 "metadata": {
  "kernelspec": {
   "display_name": "Python 3 (ipykernel)",
   "language": "python",
   "name": "python3"
  },
  "language_info": {
   "codemirror_mode": {
    "name": "ipython",
    "version": 3
   },
   "file_extension": ".py",
   "mimetype": "text/x-python",
   "name": "python",
   "nbconvert_exporter": "python",
   "pygments_lexer": "ipython3",
   "version": "3.8.8"
  }
 },
 "nbformat": 4,
 "nbformat_minor": 5
}
