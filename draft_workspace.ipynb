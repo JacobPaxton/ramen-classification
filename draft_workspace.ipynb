{
 "cells": [
  {
   "cell_type": "markdown",
   "id": "6f2e2796",
   "metadata": {},
   "source": [
    "# Ramen Classification\n",
    "\n",
    "**Goal**: Accurately predict a ramen's rating (Stars) using the brand, variety, style and country of the ramen."
   ]
  },
  {
   "cell_type": "markdown",
   "id": "4d112bf7",
   "metadata": {},
   "source": [
    "# Imports"
   ]
  },
  {
   "cell_type": "code",
   "execution_count": 1,
   "id": "3a3803d5",
   "metadata": {},
   "outputs": [],
   "source": [
    "import warnings\n",
    "warnings.filterwarnings('ignore')\n",
    "\n",
    "import numpy as np\n",
    "import pandas as pd\n",
    "import seaborn as sns\n",
    "import matplotlib.pyplot as plt\n",
    "import scipy.stats as stats\n",
    "\n",
    "from sklearn.model_selection import train_test_split\n",
    "from sklearn.ensemble import RandomForestClassifier\n",
    "from sklearn.tree import DecisionTreeClassifier\n",
    "from sklearn.neighbors import KNeighborsClassifier\n",
    "from sklearn.linear_model import LogisticRegression\n",
    "\n",
    "from sklearn.metrics import classification_report"
   ]
  },
  {
   "cell_type": "code",
   "execution_count": 2,
   "id": "df4e1340",
   "metadata": {},
   "outputs": [
    {
     "data": {
      "text/html": [
       "<div>\n",
       "<style scoped>\n",
       "    .dataframe tbody tr th:only-of-type {\n",
       "        vertical-align: middle;\n",
       "    }\n",
       "\n",
       "    .dataframe tbody tr th {\n",
       "        vertical-align: top;\n",
       "    }\n",
       "\n",
       "    .dataframe thead th {\n",
       "        text-align: right;\n",
       "    }\n",
       "</style>\n",
       "<table border=\"1\" class=\"dataframe\">\n",
       "  <thead>\n",
       "    <tr style=\"text-align: right;\">\n",
       "      <th></th>\n",
       "      <th>Review #</th>\n",
       "      <th>Brand</th>\n",
       "      <th>Variety</th>\n",
       "      <th>Style</th>\n",
       "      <th>Country</th>\n",
       "      <th>Stars</th>\n",
       "      <th>Top Ten</th>\n",
       "    </tr>\n",
       "  </thead>\n",
       "  <tbody>\n",
       "    <tr>\n",
       "      <th>0</th>\n",
       "      <td>2580</td>\n",
       "      <td>New Touch</td>\n",
       "      <td>T's Restaurant Tantanmen</td>\n",
       "      <td>Cup</td>\n",
       "      <td>Japan</td>\n",
       "      <td>3.75</td>\n",
       "      <td>NaN</td>\n",
       "    </tr>\n",
       "    <tr>\n",
       "      <th>1</th>\n",
       "      <td>2579</td>\n",
       "      <td>Just Way</td>\n",
       "      <td>Noodles Spicy Hot Sesame Spicy Hot Sesame Guan...</td>\n",
       "      <td>Pack</td>\n",
       "      <td>Taiwan</td>\n",
       "      <td>1</td>\n",
       "      <td>NaN</td>\n",
       "    </tr>\n",
       "    <tr>\n",
       "      <th>2</th>\n",
       "      <td>2578</td>\n",
       "      <td>Nissin</td>\n",
       "      <td>Cup Noodles Chicken Vegetable</td>\n",
       "      <td>Cup</td>\n",
       "      <td>USA</td>\n",
       "      <td>2.25</td>\n",
       "      <td>NaN</td>\n",
       "    </tr>\n",
       "  </tbody>\n",
       "</table>\n",
       "</div>"
      ],
      "text/plain": [
       "   Review #      Brand                                            Variety  \\\n",
       "0      2580  New Touch                          T's Restaurant Tantanmen    \n",
       "1      2579   Just Way  Noodles Spicy Hot Sesame Spicy Hot Sesame Guan...   \n",
       "2      2578     Nissin                      Cup Noodles Chicken Vegetable   \n",
       "\n",
       "  Style Country Stars Top Ten  \n",
       "0   Cup   Japan  3.75     NaN  \n",
       "1  Pack  Taiwan     1     NaN  \n",
       "2   Cup     USA  2.25     NaN  "
      ]
     },
     "execution_count": 2,
     "metadata": {},
     "output_type": "execute_result"
    }
   ],
   "source": [
    "df = pd.read_csv('ramen-ratings.csv')\n",
    "df.head(3)"
   ]
  },
  {
   "cell_type": "markdown",
   "id": "810a71f2",
   "metadata": {},
   "source": [
    "# Tidying Data (dtypes, nulls, etc)"
   ]
  },
  {
   "cell_type": "code",
   "execution_count": 3,
   "id": "adfc0f1f",
   "metadata": {},
   "outputs": [
    {
     "data": {
      "text/plain": [
       "Review #     int64\n",
       "Brand       object\n",
       "Variety     object\n",
       "Style       object\n",
       "Country     object\n",
       "Stars       object\n",
       "Top Ten     object\n",
       "dtype: object"
      ]
     },
     "execution_count": 3,
     "metadata": {},
     "output_type": "execute_result"
    }
   ],
   "source": [
    "### Identify dtypes that need to be fixed ###\n",
    "df.dtypes"
   ]
  },
  {
   "cell_type": "code",
   "execution_count": 4,
   "id": "542fc748",
   "metadata": {},
   "outputs": [
    {
     "data": {
      "text/plain": [
       "array(['3.75', '1', '2.25', '2.75', '4.75', '4', '0.25', '2.5', '5',\n",
       "       '4.25', '4.5', '3.5', 'Unrated', '1.5', '3.25', '2', '0', '3',\n",
       "       '0.5', '4.00', '5.0', '3.50', '3.8', '4.3', '2.3', '5.00', '3.3',\n",
       "       '4.0', '3.00', '1.75', '3.0', '4.50', '0.75', '1.25', '1.1', '2.1',\n",
       "       '0.9', '3.1', '4.125', '3.125', '2.125', '2.9', '0.1', '2.8',\n",
       "       '3.7', '3.4', '3.6', '2.85', '3.2', '3.65', '1.8'], dtype=object)"
      ]
     },
     "execution_count": 4,
     "metadata": {},
     "output_type": "execute_result"
    }
   ],
   "source": [
    "### Cast review number as string ###\n",
    "df['Review #'] = df['Review #'].astype('str')\n",
    "### Identify non-float numbers in Stars column ###\n",
    "df.Stars.unique()"
   ]
  },
  {
   "cell_type": "code",
   "execution_count": 5,
   "id": "fbc72d3c",
   "metadata": {},
   "outputs": [
    {
     "data": {
      "text/html": [
       "<div>\n",
       "<style scoped>\n",
       "    .dataframe tbody tr th:only-of-type {\n",
       "        vertical-align: middle;\n",
       "    }\n",
       "\n",
       "    .dataframe tbody tr th {\n",
       "        vertical-align: top;\n",
       "    }\n",
       "\n",
       "    .dataframe thead th {\n",
       "        text-align: right;\n",
       "    }\n",
       "</style>\n",
       "<table border=\"1\" class=\"dataframe\">\n",
       "  <thead>\n",
       "    <tr style=\"text-align: right;\">\n",
       "      <th></th>\n",
       "      <th>Review #</th>\n",
       "      <th>Brand</th>\n",
       "      <th>Variety</th>\n",
       "      <th>Style</th>\n",
       "      <th>Country</th>\n",
       "      <th>Stars</th>\n",
       "      <th>Top Ten</th>\n",
       "    </tr>\n",
       "  </thead>\n",
       "  <tbody>\n",
       "    <tr>\n",
       "      <th>32</th>\n",
       "      <td>2548</td>\n",
       "      <td>Ottogi</td>\n",
       "      <td>Plain Instant Noodle No Soup Included</td>\n",
       "      <td>Pack</td>\n",
       "      <td>South Korea</td>\n",
       "      <td>Unrated</td>\n",
       "      <td>NaN</td>\n",
       "    </tr>\n",
       "    <tr>\n",
       "      <th>122</th>\n",
       "      <td>2458</td>\n",
       "      <td>Samyang Foods</td>\n",
       "      <td>Sari Ramen</td>\n",
       "      <td>Pack</td>\n",
       "      <td>South Korea</td>\n",
       "      <td>Unrated</td>\n",
       "      <td>NaN</td>\n",
       "    </tr>\n",
       "    <tr>\n",
       "      <th>993</th>\n",
       "      <td>1587</td>\n",
       "      <td>Mi E-Zee</td>\n",
       "      <td>Plain Noodles</td>\n",
       "      <td>Pack</td>\n",
       "      <td>Malaysia</td>\n",
       "      <td>Unrated</td>\n",
       "      <td>NaN</td>\n",
       "    </tr>\n",
       "  </tbody>\n",
       "</table>\n",
       "</div>"
      ],
      "text/plain": [
       "    Review #          Brand                                Variety Style  \\\n",
       "32      2548         Ottogi  Plain Instant Noodle No Soup Included  Pack   \n",
       "122     2458  Samyang Foods                             Sari Ramen  Pack   \n",
       "993     1587       Mi E-Zee                          Plain Noodles  Pack   \n",
       "\n",
       "         Country    Stars Top Ten  \n",
       "32   South Korea  Unrated     NaN  \n",
       "122  South Korea  Unrated     NaN  \n",
       "993     Malaysia  Unrated     NaN  "
      ]
     },
     "execution_count": 5,
     "metadata": {},
     "output_type": "execute_result"
    }
   ],
   "source": [
    "### Locate the index of non-float values in Stars ###\n",
    "df[df.Stars == 'Unrated']"
   ]
  },
  {
   "cell_type": "code",
   "execution_count": 6,
   "id": "d0079360",
   "metadata": {},
   "outputs": [],
   "source": [
    "### Drop those indices ###\n",
    "df = df.drop([32,122,993])"
   ]
  },
  {
   "cell_type": "code",
   "execution_count": 7,
   "id": "890a28a6",
   "metadata": {},
   "outputs": [
    {
     "data": {
      "text/plain": [
       "Review #     object\n",
       "Brand        object\n",
       "Variety      object\n",
       "Style        object\n",
       "Country      object\n",
       "Stars       float64\n",
       "Top Ten      object\n",
       "dtype: object"
      ]
     },
     "execution_count": 7,
     "metadata": {},
     "output_type": "execute_result"
    }
   ],
   "source": [
    "### Cast Stars as float ###\n",
    "df['Stars'] = df['Stars'].astype('float')\n",
    "df.dtypes"
   ]
  },
  {
   "cell_type": "code",
   "execution_count": 8,
   "id": "982a61c4",
   "metadata": {},
   "outputs": [
    {
     "data": {
      "text/plain": [
       "Pack    1528\n",
       "Bowl     481\n",
       "Cup      450\n",
       "Tray     108\n",
       "Box        6\n",
       "Can        1\n",
       "Bar        1\n",
       "Name: Style, dtype: int64"
      ]
     },
     "execution_count": 8,
     "metadata": {},
     "output_type": "execute_result"
    }
   ],
   "source": [
    "### Identify low-count values in Style ###\n",
    "df.Style.value_counts()"
   ]
  },
  {
   "cell_type": "code",
   "execution_count": 9,
   "id": "c7e30c44",
   "metadata": {},
   "outputs": [
    {
     "data": {
      "text/html": [
       "<div>\n",
       "<style scoped>\n",
       "    .dataframe tbody tr th:only-of-type {\n",
       "        vertical-align: middle;\n",
       "    }\n",
       "\n",
       "    .dataframe tbody tr th {\n",
       "        vertical-align: top;\n",
       "    }\n",
       "\n",
       "    .dataframe thead th {\n",
       "        text-align: right;\n",
       "    }\n",
       "</style>\n",
       "<table border=\"1\" class=\"dataframe\">\n",
       "  <thead>\n",
       "    <tr style=\"text-align: right;\">\n",
       "      <th></th>\n",
       "      <th>Review #</th>\n",
       "      <th>Brand</th>\n",
       "      <th>Variety</th>\n",
       "      <th>Style</th>\n",
       "      <th>Country</th>\n",
       "      <th>Stars</th>\n",
       "      <th>Top Ten</th>\n",
       "    </tr>\n",
       "  </thead>\n",
       "  <tbody>\n",
       "    <tr>\n",
       "      <th>36</th>\n",
       "      <td>2544</td>\n",
       "      <td>Lipton</td>\n",
       "      <td>Cup-A-Soup Chicken Noodle With White Meat Inst...</td>\n",
       "      <td>Box</td>\n",
       "      <td>USA</td>\n",
       "      <td>1.50</td>\n",
       "      <td>NaN</td>\n",
       "    </tr>\n",
       "    <tr>\n",
       "      <th>80</th>\n",
       "      <td>2500</td>\n",
       "      <td>The Ramen Rater Select</td>\n",
       "      <td>Supreme Creamy Tom Yum Noodle</td>\n",
       "      <td>Box</td>\n",
       "      <td>Malaysia</td>\n",
       "      <td>5.00</td>\n",
       "      <td>NaN</td>\n",
       "    </tr>\n",
       "    <tr>\n",
       "      <th>139</th>\n",
       "      <td>2441</td>\n",
       "      <td>MyKuali</td>\n",
       "      <td>Penang Hokkien Prawn Flavor Noodle</td>\n",
       "      <td>Box</td>\n",
       "      <td>Japan</td>\n",
       "      <td>5.00</td>\n",
       "      <td>NaN</td>\n",
       "    </tr>\n",
       "    <tr>\n",
       "      <th>161</th>\n",
       "      <td>2419</td>\n",
       "      <td>MyKuali</td>\n",
       "      <td>Penang Red Tom Yum Goong</td>\n",
       "      <td>Box</td>\n",
       "      <td>Japan</td>\n",
       "      <td>5.00</td>\n",
       "      <td>NaN</td>\n",
       "    </tr>\n",
       "    <tr>\n",
       "      <th>203</th>\n",
       "      <td>2377</td>\n",
       "      <td>MyKuali</td>\n",
       "      <td>Penang White Curry Instant Noodle (Japan Version)</td>\n",
       "      <td>Box</td>\n",
       "      <td>Malaysia</td>\n",
       "      <td>5.00</td>\n",
       "      <td>NaN</td>\n",
       "    </tr>\n",
       "    <tr>\n",
       "      <th>1471</th>\n",
       "      <td>1109</td>\n",
       "      <td>La Fonte</td>\n",
       "      <td>Spaghetti With Bolognese Sauce</td>\n",
       "      <td>Box</td>\n",
       "      <td>Indonesia</td>\n",
       "      <td>4.25</td>\n",
       "      <td>NaN</td>\n",
       "    </tr>\n",
       "  </tbody>\n",
       "</table>\n",
       "</div>"
      ],
      "text/plain": [
       "     Review #                   Brand  \\\n",
       "36       2544                  Lipton   \n",
       "80       2500  The Ramen Rater Select   \n",
       "139      2441                 MyKuali   \n",
       "161      2419                 MyKuali   \n",
       "203      2377                 MyKuali   \n",
       "1471     1109                La Fonte   \n",
       "\n",
       "                                                Variety Style    Country  \\\n",
       "36    Cup-A-Soup Chicken Noodle With White Meat Inst...   Box        USA   \n",
       "80                        Supreme Creamy Tom Yum Noodle   Box   Malaysia   \n",
       "139                  Penang Hokkien Prawn Flavor Noodle   Box      Japan   \n",
       "161                            Penang Red Tom Yum Goong   Box      Japan   \n",
       "203   Penang White Curry Instant Noodle (Japan Version)   Box   Malaysia   \n",
       "1471                     Spaghetti With Bolognese Sauce   Box  Indonesia   \n",
       "\n",
       "      Stars Top Ten  \n",
       "36     1.50     NaN  \n",
       "80     5.00     NaN  \n",
       "139    5.00     NaN  \n",
       "161    5.00     NaN  \n",
       "203    5.00     NaN  \n",
       "1471   4.25     NaN  "
      ]
     },
     "execution_count": 9,
     "metadata": {},
     "output_type": "execute_result"
    }
   ],
   "source": [
    "### Locate indices of low-count Style ###\n",
    "df[df.Style == 'Box']"
   ]
  },
  {
   "cell_type": "code",
   "execution_count": 10,
   "id": "71522c86",
   "metadata": {},
   "outputs": [],
   "source": [
    "### Drop those indices ###\n",
    "df.drop([36,80,139,161,203,1471], inplace=True)"
   ]
  },
  {
   "cell_type": "code",
   "execution_count": 11,
   "id": "daea2a3a",
   "metadata": {},
   "outputs": [
    {
     "data": {
      "text/html": [
       "<div>\n",
       "<style scoped>\n",
       "    .dataframe tbody tr th:only-of-type {\n",
       "        vertical-align: middle;\n",
       "    }\n",
       "\n",
       "    .dataframe tbody tr th {\n",
       "        vertical-align: top;\n",
       "    }\n",
       "\n",
       "    .dataframe thead th {\n",
       "        text-align: right;\n",
       "    }\n",
       "</style>\n",
       "<table border=\"1\" class=\"dataframe\">\n",
       "  <thead>\n",
       "    <tr style=\"text-align: right;\">\n",
       "      <th></th>\n",
       "      <th>Review #</th>\n",
       "      <th>Brand</th>\n",
       "      <th>Variety</th>\n",
       "      <th>Style</th>\n",
       "      <th>Country</th>\n",
       "      <th>Stars</th>\n",
       "      <th>Top Ten</th>\n",
       "    </tr>\n",
       "  </thead>\n",
       "  <tbody>\n",
       "    <tr>\n",
       "      <th>67</th>\n",
       "      <td>2513</td>\n",
       "      <td>Pringles</td>\n",
       "      <td>Nissin Top Ramen Chicken Flavor Potato Crisps</td>\n",
       "      <td>Can</td>\n",
       "      <td>USA</td>\n",
       "      <td>3.5</td>\n",
       "      <td>NaN</td>\n",
       "    </tr>\n",
       "    <tr>\n",
       "      <th>1425</th>\n",
       "      <td>1155</td>\n",
       "      <td>Komforte Chockolates</td>\n",
       "      <td>Savory Ramen</td>\n",
       "      <td>Bar</td>\n",
       "      <td>USA</td>\n",
       "      <td>5.0</td>\n",
       "      <td>NaN</td>\n",
       "    </tr>\n",
       "  </tbody>\n",
       "</table>\n",
       "</div>"
      ],
      "text/plain": [
       "     Review #                 Brand  \\\n",
       "67       2513              Pringles   \n",
       "1425     1155  Komforte Chockolates   \n",
       "\n",
       "                                             Variety Style Country  Stars  \\\n",
       "67    Nissin Top Ramen Chicken Flavor Potato Crisps    Can     USA    3.5   \n",
       "1425                                   Savory Ramen    Bar     USA    5.0   \n",
       "\n",
       "     Top Ten  \n",
       "67       NaN  \n",
       "1425     NaN  "
      ]
     },
     "execution_count": 11,
     "metadata": {},
     "output_type": "execute_result"
    }
   ],
   "source": [
    "### Locate more indices of low-count Styles ###\n",
    "df[(df.Style == 'Can') | (df.Style == 'Bar')]"
   ]
  },
  {
   "cell_type": "code",
   "execution_count": 12,
   "id": "97b5f761",
   "metadata": {},
   "outputs": [],
   "source": [
    "### Drop those indices ###\n",
    "df.drop([67,1425], inplace=True)"
   ]
  },
  {
   "cell_type": "code",
   "execution_count": 13,
   "id": "f19522ec",
   "metadata": {},
   "outputs": [
    {
     "data": {
      "text/plain": [
       "array(['Cup', 'Pack', 'Tray', 'Bowl', nan], dtype=object)"
      ]
     },
     "execution_count": 13,
     "metadata": {},
     "output_type": "execute_result"
    }
   ],
   "source": [
    "### Check work ###\n",
    "df.Style.unique()"
   ]
  },
  {
   "cell_type": "code",
   "execution_count": 14,
   "id": "7393e1f0",
   "metadata": {},
   "outputs": [
    {
     "data": {
      "text/plain": [
       "Review #       0\n",
       "Brand          0\n",
       "Variety        0\n",
       "Style          2\n",
       "Country        0\n",
       "Stars          0\n",
       "Top Ten     2528\n",
       "dtype: int64"
      ]
     },
     "execution_count": 14,
     "metadata": {},
     "output_type": "execute_result"
    }
   ],
   "source": [
    "### Check null counts ###\n",
    "df.isna().sum()"
   ]
  },
  {
   "cell_type": "code",
   "execution_count": 15,
   "id": "2861ce3b",
   "metadata": {},
   "outputs": [
    {
     "data": {
      "text/html": [
       "<div>\n",
       "<style scoped>\n",
       "    .dataframe tbody tr th:only-of-type {\n",
       "        vertical-align: middle;\n",
       "    }\n",
       "\n",
       "    .dataframe tbody tr th {\n",
       "        vertical-align: top;\n",
       "    }\n",
       "\n",
       "    .dataframe thead th {\n",
       "        text-align: right;\n",
       "    }\n",
       "</style>\n",
       "<table border=\"1\" class=\"dataframe\">\n",
       "  <thead>\n",
       "    <tr style=\"text-align: right;\">\n",
       "      <th></th>\n",
       "      <th>Review #</th>\n",
       "      <th>Brand</th>\n",
       "      <th>Variety</th>\n",
       "      <th>Style</th>\n",
       "      <th>Country</th>\n",
       "      <th>Stars</th>\n",
       "      <th>Top Ten</th>\n",
       "    </tr>\n",
       "  </thead>\n",
       "  <tbody>\n",
       "    <tr>\n",
       "      <th>2152</th>\n",
       "      <td>428</td>\n",
       "      <td>Kamfen</td>\n",
       "      <td>E Menm Chicken</td>\n",
       "      <td>NaN</td>\n",
       "      <td>China</td>\n",
       "      <td>3.75</td>\n",
       "      <td>NaN</td>\n",
       "    </tr>\n",
       "    <tr>\n",
       "      <th>2442</th>\n",
       "      <td>138</td>\n",
       "      <td>Unif</td>\n",
       "      <td>100 Furong Shrimp</td>\n",
       "      <td>NaN</td>\n",
       "      <td>Taiwan</td>\n",
       "      <td>3.00</td>\n",
       "      <td>NaN</td>\n",
       "    </tr>\n",
       "  </tbody>\n",
       "</table>\n",
       "</div>"
      ],
      "text/plain": [
       "     Review #   Brand            Variety Style Country  Stars Top Ten\n",
       "2152      428  Kamfen     E Menm Chicken   NaN   China   3.75     NaN\n",
       "2442      138    Unif  100 Furong Shrimp   NaN  Taiwan   3.00     NaN"
      ]
     },
     "execution_count": 15,
     "metadata": {},
     "output_type": "execute_result"
    }
   ],
   "source": [
    "### Identify indices for null Style ###\n",
    "df[df.Style.isna()]"
   ]
  },
  {
   "cell_type": "code",
   "execution_count": 16,
   "id": "4f100a1a",
   "metadata": {},
   "outputs": [],
   "source": [
    "### Drop those indices ###\n",
    "df.drop([2152, 2442], inplace=True)"
   ]
  },
  {
   "cell_type": "code",
   "execution_count": 17,
   "id": "0d219427",
   "metadata": {},
   "outputs": [
    {
     "data": {
      "text/plain": [
       "Review #       0\n",
       "Brand          0\n",
       "Variety        0\n",
       "Style          0\n",
       "Country        0\n",
       "Stars          0\n",
       "Top Ten     2526\n",
       "dtype: int64"
      ]
     },
     "execution_count": 17,
     "metadata": {},
     "output_type": "execute_result"
    }
   ],
   "source": [
    "### Check work ###\n",
    "df.isna().sum()"
   ]
  },
  {
   "cell_type": "code",
   "execution_count": 18,
   "id": "f887d4d3",
   "metadata": {},
   "outputs": [
    {
     "data": {
      "text/html": [
       "<div>\n",
       "<style scoped>\n",
       "    .dataframe tbody tr th:only-of-type {\n",
       "        vertical-align: middle;\n",
       "    }\n",
       "\n",
       "    .dataframe tbody tr th {\n",
       "        vertical-align: top;\n",
       "    }\n",
       "\n",
       "    .dataframe thead th {\n",
       "        text-align: right;\n",
       "    }\n",
       "</style>\n",
       "<table border=\"1\" class=\"dataframe\">\n",
       "  <thead>\n",
       "    <tr style=\"text-align: right;\">\n",
       "      <th></th>\n",
       "      <th>Review #</th>\n",
       "      <th>Brand</th>\n",
       "      <th>Variety</th>\n",
       "      <th>Style</th>\n",
       "      <th>Country</th>\n",
       "      <th>Stars</th>\n",
       "    </tr>\n",
       "  </thead>\n",
       "  <tbody>\n",
       "    <tr>\n",
       "      <th>0</th>\n",
       "      <td>2580</td>\n",
       "      <td>New Touch</td>\n",
       "      <td>T's Restaurant Tantanmen</td>\n",
       "      <td>Cup</td>\n",
       "      <td>Japan</td>\n",
       "      <td>3.75</td>\n",
       "    </tr>\n",
       "    <tr>\n",
       "      <th>1</th>\n",
       "      <td>2579</td>\n",
       "      <td>Just Way</td>\n",
       "      <td>Noodles Spicy Hot Sesame Spicy Hot Sesame Guan...</td>\n",
       "      <td>Pack</td>\n",
       "      <td>Taiwan</td>\n",
       "      <td>1.00</td>\n",
       "    </tr>\n",
       "    <tr>\n",
       "      <th>2</th>\n",
       "      <td>2578</td>\n",
       "      <td>Nissin</td>\n",
       "      <td>Cup Noodles Chicken Vegetable</td>\n",
       "      <td>Cup</td>\n",
       "      <td>USA</td>\n",
       "      <td>2.25</td>\n",
       "    </tr>\n",
       "  </tbody>\n",
       "</table>\n",
       "</div>"
      ],
      "text/plain": [
       "  Review #      Brand                                            Variety  \\\n",
       "0     2580  New Touch                          T's Restaurant Tantanmen    \n",
       "1     2579   Just Way  Noodles Spicy Hot Sesame Spicy Hot Sesame Guan...   \n",
       "2     2578     Nissin                      Cup Noodles Chicken Vegetable   \n",
       "\n",
       "  Style Country  Stars  \n",
       "0   Cup   Japan   3.75  \n",
       "1  Pack  Taiwan   1.00  \n",
       "2   Cup     USA   2.25  "
      ]
     },
     "execution_count": 18,
     "metadata": {},
     "output_type": "execute_result"
    }
   ],
   "source": [
    "### Drop high-nulls column Top Ten ###\n",
    "df.drop(columns='Top Ten', inplace=True)\n",
    "df.head(3)"
   ]
  },
  {
   "cell_type": "code",
   "execution_count": 19,
   "id": "a3622235",
   "metadata": {},
   "outputs": [
    {
     "data": {
      "text/plain": [
       "Nissin           381\n",
       "Nongshim          98\n",
       "Maruchan          76\n",
       "Mama              71\n",
       "Paldo             66\n",
       "Myojo             63\n",
       "Indomie           53\n",
       "Samyang Foods     51\n",
       "Ottogi            45\n",
       "Lucky Me!         34\n",
       "Name: Brand, dtype: int64"
      ]
     },
     "execution_count": 19,
     "metadata": {},
     "output_type": "execute_result"
    }
   ],
   "source": [
    "### Check value counts per Brand ###\n",
    "df.Brand.value_counts().head(10)"
   ]
  },
  {
   "cell_type": "code",
   "execution_count": 20,
   "id": "34115139",
   "metadata": {},
   "outputs": [
    {
     "data": {
      "text/plain": [
       "Chicken                                 7\n",
       "Beef                                    7\n",
       "Yakisoba                                6\n",
       "Vegetable                               6\n",
       "Artificial Chicken                      6\n",
       "                                       ..\n",
       "Otentiq Cheezy Curry Instant Noodles    1\n",
       "Mi Goreng Dengan Abon                   1\n",
       "Grilled Pork Flavour Instant Noodles    1\n",
       "Hao Hao Sate Onion Flavour              1\n",
       "Tom Yum Chili Flavor                    1\n",
       "Name: Variety, Length: 2400, dtype: int64"
      ]
     },
     "execution_count": 20,
     "metadata": {},
     "output_type": "execute_result"
    }
   ],
   "source": [
    "### Check value counts per variety ###\n",
    "df.Variety.value_counts() # 2400 unique values, too many to plot"
   ]
  },
  {
   "cell_type": "code",
   "execution_count": 21,
   "id": "c297dad2",
   "metadata": {
    "scrolled": false
   },
   "outputs": [
    {
     "data": {
      "image/png": "[encoded data removed]",
      "text/plain": [
       "<Figure size 720x504 with 1 Axes>"
      ]
     },
     "metadata": {
      "needs_background": "light"
     },
     "output_type": "display_data"
    },
    {
     "data": {
      "image/png": "[encoded data removed]",
      "text/plain": [
       "<Figure size 720x504 with 1 Axes>"
      ]
     },
     "metadata": {
      "needs_background": "light"
     },
     "output_type": "display_data"
    },
    {
     "data": {
      "image/png": "[encoded data removed]",
      "text/plain": [
       "<Figure size 720x504 with 1 Axes>"
      ]
     },
     "metadata": {
      "needs_background": "light"
     },
     "output_type": "display_data"
    },
    {
     "data": {
      "image/png": "[encoded data removed]",
      "text/plain": [
       "<Figure size 720x504 with 1 Axes>"
      ]
     },
     "metadata": {
      "needs_background": "light"
     },
     "output_type": "display_data"
    }
   ],
   "source": [
    "### Plot distributions ###\n",
    "## Count by Stars ##\n",
    "plt.figure(figsize=(10,7))\n",
    "df.Stars.value_counts().sort_index().plot(kind='barh')\n",
    "plt.show()\n",
    "## Count by Styles ##\n",
    "plt.figure(figsize=(10,7))\n",
    "df.Style.value_counts(ascending=True).plot(kind='barh')\n",
    "plt.show()\n",
    "## Count by Country ##\n",
    "plt.figure(figsize=(10,7))\n",
    "df.Country.value_counts(ascending=True).plot(kind='barh')\n",
    "plt.show()\n",
    "## Count by Brand ##\n",
    "plt.figure(figsize=(10,7))\n",
    "brand_array = df.Brand.value_counts(ascending=False)[:30].sort_values(ascending=True)\n",
    "brand_array.plot(kind='barh')\n",
    "plt.show()"
   ]
  },
  {
   "cell_type": "markdown",
   "id": "07cc3888",
   "metadata": {},
   "source": [
    "# Split Data\n",
    "Note: I noticed later on that some countries and brands only have a few reviews, so I'm dropping anything less than 10 for country counts and dropping brand as a feature until I can engineer a solution. (First up is the MVP)"
   ]
  },
  {
   "cell_type": "code",
   "execution_count": 22,
   "id": "ed2e9919",
   "metadata": {},
   "outputs": [],
   "source": [
    "# df.Country.value_counts()\n",
    "df = df.groupby('Country').filter(lambda x: len(x) > 10)"
   ]
  },
  {
   "cell_type": "code",
   "execution_count": 23,
   "id": "2e67fb96",
   "metadata": {},
   "outputs": [],
   "source": [
    "### Split into subsets ###\n",
    "train_validate, test = train_test_split(df, test_size=0.2, random_state=123)\n",
    "train, validate = train_test_split(train_validate, test_size=0.25, random_state=123)\n",
    "### Isolate targets ###\n",
    "X_train, y_train = train.drop(columns='Stars'), train.Stars\n",
    "X_validate, y_validate = validate.drop(columns='Stars'), validate.Stars\n",
    "X_test, y_test = test.drop(columns='Stars'), test.Stars"
   ]
  },
  {
   "cell_type": "markdown",
   "id": "78418b89",
   "metadata": {},
   "source": [
    "# Explore Data"
   ]
  },
  {
   "cell_type": "markdown",
   "id": "b1d5a373",
   "metadata": {},
   "source": [
    "## Do bowls rank statistically higher than cups?\n",
    "Confidence interval: 95%\n",
    "\n",
    "$H_0$: Bowls do not rank statistically higher than cups.\n",
    "\n",
    "$H_a$: Bowls rank statistically higher than cups."
   ]
  },
  {
   "cell_type": "code",
   "execution_count": 24,
   "id": "19be766d",
   "metadata": {},
   "outputs": [
    {
     "data": {
      "image/png": "[encoded data removed]",
      "text/plain": [
       "<Figure size 432x288 with 1 Axes>"
      ]
     },
     "metadata": {
      "needs_background": "light"
     },
     "output_type": "display_data"
    }
   ],
   "source": [
    "### Visualize Comparison ###\n",
    "sns.boxplot(data=train, x='Style', y='Stars')\n",
    "plt.title('Ramen Styles and their Ratings')\n",
    "plt.show()"
   ]
  },
  {
   "cell_type": "code",
   "execution_count": 25,
   "id": "290a2f22",
   "metadata": {},
   "outputs": [
    {
     "name": "stdout",
     "output_type": "stream",
     "text": [
      "Bowls rank statistically higher than cups. We reject the null hypothesis with 95% confidence.\n"
     ]
    }
   ],
   "source": [
    "### Hypothesis Testing ###\n",
    "alpha = .05\n",
    "t, p = stats.mannwhitneyu(train[train.Style == 'Bowl'].Stars, \n",
    "                          train[train.Style == 'Cup'].Stars,\n",
    "                          alternative='greater')\n",
    "\n",
    "if t > 0 and p < alpha:\n",
    "    print('Bowls rank statistically higher than cups. We reject the null hypothesis with 95% confidence.')\n",
    "else:\n",
    "    print('Bowls do not rank statistically higher than cups. Results do not breach the 95% confidence threshold.')"
   ]
  },
  {
   "cell_type": "markdown",
   "id": "289fc9d3",
   "metadata": {},
   "source": [
    "## Does Japan produce better ramen than USA?\n",
    "Confidence interval: 95%\n",
    "\n",
    "$H_0$: Japan does not statistically produce better-rated ramen than USA.\n",
    "\n",
    "$H_a$: Japan statistically produces better-rated ramen than USA."
   ]
  },
  {
   "cell_type": "code",
   "execution_count": 26,
   "id": "37e75807",
   "metadata": {},
   "outputs": [
    {
     "data": {
      "image/png": "[encoded data removed]",
      "text/plain": [
       "<Figure size 432x288 with 1 Axes>"
      ]
     },
     "metadata": {
      "needs_background": "light"
     },
     "output_type": "display_data"
    }
   ],
   "source": [
    "### Visualize comparison ##\n",
    "sns.boxplot(data=train[(train.Country == 'Japan') | (train.Country == 'USA')], \n",
    "           x='Country',\n",
    "           y='Stars')\n",
    "plt.title('USA and Japan for Ramen Ratings')\n",
    "plt.show()"
   ]
  },
  {
   "cell_type": "code",
   "execution_count": 27,
   "id": "8ec4dda3",
   "metadata": {},
   "outputs": [
    {
     "name": "stdout",
     "output_type": "stream",
     "text": [
      "Japan statistically produces better-rated ramen than USA.\n",
      "            We reject the null hypothesis with 95% confidence.\n"
     ]
    }
   ],
   "source": [
    "### Hypothesis Testing ###\n",
    "alpha = .05\n",
    "t, p = stats.mannwhitneyu(train[train.Country == 'Japan'].Stars, \n",
    "                          train[train.Country == 'USA'].Stars,\n",
    "                          alternative='greater')\n",
    "\n",
    "if t > 0 and p < alpha:\n",
    "    print('Japan statistically produces better-rated ramen than USA.\\n\\\n",
    "            We reject the null hypothesis with 95% confidence.')\n",
    "else:\n",
    "    print('Japan does not statistically produce better-rated ramen than USA.\\n\\\n",
    "            Results do not breach the 95% confidence threshold.')"
   ]
  },
  {
   "cell_type": "markdown",
   "id": "a069ab93",
   "metadata": {},
   "source": [
    "## Does Japan produce better ramen than the countries with over 100 ramen reviews?\n",
    "Confidence interval: 95%\n",
    "\n",
    "$H_0$: Japan does not statistically produce better-rated ramen than USA.\n",
    "\n",
    "$H_a$: Japan statistically produces better-rated ramen than USA."
   ]
  },
  {
   "cell_type": "code",
   "execution_count": 28,
   "id": "89bc9de2",
   "metadata": {},
   "outputs": [],
   "source": [
    "### Get Country Names (top 11 countries have over 100 ramen reviews) ###\n",
    "countries = train.Country.value_counts()[:11].index.to_list()"
   ]
  },
  {
   "cell_type": "code",
   "execution_count": 29,
   "id": "197914ea",
   "metadata": {},
   "outputs": [
    {
     "data": {
      "text/plain": [
       "array(['Japan', 'USA', 'South Korea', 'Taiwan', 'Thailand', 'China',\n",
       "       'Malaysia', 'Hong Kong', 'Indonesia', 'Singapore', 'Vietnam'],\n",
       "      dtype=object)"
      ]
     },
     "execution_count": 29,
     "metadata": {},
     "output_type": "execute_result"
    }
   ],
   "source": [
    "### Put top 11 countries to new dataframe ###\n",
    "train_top11 = train[train.Country == 'Japan']\n",
    "for country in countries[1:]:\n",
    "    train_top11 = train_top11.append(train[train.Country == country])\n",
    "train_top11.Country.unique()"
   ]
  },
  {
   "cell_type": "code",
   "execution_count": 30,
   "id": "807d2efa",
   "metadata": {},
   "outputs": [
    {
     "data": {
      "image/png": "[encoded data removed]",
      "text/plain": [
       "<Figure size 1080x720 with 1 Axes>"
      ]
     },
     "metadata": {
      "needs_background": "light"
     },
     "output_type": "display_data"
    }
   ],
   "source": [
    "### Visualize Comparisons of top 11 Countries ###\n",
    "plt.figure(figsize=(15,10))\n",
    "sns.boxplot(data=train_top11, x='Country', y='Stars')\n",
    "plt.title('Ramen Ratings by Country in Top-11 Most-Reviewed Countries')\n",
    "plt.show()"
   ]
  },
  {
   "cell_type": "code",
   "execution_count": 31,
   "id": "7fde6420",
   "metadata": {},
   "outputs": [
    {
     "data": {
      "text/html": [
       "<div>\n",
       "<style scoped>\n",
       "    .dataframe tbody tr th:only-of-type {\n",
       "        vertical-align: middle;\n",
       "    }\n",
       "\n",
       "    .dataframe tbody tr th {\n",
       "        vertical-align: top;\n",
       "    }\n",
       "\n",
       "    .dataframe thead th {\n",
       "        text-align: right;\n",
       "    }\n",
       "</style>\n",
       "<table border=\"1\" class=\"dataframe\">\n",
       "  <thead>\n",
       "    <tr style=\"text-align: right;\">\n",
       "      <th></th>\n",
       "      <th>Review #</th>\n",
       "      <th>Brand</th>\n",
       "      <th>Variety</th>\n",
       "      <th>Style</th>\n",
       "      <th>Country</th>\n",
       "      <th>Stars</th>\n",
       "      <th>is_Japan</th>\n",
       "    </tr>\n",
       "  </thead>\n",
       "  <tbody>\n",
       "    <tr>\n",
       "      <th>2030</th>\n",
       "      <td>550</td>\n",
       "      <td>Nissin</td>\n",
       "      <td>Taisho Fried Noodle Yakisoba</td>\n",
       "      <td>Pack</td>\n",
       "      <td>Japan</td>\n",
       "      <td>4.25</td>\n",
       "      <td>True</td>\n",
       "    </tr>\n",
       "    <tr>\n",
       "      <th>1183</th>\n",
       "      <td>1397</td>\n",
       "      <td>Wu-Mu</td>\n",
       "      <td>Steam Seafood Flavor Ramen</td>\n",
       "      <td>Pack</td>\n",
       "      <td>Taiwan</td>\n",
       "      <td>4.00</td>\n",
       "      <td>False</td>\n",
       "    </tr>\n",
       "    <tr>\n",
       "      <th>2377</th>\n",
       "      <td>203</td>\n",
       "      <td>Nongshim</td>\n",
       "      <td>Bowl Noodle Hot &amp; Spicy</td>\n",
       "      <td>Bowl</td>\n",
       "      <td>USA</td>\n",
       "      <td>2.00</td>\n",
       "      <td>False</td>\n",
       "    </tr>\n",
       "    <tr>\n",
       "      <th>486</th>\n",
       "      <td>2094</td>\n",
       "      <td>Nongshim</td>\n",
       "      <td>Champong Noodle Soup Spicy Seafood Flavor</td>\n",
       "      <td>Pack</td>\n",
       "      <td>South Korea</td>\n",
       "      <td>5.00</td>\n",
       "      <td>False</td>\n",
       "    </tr>\n",
       "    <tr>\n",
       "      <th>936</th>\n",
       "      <td>1644</td>\n",
       "      <td>Hao Way</td>\n",
       "      <td>Vegetarian Penang Laksa Instant Bowl Noodles</td>\n",
       "      <td>Bowl</td>\n",
       "      <td>Malaysia</td>\n",
       "      <td>2.00</td>\n",
       "      <td>False</td>\n",
       "    </tr>\n",
       "  </tbody>\n",
       "</table>\n",
       "</div>"
      ],
      "text/plain": [
       "     Review #     Brand                                       Variety Style  \\\n",
       "2030      550    Nissin                  Taisho Fried Noodle Yakisoba  Pack   \n",
       "1183     1397     Wu-Mu                    Steam Seafood Flavor Ramen  Pack   \n",
       "2377      203  Nongshim                       Bowl Noodle Hot & Spicy  Bowl   \n",
       "486      2094  Nongshim     Champong Noodle Soup Spicy Seafood Flavor  Pack   \n",
       "936      1644   Hao Way  Vegetarian Penang Laksa Instant Bowl Noodles  Bowl   \n",
       "\n",
       "          Country  Stars  is_Japan  \n",
       "2030        Japan   4.25      True  \n",
       "1183       Taiwan   4.00     False  \n",
       "2377          USA   2.00     False  \n",
       "486   South Korea   5.00     False  \n",
       "936      Malaysia   2.00     False  "
      ]
     },
     "execution_count": 31,
     "metadata": {},
     "output_type": "execute_result"
    }
   ],
   "source": [
    "### Create new column is_Japan ###\n",
    "train_top11['is_Japan'] = train_top11.Country == 'Japan'\n",
    "train_top11.sample(5)"
   ]
  },
  {
   "cell_type": "code",
   "execution_count": 32,
   "id": "5f7d67bb",
   "metadata": {},
   "outputs": [
    {
     "data": {
      "image/png": "[encoded data removed]",
      "text/plain": [
       "<Figure size 432x288 with 1 Axes>"
      ]
     },
     "metadata": {
      "needs_background": "light"
     },
     "output_type": "display_data"
    }
   ],
   "source": [
    "### Visualize Comparison between Japan and all of top 11 ###\n",
    "sns.boxplot(data=train_top11, x='is_Japan', y='Stars')\n",
    "plt.title('Japan versus Top 11 Most-Reviewed Countries on Ramen Ratings')\n",
    "plt.show()"
   ]
  },
  {
   "cell_type": "code",
   "execution_count": 33,
   "id": "6f3cdd96",
   "metadata": {},
   "outputs": [
    {
     "name": "stdout",
     "output_type": "stream",
     "text": [
      "Japan statistically produces better-rated ramen than the rest.\n",
      "            We reject the null hypothesis with 95% confidence.\n"
     ]
    }
   ],
   "source": [
    "### Hypothesis Testing ###\n",
    "alpha = .05\n",
    "t, p = stats.mannwhitneyu(train_top11[train_top11.is_Japan == True].Stars, \n",
    "                          train_top11[train_top11.is_Japan == False].Stars,\n",
    "                          alternative='greater')\n",
    "\n",
    "if t > 0 and p < alpha:\n",
    "    print('Japan statistically produces better-rated ramen than the rest.\\n\\\n",
    "            We reject the null hypothesis with 95% confidence.')\n",
    "else:\n",
    "    print('Japan does not statistically produce better-rated ramen than the rest.\\n\\\n",
    "            Results do not breach the 95% confidence threshold.')"
   ]
  },
  {
   "cell_type": "markdown",
   "id": "65271c51",
   "metadata": {},
   "source": [
    "## Does Nissin produce better ramen than the next 8 most-reviewed brands?\n",
    "Confidence interval: 95%\n",
    "\n",
    "$H_0$: Nissin does not statistically produce better-rated ramen than other brands.\n",
    "\n",
    "$H_a$: Nissin statistically produces better-rated ramen than other brands."
   ]
  },
  {
   "cell_type": "code",
   "execution_count": 34,
   "id": "2cf39769",
   "metadata": {},
   "outputs": [
    {
     "data": {
      "text/plain": [
       "Nissin           381\n",
       "Nongshim          98\n",
       "Maruchan          76\n",
       "Mama              71\n",
       "Paldo             66\n",
       "Myojo             63\n",
       "Indomie           53\n",
       "Samyang Foods     51\n",
       "Ottogi            45\n",
       "Name: Brand, dtype: int64"
      ]
     },
     "execution_count": 34,
     "metadata": {},
     "output_type": "execute_result"
    }
   ],
   "source": [
    "### Discover top 9 most-reviewed brands ###\n",
    "df_9brands = brand_array.sort_values(ascending=False)[:9]\n",
    "df_9brands"
   ]
  },
  {
   "cell_type": "code",
   "execution_count": 35,
   "id": "2dd6d778",
   "metadata": {},
   "outputs": [
    {
     "data": {
      "text/plain": [
       "array(['Nissin', 'Nongshim', 'Maruchan', 'Mama', 'Paldo', 'Myojo',\n",
       "       'Indomie', 'Samyang Foods', 'Ottogi'], dtype=object)"
      ]
     },
     "execution_count": 35,
     "metadata": {},
     "output_type": "execute_result"
    }
   ],
   "source": [
    "### Push brands to list ###\n",
    "brand_list = df_9brands.index.to_list()\n",
    "### Initialize dataframe ###\n",
    "train_9brands = train[train.Brand == 'Nissin']\n",
    "### Append remaining 8 brands' data to dataframe ###\n",
    "for brand in brand_list[1:]:\n",
    "    train_9brands = train_9brands.append(train[train.Brand == brand])\n",
    "    \n",
    "train_9brands.Brand.unique()"
   ]
  },
  {
   "cell_type": "code",
   "execution_count": 36,
   "id": "eb776672",
   "metadata": {},
   "outputs": [
    {
     "data": {
      "image/png": "[encoded data removed]",
      "text/plain": [
       "<Figure size 1080x720 with 1 Axes>"
      ]
     },
     "metadata": {
      "needs_background": "light"
     },
     "output_type": "display_data"
    }
   ],
   "source": [
    "### Plot all brands individually against their ratings ###\n",
    "plt.figure(figsize=(15,10))\n",
    "sns.boxplot(data=train_9brands, x='Brand', y='Stars')\n",
    "plt.title('Top 9 Most-Reviewed Brands by Rating')\n",
    "plt.show()"
   ]
  },
  {
   "cell_type": "code",
   "execution_count": 37,
   "id": "4224554a",
   "metadata": {},
   "outputs": [
    {
     "data": {
      "text/html": [
       "<div>\n",
       "<style scoped>\n",
       "    .dataframe tbody tr th:only-of-type {\n",
       "        vertical-align: middle;\n",
       "    }\n",
       "\n",
       "    .dataframe tbody tr th {\n",
       "        vertical-align: top;\n",
       "    }\n",
       "\n",
       "    .dataframe thead th {\n",
       "        text-align: right;\n",
       "    }\n",
       "</style>\n",
       "<table border=\"1\" class=\"dataframe\">\n",
       "  <thead>\n",
       "    <tr style=\"text-align: right;\">\n",
       "      <th></th>\n",
       "      <th>Review #</th>\n",
       "      <th>Brand</th>\n",
       "      <th>Variety</th>\n",
       "      <th>Style</th>\n",
       "      <th>Country</th>\n",
       "      <th>Stars</th>\n",
       "      <th>is_Nissin</th>\n",
       "    </tr>\n",
       "  </thead>\n",
       "  <tbody>\n",
       "    <tr>\n",
       "      <th>1134</th>\n",
       "      <td>1446</td>\n",
       "      <td>Myojo</td>\n",
       "      <td>Ippei-Chan Jumbo Night Market Style Yakisoba</td>\n",
       "      <td>Tray</td>\n",
       "      <td>Japan</td>\n",
       "      <td>4.50</td>\n",
       "      <td>False</td>\n",
       "    </tr>\n",
       "    <tr>\n",
       "      <th>156</th>\n",
       "      <td>2424</td>\n",
       "      <td>Samyang Foods</td>\n",
       "      <td>Cheese Type Buldak Bokkeummyun (Black Pkg)</td>\n",
       "      <td>Pack</td>\n",
       "      <td>South Korea</td>\n",
       "      <td>3.75</td>\n",
       "      <td>False</td>\n",
       "    </tr>\n",
       "    <tr>\n",
       "      <th>224</th>\n",
       "      <td>2356</td>\n",
       "      <td>Nongshim</td>\n",
       "      <td>Spicy Shrimp Cup Noodle</td>\n",
       "      <td>Cup</td>\n",
       "      <td>South Korea</td>\n",
       "      <td>4.00</td>\n",
       "      <td>False</td>\n",
       "    </tr>\n",
       "  </tbody>\n",
       "</table>\n",
       "</div>"
      ],
      "text/plain": [
       "     Review #          Brand                                       Variety  \\\n",
       "1134     1446          Myojo  Ippei-Chan Jumbo Night Market Style Yakisoba   \n",
       "156      2424  Samyang Foods    Cheese Type Buldak Bokkeummyun (Black Pkg)   \n",
       "224      2356       Nongshim                       Spicy Shrimp Cup Noodle   \n",
       "\n",
       "     Style      Country  Stars  is_Nissin  \n",
       "1134  Tray        Japan   4.50      False  \n",
       "156   Pack  South Korea   3.75      False  \n",
       "224    Cup  South Korea   4.00      False  "
      ]
     },
     "execution_count": 37,
     "metadata": {},
     "output_type": "execute_result"
    }
   ],
   "source": [
    "### New column for is_Nissin ###\n",
    "train_9brands['is_Nissin'] = train_9brands.Brand == 'Nissin'\n",
    "train_9brands.sample(3)"
   ]
  },
  {
   "cell_type": "code",
   "execution_count": 38,
   "id": "ee2cb3e5",
   "metadata": {},
   "outputs": [
    {
     "data": {
      "image/png": "[encoded data removed]",
      "text/plain": [
       "<Figure size 432x288 with 1 Axes>"
      ]
     },
     "metadata": {
      "needs_background": "light"
     },
     "output_type": "display_data"
    }
   ],
   "source": [
    "### Plot comparison ###\n",
    "sns.boxplot(data=train_9brands, x='is_Nissin', y='Stars')\n",
    "plt.title('Nissin Ratings versus Rest of Top 8 Most-Reviewed Brands')\n",
    "plt.show()"
   ]
  },
  {
   "cell_type": "code",
   "execution_count": 39,
   "id": "42473713",
   "metadata": {},
   "outputs": [
    {
     "name": "stdout",
     "output_type": "stream",
     "text": [
      "Nissin does not statistically produce better-rated ramen than the rest.\n",
      "            Results do not breach the 95% confidence threshold.\n"
     ]
    }
   ],
   "source": [
    "### Hypothesis Testing ###\n",
    "alpha = .05\n",
    "t, p = stats.mannwhitneyu(train_9brands[train_9brands.is_Nissin == True].Stars, \n",
    "                          train_9brands[train_9brands.is_Nissin == False].Stars,\n",
    "                          alternative='greater')\n",
    "\n",
    "if t > 0 and p < alpha:\n",
    "    print('Nissin statistically produces better-rated ramen than the rest.\\n\\\n",
    "            We reject the null hypothesis with 95% confidence.')\n",
    "else:\n",
    "    print('Nissin does not statistically produce better-rated ramen than the rest.\\n\\\n",
    "            Results do not breach the 95% confidence threshold.')"
   ]
  },
  {
   "cell_type": "markdown",
   "id": "116befa9",
   "metadata": {},
   "source": [
    "## What do the 5-Star Reviews look like?"
   ]
  },
  {
   "cell_type": "markdown",
   "id": "372ddd90",
   "metadata": {},
   "source": [
    "### By Country"
   ]
  },
  {
   "cell_type": "code",
   "execution_count": 40,
   "id": "8d6ba44b",
   "metadata": {},
   "outputs": [
    {
     "data": {
      "text/html": [
       "<div>\n",
       "<style scoped>\n",
       "    .dataframe tbody tr th:only-of-type {\n",
       "        vertical-align: middle;\n",
       "    }\n",
       "\n",
       "    .dataframe tbody tr th {\n",
       "        vertical-align: top;\n",
       "    }\n",
       "\n",
       "    .dataframe thead th {\n",
       "        text-align: right;\n",
       "    }\n",
       "</style>\n",
       "<table border=\"1\" class=\"dataframe\">\n",
       "  <thead>\n",
       "    <tr style=\"text-align: right;\">\n",
       "      <th></th>\n",
       "      <th>0</th>\n",
       "      <th>1</th>\n",
       "      <th>2</th>\n",
       "      <th>3</th>\n",
       "      <th>4</th>\n",
       "      <th>5</th>\n",
       "      <th>6</th>\n",
       "      <th>7</th>\n",
       "      <th>8</th>\n",
       "      <th>9</th>\n",
       "      <th>10</th>\n",
       "      <th>11</th>\n",
       "      <th>12</th>\n",
       "      <th>13</th>\n",
       "      <th>14</th>\n",
       "      <th>15</th>\n",
       "      <th>16</th>\n",
       "      <th>17</th>\n",
       "    </tr>\n",
       "  </thead>\n",
       "  <tbody>\n",
       "    <tr>\n",
       "      <th>index</th>\n",
       "      <td>Japan</td>\n",
       "      <td>Malaysia</td>\n",
       "      <td>South Korea</td>\n",
       "      <td>Taiwan</td>\n",
       "      <td>Singapore</td>\n",
       "      <td>Hong Kong</td>\n",
       "      <td>USA</td>\n",
       "      <td>Thailand</td>\n",
       "      <td>Indonesia</td>\n",
       "      <td>China</td>\n",
       "      <td>Myanmar</td>\n",
       "      <td>Philippines</td>\n",
       "      <td>UK</td>\n",
       "      <td>India</td>\n",
       "      <td>Canada</td>\n",
       "      <td>Nepal</td>\n",
       "      <td>Germany</td>\n",
       "      <td>Vietnam</td>\n",
       "    </tr>\n",
       "    <tr>\n",
       "      <th>Country</th>\n",
       "      <td>43</td>\n",
       "      <td>31</td>\n",
       "      <td>27</td>\n",
       "      <td>21</td>\n",
       "      <td>20</td>\n",
       "      <td>18</td>\n",
       "      <td>17</td>\n",
       "      <td>12</td>\n",
       "      <td>11</td>\n",
       "      <td>5</td>\n",
       "      <td>2</td>\n",
       "      <td>2</td>\n",
       "      <td>2</td>\n",
       "      <td>2</td>\n",
       "      <td>1</td>\n",
       "      <td>1</td>\n",
       "      <td>1</td>\n",
       "      <td>1</td>\n",
       "    </tr>\n",
       "  </tbody>\n",
       "</table>\n",
       "</div>"
      ],
      "text/plain": [
       "            0         1            2       3          4          5    6   \\\n",
       "index    Japan  Malaysia  South Korea  Taiwan  Singapore  Hong Kong  USA   \n",
       "Country     43        31           27      21         20         18   17   \n",
       "\n",
       "               7          8      9        10           11  12     13      14  \\\n",
       "index    Thailand  Indonesia  China  Myanmar  Philippines  UK  India  Canada   \n",
       "Country        12         11      5        2            2   2      2       1   \n",
       "\n",
       "            15       16       17  \n",
       "index    Nepal  Germany  Vietnam  \n",
       "Country      1        1        1  "
      ]
     },
     "execution_count": 40,
     "metadata": {},
     "output_type": "execute_result"
    }
   ],
   "source": [
    "### Create new dataframe for countries and 5-star value counts ###\n",
    "five_star_country_counts = pd.DataFrame(train[train.Stars == 5].Country.value_counts()).reset_index()\n",
    "five_star_country_counts.T"
   ]
  },
  {
   "cell_type": "code",
   "execution_count": 41,
   "id": "810f9982",
   "metadata": {},
   "outputs": [
    {
     "data": {
      "text/html": [
       "<div>\n",
       "<style scoped>\n",
       "    .dataframe tbody tr th:only-of-type {\n",
       "        vertical-align: middle;\n",
       "    }\n",
       "\n",
       "    .dataframe tbody tr th {\n",
       "        vertical-align: top;\n",
       "    }\n",
       "\n",
       "    .dataframe thead th {\n",
       "        text-align: right;\n",
       "    }\n",
       "</style>\n",
       "<table border=\"1\" class=\"dataframe\">\n",
       "  <thead>\n",
       "    <tr style=\"text-align: right;\">\n",
       "      <th></th>\n",
       "      <th>index</th>\n",
       "      <th>Country_x</th>\n",
       "      <th>Country_y</th>\n",
       "    </tr>\n",
       "  </thead>\n",
       "  <tbody>\n",
       "    <tr>\n",
       "      <th>0</th>\n",
       "      <td>Japan</td>\n",
       "      <td>43</td>\n",
       "      <td>210</td>\n",
       "    </tr>\n",
       "    <tr>\n",
       "      <th>1</th>\n",
       "      <td>Malaysia</td>\n",
       "      <td>31</td>\n",
       "      <td>93</td>\n",
       "    </tr>\n",
       "    <tr>\n",
       "      <th>2</th>\n",
       "      <td>South Korea</td>\n",
       "      <td>27</td>\n",
       "      <td>173</td>\n",
       "    </tr>\n",
       "  </tbody>\n",
       "</table>\n",
       "</div>"
      ],
      "text/plain": [
       "         index  Country_x  Country_y\n",
       "0        Japan         43        210\n",
       "1     Malaysia         31         93\n",
       "2  South Korea         27        173"
      ]
     },
     "execution_count": 41,
     "metadata": {},
     "output_type": "execute_result"
    }
   ],
   "source": [
    "### Create count of all reviews per country and merge to count of 5-stars ###\n",
    "country_counts = pd.DataFrame(train.Country.value_counts()).reset_index()\n",
    "five_star_country_counts = pd.merge(five_star_country_counts, country_counts, \n",
    "                                    left_on='index',\n",
    "                                    right_on='index')\n",
    "five_star_country_counts.head(3)"
   ]
  },
  {
   "cell_type": "code",
   "execution_count": 42,
   "id": "c54c952c",
   "metadata": {},
   "outputs": [
    {
     "data": {
      "text/html": [
       "<div>\n",
       "<style scoped>\n",
       "    .dataframe tbody tr th:only-of-type {\n",
       "        vertical-align: middle;\n",
       "    }\n",
       "\n",
       "    .dataframe tbody tr th {\n",
       "        vertical-align: top;\n",
       "    }\n",
       "\n",
       "    .dataframe thead th {\n",
       "        text-align: right;\n",
       "    }\n",
       "</style>\n",
       "<table border=\"1\" class=\"dataframe\">\n",
       "  <thead>\n",
       "    <tr style=\"text-align: right;\">\n",
       "      <th></th>\n",
       "      <th>index</th>\n",
       "      <th>Country_x</th>\n",
       "      <th>Country_y</th>\n",
       "      <th>fiver_percent_of_total</th>\n",
       "    </tr>\n",
       "  </thead>\n",
       "  <tbody>\n",
       "    <tr>\n",
       "      <th>0</th>\n",
       "      <td>Japan</td>\n",
       "      <td>43</td>\n",
       "      <td>210</td>\n",
       "      <td>0.204762</td>\n",
       "    </tr>\n",
       "    <tr>\n",
       "      <th>1</th>\n",
       "      <td>Malaysia</td>\n",
       "      <td>31</td>\n",
       "      <td>93</td>\n",
       "      <td>0.333333</td>\n",
       "    </tr>\n",
       "    <tr>\n",
       "      <th>2</th>\n",
       "      <td>South Korea</td>\n",
       "      <td>27</td>\n",
       "      <td>173</td>\n",
       "      <td>0.156069</td>\n",
       "    </tr>\n",
       "    <tr>\n",
       "      <th>3</th>\n",
       "      <td>Taiwan</td>\n",
       "      <td>21</td>\n",
       "      <td>139</td>\n",
       "      <td>0.151079</td>\n",
       "    </tr>\n",
       "    <tr>\n",
       "      <th>4</th>\n",
       "      <td>Singapore</td>\n",
       "      <td>20</td>\n",
       "      <td>75</td>\n",
       "      <td>0.266667</td>\n",
       "    </tr>\n",
       "    <tr>\n",
       "      <th>5</th>\n",
       "      <td>Hong Kong</td>\n",
       "      <td>18</td>\n",
       "      <td>79</td>\n",
       "      <td>0.227848</td>\n",
       "    </tr>\n",
       "    <tr>\n",
       "      <th>6</th>\n",
       "      <td>USA</td>\n",
       "      <td>17</td>\n",
       "      <td>194</td>\n",
       "      <td>0.087629</td>\n",
       "    </tr>\n",
       "    <tr>\n",
       "      <th>7</th>\n",
       "      <td>Thailand</td>\n",
       "      <td>12</td>\n",
       "      <td>125</td>\n",
       "      <td>0.096000</td>\n",
       "    </tr>\n",
       "    <tr>\n",
       "      <th>8</th>\n",
       "      <td>Indonesia</td>\n",
       "      <td>11</td>\n",
       "      <td>79</td>\n",
       "      <td>0.139241</td>\n",
       "    </tr>\n",
       "    <tr>\n",
       "      <th>9</th>\n",
       "      <td>China</td>\n",
       "      <td>5</td>\n",
       "      <td>101</td>\n",
       "      <td>0.049505</td>\n",
       "    </tr>\n",
       "    <tr>\n",
       "      <th>10</th>\n",
       "      <td>Myanmar</td>\n",
       "      <td>2</td>\n",
       "      <td>8</td>\n",
       "      <td>0.250000</td>\n",
       "    </tr>\n",
       "    <tr>\n",
       "      <th>11</th>\n",
       "      <td>Philippines</td>\n",
       "      <td>2</td>\n",
       "      <td>27</td>\n",
       "      <td>0.074074</td>\n",
       "    </tr>\n",
       "    <tr>\n",
       "      <th>12</th>\n",
       "      <td>UK</td>\n",
       "      <td>2</td>\n",
       "      <td>43</td>\n",
       "      <td>0.046512</td>\n",
       "    </tr>\n",
       "    <tr>\n",
       "      <th>13</th>\n",
       "      <td>India</td>\n",
       "      <td>2</td>\n",
       "      <td>19</td>\n",
       "      <td>0.105263</td>\n",
       "    </tr>\n",
       "    <tr>\n",
       "      <th>14</th>\n",
       "      <td>Canada</td>\n",
       "      <td>1</td>\n",
       "      <td>21</td>\n",
       "      <td>0.047619</td>\n",
       "    </tr>\n",
       "    <tr>\n",
       "      <th>15</th>\n",
       "      <td>Nepal</td>\n",
       "      <td>1</td>\n",
       "      <td>8</td>\n",
       "      <td>0.125000</td>\n",
       "    </tr>\n",
       "    <tr>\n",
       "      <th>16</th>\n",
       "      <td>Germany</td>\n",
       "      <td>1</td>\n",
       "      <td>16</td>\n",
       "      <td>0.062500</td>\n",
       "    </tr>\n",
       "    <tr>\n",
       "      <th>17</th>\n",
       "      <td>Vietnam</td>\n",
       "      <td>1</td>\n",
       "      <td>50</td>\n",
       "      <td>0.020000</td>\n",
       "    </tr>\n",
       "  </tbody>\n",
       "</table>\n",
       "</div>"
      ],
      "text/plain": [
       "          index  Country_x  Country_y  fiver_percent_of_total\n",
       "0         Japan         43        210                0.204762\n",
       "1      Malaysia         31         93                0.333333\n",
       "2   South Korea         27        173                0.156069\n",
       "3        Taiwan         21        139                0.151079\n",
       "4     Singapore         20         75                0.266667\n",
       "5     Hong Kong         18         79                0.227848\n",
       "6           USA         17        194                0.087629\n",
       "7      Thailand         12        125                0.096000\n",
       "8     Indonesia         11         79                0.139241\n",
       "9         China          5        101                0.049505\n",
       "10      Myanmar          2          8                0.250000\n",
       "11  Philippines          2         27                0.074074\n",
       "12           UK          2         43                0.046512\n",
       "13        India          2         19                0.105263\n",
       "14       Canada          1         21                0.047619\n",
       "15        Nepal          1          8                0.125000\n",
       "16      Germany          1         16                0.062500\n",
       "17      Vietnam          1         50                0.020000"
      ]
     },
     "execution_count": 42,
     "metadata": {},
     "output_type": "execute_result"
    }
   ],
   "source": [
    "### Calculate percentage of 5-star reviews to all reviews ###\n",
    "five_star_country_counts['fiver_percent_of_total'] = five_star_country_counts.Country_x / five_star_country_counts.Country_y\n",
    "five_star_country_counts"
   ]
  },
  {
   "cell_type": "code",
   "execution_count": 43,
   "id": "f32e3cf9",
   "metadata": {},
   "outputs": [
    {
     "data": {
      "text/html": [
       "<div>\n",
       "<style scoped>\n",
       "    .dataframe tbody tr th:only-of-type {\n",
       "        vertical-align: middle;\n",
       "    }\n",
       "\n",
       "    .dataframe tbody tr th {\n",
       "        vertical-align: top;\n",
       "    }\n",
       "\n",
       "    .dataframe thead th {\n",
       "        text-align: right;\n",
       "    }\n",
       "</style>\n",
       "<table border=\"1\" class=\"dataframe\">\n",
       "  <thead>\n",
       "    <tr style=\"text-align: right;\">\n",
       "      <th></th>\n",
       "      <th>index</th>\n",
       "      <th>Country_x</th>\n",
       "      <th>Country_y</th>\n",
       "      <th>fiver_percent_of_total</th>\n",
       "    </tr>\n",
       "  </thead>\n",
       "  <tbody>\n",
       "    <tr>\n",
       "      <th>1</th>\n",
       "      <td>Malaysia</td>\n",
       "      <td>31</td>\n",
       "      <td>93</td>\n",
       "      <td>0.333333</td>\n",
       "    </tr>\n",
       "    <tr>\n",
       "      <th>4</th>\n",
       "      <td>Singapore</td>\n",
       "      <td>20</td>\n",
       "      <td>75</td>\n",
       "      <td>0.266667</td>\n",
       "    </tr>\n",
       "    <tr>\n",
       "      <th>5</th>\n",
       "      <td>Hong Kong</td>\n",
       "      <td>18</td>\n",
       "      <td>79</td>\n",
       "      <td>0.227848</td>\n",
       "    </tr>\n",
       "    <tr>\n",
       "      <th>0</th>\n",
       "      <td>Japan</td>\n",
       "      <td>43</td>\n",
       "      <td>210</td>\n",
       "      <td>0.204762</td>\n",
       "    </tr>\n",
       "    <tr>\n",
       "      <th>2</th>\n",
       "      <td>South Korea</td>\n",
       "      <td>27</td>\n",
       "      <td>173</td>\n",
       "      <td>0.156069</td>\n",
       "    </tr>\n",
       "    <tr>\n",
       "      <th>3</th>\n",
       "      <td>Taiwan</td>\n",
       "      <td>21</td>\n",
       "      <td>139</td>\n",
       "      <td>0.151079</td>\n",
       "    </tr>\n",
       "    <tr>\n",
       "      <th>7</th>\n",
       "      <td>Thailand</td>\n",
       "      <td>12</td>\n",
       "      <td>125</td>\n",
       "      <td>0.096000</td>\n",
       "    </tr>\n",
       "    <tr>\n",
       "      <th>6</th>\n",
       "      <td>USA</td>\n",
       "      <td>17</td>\n",
       "      <td>194</td>\n",
       "      <td>0.087629</td>\n",
       "    </tr>\n",
       "  </tbody>\n",
       "</table>\n",
       "</div>"
      ],
      "text/plain": [
       "         index  Country_x  Country_y  fiver_percent_of_total\n",
       "1     Malaysia         31         93                0.333333\n",
       "4    Singapore         20         75                0.266667\n",
       "5    Hong Kong         18         79                0.227848\n",
       "0        Japan         43        210                0.204762\n",
       "2  South Korea         27        173                0.156069\n",
       "3       Taiwan         21        139                0.151079\n",
       "7     Thailand         12        125                0.096000\n",
       "6          USA         17        194                0.087629"
      ]
     },
     "execution_count": 43,
     "metadata": {},
     "output_type": "execute_result"
    }
   ],
   "source": [
    "### Sort by percentage ###\n",
    "five_star_country_counts[:8].sort_values('fiver_percent_of_total', ascending=False)"
   ]
  },
  {
   "cell_type": "markdown",
   "id": "530bcd32",
   "metadata": {},
   "source": [
    "### By Brand"
   ]
  },
  {
   "cell_type": "code",
   "execution_count": 44,
   "id": "80e4031c",
   "metadata": {},
   "outputs": [
    {
     "data": {
      "text/plain": [
       "Nissin          52\n",
       "Nongshim        11\n",
       "MyKuali         10\n",
       "Indomie          9\n",
       "Paldo            9\n",
       "                ..\n",
       "Happy Cook       1\n",
       "Wang             1\n",
       "Itsuki           1\n",
       "Ottogi           1\n",
       "Urban Noodle     1\n",
       "Name: Brand, Length: 77, dtype: int64"
      ]
     },
     "execution_count": 44,
     "metadata": {},
     "output_type": "execute_result"
    }
   ],
   "source": [
    "### Check number of 5-star reviews by brand ###\n",
    "train[train.Stars == 5].Brand.value_counts()"
   ]
  },
  {
   "cell_type": "code",
   "execution_count": 45,
   "id": "89894bd7",
   "metadata": {},
   "outputs": [
    {
     "data": {
      "text/html": [
       "<div>\n",
       "<style scoped>\n",
       "    .dataframe tbody tr th:only-of-type {\n",
       "        vertical-align: middle;\n",
       "    }\n",
       "\n",
       "    .dataframe tbody tr th {\n",
       "        vertical-align: top;\n",
       "    }\n",
       "\n",
       "    .dataframe thead th {\n",
       "        text-align: right;\n",
       "    }\n",
       "</style>\n",
       "<table border=\"1\" class=\"dataframe\">\n",
       "  <thead>\n",
       "    <tr style=\"text-align: right;\">\n",
       "      <th></th>\n",
       "      <th>0</th>\n",
       "      <th>1</th>\n",
       "      <th>2</th>\n",
       "      <th>3</th>\n",
       "      <th>4</th>\n",
       "      <th>5</th>\n",
       "      <th>6</th>\n",
       "      <th>7</th>\n",
       "      <th>8</th>\n",
       "      <th>9</th>\n",
       "      <th>...</th>\n",
       "      <th>67</th>\n",
       "      <th>68</th>\n",
       "      <th>69</th>\n",
       "      <th>70</th>\n",
       "      <th>71</th>\n",
       "      <th>72</th>\n",
       "      <th>73</th>\n",
       "      <th>74</th>\n",
       "      <th>75</th>\n",
       "      <th>76</th>\n",
       "    </tr>\n",
       "  </thead>\n",
       "  <tbody>\n",
       "    <tr>\n",
       "      <th>index</th>\n",
       "      <td>Nissin</td>\n",
       "      <td>Nongshim</td>\n",
       "      <td>MyKuali</td>\n",
       "      <td>Indomie</td>\n",
       "      <td>Paldo</td>\n",
       "      <td>Samyang Foods</td>\n",
       "      <td>Mama</td>\n",
       "      <td>KOKA</td>\n",
       "      <td>Maruchan</td>\n",
       "      <td>CarJEN</td>\n",
       "      <td>...</td>\n",
       "      <td>Dream Kitchen</td>\n",
       "      <td>Yamachan</td>\n",
       "      <td>Chering Chang</td>\n",
       "      <td>Ibumie</td>\n",
       "      <td>Daikoku</td>\n",
       "      <td>Happy Cook</td>\n",
       "      <td>Wang</td>\n",
       "      <td>Itsuki</td>\n",
       "      <td>Ottogi</td>\n",
       "      <td>Urban Noodle</td>\n",
       "    </tr>\n",
       "    <tr>\n",
       "      <th>Brand</th>\n",
       "      <td>52</td>\n",
       "      <td>11</td>\n",
       "      <td>10</td>\n",
       "      <td>9</td>\n",
       "      <td>9</td>\n",
       "      <td>7</td>\n",
       "      <td>7</td>\n",
       "      <td>5</td>\n",
       "      <td>5</td>\n",
       "      <td>5</td>\n",
       "      <td>...</td>\n",
       "      <td>1</td>\n",
       "      <td>1</td>\n",
       "      <td>1</td>\n",
       "      <td>1</td>\n",
       "      <td>1</td>\n",
       "      <td>1</td>\n",
       "      <td>1</td>\n",
       "      <td>1</td>\n",
       "      <td>1</td>\n",
       "      <td>1</td>\n",
       "    </tr>\n",
       "  </tbody>\n",
       "</table>\n",
       "<p>2 rows × 77 columns</p>\n",
       "</div>"
      ],
      "text/plain": [
       "           0         1        2        3      4              5     6     7   \\\n",
       "index  Nissin  Nongshim  MyKuali  Indomie  Paldo  Samyang Foods  Mama  KOKA   \n",
       "Brand      52        11       10        9      9              7     7     5   \n",
       "\n",
       "             8       9   ...             67        68             69      70  \\\n",
       "index  Maruchan  CarJEN  ...  Dream Kitchen  Yamachan  Chering Chang  Ibumie   \n",
       "Brand         5       5  ...              1         1              1       1   \n",
       "\n",
       "            71          72    73      74      75            76  \n",
       "index  Daikoku  Happy Cook  Wang  Itsuki  Ottogi  Urban Noodle  \n",
       "Brand        1           1     1       1       1             1  \n",
       "\n",
       "[2 rows x 77 columns]"
      ]
     },
     "execution_count": 45,
     "metadata": {},
     "output_type": "execute_result"
    }
   ],
   "source": [
    "### Create dataframe of brands and their number of 5-star reviews ###\n",
    "five_star_brand_counts = pd.DataFrame(train[train.Stars == 5].Brand.value_counts()).reset_index()\n",
    "five_star_brand_counts.T"
   ]
  },
  {
   "cell_type": "code",
   "execution_count": 46,
   "id": "b722221d",
   "metadata": {},
   "outputs": [
    {
     "data": {
      "text/html": [
       "<div>\n",
       "<style scoped>\n",
       "    .dataframe tbody tr th:only-of-type {\n",
       "        vertical-align: middle;\n",
       "    }\n",
       "\n",
       "    .dataframe tbody tr th {\n",
       "        vertical-align: top;\n",
       "    }\n",
       "\n",
       "    .dataframe thead th {\n",
       "        text-align: right;\n",
       "    }\n",
       "</style>\n",
       "<table border=\"1\" class=\"dataframe\">\n",
       "  <thead>\n",
       "    <tr style=\"text-align: right;\">\n",
       "      <th></th>\n",
       "      <th>index</th>\n",
       "      <th>Brand_x</th>\n",
       "      <th>Brand_y</th>\n",
       "    </tr>\n",
       "  </thead>\n",
       "  <tbody>\n",
       "    <tr>\n",
       "      <th>0</th>\n",
       "      <td>Nissin</td>\n",
       "      <td>52</td>\n",
       "      <td>221</td>\n",
       "    </tr>\n",
       "    <tr>\n",
       "      <th>1</th>\n",
       "      <td>Nongshim</td>\n",
       "      <td>11</td>\n",
       "      <td>62</td>\n",
       "    </tr>\n",
       "    <tr>\n",
       "      <th>2</th>\n",
       "      <td>MyKuali</td>\n",
       "      <td>10</td>\n",
       "      <td>12</td>\n",
       "    </tr>\n",
       "  </tbody>\n",
       "</table>\n",
       "</div>"
      ],
      "text/plain": [
       "      index  Brand_x  Brand_y\n",
       "0    Nissin       52      221\n",
       "1  Nongshim       11       62\n",
       "2   MyKuali       10       12"
      ]
     },
     "execution_count": 46,
     "metadata": {},
     "output_type": "execute_result"
    }
   ],
   "source": [
    "### Affix dataframe of total review counts per brand to dataframe containing 5-star counts ###\n",
    "brand_counts = pd.DataFrame(train.Brand.value_counts()).reset_index()\n",
    "five_star_brand_counts = pd.merge(five_star_brand_counts, brand_counts, \n",
    "                                    left_on='index',\n",
    "                                    right_on='index')\n",
    "five_star_brand_counts.head(3)"
   ]
  },
  {
   "cell_type": "code",
   "execution_count": 47,
   "id": "5ae40103",
   "metadata": {},
   "outputs": [
    {
     "data": {
      "text/html": [
       "<div>\n",
       "<style scoped>\n",
       "    .dataframe tbody tr th:only-of-type {\n",
       "        vertical-align: middle;\n",
       "    }\n",
       "\n",
       "    .dataframe tbody tr th {\n",
       "        vertical-align: top;\n",
       "    }\n",
       "\n",
       "    .dataframe thead th {\n",
       "        text-align: right;\n",
       "    }\n",
       "</style>\n",
       "<table border=\"1\" class=\"dataframe\">\n",
       "  <thead>\n",
       "    <tr style=\"text-align: right;\">\n",
       "      <th></th>\n",
       "      <th>index</th>\n",
       "      <th>Brand_x</th>\n",
       "      <th>Brand_y</th>\n",
       "      <th>fiver_percent_of_total</th>\n",
       "    </tr>\n",
       "  </thead>\n",
       "  <tbody>\n",
       "    <tr>\n",
       "      <th>0</th>\n",
       "      <td>Nissin</td>\n",
       "      <td>52</td>\n",
       "      <td>221</td>\n",
       "      <td>0.235294</td>\n",
       "    </tr>\n",
       "    <tr>\n",
       "      <th>1</th>\n",
       "      <td>Nongshim</td>\n",
       "      <td>11</td>\n",
       "      <td>62</td>\n",
       "      <td>0.177419</td>\n",
       "    </tr>\n",
       "    <tr>\n",
       "      <th>2</th>\n",
       "      <td>MyKuali</td>\n",
       "      <td>10</td>\n",
       "      <td>12</td>\n",
       "      <td>0.833333</td>\n",
       "    </tr>\n",
       "    <tr>\n",
       "      <th>3</th>\n",
       "      <td>Indomie</td>\n",
       "      <td>9</td>\n",
       "      <td>33</td>\n",
       "      <td>0.272727</td>\n",
       "    </tr>\n",
       "    <tr>\n",
       "      <th>4</th>\n",
       "      <td>Paldo</td>\n",
       "      <td>9</td>\n",
       "      <td>37</td>\n",
       "      <td>0.243243</td>\n",
       "    </tr>\n",
       "    <tr>\n",
       "      <th>...</th>\n",
       "      <td>...</td>\n",
       "      <td>...</td>\n",
       "      <td>...</td>\n",
       "      <td>...</td>\n",
       "    </tr>\n",
       "    <tr>\n",
       "      <th>72</th>\n",
       "      <td>Happy Cook</td>\n",
       "      <td>1</td>\n",
       "      <td>3</td>\n",
       "      <td>0.333333</td>\n",
       "    </tr>\n",
       "    <tr>\n",
       "      <th>73</th>\n",
       "      <td>Wang</td>\n",
       "      <td>1</td>\n",
       "      <td>3</td>\n",
       "      <td>0.333333</td>\n",
       "    </tr>\n",
       "    <tr>\n",
       "      <th>74</th>\n",
       "      <td>Itsuki</td>\n",
       "      <td>1</td>\n",
       "      <td>3</td>\n",
       "      <td>0.333333</td>\n",
       "    </tr>\n",
       "    <tr>\n",
       "      <th>75</th>\n",
       "      <td>Ottogi</td>\n",
       "      <td>1</td>\n",
       "      <td>27</td>\n",
       "      <td>0.037037</td>\n",
       "    </tr>\n",
       "    <tr>\n",
       "      <th>76</th>\n",
       "      <td>Urban Noodle</td>\n",
       "      <td>1</td>\n",
       "      <td>5</td>\n",
       "      <td>0.200000</td>\n",
       "    </tr>\n",
       "  </tbody>\n",
       "</table>\n",
       "<p>77 rows × 4 columns</p>\n",
       "</div>"
      ],
      "text/plain": [
       "           index  Brand_x  Brand_y  fiver_percent_of_total\n",
       "0         Nissin       52      221                0.235294\n",
       "1       Nongshim       11       62                0.177419\n",
       "2        MyKuali       10       12                0.833333\n",
       "3        Indomie        9       33                0.272727\n",
       "4          Paldo        9       37                0.243243\n",
       "..           ...      ...      ...                     ...\n",
       "72    Happy Cook        1        3                0.333333\n",
       "73          Wang        1        3                0.333333\n",
       "74        Itsuki        1        3                0.333333\n",
       "75        Ottogi        1       27                0.037037\n",
       "76  Urban Noodle        1        5                0.200000\n",
       "\n",
       "[77 rows x 4 columns]"
      ]
     },
     "execution_count": 47,
     "metadata": {},
     "output_type": "execute_result"
    }
   ],
   "source": [
    "### Calculate proportion of 5-star reviews to all reviews ###\n",
    "five_star_brand_counts['fiver_percent_of_total'] = five_star_brand_counts.Brand_x / five_star_brand_counts.Brand_y\n",
    "five_star_brand_counts"
   ]
  },
  {
   "cell_type": "code",
   "execution_count": 48,
   "id": "4fee889e",
   "metadata": {},
   "outputs": [
    {
     "data": {
      "text/html": [
       "<div>\n",
       "<style scoped>\n",
       "    .dataframe tbody tr th:only-of-type {\n",
       "        vertical-align: middle;\n",
       "    }\n",
       "\n",
       "    .dataframe tbody tr th {\n",
       "        vertical-align: top;\n",
       "    }\n",
       "\n",
       "    .dataframe thead th {\n",
       "        text-align: right;\n",
       "    }\n",
       "</style>\n",
       "<table border=\"1\" class=\"dataframe\">\n",
       "  <thead>\n",
       "    <tr style=\"text-align: right;\">\n",
       "      <th></th>\n",
       "      <th>index</th>\n",
       "      <th>Brand_x</th>\n",
       "      <th>Brand_y</th>\n",
       "      <th>fiver_percent_of_total</th>\n",
       "    </tr>\n",
       "  </thead>\n",
       "  <tbody>\n",
       "    <tr>\n",
       "      <th>2</th>\n",
       "      <td>MyKuali</td>\n",
       "      <td>10</td>\n",
       "      <td>12</td>\n",
       "      <td>0.833333</td>\n",
       "    </tr>\n",
       "    <tr>\n",
       "      <th>7</th>\n",
       "      <td>KOKA</td>\n",
       "      <td>5</td>\n",
       "      <td>17</td>\n",
       "      <td>0.294118</td>\n",
       "    </tr>\n",
       "    <tr>\n",
       "      <th>3</th>\n",
       "      <td>Indomie</td>\n",
       "      <td>9</td>\n",
       "      <td>33</td>\n",
       "      <td>0.272727</td>\n",
       "    </tr>\n",
       "    <tr>\n",
       "      <th>4</th>\n",
       "      <td>Paldo</td>\n",
       "      <td>9</td>\n",
       "      <td>37</td>\n",
       "      <td>0.243243</td>\n",
       "    </tr>\n",
       "    <tr>\n",
       "      <th>0</th>\n",
       "      <td>Nissin</td>\n",
       "      <td>52</td>\n",
       "      <td>221</td>\n",
       "      <td>0.235294</td>\n",
       "    </tr>\n",
       "    <tr>\n",
       "      <th>5</th>\n",
       "      <td>Samyang Foods</td>\n",
       "      <td>7</td>\n",
       "      <td>33</td>\n",
       "      <td>0.212121</td>\n",
       "    </tr>\n",
       "    <tr>\n",
       "      <th>6</th>\n",
       "      <td>Mama</td>\n",
       "      <td>7</td>\n",
       "      <td>38</td>\n",
       "      <td>0.184211</td>\n",
       "    </tr>\n",
       "    <tr>\n",
       "      <th>1</th>\n",
       "      <td>Nongshim</td>\n",
       "      <td>11</td>\n",
       "      <td>62</td>\n",
       "      <td>0.177419</td>\n",
       "    </tr>\n",
       "  </tbody>\n",
       "</table>\n",
       "</div>"
      ],
      "text/plain": [
       "           index  Brand_x  Brand_y  fiver_percent_of_total\n",
       "2        MyKuali       10       12                0.833333\n",
       "7           KOKA        5       17                0.294118\n",
       "3        Indomie        9       33                0.272727\n",
       "4          Paldo        9       37                0.243243\n",
       "0         Nissin       52      221                0.235294\n",
       "5  Samyang Foods        7       33                0.212121\n",
       "6           Mama        7       38                0.184211\n",
       "1       Nongshim       11       62                0.177419"
      ]
     },
     "execution_count": 48,
     "metadata": {},
     "output_type": "execute_result"
    }
   ],
   "source": [
    "### Sort by percentage ###\n",
    "five_star_brand_counts[:8].sort_values('fiver_percent_of_total', ascending=False)"
   ]
  },
  {
   "cell_type": "markdown",
   "id": "0eb64f7c",
   "metadata": {},
   "source": [
    "MyKuali has a suspiciously-high number of 5-star reviews... what's the distribution of all MyKuali reviews?"
   ]
  },
  {
   "cell_type": "code",
   "execution_count": 49,
   "id": "7b91e56f",
   "metadata": {},
   "outputs": [
    {
     "data": {
      "text/plain": [
       "<AxesSubplot:xlabel='Brand', ylabel='Stars'>"
      ]
     },
     "execution_count": 49,
     "metadata": {},
     "output_type": "execute_result"
    },
    {
     "data": {
      "image/png": "[encoded data removed]",
      "text/plain": [
       "<Figure size 432x288 with 1 Axes>"
      ]
     },
     "metadata": {
      "needs_background": "light"
     },
     "output_type": "display_data"
    }
   ],
   "source": [
    "### Compare boxplots of MyKuali to next high-5-star-proprtion ramen brand ###\n",
    "sns.boxplot(data=train, x=train[(train.Brand == 'MyKuali') | ((train.Brand == 'Paldo'))].Brand, y=train.Stars)"
   ]
  },
  {
   "cell_type": "code",
   "execution_count": 50,
   "id": "73fd2475",
   "metadata": {},
   "outputs": [
    {
     "data": {
      "text/html": [
       "<div>\n",
       "<style scoped>\n",
       "    .dataframe tbody tr th:only-of-type {\n",
       "        vertical-align: middle;\n",
       "    }\n",
       "\n",
       "    .dataframe tbody tr th {\n",
       "        vertical-align: top;\n",
       "    }\n",
       "\n",
       "    .dataframe thead th {\n",
       "        text-align: right;\n",
       "    }\n",
       "</style>\n",
       "<table border=\"1\" class=\"dataframe\">\n",
       "  <thead>\n",
       "    <tr style=\"text-align: right;\">\n",
       "      <th></th>\n",
       "      <th>Review #</th>\n",
       "      <th>Brand</th>\n",
       "      <th>Variety</th>\n",
       "      <th>Style</th>\n",
       "      <th>Country</th>\n",
       "      <th>Stars</th>\n",
       "    </tr>\n",
       "  </thead>\n",
       "  <tbody>\n",
       "    <tr>\n",
       "      <th>599</th>\n",
       "      <td>1981</td>\n",
       "      <td>MyKuali</td>\n",
       "      <td>Penang Red tom Yum Goong Noodle Authentic Taste</td>\n",
       "      <td>Pack</td>\n",
       "      <td>Malaysia</td>\n",
       "      <td>5.00</td>\n",
       "    </tr>\n",
       "    <tr>\n",
       "      <th>757</th>\n",
       "      <td>1823</td>\n",
       "      <td>MyKuali</td>\n",
       "      <td>MeeKuali spicy Fried Noodle</td>\n",
       "      <td>Pack</td>\n",
       "      <td>Malaysia</td>\n",
       "      <td>4.00</td>\n",
       "    </tr>\n",
       "    <tr>\n",
       "      <th>176</th>\n",
       "      <td>2404</td>\n",
       "      <td>MyKuali</td>\n",
       "      <td>Penang Hokkien Prawn Noodle Soup</td>\n",
       "      <td>Pack</td>\n",
       "      <td>Singapore</td>\n",
       "      <td>5.00</td>\n",
       "    </tr>\n",
       "    <tr>\n",
       "      <th>530</th>\n",
       "      <td>2050</td>\n",
       "      <td>MyKuali</td>\n",
       "      <td>Penang Red Tom Yum Goong Noodle Authentic Taste</td>\n",
       "      <td>Cup</td>\n",
       "      <td>Malaysia</td>\n",
       "      <td>5.00</td>\n",
       "    </tr>\n",
       "    <tr>\n",
       "      <th>591</th>\n",
       "      <td>1989</td>\n",
       "      <td>MyKuali</td>\n",
       "      <td>Penang White curry Noodle Authentic Taste</td>\n",
       "      <td>Pack</td>\n",
       "      <td>Malaysia</td>\n",
       "      <td>5.00</td>\n",
       "    </tr>\n",
       "    <tr>\n",
       "      <th>554</th>\n",
       "      <td>2026</td>\n",
       "      <td>MyKuali</td>\n",
       "      <td>Penang White Curry Authentic Taste Cup</td>\n",
       "      <td>Cup</td>\n",
       "      <td>Malaysia</td>\n",
       "      <td>4.75</td>\n",
       "    </tr>\n",
       "    <tr>\n",
       "      <th>963</th>\n",
       "      <td>1617</td>\n",
       "      <td>MyKuali</td>\n",
       "      <td>Penang Hokkien Prawn Noodle (New Improved Taste)</td>\n",
       "      <td>Pack</td>\n",
       "      <td>Malaysia</td>\n",
       "      <td>5.00</td>\n",
       "    </tr>\n",
       "    <tr>\n",
       "      <th>799</th>\n",
       "      <td>1781</td>\n",
       "      <td>MyKuali</td>\n",
       "      <td>Penang Hokkien Prawn Soup Rice Vermicelli (Bihun)</td>\n",
       "      <td>Bowl</td>\n",
       "      <td>Malaysia</td>\n",
       "      <td>5.00</td>\n",
       "    </tr>\n",
       "    <tr>\n",
       "      <th>732</th>\n",
       "      <td>1848</td>\n",
       "      <td>MyKuali</td>\n",
       "      <td>Penang Red tom Yum Goong Noodle (New Version)</td>\n",
       "      <td>Pack</td>\n",
       "      <td>Malaysia</td>\n",
       "      <td>5.00</td>\n",
       "    </tr>\n",
       "    <tr>\n",
       "      <th>489</th>\n",
       "      <td>2091</td>\n",
       "      <td>MyKuali</td>\n",
       "      <td>Penang Hokkien Prawn Noodle Authentic Taste</td>\n",
       "      <td>Cup</td>\n",
       "      <td>Malaysia</td>\n",
       "      <td>5.00</td>\n",
       "    </tr>\n",
       "    <tr>\n",
       "      <th>188</th>\n",
       "      <td>2392</td>\n",
       "      <td>MyKuali</td>\n",
       "      <td>Penang Red Tom Yum Goong Rice Vermicelli Soup</td>\n",
       "      <td>Bowl</td>\n",
       "      <td>Malaysia</td>\n",
       "      <td>5.00</td>\n",
       "    </tr>\n",
       "    <tr>\n",
       "      <th>150</th>\n",
       "      <td>2430</td>\n",
       "      <td>MyKuali</td>\n",
       "      <td>MeeKuali Bihun Sup Rempah Perisa Daging</td>\n",
       "      <td>Pack</td>\n",
       "      <td>Malaysia</td>\n",
       "      <td>5.00</td>\n",
       "    </tr>\n",
       "  </tbody>\n",
       "</table>\n",
       "</div>"
      ],
      "text/plain": [
       "    Review #    Brand                                            Variety  \\\n",
       "599     1981  MyKuali    Penang Red tom Yum Goong Noodle Authentic Taste   \n",
       "757     1823  MyKuali                        MeeKuali spicy Fried Noodle   \n",
       "176     2404  MyKuali                   Penang Hokkien Prawn Noodle Soup   \n",
       "530     2050  MyKuali    Penang Red Tom Yum Goong Noodle Authentic Taste   \n",
       "591     1989  MyKuali          Penang White curry Noodle Authentic Taste   \n",
       "554     2026  MyKuali             Penang White Curry Authentic Taste Cup   \n",
       "963     1617  MyKuali   Penang Hokkien Prawn Noodle (New Improved Taste)   \n",
       "799     1781  MyKuali  Penang Hokkien Prawn Soup Rice Vermicelli (Bihun)   \n",
       "732     1848  MyKuali      Penang Red tom Yum Goong Noodle (New Version)   \n",
       "489     2091  MyKuali        Penang Hokkien Prawn Noodle Authentic Taste   \n",
       "188     2392  MyKuali      Penang Red Tom Yum Goong Rice Vermicelli Soup   \n",
       "150     2430  MyKuali            MeeKuali Bihun Sup Rempah Perisa Daging   \n",
       "\n",
       "    Style    Country  Stars  \n",
       "599  Pack   Malaysia   5.00  \n",
       "757  Pack   Malaysia   4.00  \n",
       "176  Pack  Singapore   5.00  \n",
       "530   Cup   Malaysia   5.00  \n",
       "591  Pack   Malaysia   5.00  \n",
       "554   Cup   Malaysia   4.75  \n",
       "963  Pack   Malaysia   5.00  \n",
       "799  Bowl   Malaysia   5.00  \n",
       "732  Pack   Malaysia   5.00  \n",
       "489   Cup   Malaysia   5.00  \n",
       "188  Bowl   Malaysia   5.00  \n",
       "150  Pack   Malaysia   5.00  "
      ]
     },
     "execution_count": 50,
     "metadata": {},
     "output_type": "execute_result"
    }
   ],
   "source": [
    "### Sanity check on high-review MyKuali ###\n",
    "train[train.Brand == 'MyKuali']"
   ]
  },
  {
   "cell_type": "code",
   "execution_count": 51,
   "id": "cd11d3bc",
   "metadata": {},
   "outputs": [
    {
     "data": {
      "text/plain": [
       "<AxesSubplot:xlabel='Country', ylabel='Stars'>"
      ]
     },
     "execution_count": 51,
     "metadata": {},
     "output_type": "execute_result"
    },
    {
     "data": {
      "image/png": "[encoded data removed]",
      "text/plain": [
       "<Figure size 720x504 with 1 Axes>"
      ]
     },
     "metadata": {
      "needs_background": "light"
     },
     "output_type": "display_data"
    }
   ],
   "source": [
    "### Plot top-11 countries *without MyKuali* to see what happens to distribution ###\n",
    "plt.figure(figsize=(10,7))\n",
    "mykuali_indices = train_top11[train_top11.Brand == 'MyKuali'].index\n",
    "sns.boxplot(data=train_top11.drop(index=mykuali_indices), x='Country', y='Stars')"
   ]
  },
  {
   "cell_type": "markdown",
   "id": "12db268e",
   "metadata": {},
   "source": [
    "It seems Malaysia's distribution didn't change much. Maybe Malaysia is just really good at making ramen."
   ]
  },
  {
   "cell_type": "markdown",
   "id": "553d835d",
   "metadata": {},
   "source": [
    "# Modeling\n",
    "Gameplan: \n",
    "1. Filter dataframe to 0.25 increments between 0 and 5 - *Done*\n",
    "2. Multiply all values by 4 (0 -> 0, 0.25 -> 1, 0.5 -> 2, 0.75 -> 3, etc) - *Done*\n",
    "3. Choose most common rating for baseline (classification approach, will explain my reasoning below) - *Done*\n",
    "4. Calculate baseline accuracy (number of chosen-baseline values / all values) - *Done*\n",
    "5. Build MVP models using Style and Country all encoded\n",
    "    * Later perform Feature Engineering on Brand to simplify column for brand names only\n",
    "    * Later perform Feature Engineering on Variety to simplify column for Chicken, Beef, etc\n",
    "6. Evaluate models on validate set\n",
    "7. Re-set baseline accuracy using best-selected model for train and validate\n",
    "8. Feature engineering on Variety\n",
    "9. One-hot encoding on all engineered Variety values and all Brand, Style, and Country values (yep)\n",
    "10. SelectKBest/RFE to determine which features to use in model\n",
    "11. Note which features SelectKBest/RFE chose\n",
    "12. Build models using the features\n",
    "13. Evaluate on validate\n",
    "14. Compare to new baseline\n",
    "15. Choose best model\n",
    "16. Evaluate on test\n",
    "17. Formalize results in a presentation notebook\n",
    "\n",
    "## Prep"
   ]
  },
  {
   "cell_type": "code",
   "execution_count": 52,
   "id": "99787890",
   "metadata": {},
   "outputs": [
    {
     "data": {
      "text/plain": [
       "array([4.25 , 3.5  , 4.   , 5.   , 3.75 , 1.   , 2.75 , 4.75 , 3.25 ,\n",
       "       4.5  , 0.   , 2.5  , 2.   , 1.75 , 3.   , 1.25 , 2.25 , 0.5  ,\n",
       "       1.5  , 2.85 , 0.75 , 4.3  , 3.8  , 0.25 , 2.1  , 2.8  , 1.8  ,\n",
       "       1.1  , 2.125, 2.9  , 3.1  , 4.125, 3.3  , 3.6  , 3.125, 3.7  ,\n",
       "       2.3  ])"
      ]
     },
     "execution_count": 52,
     "metadata": {},
     "output_type": "execute_result"
    }
   ],
   "source": [
    "train.Stars.unique()"
   ]
  },
  {
   "cell_type": "code",
   "execution_count": 53,
   "id": "7d437f87",
   "metadata": {},
   "outputs": [],
   "source": [
    "train['Stars'] = (train.Stars * 4).round() / 4\n",
    "validate['Stars'] = (validate.Stars * 4).round() / 4\n",
    "test['Stars'] = (test.Stars * 4).round() / 4"
   ]
  },
  {
   "cell_type": "code",
   "execution_count": 54,
   "id": "5765c454",
   "metadata": {},
   "outputs": [
    {
     "data": {
      "text/plain": [
       "array([4.25, 3.5 , 4.  , 5.  , 3.75, 1.  , 2.75, 4.75, 3.25, 4.5 , 0.  ,\n",
       "       2.5 , 2.  , 1.75, 3.  , 1.25, 2.25, 0.5 , 1.5 , 0.75, 0.25])"
      ]
     },
     "execution_count": 54,
     "metadata": {},
     "output_type": "execute_result"
    }
   ],
   "source": [
    "# Checking work\n",
    "train.Stars.unique()"
   ]
  },
  {
   "cell_type": "code",
   "execution_count": 55,
   "id": "b3d7ecb9",
   "metadata": {},
   "outputs": [
    {
     "data": {
      "text/html": [
       "<div>\n",
       "<style scoped>\n",
       "    .dataframe tbody tr th:only-of-type {\n",
       "        vertical-align: middle;\n",
       "    }\n",
       "\n",
       "    .dataframe tbody tr th {\n",
       "        vertical-align: top;\n",
       "    }\n",
       "\n",
       "    .dataframe thead th {\n",
       "        text-align: right;\n",
       "    }\n",
       "</style>\n",
       "<table border=\"1\" class=\"dataframe\">\n",
       "  <thead>\n",
       "    <tr style=\"text-align: right;\">\n",
       "      <th></th>\n",
       "      <th>Review #</th>\n",
       "      <th>Brand</th>\n",
       "      <th>Variety</th>\n",
       "      <th>Style</th>\n",
       "      <th>Country</th>\n",
       "      <th>Stars</th>\n",
       "    </tr>\n",
       "  </thead>\n",
       "  <tbody>\n",
       "  </tbody>\n",
       "</table>\n",
       "</div>"
      ],
      "text/plain": [
       "Empty DataFrame\n",
       "Columns: [Review #, Brand, Variety, Style, Country, Stars]\n",
       "Index: []"
      ]
     },
     "execution_count": 55,
     "metadata": {},
     "output_type": "execute_result"
    }
   ],
   "source": [
    "train[train.Stars.isna()]"
   ]
  },
  {
   "cell_type": "code",
   "execution_count": 56,
   "id": "13d82ebf",
   "metadata": {},
   "outputs": [
    {
     "name": "stdout",
     "output_type": "stream",
     "text": [
      "594     4.25\n",
      "1828    3.50\n",
      "1611    4.00\n",
      "215     5.00\n",
      "1003    3.75\n",
      "Name: Stars, dtype: float64\n",
      "594     17.0\n",
      "1828    14.0\n",
      "1611    16.0\n",
      "215     20.0\n",
      "1003    15.0\n",
      "Name: Stars, dtype: float64\n"
     ]
    }
   ],
   "source": [
    "# Multiplying all values by 4 (0.25 -> 1, 0.5 -> 2, 0.75 -> 3, ...)\n",
    "print(train.Stars[:5])\n",
    "train['Stars'] = train.Stars * 4\n",
    "validate['Stars'] = validate.Stars * 4\n",
    "test['Stars'] = test.Stars * 4\n",
    "print(train.Stars[:5])"
   ]
  },
  {
   "cell_type": "code",
   "execution_count": 57,
   "id": "c540ec2c",
   "metadata": {},
   "outputs": [
    {
     "data": {
      "text/plain": [
       "array([17., 14., 16., 20., 15.,  4., 11., 19., 13., 18.,  0., 10.,  8.,\n",
       "        7., 12.,  5.,  9.,  2.,  6.,  3.,  1.])"
      ]
     },
     "execution_count": 57,
     "metadata": {},
     "output_type": "execute_result"
    }
   ],
   "source": [
    "train.Stars.unique()"
   ]
  },
  {
   "cell_type": "code",
   "execution_count": 58,
   "id": "8ab895cb",
   "metadata": {},
   "outputs": [
    {
     "data": {
      "text/plain": [
       "dtype('int64')"
      ]
     },
     "execution_count": 58,
     "metadata": {},
     "output_type": "execute_result"
    }
   ],
   "source": [
    "# Casting Stars column as int\n",
    "train['Stars'] = train['Stars'].astype('int')\n",
    "train['Stars'].dtype"
   ]
  },
  {
   "cell_type": "code",
   "execution_count": 59,
   "id": "32bc9daf",
   "metadata": {},
   "outputs": [
    {
     "data": {
      "text/plain": [
       "16    229\n",
       "Name: Stars, dtype: int64"
      ]
     },
     "execution_count": 59,
     "metadata": {},
     "output_type": "execute_result"
    }
   ],
   "source": [
    "# Discover most common rating (will use as baseline)\n",
    "train['Stars'].value_counts().head(1)"
   ]
  },
  {
   "cell_type": "code",
   "execution_count": 60,
   "id": "c4c096fd",
   "metadata": {},
   "outputs": [],
   "source": [
    "# 4-star rating is most common, set to value 16\n",
    "most_common = 16"
   ]
  },
  {
   "cell_type": "markdown",
   "id": "6d6d0556",
   "metadata": {},
   "source": [
    "## Minimum Viable Product (MVP)"
   ]
  },
  {
   "cell_type": "code",
   "execution_count": 61,
   "id": "6aafb693",
   "metadata": {},
   "outputs": [
    {
     "name": "stdout",
     "output_type": "stream",
     "text": [
      "Baseline accuracy: 15.83%\n"
     ]
    }
   ],
   "source": [
    "# Calculate baseline accuracy\n",
    "print('Baseline accuracy:', str(round((237 / len(train)) * 100, 2)) + '%')"
   ]
  },
  {
   "cell_type": "markdown",
   "id": "47301fd4",
   "metadata": {},
   "source": [
    "**MVP Columns**: Brand, Style, Country\n",
    "\n",
    "One-hot encode columns"
   ]
  },
  {
   "cell_type": "code",
   "execution_count": 62,
   "id": "6ee91842",
   "metadata": {},
   "outputs": [],
   "source": [
    "train_encoded = pd.get_dummies(train, columns=['Style','Country']).drop(columns=['Brand','Review #','Variety'])\n",
    "validate_encoded = pd.get_dummies(validate, columns=['Style','Country']).drop(columns=['Brand','Review #','Variety'])\n",
    "test_encoded = pd.get_dummies(test, columns=['Style','Country']).drop(columns=['Brand','Review #','Variety'])"
   ]
  },
  {
   "cell_type": "code",
   "execution_count": 63,
   "id": "3cfc646f",
   "metadata": {},
   "outputs": [
    {
     "data": {
      "text/html": [
       "<div>\n",
       "<style scoped>\n",
       "    .dataframe tbody tr th:only-of-type {\n",
       "        vertical-align: middle;\n",
       "    }\n",
       "\n",
       "    .dataframe tbody tr th {\n",
       "        vertical-align: top;\n",
       "    }\n",
       "\n",
       "    .dataframe thead th {\n",
       "        text-align: right;\n",
       "    }\n",
       "</style>\n",
       "<table border=\"1\" class=\"dataframe\">\n",
       "  <thead>\n",
       "    <tr style=\"text-align: right;\">\n",
       "      <th></th>\n",
       "      <th>Stars</th>\n",
       "      <th>Style_Bowl</th>\n",
       "      <th>Style_Cup</th>\n",
       "      <th>Style_Pack</th>\n",
       "      <th>Style_Tray</th>\n",
       "      <th>Country_Australia</th>\n",
       "      <th>Country_Canada</th>\n",
       "      <th>Country_China</th>\n",
       "      <th>Country_Germany</th>\n",
       "      <th>Country_Hong Kong</th>\n",
       "      <th>...</th>\n",
       "      <th>Country_Nepal</th>\n",
       "      <th>Country_Netherlands</th>\n",
       "      <th>Country_Philippines</th>\n",
       "      <th>Country_Singapore</th>\n",
       "      <th>Country_South Korea</th>\n",
       "      <th>Country_Taiwan</th>\n",
       "      <th>Country_Thailand</th>\n",
       "      <th>Country_UK</th>\n",
       "      <th>Country_USA</th>\n",
       "      <th>Country_Vietnam</th>\n",
       "    </tr>\n",
       "  </thead>\n",
       "  <tbody>\n",
       "    <tr>\n",
       "      <th>594</th>\n",
       "      <td>17</td>\n",
       "      <td>0</td>\n",
       "      <td>0</td>\n",
       "      <td>1</td>\n",
       "      <td>0</td>\n",
       "      <td>0</td>\n",
       "      <td>0</td>\n",
       "      <td>0</td>\n",
       "      <td>0</td>\n",
       "      <td>0</td>\n",
       "      <td>...</td>\n",
       "      <td>0</td>\n",
       "      <td>0</td>\n",
       "      <td>0</td>\n",
       "      <td>0</td>\n",
       "      <td>0</td>\n",
       "      <td>1</td>\n",
       "      <td>0</td>\n",
       "      <td>0</td>\n",
       "      <td>0</td>\n",
       "      <td>0</td>\n",
       "    </tr>\n",
       "  </tbody>\n",
       "</table>\n",
       "<p>1 rows × 26 columns</p>\n",
       "</div>"
      ],
      "text/plain": [
       "     Stars  Style_Bowl  Style_Cup  Style_Pack  Style_Tray  Country_Australia  \\\n",
       "594     17           0          0           1           0                  0   \n",
       "\n",
       "     Country_Canada  Country_China  Country_Germany  Country_Hong Kong  ...  \\\n",
       "594               0              0                0                  0  ...   \n",
       "\n",
       "     Country_Nepal  Country_Netherlands  Country_Philippines  \\\n",
       "594              0                    0                    0   \n",
       "\n",
       "     Country_Singapore  Country_South Korea  Country_Taiwan  Country_Thailand  \\\n",
       "594                  0                    0               1                 0   \n",
       "\n",
       "     Country_UK  Country_USA  Country_Vietnam  \n",
       "594           0            0                0  \n",
       "\n",
       "[1 rows x 26 columns]"
      ]
     },
     "execution_count": 63,
     "metadata": {},
     "output_type": "execute_result"
    }
   ],
   "source": [
    "train_encoded.head(1)"
   ]
  },
  {
   "cell_type": "code",
   "execution_count": 64,
   "id": "fa9b6595",
   "metadata": {},
   "outputs": [
    {
     "data": {
      "text/html": [
       "<div>\n",
       "<style scoped>\n",
       "    .dataframe tbody tr th:only-of-type {\n",
       "        vertical-align: middle;\n",
       "    }\n",
       "\n",
       "    .dataframe tbody tr th {\n",
       "        vertical-align: top;\n",
       "    }\n",
       "\n",
       "    .dataframe thead th {\n",
       "        text-align: right;\n",
       "    }\n",
       "</style>\n",
       "<table border=\"1\" class=\"dataframe\">\n",
       "  <thead>\n",
       "    <tr style=\"text-align: right;\">\n",
       "      <th></th>\n",
       "      <th>Style_Bowl</th>\n",
       "      <th>Style_Cup</th>\n",
       "      <th>Style_Pack</th>\n",
       "      <th>Style_Tray</th>\n",
       "      <th>Country_Australia</th>\n",
       "      <th>Country_Canada</th>\n",
       "      <th>Country_China</th>\n",
       "      <th>Country_Germany</th>\n",
       "      <th>Country_Hong Kong</th>\n",
       "      <th>Country_India</th>\n",
       "      <th>...</th>\n",
       "      <th>Country_Nepal</th>\n",
       "      <th>Country_Netherlands</th>\n",
       "      <th>Country_Philippines</th>\n",
       "      <th>Country_Singapore</th>\n",
       "      <th>Country_South Korea</th>\n",
       "      <th>Country_Taiwan</th>\n",
       "      <th>Country_Thailand</th>\n",
       "      <th>Country_UK</th>\n",
       "      <th>Country_USA</th>\n",
       "      <th>Country_Vietnam</th>\n",
       "    </tr>\n",
       "  </thead>\n",
       "  <tbody>\n",
       "    <tr>\n",
       "      <th>1299</th>\n",
       "      <td>1</td>\n",
       "      <td>0</td>\n",
       "      <td>0</td>\n",
       "      <td>0</td>\n",
       "      <td>0</td>\n",
       "      <td>0</td>\n",
       "      <td>0</td>\n",
       "      <td>0</td>\n",
       "      <td>0</td>\n",
       "      <td>0</td>\n",
       "      <td>...</td>\n",
       "      <td>0</td>\n",
       "      <td>0</td>\n",
       "      <td>0</td>\n",
       "      <td>0</td>\n",
       "      <td>0</td>\n",
       "      <td>0</td>\n",
       "      <td>0</td>\n",
       "      <td>0</td>\n",
       "      <td>0</td>\n",
       "      <td>0</td>\n",
       "    </tr>\n",
       "  </tbody>\n",
       "</table>\n",
       "<p>1 rows × 25 columns</p>\n",
       "</div>"
      ],
      "text/plain": [
       "      Style_Bowl  Style_Cup  Style_Pack  Style_Tray  Country_Australia  \\\n",
       "1299           1          0           0           0                  0   \n",
       "\n",
       "      Country_Canada  Country_China  Country_Germany  Country_Hong Kong  \\\n",
       "1299               0              0                0                  0   \n",
       "\n",
       "      Country_India  ...  Country_Nepal  Country_Netherlands  \\\n",
       "1299              0  ...              0                    0   \n",
       "\n",
       "      Country_Philippines  Country_Singapore  Country_South Korea  \\\n",
       "1299                    0                  0                    0   \n",
       "\n",
       "      Country_Taiwan  Country_Thailand  Country_UK  Country_USA  \\\n",
       "1299               0                 0           0            0   \n",
       "\n",
       "      Country_Vietnam  \n",
       "1299                0  \n",
       "\n",
       "[1 rows x 25 columns]"
      ]
     },
     "execution_count": 64,
     "metadata": {},
     "output_type": "execute_result"
    }
   ],
   "source": [
    "X_train, y_train = train_encoded.drop(columns='Stars'), train_encoded.Stars\n",
    "X_validate, y_validate = validate_encoded.drop(columns='Stars'), validate_encoded.Stars\n",
    "X_test, y_test = test_encoded.drop(columns='Stars'), test_encoded.Stars\n",
    "X_test.head(1)"
   ]
  },
  {
   "cell_type": "code",
   "execution_count": 65,
   "id": "557b44a8",
   "metadata": {},
   "outputs": [
    {
     "name": "stdout",
     "output_type": "stream",
     "text": [
      "0.23714094856379425\n",
      "0.2124248496993988\n"
     ]
    }
   ],
   "source": [
    "rf = RandomForestClassifier(n_estimators=2, random_state=99)\n",
    "rf.fit(X_train, y_train)\n",
    "print((rf.predict(X_train) == y_train).mean())\n",
    "print((rf.predict(X_validate) == y_validate).mean())"
   ]
  },
  {
   "cell_type": "code",
   "execution_count": 66,
   "id": "46c324e5",
   "metadata": {},
   "outputs": [
    {
     "name": "stdout",
     "output_type": "stream",
     "text": [
      "0.23647294589178355\n",
      "0.22244488977955912\n"
     ]
    }
   ],
   "source": [
    "tree = DecisionTreeClassifier(max_depth=16, min_samples_leaf=4, random_state=123)\n",
    "tree.fit(X_train, y_train)\n",
    "print((tree.predict(X_train) == y_train).mean())\n",
    "print((tree.predict(X_validate) == y_validate).mean())"
   ]
  },
  {
   "cell_type": "code",
   "execution_count": 67,
   "id": "672aa56c",
   "metadata": {},
   "outputs": [
    {
     "name": "stdout",
     "output_type": "stream",
     "text": [
      "0.20975283901135605\n",
      "0.17635270541082165\n"
     ]
    }
   ],
   "source": [
    "knn = KNeighborsClassifier(n_neighbors=10)\n",
    "knn.fit(X_train, y_train)\n",
    "print((knn.predict(X_train) == y_train).mean())\n",
    "print((knn.predict(X_validate) == y_validate).mean())"
   ]
  },
  {
   "cell_type": "code",
   "execution_count": 68,
   "id": "4f8cf4b6",
   "metadata": {},
   "outputs": [
    {
     "name": "stdout",
     "output_type": "stream",
     "text": [
      "0.21977287909151635\n",
      "0.19238476953907815\n"
     ]
    }
   ],
   "source": [
    "logit = LogisticRegression(random_state=123)\n",
    "logit.fit(X_train, y_train)\n",
    "print((logit.predict(X_train) == y_train).mean())\n",
    "print((logit.predict(X_validate) == y_validate).mean())"
   ]
  },
  {
   "cell_type": "markdown",
   "id": "386d2702",
   "metadata": {},
   "source": [
    "## Results of MVP\n",
    "- All algorithms performed better than the baseline.\n",
    "- DecisionTreeClassifier with max_depth=16 and min_samples_leaf=4 performed best of all classification algorithms tried."
   ]
  },
  {
   "cell_type": "code",
   "execution_count": 69,
   "id": "23390445",
   "metadata": {},
   "outputs": [
    {
     "name": "stdout",
     "output_type": "stream",
     "text": [
      "              precision    recall  f1-score   support\n",
      "\n",
      "           0       0.00      0.00      0.00        15\n",
      "           1       0.00      0.00      0.00         7\n",
      "           2       0.00      0.00      0.00         8\n",
      "           3       0.00      0.00      0.00         1\n",
      "           4       0.00      0.00      0.00        20\n",
      "           5       0.00      0.00      0.00         4\n",
      "           6       0.13      0.21      0.16        19\n",
      "           7       0.00      0.00      0.00        17\n",
      "           8       0.23      0.12      0.16        42\n",
      "           9       0.00      0.00      0.00        13\n",
      "          10       0.00      0.00      0.00        33\n",
      "          11       0.00      0.00      0.00        53\n",
      "          12       0.19      0.11      0.14       111\n",
      "          13       0.00      0.00      0.00        92\n",
      "          14       0.25      0.45      0.32       186\n",
      "          15       0.24      0.38      0.30       224\n",
      "          16       0.22      0.32      0.26       229\n",
      "          17       0.00      0.00      0.00        91\n",
      "          18       0.00      0.00      0.00        74\n",
      "          19       0.00      0.00      0.00        41\n",
      "          20       0.25      0.42      0.32       217\n",
      "\n",
      "    accuracy                           0.24      1497\n",
      "   macro avg       0.07      0.10      0.08      1497\n",
      "weighted avg       0.16      0.24      0.19      1497\n",
      "\n"
     ]
    }
   ],
   "source": [
    "# Classification report\n",
    "print(classification_report(y_train, tree.predict(X_train)))"
   ]
  },
  {
   "cell_type": "markdown",
   "id": "0e393422",
   "metadata": {},
   "source": [
    "Values 6, 8, 12, 14, 15, 16, and 20 had better-than-0% prediction (ratings: 1.5, 2, 3, 3.5, 3.75, 4, and 5), try a different classification report to see what it did?"
   ]
  },
  {
   "cell_type": "code",
   "execution_count": 70,
   "id": "8426f846",
   "metadata": {},
   "outputs": [],
   "source": [
    "# print(classification_report(y_train, rf.predict(X_train))) # 2, 6, 8, 11, 12, 13, 14, 15, 16, 20 (10 in total)\n",
    "# print(classification_report(y_train, knn.predict(X_train))) # 7, 8, 11, 12, 13, 14, 15, 16, 17, 19, 20 (11 in total)\n",
    "# print(classification_report(y_train, logit.predict(X_train))) # 8, 12, 14, 15, 16, 20 (6 in total)"
   ]
  },
  {
   "cell_type": "markdown",
   "id": "f550c4eb",
   "metadata": {},
   "source": [
    "So this is the result of using Style and Country only, peaking at around 22% for out-of-sample data. MORE FEATURES!"
   ]
  },
  {
   "cell_type": "markdown",
   "id": "d484d682",
   "metadata": {},
   "source": [
    "# Feature Engineering"
   ]
  },
  {
   "cell_type": "markdown",
   "id": "683c9b39",
   "metadata": {},
   "source": [
    "## Brand\n",
    "Pretty easy fix, just limit column to brands with over 10 reviews"
   ]
  },
  {
   "cell_type": "code",
   "execution_count": 71,
   "id": "48b3cf10",
   "metadata": {},
   "outputs": [],
   "source": [
    "# Brands with more than 10 reviews\n",
    "df = df.groupby('Brand').filter(lambda x: len(x) > 10)"
   ]
  },
  {
   "cell_type": "code",
   "execution_count": 72,
   "id": "0bd8c826",
   "metadata": {},
   "outputs": [],
   "source": [
    "# Re-split data\n",
    "### Split into subsets ###\n",
    "train_validate, test = train_test_split(df, test_size=0.2, random_state=124, stratify=df.Brand)\n",
    "train, validate = train_test_split(train_validate, test_size=0.25, random_state=124, stratify=train_validate.Brand)\n",
    "### Isolate targets ###\n",
    "X_train, y_train = train.drop(columns='Stars'), train.Stars\n",
    "X_validate, y_validate = validate.drop(columns='Stars'), validate.Stars\n",
    "X_test, y_test = test.drop(columns='Stars'), test.Stars"
   ]
  },
  {
   "cell_type": "code",
   "execution_count": 73,
   "id": "4dbb3f04",
   "metadata": {},
   "outputs": [],
   "source": [
    "train['Stars'] = (train.Stars * 4).round()\n",
    "validate['Stars'] = (validate.Stars * 4).round()\n",
    "test['Stars'] = (test.Stars * 4).round()"
   ]
  },
  {
   "cell_type": "code",
   "execution_count": 74,
   "id": "6fcf9bfc",
   "metadata": {},
   "outputs": [
    {
     "data": {
      "text/plain": [
       "20.0    167\n",
       "Name: Stars, dtype: int64"
      ]
     },
     "execution_count": 74,
     "metadata": {},
     "output_type": "execute_result"
    }
   ],
   "source": [
    "# Discover most common rating (will use as baseline)\n",
    "train['Stars'].value_counts().head(1)"
   ]
  },
  {
   "cell_type": "code",
   "execution_count": 75,
   "id": "21d315f7",
   "metadata": {},
   "outputs": [],
   "source": [
    "# 4-star rating is most common, set to value 16\n",
    "most_common = 16"
   ]
  },
  {
   "cell_type": "code",
   "execution_count": 76,
   "id": "87f5f8d1",
   "metadata": {},
   "outputs": [
    {
     "name": "stdout",
     "output_type": "stream",
     "text": [
      "Baseline accuracy: 16.6%\n"
     ]
    }
   ],
   "source": [
    "# Calculate baseline accuracy\n",
    "print('Baseline accuracy:', str(round((164 / len(train)) * 100, 2)) + '%')"
   ]
  },
  {
   "cell_type": "code",
   "execution_count": 77,
   "id": "8277cdbd",
   "metadata": {},
   "outputs": [],
   "source": [
    "### Encode data ###\n",
    "train_encoded = pd.get_dummies(train, columns=['Brand','Style','Country']).drop(columns=['Review #','Variety'])\n",
    "validate_encoded = pd.get_dummies(validate, columns=['Brand','Style','Country']).drop(columns=['Review #','Variety'])\n",
    "test_encoded = pd.get_dummies(test, columns=['Brand','Style','Country']).drop(columns=['Review #','Variety'])"
   ]
  },
  {
   "cell_type": "code",
   "execution_count": 78,
   "id": "94d08568",
   "metadata": {},
   "outputs": [
    {
     "data": {
      "text/html": [
       "<div>\n",
       "<style scoped>\n",
       "    .dataframe tbody tr th:only-of-type {\n",
       "        vertical-align: middle;\n",
       "    }\n",
       "\n",
       "    .dataframe tbody tr th {\n",
       "        vertical-align: top;\n",
       "    }\n",
       "\n",
       "    .dataframe thead th {\n",
       "        text-align: right;\n",
       "    }\n",
       "</style>\n",
       "<table border=\"1\" class=\"dataframe\">\n",
       "  <thead>\n",
       "    <tr style=\"text-align: right;\">\n",
       "      <th></th>\n",
       "      <th>Brand_A-Sha Dry Noodle</th>\n",
       "      <th>Brand_ABC</th>\n",
       "      <th>Brand_Acecook</th>\n",
       "      <th>Brand_Annie Chun's</th>\n",
       "      <th>Brand_Asian Thai Foods</th>\n",
       "      <th>Brand_Baijia</th>\n",
       "      <th>Brand_Batchelors</th>\n",
       "      <th>Brand_Deshome</th>\n",
       "      <th>Brand_Doll</th>\n",
       "      <th>Brand_Dragonfly</th>\n",
       "      <th>...</th>\n",
       "      <th>Country_Myanmar</th>\n",
       "      <th>Country_Nepal</th>\n",
       "      <th>Country_Philippines</th>\n",
       "      <th>Country_Singapore</th>\n",
       "      <th>Country_South Korea</th>\n",
       "      <th>Country_Taiwan</th>\n",
       "      <th>Country_Thailand</th>\n",
       "      <th>Country_UK</th>\n",
       "      <th>Country_USA</th>\n",
       "      <th>Country_Vietnam</th>\n",
       "    </tr>\n",
       "  </thead>\n",
       "  <tbody>\n",
       "    <tr>\n",
       "      <th>2124</th>\n",
       "      <td>0</td>\n",
       "      <td>0</td>\n",
       "      <td>0</td>\n",
       "      <td>0</td>\n",
       "      <td>0</td>\n",
       "      <td>0</td>\n",
       "      <td>0</td>\n",
       "      <td>0</td>\n",
       "      <td>0</td>\n",
       "      <td>0</td>\n",
       "      <td>...</td>\n",
       "      <td>0</td>\n",
       "      <td>0</td>\n",
       "      <td>0</td>\n",
       "      <td>0</td>\n",
       "      <td>0</td>\n",
       "      <td>1</td>\n",
       "      <td>0</td>\n",
       "      <td>0</td>\n",
       "      <td>0</td>\n",
       "      <td>0</td>\n",
       "    </tr>\n",
       "  </tbody>\n",
       "</table>\n",
       "<p>1 rows × 76 columns</p>\n",
       "</div>"
      ],
      "text/plain": [
       "      Brand_A-Sha Dry Noodle  Brand_ABC  Brand_Acecook  Brand_Annie Chun's  \\\n",
       "2124                       0          0              0                   0   \n",
       "\n",
       "      Brand_Asian Thai Foods  Brand_Baijia  Brand_Batchelors  Brand_Deshome  \\\n",
       "2124                       0             0                 0              0   \n",
       "\n",
       "      Brand_Doll  Brand_Dragonfly  ...  Country_Myanmar  Country_Nepal  \\\n",
       "2124           0                0  ...                0              0   \n",
       "\n",
       "      Country_Philippines  Country_Singapore  Country_South Korea  \\\n",
       "2124                    0                  0                    0   \n",
       "\n",
       "      Country_Taiwan  Country_Thailand  Country_UK  Country_USA  \\\n",
       "2124               1                 0           0            0   \n",
       "\n",
       "      Country_Vietnam  \n",
       "2124                0  \n",
       "\n",
       "[1 rows x 76 columns]"
      ]
     },
     "execution_count": 78,
     "metadata": {},
     "output_type": "execute_result"
    }
   ],
   "source": [
    "X_train, y_train = train_encoded.drop(columns='Stars'), train_encoded.Stars\n",
    "X_validate, y_validate = validate_encoded.drop(columns='Stars'), validate_encoded.Stars\n",
    "X_test, y_test = test_encoded.drop(columns='Stars'), test_encoded.Stars\n",
    "X_test.head(1)"
   ]
  },
  {
   "cell_type": "code",
   "execution_count": 79,
   "id": "1f95d0ad",
   "metadata": {},
   "outputs": [
    {
     "name": "stdout",
     "output_type": "stream",
     "text": [
      "0.34210526315789475\n",
      "0.18181818181818182\n"
     ]
    }
   ],
   "source": [
    "rf = RandomForestClassifier(n_estimators=1, random_state=99)\n",
    "rf.fit(X_train, y_train)\n",
    "print((rf.predict(X_train) == y_train).mean())\n",
    "print((rf.predict(X_validate) == y_validate).mean())"
   ]
  },
  {
   "cell_type": "code",
   "execution_count": 80,
   "id": "51716b02",
   "metadata": {},
   "outputs": [
    {
     "name": "stdout",
     "output_type": "stream",
     "text": [
      "0.29048582995951416\n",
      "0.15151515151515152\n"
     ]
    }
   ],
   "source": [
    "tree = DecisionTreeClassifier(max_depth=10, min_samples_leaf=1, random_state=123)\n",
    "tree.fit(X_train, y_train)\n",
    "print((tree.predict(X_train) == y_train).mean())\n",
    "print((tree.predict(X_validate) == y_validate).mean())"
   ]
  },
  {
   "cell_type": "code",
   "execution_count": 81,
   "id": "330e5d89",
   "metadata": {},
   "outputs": [
    {
     "name": "stdout",
     "output_type": "stream",
     "text": [
      "0.3360323886639676\n",
      "0.19090909090909092\n"
     ]
    }
   ],
   "source": [
    "knn = KNeighborsClassifier(n_neighbors=6)\n",
    "knn.fit(X_train, y_train)\n",
    "print((knn.predict(X_train) == y_train).mean())\n",
    "print((knn.predict(X_validate) == y_validate).mean())"
   ]
  },
  {
   "cell_type": "code",
   "execution_count": 82,
   "id": "a4bc73e3",
   "metadata": {},
   "outputs": [
    {
     "name": "stdout",
     "output_type": "stream",
     "text": [
      "0.31983805668016196\n",
      "0.20303030303030303\n"
     ]
    }
   ],
   "source": [
    "logit = LogisticRegression(penalty='l2', random_state=123)\n",
    "logit.fit(X_train, y_train)\n",
    "print((logit.predict(X_train) == y_train).mean())\n",
    "print((logit.predict(X_validate) == y_validate).mean())"
   ]
  },
  {
   "cell_type": "markdown",
   "id": "ffff6a1c",
   "metadata": {},
   "source": [
    "### Results with unmodified Brand\n",
    "On all 4 algorithms with varying hyperparameters, having Brand created an overfit situation causing the models to perform worse on out-of-sample data compared to models without Brand."
   ]
  },
  {
   "cell_type": "markdown",
   "id": "68d990e8",
   "metadata": {},
   "source": [
    "## Variety"
   ]
  },
  {
   "cell_type": "code",
   "execution_count": 83,
   "id": "e8366cf1",
   "metadata": {},
   "outputs": [
    {
     "data": {
      "text/html": [
       "<div>\n",
       "<style scoped>\n",
       "    .dataframe tbody tr th:only-of-type {\n",
       "        vertical-align: middle;\n",
       "    }\n",
       "\n",
       "    .dataframe tbody tr th {\n",
       "        vertical-align: top;\n",
       "    }\n",
       "\n",
       "    .dataframe thead th {\n",
       "        text-align: right;\n",
       "    }\n",
       "</style>\n",
       "<table border=\"1\" class=\"dataframe\">\n",
       "  <thead>\n",
       "    <tr style=\"text-align: right;\">\n",
       "      <th></th>\n",
       "      <th>Review #</th>\n",
       "      <th>Brand</th>\n",
       "      <th>Variety</th>\n",
       "      <th>Style</th>\n",
       "      <th>Country</th>\n",
       "      <th>Stars</th>\n",
       "    </tr>\n",
       "  </thead>\n",
       "  <tbody>\n",
       "    <tr>\n",
       "      <th>2</th>\n",
       "      <td>2578</td>\n",
       "      <td>Nissin</td>\n",
       "      <td>Cup Noodles Chicken Vegetable</td>\n",
       "      <td>Cup</td>\n",
       "      <td>USA</td>\n",
       "      <td>2.25</td>\n",
       "    </tr>\n",
       "    <tr>\n",
       "      <th>3</th>\n",
       "      <td>2577</td>\n",
       "      <td>Wei Lih</td>\n",
       "      <td>GGE Ramen Snack Tomato Flavor</td>\n",
       "      <td>Pack</td>\n",
       "      <td>Taiwan</td>\n",
       "      <td>2.75</td>\n",
       "    </tr>\n",
       "    <tr>\n",
       "      <th>5</th>\n",
       "      <td>2575</td>\n",
       "      <td>Samyang Foods</td>\n",
       "      <td>Kimchi song Song Ramen</td>\n",
       "      <td>Pack</td>\n",
       "      <td>South Korea</td>\n",
       "      <td>4.75</td>\n",
       "    </tr>\n",
       "  </tbody>\n",
       "</table>\n",
       "</div>"
      ],
      "text/plain": [
       "  Review #          Brand                        Variety Style      Country  \\\n",
       "2     2578         Nissin  Cup Noodles Chicken Vegetable   Cup          USA   \n",
       "3     2577        Wei Lih  GGE Ramen Snack Tomato Flavor  Pack       Taiwan   \n",
       "5     2575  Samyang Foods         Kimchi song Song Ramen  Pack  South Korea   \n",
       "\n",
       "   Stars  \n",
       "2   2.25  \n",
       "3   2.75  \n",
       "5   4.75  "
      ]
     },
     "execution_count": 83,
     "metadata": {},
     "output_type": "execute_result"
    }
   ],
   "source": [
    "df.head(3)"
   ]
  },
  {
   "cell_type": "code",
   "execution_count": 84,
   "id": "7b052ff6",
   "metadata": {},
   "outputs": [
    {
     "data": {
      "text/plain": [
       "3.3159574468085107"
      ]
     },
     "execution_count": 84,
     "metadata": {},
     "output_type": "execute_result"
    }
   ],
   "source": [
    "df[df.Variety.str[:10] == 'Artificial'].Stars.mean()"
   ]
  },
  {
   "cell_type": "code",
   "execution_count": 85,
   "id": "38b62237",
   "metadata": {},
   "outputs": [
    {
     "data": {
      "text/plain": [
       "3.749594003747658"
      ]
     },
     "execution_count": 85,
     "metadata": {},
     "output_type": "execute_result"
    }
   ],
   "source": [
    "df[df.Variety.str[:10] != 'Artificial'].Stars.mean()"
   ]
  },
  {
   "cell_type": "code",
   "execution_count": 86,
   "id": "e185c89d",
   "metadata": {},
   "outputs": [
    {
     "data": {
      "text/html": [
       "<div>\n",
       "<style scoped>\n",
       "    .dataframe tbody tr th:only-of-type {\n",
       "        vertical-align: middle;\n",
       "    }\n",
       "\n",
       "    .dataframe tbody tr th {\n",
       "        vertical-align: top;\n",
       "    }\n",
       "\n",
       "    .dataframe thead th {\n",
       "        text-align: right;\n",
       "    }\n",
       "</style>\n",
       "<table border=\"1\" class=\"dataframe\">\n",
       "  <thead>\n",
       "    <tr style=\"text-align: right;\">\n",
       "      <th></th>\n",
       "      <th>Review #</th>\n",
       "      <th>Brand</th>\n",
       "      <th>Variety</th>\n",
       "      <th>Style</th>\n",
       "      <th>Country</th>\n",
       "      <th>Stars</th>\n",
       "      <th>Artificial</th>\n",
       "    </tr>\n",
       "  </thead>\n",
       "  <tbody>\n",
       "    <tr>\n",
       "      <th>1508</th>\n",
       "      <td>1072</td>\n",
       "      <td>Deshome</td>\n",
       "      <td>Aloe Noodle With Spicy Soybean Sauce</td>\n",
       "      <td>Pack</td>\n",
       "      <td>Taiwan</td>\n",
       "      <td>4.0</td>\n",
       "      <td>False</td>\n",
       "    </tr>\n",
       "    <tr>\n",
       "      <th>1372</th>\n",
       "      <td>1208</td>\n",
       "      <td>Golden Wheat</td>\n",
       "      <td>Korean Style Stew Prok Flavour Cooking Noodle</td>\n",
       "      <td>Pack</td>\n",
       "      <td>China</td>\n",
       "      <td>3.5</td>\n",
       "      <td>False</td>\n",
       "    </tr>\n",
       "    <tr>\n",
       "      <th>95</th>\n",
       "      <td>2485</td>\n",
       "      <td>Nissin</td>\n",
       "      <td>Cup Noodles Shrimps</td>\n",
       "      <td>Cup</td>\n",
       "      <td>Germany</td>\n",
       "      <td>3.0</td>\n",
       "      <td>False</td>\n",
       "    </tr>\n",
       "  </tbody>\n",
       "</table>\n",
       "</div>"
      ],
      "text/plain": [
       "     Review #         Brand                                        Variety  \\\n",
       "1508     1072       Deshome           Aloe Noodle With Spicy Soybean Sauce   \n",
       "1372     1208  Golden Wheat  Korean Style Stew Prok Flavour Cooking Noodle   \n",
       "95       2485        Nissin                            Cup Noodles Shrimps   \n",
       "\n",
       "     Style  Country  Stars  Artificial  \n",
       "1508  Pack   Taiwan    4.0       False  \n",
       "1372  Pack    China    3.5       False  \n",
       "95     Cup  Germany    3.0       False  "
      ]
     },
     "execution_count": 86,
     "metadata": {},
     "output_type": "execute_result"
    }
   ],
   "source": [
    "eng = df.copy()\n",
    "eng['Artificial'] = df.Variety.str[:10] == 'Artificial'\n",
    "eng.sample(3)"
   ]
  },
  {
   "cell_type": "code",
   "execution_count": 87,
   "id": "3cbd7f2f",
   "metadata": {
    "scrolled": true
   },
   "outputs": [
    {
     "data": {
      "text/plain": [
       "<AxesSubplot:xlabel='Artificial', ylabel='Stars'>"
      ]
     },
     "execution_count": 87,
     "metadata": {},
     "output_type": "execute_result"
    },
    {
     "data": {
      "image/png": "[encoded data removed]",
      "text/plain": [
       "<Figure size 432x288 with 1 Axes>"
      ]
     },
     "metadata": {
      "needs_background": "light"
     },
     "output_type": "display_data"
    }
   ],
   "source": [
    "sns.boxplot(eng.Artificial, eng.Stars)"
   ]
  },
  {
   "cell_type": "code",
   "execution_count": 88,
   "id": "2b5ec93e",
   "metadata": {},
   "outputs": [
    {
     "name": "stdout",
     "output_type": "stream",
     "text": [
      "Artificial is worse-rated ramen than the rest.\n",
      "            We reject the null hypothesis with 95% confidence.\n"
     ]
    }
   ],
   "source": [
    "### Hypothesis Testing ###\n",
    "alpha = .05\n",
    "t, p = stats.mannwhitneyu(eng[eng.Artificial == True].Stars, \n",
    "                          eng[eng.Artificial == False].Stars,\n",
    "                          alternative='less')\n",
    "\n",
    "if t > 0 and p < alpha:\n",
    "    print('Artificial is worse-rated ramen than the rest.\\n\\\n",
    "            We reject the null hypothesis with 95% confidence.')\n",
    "else:\n",
    "    print('Artificial is not worse-rated ramen than the rest.\\n\\\n",
    "            Results do not breach the 95% confidence threshold.')"
   ]
  },
  {
   "cell_type": "code",
   "execution_count": null,
   "id": "d0c414cf",
   "metadata": {},
   "outputs": [],
   "source": []
  }
 ],
 "metadata": {
  "kernelspec": {
   "display_name": "Python 3 (ipykernel)",
   "language": "python",
   "name": "python3"
  },
  "language_info": {
   "codemirror_mode": {
    "name": "ipython",
    "version": 3
   },
   "file_extension": ".py",
   "mimetype": "text/x-python",
   "name": "python",
   "nbconvert_exporter": "python",
   "pygments_lexer": "ipython3",
   "version": "3.8.8"
  }
 },
 "nbformat": 4,
 "nbformat_minor": 5
}
