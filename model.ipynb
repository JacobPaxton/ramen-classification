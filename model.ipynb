{
 "cells": [
  {
   "cell_type": "markdown",
   "id": "69402cb2",
   "metadata": {},
   "source": [
    "# Overview\n",
    "This notebook contains my work for modeling. In it, I do the following:\n",
    "- Apply resampling to fix the class imbalance\n",
    "- Set optimization priority as F1 Score to be accurate on with a minority class\n",
    "- Create various models with varying hyperparameters\n",
    "- Evaluate models in terms of F1 Score\n",
    "- Select Logistic Regression as our best model (highest F1 Score)\n",
    "- Decline to perform Grid Search due to nature of Logistic Regression hyperparameters\n",
    "- Calculate ROC Curve AUC for our model\n",
    "\n",
    "# Import"
   ]
  },
  {
   "cell_type": "code",
   "execution_count": 1,
   "id": "5372b98d",
   "metadata": {},
   "outputs": [],
   "source": [
    "import warnings\n",
    "warnings.filterwarnings('ignore')\n",
    "\n",
    "import pandas as pd\n",
    "import matplotlib.pyplot as plt\n",
    "import seaborn as sns\n",
    "\n",
    "from sklearn.linear_model import LogisticRegression\n",
    "from sklearn.metrics import f1_score\n",
    "from sklearn.model_selection import GridSearchCV\n",
    "from sklearn.metrics import roc_curve, auc, roc_auc_score\n",
    "\n",
    "import wrangle\n",
    "import model"
   ]
  },
  {
   "cell_type": "code",
   "execution_count": 2,
   "id": "c2fac6dc",
   "metadata": {},
   "outputs": [
    {
     "name": "stdout",
     "output_type": "stream",
     "text": [
      "Train size: (1515, 11) Validate size: (506, 11) Test size: (506, 11)\n"
     ]
    },
    {
     "data": {
      "text/plain": [
       "((1515, 10), (506, 10), (506, 10))"
      ]
     },
     "execution_count": 2,
     "metadata": {},
     "output_type": "execute_result"
    }
   ],
   "source": [
    "# import prepared data\n",
    "X_train, y_train, X_validate, y_validate, X_test, y_test = wrangle.prep_model()\n",
    "# check import\n",
    "X_train.shape, X_validate.shape, X_test.shape"
   ]
  },
  {
   "cell_type": "markdown",
   "id": "609308d3",
   "metadata": {},
   "source": [
    "# Handling Class Imbalance\n",
    "We will need to resample our training split so that the classes are balanced. This will improve the performance of our models."
   ]
  },
  {
   "cell_type": "code",
   "execution_count": 3,
   "id": "84ab69b2",
   "metadata": {},
   "outputs": [
    {
     "data": {
      "image/png": "[encoded data removed]",
      "text/plain": [
       "<Figure size 432x288 with 1 Axes>"
      ]
     },
     "metadata": {
      "needs_background": "light"
     },
     "output_type": "display_data"
    }
   ],
   "source": [
    "# display class imbalance\n",
    "sns.histplot(y_train.astype('string'))\n",
    "plt.title('Imbalanced Classes - Need Resampling')\n",
    "plt.show()"
   ]
  },
  {
   "cell_type": "code",
   "execution_count": 4,
   "id": "9e2924e5",
   "metadata": {},
   "outputs": [
    {
     "name": "stdout",
     "output_type": "stream",
     "text": [
      "Before SMOTE+Tomek applied: (1515, 10) (1515,)\n",
      "After SMOTE+Tomek applied: (2578, 10) (2578,)\n"
     ]
    }
   ],
   "source": [
    "# resample classes in train split\n",
    "X_train, y_train = model.resampler(X_train, y_train)"
   ]
  },
  {
   "cell_type": "code",
   "execution_count": 5,
   "id": "84a75c80",
   "metadata": {},
   "outputs": [
    {
     "data": {
      "image/png": "[encoded data removed]",
      "text/plain": [
       "<Figure size 432x288 with 1 Axes>"
      ]
     },
     "metadata": {
      "needs_background": "light"
     },
     "output_type": "display_data"
    }
   ],
   "source": [
    "# show results of resampling\n",
    "sns.histplot(y_train.astype('string'))\n",
    "plt.title('Training Split Classes No Longer Imbalanced')\n",
    "plt.show()"
   ]
  },
  {
   "cell_type": "markdown",
   "id": "f513eaae",
   "metadata": {},
   "source": [
    "# Model Priorities\n",
    "Before building a model, we should first consider which evaluation metric to optimize for.\n",
    "1. Should we focus on capturing as many five-star reviews as possible? (Recall/Sensitivity)\n",
    "2. Should we focus on limiting incorrect five-star review guesses? (Precision)\n",
    "3. Should we focus on **guessing the minority class while retaining overall accuracy?** (F1 Score)\n",
    "4. Should we focus on accurately classifying five-star and not-five-star reviews equally? (Accuracy)\n",
    "5. Should we focus on capturing as many not-five-star reviews as possible? (Specificity)\n",
    "\n",
    "Since our goal is to predict five-star reviews (the minority class) while being accurate overall, **we should use the F1 Score as our main evaluation metric.**\n",
    "\n",
    "# Model Creation\n",
    "Now that we've picked our main evaluation metric, this is our plan for modeling:\n",
    "1. First, we will create multiple standard models from a script I created.\n",
    "2. We will see which algorithms seem to perform best for F1 Score on the Validate split (our repeat-access out-of-sample split)\n",
    "3. We will choose one algorithm and use Grid Search to optimize hyperparameters for F1 Score\n",
    "4. We will choose 5 hyperparameter combinations and generate ROC Curves and calculate ROC AUC for each\n",
    "5. We will pick the model with the highest AUC (best model)\n",
    "6. Finally, evaluate model on Test split (our sequestered out-of-sample split)\n",
    "\n",
    "## Creating Standard Classification Models - Script\n",
    "My script creates the following models:\n",
    "1. Choose Most Common Class as Prediction (Mode Baseline)\n",
    "2. Decision Tree (DecisionTreeClassifier), max_depths = [1,2,3,5,10]\n",
    "3. Random Forest (RandomForestClassifier), max_depths = [1,2,3,5,10]\n",
    "4. Logistic Regression (LogisticRegression)\n",
    "5. Naive Bayes (GaussianNB), smooth_levels = [.00001, .0001, .001, .01, 10, 100]\n",
    "6. K-Nearest Neighbors (KNeighborsClassifier), neighbor_counts = [3,5,10,25,75]\n",
    "\n",
    "It **fits** these models on our Train split and **generates predictions for Train and Validate** splits. Then it **returns a predictions dataframe** where the first column is the actual observed values and each additional column contains one model's predictions. **This predictions dataframe will be put through an evaluation function** in the next section."
   ]
  },
  {
   "cell_type": "code",
   "execution_count": 6,
   "id": "c0c9542a",
   "metadata": {},
   "outputs": [],
   "source": [
    "# run the script\n",
    "y_train_preds, y_val_preds = model.classification_shotgun(X_train, y_train, X_validate, y_validate)"
   ]
  },
  {
   "cell_type": "markdown",
   "id": "5a946908",
   "metadata": {},
   "source": [
    "Additionally, we will need to generate a column of predictions for our minority class. This will be used to compare the baseline against the models on out-of-sample data."
   ]
  },
  {
   "cell_type": "code",
   "execution_count": 7,
   "id": "371ef850",
   "metadata": {},
   "outputs": [],
   "source": [
    "# add prediction column for five_stars = True (minority class)\n",
    "y_train_preds, y_val_preds = model.manual_baseline(y_train_preds, y_val_preds, True)"
   ]
  },
  {
   "cell_type": "markdown",
   "id": "96f6687b",
   "metadata": {},
   "source": [
    "Let's check to make sure everything worked properly."
   ]
  },
  {
   "cell_type": "code",
   "execution_count": 8,
   "id": "2c782240",
   "metadata": {},
   "outputs": [
    {
     "data": {
      "text/html": [
       "<div>\n",
       "<style scoped>\n",
       "    .dataframe tbody tr th:only-of-type {\n",
       "        vertical-align: middle;\n",
       "    }\n",
       "\n",
       "    .dataframe tbody tr th {\n",
       "        vertical-align: top;\n",
       "    }\n",
       "\n",
       "    .dataframe thead th {\n",
       "        text-align: right;\n",
       "    }\n",
       "</style>\n",
       "<table border=\"1\" class=\"dataframe\">\n",
       "  <thead>\n",
       "    <tr style=\"text-align: right;\">\n",
       "      <th></th>\n",
       "      <th>in_actuals</th>\n",
       "      <th>mode_baseline</th>\n",
       "      <th>tree_maxdepth1</th>\n",
       "      <th>tree_maxdepth2</th>\n",
       "      <th>tree_maxdepth3</th>\n",
       "      <th>tree_maxdepth5</th>\n",
       "      <th>tree_maxdepth10</th>\n",
       "      <th>rf_depth1</th>\n",
       "      <th>rf_depth2</th>\n",
       "      <th>rf_depth3</th>\n",
       "      <th>...</th>\n",
       "      <th>nb_vsmooth0.001</th>\n",
       "      <th>nb_vsmooth0.01</th>\n",
       "      <th>nb_vsmooth10</th>\n",
       "      <th>nb_vsmooth100</th>\n",
       "      <th>knn_n3</th>\n",
       "      <th>knn_n5</th>\n",
       "      <th>knn_n10</th>\n",
       "      <th>knn_n25</th>\n",
       "      <th>knn_n75</th>\n",
       "      <th>manual_baseline</th>\n",
       "    </tr>\n",
       "  </thead>\n",
       "  <tbody>\n",
       "    <tr>\n",
       "      <th>0</th>\n",
       "      <td>False</td>\n",
       "      <td>False</td>\n",
       "      <td>False</td>\n",
       "      <td>True</td>\n",
       "      <td>True</td>\n",
       "      <td>True</td>\n",
       "      <td>True</td>\n",
       "      <td>True</td>\n",
       "      <td>True</td>\n",
       "      <td>True</td>\n",
       "      <td>...</td>\n",
       "      <td>True</td>\n",
       "      <td>True</td>\n",
       "      <td>True</td>\n",
       "      <td>True</td>\n",
       "      <td>False</td>\n",
       "      <td>False</td>\n",
       "      <td>False</td>\n",
       "      <td>False</td>\n",
       "      <td>False</td>\n",
       "      <td>True</td>\n",
       "    </tr>\n",
       "    <tr>\n",
       "      <th>1</th>\n",
       "      <td>True</td>\n",
       "      <td>False</td>\n",
       "      <td>False</td>\n",
       "      <td>False</td>\n",
       "      <td>False</td>\n",
       "      <td>True</td>\n",
       "      <td>True</td>\n",
       "      <td>False</td>\n",
       "      <td>False</td>\n",
       "      <td>True</td>\n",
       "      <td>...</td>\n",
       "      <td>False</td>\n",
       "      <td>False</td>\n",
       "      <td>True</td>\n",
       "      <td>True</td>\n",
       "      <td>True</td>\n",
       "      <td>False</td>\n",
       "      <td>False</td>\n",
       "      <td>True</td>\n",
       "      <td>True</td>\n",
       "      <td>True</td>\n",
       "    </tr>\n",
       "    <tr>\n",
       "      <th>2</th>\n",
       "      <td>False</td>\n",
       "      <td>False</td>\n",
       "      <td>False</td>\n",
       "      <td>True</td>\n",
       "      <td>True</td>\n",
       "      <td>True</td>\n",
       "      <td>True</td>\n",
       "      <td>True</td>\n",
       "      <td>True</td>\n",
       "      <td>True</td>\n",
       "      <td>...</td>\n",
       "      <td>True</td>\n",
       "      <td>True</td>\n",
       "      <td>True</td>\n",
       "      <td>True</td>\n",
       "      <td>False</td>\n",
       "      <td>False</td>\n",
       "      <td>False</td>\n",
       "      <td>False</td>\n",
       "      <td>True</td>\n",
       "      <td>True</td>\n",
       "    </tr>\n",
       "    <tr>\n",
       "      <th>3</th>\n",
       "      <td>False</td>\n",
       "      <td>False</td>\n",
       "      <td>False</td>\n",
       "      <td>True</td>\n",
       "      <td>False</td>\n",
       "      <td>False</td>\n",
       "      <td>False</td>\n",
       "      <td>False</td>\n",
       "      <td>False</td>\n",
       "      <td>False</td>\n",
       "      <td>...</td>\n",
       "      <td>False</td>\n",
       "      <td>False</td>\n",
       "      <td>False</td>\n",
       "      <td>False</td>\n",
       "      <td>False</td>\n",
       "      <td>False</td>\n",
       "      <td>False</td>\n",
       "      <td>False</td>\n",
       "      <td>False</td>\n",
       "      <td>True</td>\n",
       "    </tr>\n",
       "    <tr>\n",
       "      <th>4</th>\n",
       "      <td>False</td>\n",
       "      <td>False</td>\n",
       "      <td>False</td>\n",
       "      <td>False</td>\n",
       "      <td>False</td>\n",
       "      <td>True</td>\n",
       "      <td>True</td>\n",
       "      <td>False</td>\n",
       "      <td>False</td>\n",
       "      <td>True</td>\n",
       "      <td>...</td>\n",
       "      <td>False</td>\n",
       "      <td>False</td>\n",
       "      <td>True</td>\n",
       "      <td>True</td>\n",
       "      <td>True</td>\n",
       "      <td>True</td>\n",
       "      <td>False</td>\n",
       "      <td>True</td>\n",
       "      <td>True</td>\n",
       "      <td>True</td>\n",
       "    </tr>\n",
       "  </tbody>\n",
       "</table>\n",
       "<p>5 rows × 25 columns</p>\n",
       "</div>"
      ],
      "text/plain": [
       "   in_actuals  mode_baseline  tree_maxdepth1  tree_maxdepth2  tree_maxdepth3  \\\n",
       "0       False          False           False            True            True   \n",
       "1        True          False           False           False           False   \n",
       "2       False          False           False            True            True   \n",
       "3       False          False           False            True           False   \n",
       "4       False          False           False           False           False   \n",
       "\n",
       "   tree_maxdepth5  tree_maxdepth10  rf_depth1  rf_depth2  rf_depth3  ...  \\\n",
       "0            True             True       True       True       True  ...   \n",
       "1            True             True      False      False       True  ...   \n",
       "2            True             True       True       True       True  ...   \n",
       "3           False            False      False      False      False  ...   \n",
       "4            True             True      False      False       True  ...   \n",
       "\n",
       "   nb_vsmooth0.001  nb_vsmooth0.01  nb_vsmooth10  nb_vsmooth100  knn_n3  \\\n",
       "0             True            True          True           True   False   \n",
       "1            False           False          True           True    True   \n",
       "2             True            True          True           True   False   \n",
       "3            False           False         False          False   False   \n",
       "4            False           False          True           True    True   \n",
       "\n",
       "   knn_n5  knn_n10  knn_n25  knn_n75  manual_baseline  \n",
       "0   False    False    False    False             True  \n",
       "1   False    False     True     True             True  \n",
       "2   False    False    False     True             True  \n",
       "3   False    False    False    False             True  \n",
       "4    True    False     True     True             True  \n",
       "\n",
       "[5 rows x 25 columns]"
      ]
     },
     "execution_count": 8,
     "metadata": {},
     "output_type": "execute_result"
    }
   ],
   "source": [
    "# check the results of script for train\n",
    "y_train_preds.head()"
   ]
  },
  {
   "cell_type": "code",
   "execution_count": 9,
   "id": "c059e062",
   "metadata": {},
   "outputs": [
    {
     "data": {
      "text/html": [
       "<div>\n",
       "<style scoped>\n",
       "    .dataframe tbody tr th:only-of-type {\n",
       "        vertical-align: middle;\n",
       "    }\n",
       "\n",
       "    .dataframe tbody tr th {\n",
       "        vertical-align: top;\n",
       "    }\n",
       "\n",
       "    .dataframe thead th {\n",
       "        text-align: right;\n",
       "    }\n",
       "</style>\n",
       "<table border=\"1\" class=\"dataframe\">\n",
       "  <thead>\n",
       "    <tr style=\"text-align: right;\">\n",
       "      <th></th>\n",
       "      <th>out_actuals</th>\n",
       "      <th>mode_baseline</th>\n",
       "      <th>tree_maxdepth1</th>\n",
       "      <th>tree_maxdepth2</th>\n",
       "      <th>tree_maxdepth3</th>\n",
       "      <th>tree_maxdepth5</th>\n",
       "      <th>tree_maxdepth10</th>\n",
       "      <th>rf_depth1</th>\n",
       "      <th>rf_depth2</th>\n",
       "      <th>rf_depth3</th>\n",
       "      <th>...</th>\n",
       "      <th>nb_vsmooth0.001</th>\n",
       "      <th>nb_vsmooth0.01</th>\n",
       "      <th>nb_vsmooth10</th>\n",
       "      <th>nb_vsmooth100</th>\n",
       "      <th>knn_n3</th>\n",
       "      <th>knn_n5</th>\n",
       "      <th>knn_n10</th>\n",
       "      <th>knn_n25</th>\n",
       "      <th>knn_n75</th>\n",
       "      <th>manual_baseline</th>\n",
       "    </tr>\n",
       "  </thead>\n",
       "  <tbody>\n",
       "    <tr>\n",
       "      <th>1264</th>\n",
       "      <td>False</td>\n",
       "      <td>False</td>\n",
       "      <td>False</td>\n",
       "      <td>True</td>\n",
       "      <td>True</td>\n",
       "      <td>True</td>\n",
       "      <td>True</td>\n",
       "      <td>True</td>\n",
       "      <td>True</td>\n",
       "      <td>True</td>\n",
       "      <td>...</td>\n",
       "      <td>True</td>\n",
       "      <td>True</td>\n",
       "      <td>True</td>\n",
       "      <td>True</td>\n",
       "      <td>False</td>\n",
       "      <td>False</td>\n",
       "      <td>False</td>\n",
       "      <td>False</td>\n",
       "      <td>False</td>\n",
       "      <td>True</td>\n",
       "    </tr>\n",
       "    <tr>\n",
       "      <th>367</th>\n",
       "      <td>False</td>\n",
       "      <td>False</td>\n",
       "      <td>False</td>\n",
       "      <td>False</td>\n",
       "      <td>False</td>\n",
       "      <td>False</td>\n",
       "      <td>False</td>\n",
       "      <td>False</td>\n",
       "      <td>False</td>\n",
       "      <td>False</td>\n",
       "      <td>...</td>\n",
       "      <td>False</td>\n",
       "      <td>False</td>\n",
       "      <td>False</td>\n",
       "      <td>False</td>\n",
       "      <td>False</td>\n",
       "      <td>False</td>\n",
       "      <td>False</td>\n",
       "      <td>False</td>\n",
       "      <td>False</td>\n",
       "      <td>True</td>\n",
       "    </tr>\n",
       "    <tr>\n",
       "      <th>1029</th>\n",
       "      <td>False</td>\n",
       "      <td>False</td>\n",
       "      <td>False</td>\n",
       "      <td>True</td>\n",
       "      <td>True</td>\n",
       "      <td>True</td>\n",
       "      <td>True</td>\n",
       "      <td>True</td>\n",
       "      <td>True</td>\n",
       "      <td>True</td>\n",
       "      <td>...</td>\n",
       "      <td>True</td>\n",
       "      <td>True</td>\n",
       "      <td>True</td>\n",
       "      <td>True</td>\n",
       "      <td>True</td>\n",
       "      <td>False</td>\n",
       "      <td>False</td>\n",
       "      <td>False</td>\n",
       "      <td>False</td>\n",
       "      <td>True</td>\n",
       "    </tr>\n",
       "    <tr>\n",
       "      <th>1391</th>\n",
       "      <td>True</td>\n",
       "      <td>False</td>\n",
       "      <td>False</td>\n",
       "      <td>True</td>\n",
       "      <td>True</td>\n",
       "      <td>True</td>\n",
       "      <td>True</td>\n",
       "      <td>True</td>\n",
       "      <td>True</td>\n",
       "      <td>True</td>\n",
       "      <td>...</td>\n",
       "      <td>True</td>\n",
       "      <td>True</td>\n",
       "      <td>True</td>\n",
       "      <td>True</td>\n",
       "      <td>False</td>\n",
       "      <td>False</td>\n",
       "      <td>False</td>\n",
       "      <td>False</td>\n",
       "      <td>False</td>\n",
       "      <td>True</td>\n",
       "    </tr>\n",
       "    <tr>\n",
       "      <th>527</th>\n",
       "      <td>False</td>\n",
       "      <td>False</td>\n",
       "      <td>False</td>\n",
       "      <td>False</td>\n",
       "      <td>False</td>\n",
       "      <td>False</td>\n",
       "      <td>False</td>\n",
       "      <td>False</td>\n",
       "      <td>False</td>\n",
       "      <td>False</td>\n",
       "      <td>...</td>\n",
       "      <td>False</td>\n",
       "      <td>False</td>\n",
       "      <td>False</td>\n",
       "      <td>False</td>\n",
       "      <td>False</td>\n",
       "      <td>False</td>\n",
       "      <td>False</td>\n",
       "      <td>False</td>\n",
       "      <td>False</td>\n",
       "      <td>True</td>\n",
       "    </tr>\n",
       "  </tbody>\n",
       "</table>\n",
       "<p>5 rows × 25 columns</p>\n",
       "</div>"
      ],
      "text/plain": [
       "      out_actuals  mode_baseline  tree_maxdepth1  tree_maxdepth2  \\\n",
       "1264        False          False           False            True   \n",
       "367         False          False           False           False   \n",
       "1029        False          False           False            True   \n",
       "1391         True          False           False            True   \n",
       "527         False          False           False           False   \n",
       "\n",
       "      tree_maxdepth3  tree_maxdepth5  tree_maxdepth10  rf_depth1  rf_depth2  \\\n",
       "1264            True            True             True       True       True   \n",
       "367            False           False            False      False      False   \n",
       "1029            True            True             True       True       True   \n",
       "1391            True            True             True       True       True   \n",
       "527            False           False            False      False      False   \n",
       "\n",
       "      rf_depth3  ...  nb_vsmooth0.001  nb_vsmooth0.01  nb_vsmooth10  \\\n",
       "1264       True  ...             True            True          True   \n",
       "367       False  ...            False           False         False   \n",
       "1029       True  ...             True            True          True   \n",
       "1391       True  ...             True            True          True   \n",
       "527       False  ...            False           False         False   \n",
       "\n",
       "      nb_vsmooth100  knn_n3  knn_n5  knn_n10  knn_n25  knn_n75  \\\n",
       "1264           True   False   False    False    False    False   \n",
       "367           False   False   False    False    False    False   \n",
       "1029           True    True   False    False    False    False   \n",
       "1391           True   False   False    False    False    False   \n",
       "527           False   False   False    False    False    False   \n",
       "\n",
       "      manual_baseline  \n",
       "1264             True  \n",
       "367              True  \n",
       "1029             True  \n",
       "1391             True  \n",
       "527              True  \n",
       "\n",
       "[5 rows x 25 columns]"
      ]
     },
     "execution_count": 9,
     "metadata": {},
     "output_type": "execute_result"
    }
   ],
   "source": [
    "# check the results of script for validate\n",
    "y_val_preds.head()"
   ]
  },
  {
   "cell_type": "markdown",
   "id": "c1e20600",
   "metadata": {},
   "source": [
    "## First Evaluation: Initial Models and F1 Score\n",
    "Now that we have predictions dataframes, we will push these dataframes through our evaluation script and check which models scored highest on F1 score."
   ]
  },
  {
   "cell_type": "code",
   "execution_count": 10,
   "id": "9c17fe9d",
   "metadata": {},
   "outputs": [
    {
     "data": {
      "text/html": [
       "<div>\n",
       "<style scoped>\n",
       "    .dataframe tbody tr th:only-of-type {\n",
       "        vertical-align: middle;\n",
       "    }\n",
       "\n",
       "    .dataframe tbody tr th {\n",
       "        vertical-align: top;\n",
       "    }\n",
       "\n",
       "    .dataframe thead th {\n",
       "        text-align: right;\n",
       "    }\n",
       "</style>\n",
       "<table border=\"1\" class=\"dataframe\">\n",
       "  <thead>\n",
       "    <tr style=\"text-align: right;\">\n",
       "      <th></th>\n",
       "      <th>Model</th>\n",
       "      <th>OutSample_F1_Score</th>\n",
       "    </tr>\n",
       "  </thead>\n",
       "  <tbody>\n",
       "    <tr>\n",
       "      <th>11</th>\n",
       "      <td>logit</td>\n",
       "      <td>0.3841</td>\n",
       "    </tr>\n",
       "    <tr>\n",
       "      <th>17</th>\n",
       "      <td>nb_vsmooth100</td>\n",
       "      <td>0.3767</td>\n",
       "    </tr>\n",
       "    <tr>\n",
       "      <th>16</th>\n",
       "      <td>nb_vsmooth10</td>\n",
       "      <td>0.3767</td>\n",
       "    </tr>\n",
       "    <tr>\n",
       "      <th>8</th>\n",
       "      <td>rf_depth3</td>\n",
       "      <td>0.3734</td>\n",
       "    </tr>\n",
       "    <tr>\n",
       "      <th>9</th>\n",
       "      <td>rf_depth5</td>\n",
       "      <td>0.3718</td>\n",
       "    </tr>\n",
       "    <tr>\n",
       "      <th>12</th>\n",
       "      <td>nb_vsmooth1e-05</td>\n",
       "      <td>0.3679</td>\n",
       "    </tr>\n",
       "    <tr>\n",
       "      <th>14</th>\n",
       "      <td>nb_vsmooth0.001</td>\n",
       "      <td>0.3679</td>\n",
       "    </tr>\n",
       "    <tr>\n",
       "      <th>15</th>\n",
       "      <td>nb_vsmooth0.01</td>\n",
       "      <td>0.3679</td>\n",
       "    </tr>\n",
       "    <tr>\n",
       "      <th>13</th>\n",
       "      <td>nb_vsmooth0.0001</td>\n",
       "      <td>0.3679</td>\n",
       "    </tr>\n",
       "    <tr>\n",
       "      <th>4</th>\n",
       "      <td>tree_maxdepth5</td>\n",
       "      <td>0.3659</td>\n",
       "    </tr>\n",
       "    <tr>\n",
       "      <th>7</th>\n",
       "      <td>rf_depth2</td>\n",
       "      <td>0.3602</td>\n",
       "    </tr>\n",
       "    <tr>\n",
       "      <th>3</th>\n",
       "      <td>tree_maxdepth3</td>\n",
       "      <td>0.3537</td>\n",
       "    </tr>\n",
       "    <tr>\n",
       "      <th>2</th>\n",
       "      <td>tree_maxdepth2</td>\n",
       "      <td>0.3522</td>\n",
       "    </tr>\n",
       "    <tr>\n",
       "      <th>10</th>\n",
       "      <td>rf_depth10</td>\n",
       "      <td>0.3467</td>\n",
       "    </tr>\n",
       "    <tr>\n",
       "      <th>5</th>\n",
       "      <td>tree_maxdepth10</td>\n",
       "      <td>0.3467</td>\n",
       "    </tr>\n",
       "    <tr>\n",
       "      <th>6</th>\n",
       "      <td>rf_depth1</td>\n",
       "      <td>0.3375</td>\n",
       "    </tr>\n",
       "    <tr>\n",
       "      <th>22</th>\n",
       "      <td>knn_n75</td>\n",
       "      <td>0.3223</td>\n",
       "    </tr>\n",
       "    <tr>\n",
       "      <th>18</th>\n",
       "      <td>knn_n3</td>\n",
       "      <td>0.2945</td>\n",
       "    </tr>\n",
       "    <tr>\n",
       "      <th>23</th>\n",
       "      <td>manual_baseline</td>\n",
       "      <td>0.2789</td>\n",
       "    </tr>\n",
       "    <tr>\n",
       "      <th>21</th>\n",
       "      <td>knn_n25</td>\n",
       "      <td>0.2733</td>\n",
       "    </tr>\n",
       "    <tr>\n",
       "      <th>1</th>\n",
       "      <td>tree_maxdepth1</td>\n",
       "      <td>0.2659</td>\n",
       "    </tr>\n",
       "    <tr>\n",
       "      <th>20</th>\n",
       "      <td>knn_n10</td>\n",
       "      <td>0.2239</td>\n",
       "    </tr>\n",
       "    <tr>\n",
       "      <th>19</th>\n",
       "      <td>knn_n5</td>\n",
       "      <td>0.2177</td>\n",
       "    </tr>\n",
       "    <tr>\n",
       "      <th>0</th>\n",
       "      <td>mode_baseline</td>\n",
       "      <td>NaN</td>\n",
       "    </tr>\n",
       "  </tbody>\n",
       "</table>\n",
       "</div>"
      ],
      "text/plain": [
       "               Model  OutSample_F1_Score\n",
       "11             logit              0.3841\n",
       "17     nb_vsmooth100              0.3767\n",
       "16      nb_vsmooth10              0.3767\n",
       "8          rf_depth3              0.3734\n",
       "9          rf_depth5              0.3718\n",
       "12   nb_vsmooth1e-05              0.3679\n",
       "14   nb_vsmooth0.001              0.3679\n",
       "15    nb_vsmooth0.01              0.3679\n",
       "13  nb_vsmooth0.0001              0.3679\n",
       "4     tree_maxdepth5              0.3659\n",
       "7          rf_depth2              0.3602\n",
       "3     tree_maxdepth3              0.3537\n",
       "2     tree_maxdepth2              0.3522\n",
       "10        rf_depth10              0.3467\n",
       "5    tree_maxdepth10              0.3467\n",
       "6          rf_depth1              0.3375\n",
       "22           knn_n75              0.3223\n",
       "18            knn_n3              0.2945\n",
       "23   manual_baseline              0.2789\n",
       "21           knn_n25              0.2733\n",
       "1     tree_maxdepth1              0.2659\n",
       "20           knn_n10              0.2239\n",
       "19            knn_n5              0.2177\n",
       "0      mode_baseline                 NaN"
      ]
     },
     "execution_count": 10,
     "metadata": {},
     "output_type": "execute_result"
    }
   ],
   "source": [
    "# build dataframe for model performance metrics\n",
    "model_performances = model.print_classification_results(y_train_preds, y_val_preds)\n",
    "\n",
    "# sort results by top-F1 score\n",
    "model_performances[['Model','OutSample_F1_Score']].sort_values(by='OutSample_F1_Score', ascending=False)"
   ]
  },
  {
   "cell_type": "markdown",
   "id": "7a85570c",
   "metadata": {},
   "source": [
    "### Results of First Evaluation\n",
    "- Always-Guess-Five-Star-Rating baseline on out-of-sample F1 Score: 28%\n",
    "- Our best algorithm on out-of-sample F1 Score: Logistic Regression, F1 Score: 38%\n",
    "\n",
    "## Second Evaluation: Grid Search\n",
    "Because our best-performing algorithm is LogisticRegression, **we will not use Grid Search.** The reason for this is simple: Grid Search's main use case is iterating through numeric hyperparameter values, and Logistic Regression does not use iterative numeric values for its hyperparameters. Additionally, I've personally found hyperparameter tuning for Logistic Regression to be largely fruitless- better time would be spent on feature engineering.\n",
    "\n",
    "Because of the lack of Grid Search usefulness for Logistic Regression and the lack of need to tune hyperparameters, we will consider Logistic Regression as our best model and calculate ROC curve AUC.\n",
    "\n",
    "## Third Evaluation: ROC Curve AUC"
   ]
  },
  {
   "cell_type": "code",
   "execution_count": 11,
   "id": "0488f8b3",
   "metadata": {},
   "outputs": [],
   "source": [
    "# build, fit the best model and the baseline\n",
    "bl_probs = [True for _ in range(len(y_validate))]\n",
    "logit = LogisticRegression(random_state=123).fit(X_train, y_train)"
   ]
  },
  {
   "cell_type": "code",
   "execution_count": 12,
   "id": "bbfcea57",
   "metadata": {},
   "outputs": [],
   "source": [
    "# only use prediction percentages for five-star ratings\n",
    "logit_probs = logit.predict_proba(X_validate)\n",
    "logit_probs = logit_probs[:,1]"
   ]
  },
  {
   "cell_type": "code",
   "execution_count": 13,
   "id": "2c470cf1",
   "metadata": {},
   "outputs": [],
   "source": [
    "# calculate ROC AUC for baseline and our model\n",
    "bl_auc = roc_auc_score(y_validate, bl_probs)\n",
    "logit_auc = roc_auc_score(y_validate, logit_probs)"
   ]
  },
  {
   "cell_type": "code",
   "execution_count": 14,
   "id": "2af1c589",
   "metadata": {},
   "outputs": [
    {
     "name": "stdout",
     "output_type": "stream",
     "text": [
      "Baseline: ROC AUC=0.500\n",
      "Logistic Regression: ROC AUC=0.703\n"
     ]
    }
   ],
   "source": [
    "# print ROC AUC for baseline and our model\n",
    "print('Baseline: ROC AUC=%.3f' % (bl_auc))\n",
    "print('Logistic Regression: ROC AUC=%.3f' % (logit_auc))"
   ]
  },
  {
   "cell_type": "code",
   "execution_count": 15,
   "id": "a1b9eaf0",
   "metadata": {},
   "outputs": [],
   "source": [
    "# generate ROC curve for baseline and best model\n",
    "bl_fpr, bl_tpr, _ = roc_curve(y_validate, bl_probs)\n",
    "logit_fpr, logit_tpr, _ = roc_curve(y_validate, logit_probs)"
   ]
  },
  {
   "cell_type": "code",
   "execution_count": 16,
   "id": "f23cf38b",
   "metadata": {
    "scrolled": true
   },
   "outputs": [
    {
     "data": {
      "image/png": "[encoded data removed]",
      "text/plain": [
       "<Figure size 432x288 with 1 Axes>"
      ]
     },
     "metadata": {
      "needs_background": "light"
     },
     "output_type": "display_data"
    }
   ],
   "source": [
    "# plot ROC curve for baseline and best model\n",
    "plt.plot(bl_fpr, bl_tpr, linestyle='--', label='Baseline')\n",
    "plt.plot(logit_fpr, logit_tpr, marker='.', label='Our Best Model')\n",
    "plt.xlabel(\"False Positive Rate\")\n",
    "plt.ylabel(\"True Positive Rate\")\n",
    "plt.title(\"Receiver Operating Characteristic\")\n",
    "plt.legend(loc=\"lower right\")\n",
    "plt.show()"
   ]
  },
  {
   "cell_type": "markdown",
   "id": "71f75642",
   "metadata": {},
   "source": [
    "## Overall Results of Model Creation\n",
    "> - Best Model: Logistic Regression\n",
    "> - Baseline F1 Score: 28%\n",
    "> - Our F1 Score: 34%\n",
    "> - Baseline ROC AUC: 50%\n",
    "> - Our ROC AUC: 70%\n",
    "\n",
    "# Evaluating Best Model on Test Split\n",
    "Now, we will check our best model's F1 Score for our sequestered out-of-sample split."
   ]
  },
  {
   "cell_type": "code",
   "execution_count": 17,
   "id": "cc97e78d",
   "metadata": {},
   "outputs": [],
   "source": [
    "# prepare y_test for evaluation\n",
    "y_test = pd.DataFrame(y_test)"
   ]
  },
  {
   "cell_type": "code",
   "execution_count": 18,
   "id": "ab6dc48d",
   "metadata": {},
   "outputs": [],
   "source": [
    "# add columns for predictions and baseline\n",
    "y_test['predictions'] = logit.predict(X_test)\n",
    "y_test['baseline'] = True"
   ]
  },
  {
   "cell_type": "code",
   "execution_count": 19,
   "id": "414633d0",
   "metadata": {},
   "outputs": [],
   "source": [
    "# calculate f1 scores\n",
    "baseline_f1_score = f1_score(y_test['five_stars'], y_test['baseline'])\n",
    "predictions_f1_score = f1_score(y_test['five_stars'], y_test['predictions'])"
   ]
  },
  {
   "cell_type": "code",
   "execution_count": 20,
   "id": "d2ae7e97",
   "metadata": {},
   "outputs": [
    {
     "name": "stdout",
     "output_type": "stream",
     "text": [
      "Baseline F1 Score: 24%\n",
      "Best Model F1 Score: 28%\n"
     ]
    }
   ],
   "source": [
    "# output f1 scores\n",
    "print(f'Baseline F1 Score: {int(baseline_f1_score * 100)}%')\n",
    "print(f'Best Model F1 Score: {int(predictions_f1_score * 100)}%')"
   ]
  },
  {
   "cell_type": "markdown",
   "id": "53f36469",
   "metadata": {},
   "source": [
    "# Conclusion\n",
    "We selected Logistic Regression as our best model on F1 Score after resampling our training split and creating multiple models with varying hyperparameter combinations. \n",
    "\n",
    "We then evaluated our best model in terms of ROC Curve AUC and evaluated F1 Score for our sequestered Test split.\n",
    "\n",
    "Overall, **our model outperforms the baseline on all metrics.**"
   ]
  },
  {
   "cell_type": "code",
   "execution_count": null,
   "id": "43dee0c6",
   "metadata": {},
   "outputs": [],
   "source": []
  }
 ],
 "metadata": {
  "kernelspec": {
   "display_name": "Python 3 (ipykernel)",
   "language": "python",
   "name": "python3"
  },
  "language_info": {
   "codemirror_mode": {
    "name": "ipython",
    "version": 3
   },
   "file_extension": ".py",
   "mimetype": "text/x-python",
   "name": "python",
   "nbconvert_exporter": "python",
   "pygments_lexer": "ipython3",
   "version": "3.8.8"
  }
 },
 "nbformat": 4,
 "nbformat_minor": 5
}
