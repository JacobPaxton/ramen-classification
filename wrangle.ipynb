{
 "cells": [
  {
   "cell_type": "markdown",
   "id": "f8f95868",
   "metadata": {},
   "source": [
    "# Overview\n",
    "This notebook prepares ramen-ratings.csv for exploration. The code here has been added to wrangle.py as a script."
   ]
  },
  {
   "cell_type": "code",
   "execution_count": 1,
   "id": "3461049c",
   "metadata": {},
   "outputs": [
    {
     "data": {
      "text/html": [
       "<div>\n",
       "<style scoped>\n",
       "    .dataframe tbody tr th:only-of-type {\n",
       "        vertical-align: middle;\n",
       "    }\n",
       "\n",
       "    .dataframe tbody tr th {\n",
       "        vertical-align: top;\n",
       "    }\n",
       "\n",
       "    .dataframe thead th {\n",
       "        text-align: right;\n",
       "    }\n",
       "</style>\n",
       "<table border=\"1\" class=\"dataframe\">\n",
       "  <thead>\n",
       "    <tr style=\"text-align: right;\">\n",
       "      <th></th>\n",
       "      <th>Review #</th>\n",
       "      <th>Brand</th>\n",
       "      <th>Variety</th>\n",
       "      <th>Style</th>\n",
       "      <th>Country</th>\n",
       "      <th>Stars</th>\n",
       "      <th>Top Ten</th>\n",
       "    </tr>\n",
       "  </thead>\n",
       "  <tbody>\n",
       "    <tr>\n",
       "      <th>0</th>\n",
       "      <td>2580</td>\n",
       "      <td>New Touch</td>\n",
       "      <td>T's Restaurant Tantanmen</td>\n",
       "      <td>Cup</td>\n",
       "      <td>Japan</td>\n",
       "      <td>3.75</td>\n",
       "      <td>NaN</td>\n",
       "    </tr>\n",
       "    <tr>\n",
       "      <th>1</th>\n",
       "      <td>2579</td>\n",
       "      <td>Just Way</td>\n",
       "      <td>Noodles Spicy Hot Sesame Spicy Hot Sesame Guan...</td>\n",
       "      <td>Pack</td>\n",
       "      <td>Taiwan</td>\n",
       "      <td>1</td>\n",
       "      <td>NaN</td>\n",
       "    </tr>\n",
       "    <tr>\n",
       "      <th>2</th>\n",
       "      <td>2578</td>\n",
       "      <td>Nissin</td>\n",
       "      <td>Cup Noodles Chicken Vegetable</td>\n",
       "      <td>Cup</td>\n",
       "      <td>USA</td>\n",
       "      <td>2.25</td>\n",
       "      <td>NaN</td>\n",
       "    </tr>\n",
       "  </tbody>\n",
       "</table>\n",
       "</div>"
      ],
      "text/plain": [
       "   Review #      Brand                                            Variety  \\\n",
       "0      2580  New Touch                          T's Restaurant Tantanmen    \n",
       "1      2579   Just Way  Noodles Spicy Hot Sesame Spicy Hot Sesame Guan...   \n",
       "2      2578     Nissin                      Cup Noodles Chicken Vegetable   \n",
       "\n",
       "  Style Country Stars Top Ten  \n",
       "0   Cup   Japan  3.75     NaN  \n",
       "1  Pack  Taiwan     1     NaN  \n",
       "2   Cup     USA  2.25     NaN  "
      ]
     },
     "execution_count": 1,
     "metadata": {},
     "output_type": "execute_result"
    }
   ],
   "source": [
    "# imports\n",
    "import pandas as pd\n",
    "\n",
    "df = pd.read_csv('ramen-ratings.csv')\n",
    "df.head(3)"
   ]
  },
  {
   "cell_type": "code",
   "execution_count": 2,
   "id": "7262ea68",
   "metadata": {},
   "outputs": [],
   "source": [
    "# drop unrated ramen\n",
    "df = df.drop(df.loc[df.Stars == 'Unrated'].index)"
   ]
  },
  {
   "cell_type": "code",
   "execution_count": 3,
   "id": "a96f1dd8",
   "metadata": {},
   "outputs": [],
   "source": [
    "# cast rating column as float\n",
    "df['Stars'] = df.Stars.astype('float')"
   ]
  },
  {
   "cell_type": "code",
   "execution_count": 4,
   "id": "c51a43c5",
   "metadata": {},
   "outputs": [],
   "source": [
    "# new column for 5-star ramen\n",
    "df['five_stars'] = df['Stars'] == 5"
   ]
  },
  {
   "cell_type": "code",
   "execution_count": 5,
   "id": "ae4fd8d5",
   "metadata": {},
   "outputs": [
    {
     "data": {
      "text/plain": [
       "False    2191\n",
       "True      386\n",
       "Name: five_stars, dtype: int64"
      ]
     },
     "execution_count": 5,
     "metadata": {},
     "output_type": "execute_result"
    }
   ],
   "source": [
    "# show work\n",
    "df['five_stars'].value_counts()"
   ]
  },
  {
   "cell_type": "code",
   "execution_count": 6,
   "id": "461fde1d",
   "metadata": {},
   "outputs": [],
   "source": [
    "# drop review num, stars, and top ten columns\n",
    "df = df.drop(columns=['Review #','Stars','Top Ten'])"
   ]
  },
  {
   "cell_type": "code",
   "execution_count": 7,
   "id": "a840e53e",
   "metadata": {},
   "outputs": [
    {
     "name": "stdout",
     "output_type": "stream",
     "text": [
      "<class 'pandas.core.frame.DataFrame'>\n",
      "Int64Index: 2577 entries, 0 to 2579\n",
      "Data columns (total 5 columns):\n",
      " #   Column      Non-Null Count  Dtype \n",
      "---  ------      --------------  ----- \n",
      " 0   Brand       2577 non-null   object\n",
      " 1   Variety     2577 non-null   object\n",
      " 2   Style       2575 non-null   object\n",
      " 3   Country     2577 non-null   object\n",
      " 4   five_stars  2577 non-null   bool  \n",
      "dtypes: bool(1), object(4)\n",
      "memory usage: 103.2+ KB\n"
     ]
    }
   ],
   "source": [
    "# check nulls\n",
    "df.info()"
   ]
  },
  {
   "cell_type": "code",
   "execution_count": 8,
   "id": "4839e388",
   "metadata": {},
   "outputs": [],
   "source": [
    "# drop nulls in style\n",
    "df = df.drop(df[df.Style.isna()].index)"
   ]
  },
  {
   "cell_type": "code",
   "execution_count": 9,
   "id": "e715238c",
   "metadata": {},
   "outputs": [],
   "source": [
    "# drop duplicates\n",
    "df = df.drop_duplicates()"
   ]
  },
  {
   "cell_type": "code",
   "execution_count": 10,
   "id": "29e7510e",
   "metadata": {},
   "outputs": [
    {
     "name": "stdout",
     "output_type": "stream",
     "text": [
      "<class 'pandas.core.frame.DataFrame'>\n",
      "Int64Index: 2564 entries, 0 to 2579\n",
      "Data columns (total 5 columns):\n",
      " #   Column      Non-Null Count  Dtype \n",
      "---  ------      --------------  ----- \n",
      " 0   Brand       2564 non-null   object\n",
      " 1   Variety     2564 non-null   object\n",
      " 2   Style       2564 non-null   object\n",
      " 3   Country     2564 non-null   object\n",
      " 4   five_stars  2564 non-null   bool  \n",
      "dtypes: bool(1), object(4)\n",
      "memory usage: 102.7+ KB\n"
     ]
    }
   ],
   "source": [
    "# check work\n",
    "df.info()"
   ]
  },
  {
   "cell_type": "code",
   "execution_count": 11,
   "id": "9ae9604c",
   "metadata": {},
   "outputs": [],
   "source": [
    "# rename columns\n",
    "df = df.rename(columns={'Brand':'brand', 'Variety':'product', 'Style':'package', 'Country':'country'})"
   ]
  },
  {
   "cell_type": "code",
   "execution_count": 12,
   "id": "8c649916",
   "metadata": {},
   "outputs": [
    {
     "data": {
      "text/html": [
       "<div>\n",
       "<style scoped>\n",
       "    .dataframe tbody tr th:only-of-type {\n",
       "        vertical-align: middle;\n",
       "    }\n",
       "\n",
       "    .dataframe tbody tr th {\n",
       "        vertical-align: top;\n",
       "    }\n",
       "\n",
       "    .dataframe thead th {\n",
       "        text-align: right;\n",
       "    }\n",
       "</style>\n",
       "<table border=\"1\" class=\"dataframe\">\n",
       "  <thead>\n",
       "    <tr style=\"text-align: right;\">\n",
       "      <th></th>\n",
       "      <th>brand</th>\n",
       "      <th>product</th>\n",
       "      <th>package</th>\n",
       "      <th>country</th>\n",
       "      <th>five_stars</th>\n",
       "    </tr>\n",
       "  </thead>\n",
       "  <tbody>\n",
       "    <tr>\n",
       "      <th>0</th>\n",
       "      <td>New Touch</td>\n",
       "      <td>T's Restaurant Tantanmen</td>\n",
       "      <td>Cup</td>\n",
       "      <td>Japan</td>\n",
       "      <td>False</td>\n",
       "    </tr>\n",
       "    <tr>\n",
       "      <th>1</th>\n",
       "      <td>Just Way</td>\n",
       "      <td>Noodles Spicy Hot Sesame Spicy Hot Sesame Guan...</td>\n",
       "      <td>Pack</td>\n",
       "      <td>Taiwan</td>\n",
       "      <td>False</td>\n",
       "    </tr>\n",
       "    <tr>\n",
       "      <th>2</th>\n",
       "      <td>Nissin</td>\n",
       "      <td>Cup Noodles Chicken Vegetable</td>\n",
       "      <td>Cup</td>\n",
       "      <td>USA</td>\n",
       "      <td>False</td>\n",
       "    </tr>\n",
       "  </tbody>\n",
       "</table>\n",
       "</div>"
      ],
      "text/plain": [
       "       brand                                            product package  \\\n",
       "0  New Touch                          T's Restaurant Tantanmen      Cup   \n",
       "1   Just Way  Noodles Spicy Hot Sesame Spicy Hot Sesame Guan...    Pack   \n",
       "2     Nissin                      Cup Noodles Chicken Vegetable     Cup   \n",
       "\n",
       "  country  five_stars  \n",
       "0   Japan       False  \n",
       "1  Taiwan       False  \n",
       "2     USA       False  "
      ]
     },
     "execution_count": 12,
     "metadata": {},
     "output_type": "execute_result"
    }
   ],
   "source": [
    "# check finalized work\n",
    "df.head(3)"
   ]
  },
  {
   "cell_type": "code",
   "execution_count": null,
   "id": "eed96b65",
   "metadata": {},
   "outputs": [],
   "source": []
  }
 ],
 "metadata": {
  "kernelspec": {
   "display_name": "Python 3 (ipykernel)",
   "language": "python",
   "name": "python3"
  },
  "language_info": {
   "codemirror_mode": {
    "name": "ipython",
    "version": 3
   },
   "file_extension": ".py",
   "mimetype": "text/x-python",
   "name": "python",
   "nbconvert_exporter": "python",
   "pygments_lexer": "ipython3",
   "version": "3.8.8"
  }
 },
 "nbformat": 4,
 "nbformat_minor": 5
}
