{
 "cells": [
  {
   "cell_type": "markdown",
   "id": "f8f95868",
   "metadata": {},
   "source": [
    "# Overview\n",
    "This notebook prepares ramen-ratings.csv for exploration. The code here has been added to wrangle.py as a script.\n",
    "\n",
    "# Implementation"
   ]
  },
  {
   "cell_type": "code",
   "execution_count": 1,
   "id": "3461049c",
   "metadata": {},
   "outputs": [
    {
     "data": {
      "text/html": [
       "<div>\n",
       "<style scoped>\n",
       "    .dataframe tbody tr th:only-of-type {\n",
       "        vertical-align: middle;\n",
       "    }\n",
       "\n",
       "    .dataframe tbody tr th {\n",
       "        vertical-align: top;\n",
       "    }\n",
       "\n",
       "    .dataframe thead th {\n",
       "        text-align: right;\n",
       "    }\n",
       "</style>\n",
       "<table border=\"1\" class=\"dataframe\">\n",
       "  <thead>\n",
       "    <tr style=\"text-align: right;\">\n",
       "      <th></th>\n",
       "      <th>Review #</th>\n",
       "      <th>Brand</th>\n",
       "      <th>Variety</th>\n",
       "      <th>Style</th>\n",
       "      <th>Country</th>\n",
       "      <th>Stars</th>\n",
       "      <th>Top Ten</th>\n",
       "    </tr>\n",
       "  </thead>\n",
       "  <tbody>\n",
       "    <tr>\n",
       "      <th>0</th>\n",
       "      <td>2580</td>\n",
       "      <td>New Touch</td>\n",
       "      <td>T's Restaurant Tantanmen</td>\n",
       "      <td>Cup</td>\n",
       "      <td>Japan</td>\n",
       "      <td>3.75</td>\n",
       "      <td>NaN</td>\n",
       "    </tr>\n",
       "    <tr>\n",
       "      <th>1</th>\n",
       "      <td>2579</td>\n",
       "      <td>Just Way</td>\n",
       "      <td>Noodles Spicy Hot Sesame Spicy Hot Sesame Guan...</td>\n",
       "      <td>Pack</td>\n",
       "      <td>Taiwan</td>\n",
       "      <td>1</td>\n",
       "      <td>NaN</td>\n",
       "    </tr>\n",
       "    <tr>\n",
       "      <th>2</th>\n",
       "      <td>2578</td>\n",
       "      <td>Nissin</td>\n",
       "      <td>Cup Noodles Chicken Vegetable</td>\n",
       "      <td>Cup</td>\n",
       "      <td>USA</td>\n",
       "      <td>2.25</td>\n",
       "      <td>NaN</td>\n",
       "    </tr>\n",
       "  </tbody>\n",
       "</table>\n",
       "</div>"
      ],
      "text/plain": [
       "   Review #      Brand                                            Variety  \\\n",
       "0      2580  New Touch                          T's Restaurant Tantanmen    \n",
       "1      2579   Just Way  Noodles Spicy Hot Sesame Spicy Hot Sesame Guan...   \n",
       "2      2578     Nissin                      Cup Noodles Chicken Vegetable   \n",
       "\n",
       "  Style Country Stars Top Ten  \n",
       "0   Cup   Japan  3.75     NaN  \n",
       "1  Pack  Taiwan     1     NaN  \n",
       "2   Cup     USA  2.25     NaN  "
      ]
     },
     "execution_count": 1,
     "metadata": {},
     "output_type": "execute_result"
    }
   ],
   "source": [
    "# imports\n",
    "import pandas as pd\n",
    "\n",
    "df = pd.read_csv('ramen-ratings.csv')\n",
    "df.head(3)"
   ]
  },
  {
   "cell_type": "code",
   "execution_count": 2,
   "id": "7262ea68",
   "metadata": {},
   "outputs": [],
   "source": [
    "# drop unrated ramen\n",
    "df = df.drop(df.loc[df.Stars == 'Unrated'].index)"
   ]
  },
  {
   "cell_type": "code",
   "execution_count": 3,
   "id": "a96f1dd8",
   "metadata": {},
   "outputs": [],
   "source": [
    "# cast rating column as float\n",
    "df['Stars'] = df.Stars.astype('float')"
   ]
  },
  {
   "cell_type": "code",
   "execution_count": 4,
   "id": "c51a43c5",
   "metadata": {},
   "outputs": [],
   "source": [
    "# new column for 5-star ramen\n",
    "df['five_stars'] = df['Stars'] == 5"
   ]
  },
  {
   "cell_type": "code",
   "execution_count": 5,
   "id": "ae4fd8d5",
   "metadata": {},
   "outputs": [
    {
     "data": {
      "text/plain": [
       "False    2191\n",
       "True      386\n",
       "Name: five_stars, dtype: int64"
      ]
     },
     "execution_count": 5,
     "metadata": {},
     "output_type": "execute_result"
    }
   ],
   "source": [
    "# show work\n",
    "df['five_stars'].value_counts()"
   ]
  },
  {
   "cell_type": "code",
   "execution_count": 6,
   "id": "461fde1d",
   "metadata": {},
   "outputs": [],
   "source": [
    "# drop review num, stars, and top ten columns\n",
    "df = df.drop(columns=['Review #','Stars','Top Ten'])"
   ]
  },
  {
   "cell_type": "code",
   "execution_count": 7,
   "id": "a840e53e",
   "metadata": {},
   "outputs": [
    {
     "name": "stdout",
     "output_type": "stream",
     "text": [
      "<class 'pandas.core.frame.DataFrame'>\n",
      "Int64Index: 2577 entries, 0 to 2579\n",
      "Data columns (total 5 columns):\n",
      " #   Column      Non-Null Count  Dtype \n",
      "---  ------      --------------  ----- \n",
      " 0   Brand       2577 non-null   object\n",
      " 1   Variety     2577 non-null   object\n",
      " 2   Style       2575 non-null   object\n",
      " 3   Country     2577 non-null   object\n",
      " 4   five_stars  2577 non-null   bool  \n",
      "dtypes: bool(1), object(4)\n",
      "memory usage: 103.2+ KB\n"
     ]
    }
   ],
   "source": [
    "# check nulls\n",
    "df.info()"
   ]
  },
  {
   "cell_type": "code",
   "execution_count": 8,
   "id": "4839e388",
   "metadata": {},
   "outputs": [],
   "source": [
    "# drop nulls in style\n",
    "df = df.drop(df[df.Style.isna()].index)"
   ]
  },
  {
   "cell_type": "code",
   "execution_count": 9,
   "id": "e715238c",
   "metadata": {},
   "outputs": [],
   "source": [
    "# drop duplicates\n",
    "df = df.drop_duplicates()"
   ]
  },
  {
   "cell_type": "code",
   "execution_count": 10,
   "id": "29e7510e",
   "metadata": {},
   "outputs": [
    {
     "name": "stdout",
     "output_type": "stream",
     "text": [
      "<class 'pandas.core.frame.DataFrame'>\n",
      "Int64Index: 2564 entries, 0 to 2579\n",
      "Data columns (total 5 columns):\n",
      " #   Column      Non-Null Count  Dtype \n",
      "---  ------      --------------  ----- \n",
      " 0   Brand       2564 non-null   object\n",
      " 1   Variety     2564 non-null   object\n",
      " 2   Style       2564 non-null   object\n",
      " 3   Country     2564 non-null   object\n",
      " 4   five_stars  2564 non-null   bool  \n",
      "dtypes: bool(1), object(4)\n",
      "memory usage: 102.7+ KB\n"
     ]
    }
   ],
   "source": [
    "# check work\n",
    "df.info()"
   ]
  },
  {
   "cell_type": "code",
   "execution_count": 11,
   "id": "9ae9604c",
   "metadata": {},
   "outputs": [],
   "source": [
    "# rename columns\n",
    "df = df.rename(columns={'Brand':'brand', 'Variety':'product', 'Style':'package', 'Country':'country'})"
   ]
  },
  {
   "cell_type": "code",
   "execution_count": 12,
   "id": "f8ebb45d",
   "metadata": {},
   "outputs": [
    {
     "name": "stdout",
     "output_type": "stream",
     "text": [
      "Pack    1522\n",
      "Bowl     479\n",
      "Cup      447\n",
      "Tray     108\n",
      "Box        6\n",
      "Can        1\n",
      "Bar        1\n",
      "Name: package, dtype: int64\n"
     ]
    }
   ],
   "source": [
    "# check package for low-count values\n",
    "print(df.package.value_counts())"
   ]
  },
  {
   "cell_type": "code",
   "execution_count": 13,
   "id": "01e4f098",
   "metadata": {},
   "outputs": [],
   "source": [
    "# drop low-count values (8 rows)\n",
    "mask = (df.package == 'Box') | (df.package == 'Can') | (df.package == 'Bar')\n",
    "df = df[~mask]"
   ]
  },
  {
   "cell_type": "code",
   "execution_count": 14,
   "id": "79d27f54",
   "metadata": {},
   "outputs": [
    {
     "data": {
      "text/plain": [
       "Japan            348\n",
       "USA              319\n",
       "South Korea      306\n",
       "Taiwan           223\n",
       "Thailand         189\n",
       "China            167\n",
       "Malaysia         152\n",
       "Hong Kong        137\n",
       "Indonesia        124\n",
       "Singapore        109\n",
       "Vietnam          108\n",
       "UK                69\n",
       "Philippines       47\n",
       "Canada            41\n",
       "India             29\n",
       "Germany           27\n",
       "Mexico            25\n",
       "Australia         22\n",
       "Netherlands       15\n",
       "Myanmar           14\n",
       "Nepal             14\n",
       "Pakistan           9\n",
       "Hungary            9\n",
       "Bangladesh         7\n",
       "Colombia           6\n",
       "Brazil             5\n",
       "Cambodia           5\n",
       "Fiji               4\n",
       "Holland            4\n",
       "Poland             4\n",
       "Finland            3\n",
       "Sarawak            3\n",
       "Sweden             3\n",
       "Dubai              3\n",
       "Ghana              2\n",
       "Estonia            2\n",
       "Nigeria            1\n",
       "United States      1\n",
       "Name: country, dtype: int64"
      ]
     },
     "execution_count": 14,
     "metadata": {},
     "output_type": "execute_result"
    }
   ],
   "source": [
    "# check country for low-count values\n",
    "df.country.value_counts()"
   ]
  },
  {
   "cell_type": "code",
   "execution_count": 15,
   "id": "518437c5",
   "metadata": {},
   "outputs": [],
   "source": [
    "# merge United States and USA\n",
    "index_loc = df.loc[df.country == 'United States'].index.item() # get index\n",
    "df.loc[index_loc, 'country'] = 'USA'"
   ]
  },
  {
   "cell_type": "code",
   "execution_count": 16,
   "id": "f671ffc6",
   "metadata": {},
   "outputs": [
    {
     "name": "stdout",
     "output_type": "stream",
     "text": [
      "[1574, 1592, 1629, 1637, 1568, 1587, 2036, 2052, 184, 194, 1681, 1683, 1026, 1063, 1093, 863, 872, 883, 675, 816, 856, 1783, 1838, 1860, 26, 44, 1480, 1481, 78]\n",
      "Number of rows to drop: 29\n"
     ]
    }
   ],
   "source": [
    "# get indices of countries with less than 5 cumulative rows in dataframe\n",
    "low_count_countries = df.country.value_counts()[df.country.value_counts() < 5].index.tolist() # get country names\n",
    "low_count_indices = [] # init empty index list\n",
    "for cntry in low_count_countries:  # go by each country\n",
    "    low_count_indices.extend(df[df.country == cntry].index.tolist()) # add each index of matching country to list\n",
    "\n",
    "# check work\n",
    "print(low_count_indices)\n",
    "print('Number of rows to drop:', len(low_count_indices))"
   ]
  },
  {
   "cell_type": "code",
   "execution_count": 17,
   "id": "5a21121c",
   "metadata": {},
   "outputs": [],
   "source": [
    "# drop low-count countries\n",
    "df = df.drop(low_count_indices)"
   ]
  },
  {
   "cell_type": "code",
   "execution_count": 18,
   "id": "ca7daa4d",
   "metadata": {},
   "outputs": [
    {
     "name": "stdout",
     "output_type": "stream",
     "text": [
      "<class 'pandas.core.frame.DataFrame'>\n",
      "Int64Index: 2527 entries, 0 to 2579\n",
      "Data columns (total 5 columns):\n",
      " #   Column      Non-Null Count  Dtype \n",
      "---  ------      --------------  ----- \n",
      " 0   brand       2527 non-null   object\n",
      " 1   product     2527 non-null   object\n",
      " 2   package     2527 non-null   object\n",
      " 3   country     2527 non-null   object\n",
      " 4   five_stars  2527 non-null   bool  \n",
      "dtypes: bool(1), object(4)\n",
      "memory usage: 101.2+ KB\n"
     ]
    }
   ],
   "source": [
    "# check work\n",
    "df.info()"
   ]
  },
  {
   "cell_type": "code",
   "execution_count": null,
   "id": "129159c8",
   "metadata": {},
   "outputs": [],
   "source": []
  }
 ],
 "metadata": {
  "kernelspec": {
   "display_name": "Python 3 (ipykernel)",
   "language": "python",
   "name": "python3"
  },
  "language_info": {
   "codemirror_mode": {
    "name": "ipython",
    "version": 3
   },
   "file_extension": ".py",
   "mimetype": "text/x-python",
   "name": "python",
   "nbconvert_exporter": "python",
   "pygments_lexer": "ipython3",
   "version": "3.8.8"
  }
 },
 "nbformat": 4,
 "nbformat_minor": 5
}
