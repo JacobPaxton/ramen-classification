{
 "cells": [
  {
   "cell_type": "markdown",
   "id": "987981ee",
   "metadata": {},
   "source": [
    "# Overview\n",
    "This notebook explores the cleaned ramen-ratings CSV. Any engineered features or scripts will be added to explore.py.\n",
    "\n",
    "# Findings\n",
    "1. Ramen packaging and five-star ratings are independent.\n",
    "2. Ramen country of origin and five-star ratings **have a dependent relationship.**"
   ]
  },
  {
   "cell_type": "code",
   "execution_count": 1,
   "id": "12d27764",
   "metadata": {},
   "outputs": [],
   "source": [
    "import pandas as pd\n",
    "from scipy import stats\n",
    "import matplotlib.pyplot as plt\n",
    "import seaborn as sns\n",
    "\n",
    "import wrangle"
   ]
  },
  {
   "cell_type": "code",
   "execution_count": 2,
   "id": "cd2021de",
   "metadata": {},
   "outputs": [
    {
     "name": "stdout",
     "output_type": "stream",
     "text": [
      "Train size: (1515, 5) Validate size: (506, 5) Test size: (506, 5)\n",
      "\n",
      "<class 'pandas.core.frame.DataFrame'>\n",
      "Int64Index: 1515 entries, 2566 to 2127\n",
      "Data columns (total 5 columns):\n",
      " #   Column      Non-Null Count  Dtype \n",
      "---  ------      --------------  ----- \n",
      " 0   brand       1515 non-null   object\n",
      " 1   name        1515 non-null   object\n",
      " 2   package     1515 non-null   object\n",
      " 3   country     1515 non-null   object\n",
      " 4   five_stars  1515 non-null   bool  \n",
      "dtypes: bool(1), object(4)\n",
      "memory usage: 60.7+ KB\n"
     ]
    }
   ],
   "source": [
    "# create train split for exploration\n",
    "train, _, _ = wrangle.prep_explore()\n",
    "print('')\n",
    "\n",
    "# check work\n",
    "train.info()"
   ]
  },
  {
   "cell_type": "markdown",
   "id": "bc145762",
   "metadata": {},
   "source": [
    "# Initial Exploration of Ramen Packaging\n",
    "Let's check if there's a dependent relationship between packaging and our target.\n",
    "\n",
    "Hypotheses:\n",
    "- $H_0$: Packaging and five-star ratings are independent.\n",
    "- $H_a$: Packaging and five-star ratings have a dependent relationship.\n",
    "\n",
    "Confidence interval: 95%"
   ]
  },
  {
   "cell_type": "code",
   "execution_count": 3,
   "id": "9dd793f2",
   "metadata": {},
   "outputs": [],
   "source": [
    "# set confidence interval\n",
    "alpha = .05"
   ]
  },
  {
   "cell_type": "code",
   "execution_count": 4,
   "id": "121014e2",
   "metadata": {},
   "outputs": [],
   "source": [
    "# check dependence of packaging and target\n",
    "package_5star_crosstab = pd.crosstab(train.package, train.five_stars)\n",
    "_, p, _, _ = stats.chi2_contingency(package_5star_crosstab)"
   ]
  },
  {
   "cell_type": "code",
   "execution_count": 5,
   "id": "771e5b24",
   "metadata": {},
   "outputs": [
    {
     "name": "stdout",
     "output_type": "stream",
     "text": [
      "Packaging and five-star ratings are independent, did not pass 95% confidence interval.\n",
      "p-value: 0.43924606238117814\n"
     ]
    }
   ],
   "source": [
    "# check if p is significant\n",
    "if p < alpha:\n",
    "    print(\"Packaging and five-star ratings have a dependent relationship with 95% confidence.\")\n",
    "    print(\"p-value:\", p)\n",
    "else:\n",
    "    print(\"Packaging and five-star ratings are independent, did not pass 95% confidence interval.\")\n",
    "    print(\"p-value:\", p)"
   ]
  },
  {
   "cell_type": "markdown",
   "id": "173e8e31",
   "metadata": {},
   "source": [
    "**Packaging and five-star ratings are independent.** We will not use 'package' in our predictive model."
   ]
  },
  {
   "cell_type": "markdown",
   "id": "021715d4",
   "metadata": {},
   "source": [
    "# Initial Exploration of Ramen Country of Origin\n",
    "Let's check if there's a dependent relationship between country and our target.\n",
    "\n",
    "Hypotheses:\n",
    "- $H_0$: Country of origin and five-star ratings are independent.\n",
    "- $H_a$: Country of origin and five-star ratings have a dependent relationship.\n",
    "\n",
    "Confidence interval: 95%"
   ]
  },
  {
   "cell_type": "code",
   "execution_count": 6,
   "id": "854971c5",
   "metadata": {},
   "outputs": [],
   "source": [
    "# set confidence interval\n",
    "alpha = .05"
   ]
  },
  {
   "cell_type": "code",
   "execution_count": 7,
   "id": "6b738143",
   "metadata": {},
   "outputs": [],
   "source": [
    "# create crosstab for chi-square statistical test\n",
    "country_5star_crosstab = pd.crosstab(train.country, train.five_stars)\n",
    "# limit only to countries with sufficient value counts in crosstab (an assumption of chi-square)\n",
    "enough_values_mask = (country_5star_crosstab[False] > 5) & (country_5star_crosstab[True] > 5)\n",
    "# run chi-square test\n",
    "_, p, _, _ = stats.chi2_contingency(country_5star_crosstab[enough_values_mask])"
   ]
  },
  {
   "cell_type": "code",
   "execution_count": 8,
   "id": "8c0983b9",
   "metadata": {},
   "outputs": [
    {
     "name": "stdout",
     "output_type": "stream",
     "text": [
      "Country of origin and five-star ratings have a dependent relationship with 95% confidence.\n",
      "p-value: 1.680501270556502e-06\n"
     ]
    }
   ],
   "source": [
    "# check if p is significant\n",
    "if p < alpha:\n",
    "    print(\"Country of origin and five-star ratings have a dependent relationship with 95% confidence.\")\n",
    "    print(\"p-value:\", p)\n",
    "else:\n",
    "    print(\"Country of origin and five-star ratings are independent, did not pass 95% confidence interval.\")\n",
    "    print(\"p-value:\", p)"
   ]
  },
  {
   "cell_type": "markdown",
   "id": "a8864998",
   "metadata": {},
   "source": [
    "**Country of origin and five-star ratings have a dependent relationship.** We will further explore country of origin and consider using it in our model."
   ]
  },
  {
   "cell_type": "markdown",
   "id": "bf8c473b",
   "metadata": {},
   "source": [
    "# Initial Exploration of Ramen Brand\n",
    "Let's check if there's a dependent relationship between ramen brand and our target.\n",
    "\n",
    "Hypotheses:\n",
    "- $H_0$: Ramen brand and five-star ratings are independent.\n",
    "- $H_a$: Ramen brand and five-star ratings have a dependent relationship.\n",
    "\n",
    "Confidence interval: 95%"
   ]
  },
  {
   "cell_type": "code",
   "execution_count": 9,
   "id": "5aababe0",
   "metadata": {},
   "outputs": [],
   "source": [
    "# set confidence interval\n",
    "alpha = .05"
   ]
  },
  {
   "cell_type": "code",
   "execution_count": 10,
   "id": "25fe82aa",
   "metadata": {},
   "outputs": [],
   "source": [
    "# create crosstab for chi-square statistical test\n",
    "brand_5star_crosstab = pd.crosstab(train.brand, train.five_stars)\n",
    "# limit only to brands with sufficient value counts in crosstab (an assumption of chi-square)\n",
    "enough_values_mask = (brand_5star_crosstab[False] > 5) & (brand_5star_crosstab[True] > 5)\n",
    "# run chi-square test\n",
    "_, p, _, _ = stats.chi2_contingency(brand_5star_crosstab[enough_values_mask])"
   ]
  },
  {
   "cell_type": "code",
   "execution_count": 11,
   "id": "0d70b87f",
   "metadata": {},
   "outputs": [
    {
     "name": "stdout",
     "output_type": "stream",
     "text": [
      "Ramen brand and five-star ratings are independent, did not pass 95% confidence interval.\n",
      "p-value: 0.22292206264805428\n"
     ]
    }
   ],
   "source": [
    "# check if p is significant\n",
    "if p < alpha:\n",
    "    print(\"Ramen brand and five-star ratings have a dependent relationship with 95% confidence.\")\n",
    "    print(\"p-value:\", p)\n",
    "else:\n",
    "    print(\"Ramen brand and five-star ratings are independent, did not pass 95% confidence interval.\")\n",
    "    print(\"p-value:\", p)"
   ]
  },
  {
   "cell_type": "markdown",
   "id": "11480ff7",
   "metadata": {},
   "source": [
    "**Ramen brand and five-star ratings are independent.** We will not use 'brand' in our predictive model."
   ]
  },
  {
   "cell_type": "markdown",
   "id": "8e15c104",
   "metadata": {},
   "source": [
    "# Breaking Down the Ramen Product Name\n",
    "Nearly all ramen reviews in our dataset have a unique combination of brand and product name. Only 21 combinations of brand and product out of the nearly 1500 in our exploration split have two reviews, and there are no combinations with more than two reviews. Because of this low commonality, we can't run initial chi-square tests to see if product names have a dependent relationship with five star reviews."
   ]
  },
  {
   "cell_type": "code",
   "execution_count": 12,
   "id": "1c6877f5",
   "metadata": {},
   "outputs": [
    {
     "name": "stdout",
     "output_type": "stream",
     "text": [
      "Brand+name with only one review: 1473\n",
      "Brand+name with two reviews: 21\n",
      "Brand+name with more than two reviews: 0\n"
     ]
    }
   ],
   "source": [
    "# show the review repeats and non-repeats\n",
    "print(\"Brand+name with only one review:\", (train[['brand','name']].value_counts() == 1).sum())\n",
    "print(\"Brand+name with two reviews:\", (train[['brand','name']].value_counts() == 2).sum())\n",
    "print(\"Brand+name with more than two reviews:\", (train[['brand','name']].value_counts() > 2).sum())"
   ]
  },
  {
   "cell_type": "markdown",
   "id": "7604c51c",
   "metadata": {},
   "source": [
    "Before we can understand the relationship between product name and the target, we will need to split out certain keywords in product names to use as features."
   ]
  },
  {
   "cell_type": "markdown",
   "id": "e8acc7d7",
   "metadata": {},
   "source": [
    "## Identifying Keywords to Use\n",
    "**Ramen names will require multiple features** due to the fact that a ramen product can have many attributes.\n",
    "\n",
    "Another issue is that some product names use English and some do not use English. In order to accomodate this, **we will need to translate some words** to English and include them in our features (EX: put \"soy\" and \"shoyu\"/\"shouyu\" into one feature).\n",
    "\n",
    "### Word Checks"
   ]
  },
  {
   "cell_type": "code",
   "execution_count": 13,
   "id": "729e7f44",
   "metadata": {},
   "outputs": [
    {
     "name": "stdout",
     "output_type": "stream",
     "text": [
      "['South Korea', 'USA', 'Hong Kong', 'UK', 'Thailand', 'Japan', 'Taiwan', 'Malaysia', 'India', 'Canada', 'Singapore', 'Philippines', 'China', 'Mexico', 'Indonesia', 'Cambodia', 'Netherlands', 'Australia', 'Nepal', 'Vietnam', 'Myanmar', 'Germany', 'Pakistan', 'Hungary', 'Colombia', 'Bangladesh', 'Brazil']\n"
     ]
    }
   ],
   "source": [
    "# print a list of countries with a ramen product\n",
    "print(train.country.unique().tolist())"
   ]
  },
  {
   "cell_type": "code",
   "execution_count": 14,
   "id": "4b918078",
   "metadata": {},
   "outputs": [],
   "source": [
    "# checking product names by country (cell ran multiple times with different inputs)\n",
    "# train[train.country == 'Taiwan'].name.tolist()"
   ]
  },
  {
   "cell_type": "code",
   "execution_count": 15,
   "id": "50bb95db",
   "metadata": {},
   "outputs": [],
   "source": [
    "# checking count of values matching the string (cell ran multiple times with different inputs)\n",
    "# (train.name.str.contains('Cake') == True).sum()"
   ]
  },
  {
   "cell_type": "code",
   "execution_count": 16,
   "id": "9392fa23",
   "metadata": {},
   "outputs": [],
   "source": [
    "# checking row's values for rows containing matched string (cell ran multiple times with different inputs)\n",
    "# train[train.name.str.contains('Teriyaki')]"
   ]
  },
  {
   "cell_type": "markdown",
   "id": "75726f9e",
   "metadata": {},
   "source": [
    "### Identifying Remaining Keywords\n",
    "The following keyword mask contains all the words I've designated as keywords. This keyword conglomeration will be unpacked in a readable format in the sections below this section."
   ]
  },
  {
   "cell_type": "code",
   "execution_count": 17,
   "id": "b7d96e0e",
   "metadata": {},
   "outputs": [],
   "source": [
    "# identify all keywords, prepare list for df.col.str.contains()\n",
    "keyword_mask = '|'.join(['Vermicelli', 'Vernicalli', 'Bihun', 'Sano', 'Chicken', 'Chikin', 'Duck',\n",
    "                         'Vegetable', 'Veggie', 'Vegetarian','Beef', 'Gomtang', 'Seolleongtang', 'Sukiyaki', \n",
    "                         'Nam Tok', 'Pork', 'Jjajangmen', 'Jiajang', 'Tonkotsu', 'Tomkotsu', 'Bacon', 'Budae',\n",
    "                         'Seafood', 'Crab', 'Anchovy', 'Bajirak', 'Clam', 'Abalone', 'Scallop', 'Vongole', \n",
    "                         'Salmon', 'Lobster', 'Shrimp', 'Prawn', 'Tuna', 'Tteok', 'Rabokki', 'Raobokki',\n",
    "                         'Spicy', 'Spice', 'Shin', 'Jjamppong', 'Jjambbong', 'Buldalk', 'Sutah', 'Budae', \n",
    "                         'Habanero', 'Jinjja', 'Jin', 'Yeul', 'Mala', 'Teumsae', 'Bibim', 'Picante', 'Bulnak', \n",
    "                         'Volcano', 'Odongtong', 'Sriracha', 'Arrabiata', 'Tom Yum', 'Tom Yam', 'Tom Saab', \n",
    "                         'Tom Klong', 'Suki', 'Stir Fry', 'Bokkeum', 'Tteokbokki', 'Topokki', 'Yukgaejang', \n",
    "                         'Rabokki', 'Yakisoba', 'Yaki-Soba', 'Yakiosoba', 'Fried', 'Goreng', 'Ramyonsari', \n",
    "                         'Keopnurungji', 'Sabalmyeon', 'Miso', 'Teriyaki', 'Mushroom', 'Udon', 'Udoin', \n",
    "                         'Tomato', 'Chili', 'Chilli', 'chili', 'Wonton', 'Wantan', 'Pickled', 'Sesame', \n",
    "                         'Superior', 'Carbonara', 'Chow Mein', 'Sweet', 'Pad Thai', 'Sour', 'sour', 'Curry', \n",
    "                         'Soy', 'Shoyu', 'Shiitake', 'Shitake', 'Tofu', 'Pho', 'Clear', 'Egg', 'Tempura', \n",
    "                         'Laksa', 'Buckwheat', 'Soba', 'Salt', 'Shio', 'Sio', 'Tomato', 'Neapolitan', \n",
    "                         'Napolitan', 'Spaghetti', 'Mayo', 'Barbecue', 'BBQ', 'Masala', 'Kimchi', 'Veg',\n",
    "                         'Tteobokki', 'Rice', 'Onion', 'Pollo', 'Cheese', 'Betawi', 'Chah Chiang',\n",
    "                         'Namja', 'Perisa', 'Kari', 'Jjawang', 'Jjajangmyeon', 'Sogokimyun', 'Jjajang',\n",
    "                         'Ossyoi', 'Befikr', 'curry', 'Sotanghon', 'U-Dong', 'U-dong', 'Mi Goreng', 'Kocok',\n",
    "                         'Chacharoni', 'Yakibuta', 'Cuchareable', 'RMy', 'Jalapeno', 'Biryani', 'Carne',\n",
    "                         'Kimchee', 'Pad Kee Mao', 'Kalguksoo', 'Prok', 'Nipis', 'Jjampong', 'Buldak',\n",
    "                         'tom Yum', 'Sesami', 'Kim Chee', 'Kebab', 'Hyoubanya', 'Batchoy', 'Gentong',\n",
    "                         'Kokomen', 'Requeijao', 'Champong', 'Gallina', 'Bulalo', 'Wasabi', 'Kalamansi',\n",
    "                         'Cabe', 'Oosterse', 'Kung Pao'])\n",
    "\n",
    "# create True/False for whether the row contains a keyword in the product name\n",
    "train['has_keyword'] = train.name.str.contains(keyword_mask)"
   ]
  },
  {
   "cell_type": "markdown",
   "id": "0c423d9d",
   "metadata": {},
   "source": [
    "Based on the above keywords, I ran the following two cells to check remaining values that I missed earlier. If I found a notable word, I added it to the above keyword list and re-ran the cells. I repeated this process until I was satisfied with the words I had designated as keywords."
   ]
  },
  {
   "cell_type": "code",
   "execution_count": 18,
   "id": "37cb3beb",
   "metadata": {},
   "outputs": [
    {
     "data": {
      "text/plain": [
       "True     1377\n",
       "False     138\n",
       "Name: has_keyword, dtype: int64"
      ]
     },
     "execution_count": 18,
     "metadata": {},
     "output_type": "execute_result"
    }
   ],
   "source": [
    "# check if column is mostly True values\n",
    "train.has_keyword.value_counts()"
   ]
  },
  {
   "cell_type": "code",
   "execution_count": 19,
   "id": "f7214703",
   "metadata": {},
   "outputs": [
    {
     "data": {
      "text/plain": [
       "Noodles    34\n",
       "Noodle     30\n",
       "Ramen      19\n",
       "Instant    16\n",
       "Cup        14\n",
       "Flavour    11\n",
       "Sauce      11\n",
       "Flavor     10\n",
       "Rasa        9\n",
       "Mi          8\n",
       "dtype: int64"
      ]
     },
     "execution_count": 19,
     "metadata": {},
     "output_type": "execute_result"
    }
   ],
   "source": [
    "# check all rows without keywords for each unique word's value counts in entire list (ran this cell multiple times)\n",
    "(\n",
    "    pd.Series( # make a Series of each instance of each word\n",
    "        ' '.join(\n",
    "                 train[~train.has_keyword]    # look at rows we haven't caught with a keyword yet\n",
    "                 .name.tolist()        # put all 'name' cells in a list\n",
    "                ).split()        # join all lists into one string, then split the string into a list of each word\n",
    "    ).value_counts()        # calculate the value counts of each word in the series\n",
    "    .head(10)         # display the top 10 (changed from 30 to 10 after the words I wanted were captured)\n",
    ")"
   ]
  },
  {
   "cell_type": "markdown",
   "id": "6965c096",
   "metadata": {},
   "source": [
    "### Grouping Keywords, Checking Value Counts\n",
    "Now that we have a keyword list, I will organize it into groups and check counts for each grouping. The goal of this is to prepare for group elimination of keywords in the next section. Each grouping will be considered as one feature or value; for example, the **'noodle_type'** feature would have a 'noodle' value that covers ['Noodle', 'Myeon', 'Myon']. \n",
    "\n",
    "#### Noodle Type\n",
    "* 'Noodle', 'Myeon', 'Myon' (665)\n",
    "* 'Udon', 'Udoin' (49)\n",
    "* 'Miso' (23)\n",
    "* 'Rice', 'Mi' (239)\n",
    "* 'Vermicelli', 'Vernicalli', 'Bihun', 'Sano' (43)\n",
    "* 'Rice Cake', 'Tteok', 'Rabokki', 'Raobokki' (4)\n",
    "* 'Wonton', 'Wantan' (5)\n",
    "* 'Spaghetti', 'Carbonara', 'Neapolitan', 'Napolitan' (10)\n",
    "* 'Buckwheat', 'Soba' (18)"
   ]
  },
  {
   "cell_type": "code",
   "execution_count": 20,
   "id": "f3ae5534",
   "metadata": {},
   "outputs": [
    {
     "data": {
      "text/plain": [
       "18"
      ]
     },
     "execution_count": 20,
     "metadata": {},
     "output_type": "execute_result"
    }
   ],
   "source": [
    "# checking row count having the above noodle types (ran this cell multiple times)\n",
    "train.name.str.contains(\"|\".join(['Buckwheat', 'Soba'])).sum()"
   ]
  },
  {
   "cell_type": "markdown",
   "id": "a81a57a4",
   "metadata": {},
   "source": [
    "#### Meats\n",
    "* 'Chicken', 'Chikin', 'Duck', 'Pollo', 'Buldalk' (205)\n",
    "* 'Beef', 'Gomtang', 'Seolleongtang', 'Sukiyaki', 'Nam Tok', 'Sutah' (152)\n",
    "* 'Pork', 'Jjajangmen', 'Jiajang', 'Tonkotsu', 'Tomkotsu', 'Bacon', 'Budae' (108)\n",
    "* 'Seafood', 'Crab', 'Anchovy', 'Bajirak', 'Clam', 'Abalone', 'Scallop', 'Vongole', 'Salmon', 'Lobster', 'Shrimp', 'Prawn', 'Tuna', 'Jjamppong', 'Jjambbong' (198)\n",
    "* 'Chili', 'Chilli', 'chili' (35)\n",
    "* 'Chow Mein' (25)\n",
    "* 'Egg' (5)\n",
    "* 'Tofu' (2)\n",
    "* 'Barbecue', 'BBQ' (9)"
   ]
  },
  {
   "cell_type": "code",
   "execution_count": 21,
   "id": "60a6914b",
   "metadata": {},
   "outputs": [
    {
     "data": {
      "text/plain": [
       "9"
      ]
     },
     "execution_count": 21,
     "metadata": {},
     "output_type": "execute_result"
    }
   ],
   "source": [
    "# checking row count having the above meat types (ran this cell multiple times)\n",
    "train.name.str.contains(\"|\".join(['Barbecue', 'BBQ'])).sum()"
   ]
  },
  {
   "cell_type": "markdown",
   "id": "7c1c1017",
   "metadata": {},
   "source": [
    "#### Vegetables\n",
    "* 'Clear', 'Veg' (covers 'Vegetable', 'Veggie', 'Vegetarian' and 'Veg') (85)\n",
    "* 'Kimchi', 'Sabalmyeon' (22)\n",
    "* 'Mushroom', 'Shiitake', 'Shitake' (35)\n",
    "* 'Tomato' (21)"
   ]
  },
  {
   "cell_type": "code",
   "execution_count": 22,
   "id": "2138a290",
   "metadata": {},
   "outputs": [
    {
     "data": {
      "text/plain": [
       "21"
      ]
     },
     "execution_count": 22,
     "metadata": {},
     "output_type": "execute_result"
    }
   ],
   "source": [
    "# checking row count having the above veggie types (ran this cell multiple times)\n",
    "train.name.str.contains(\"|\".join(['Tomato'])).sum()"
   ]
  },
  {
   "cell_type": "markdown",
   "id": "c8594136",
   "metadata": {},
   "source": [
    "#### Taste\n",
    "* 'Spicy', 'Spice', 'Shin', 'Jjamppong'/'Jjambbong'(seafood), 'Buldalk'(chicken), 'Sutah'(beef), 'Budae'(sausage), 'Habanero', 'Jinjja', 'Jin', 'Yeul', 'Mala', 'Teumsae', 'Bibim', 'Picante', 'Bulnak', 'Volcano', 'Odongtong', 'Sriracha', 'Arrabiata', 'Tom Yum', 'Tom Yam', 'Tom Saab', 'Tom Klong', 'Suki', 'Laksa' (304)\n",
    "* 'Ramyonsari', 'Keopnurungji' (2)\n",
    "* 'Salt', 'Shio', 'Sio' (17)\n",
    "* 'Soy', 'Shoyu', 'Shouyu', 'Teriyaki' (70)\n",
    "* 'Mayo' (6)\n",
    "* 'Cheese' (11)\n",
    "* 'Sweet' (18)\n",
    "* 'Sour', 'sour' (19)\n",
    "* 'Curry' (68)\n",
    "* 'Sesame' (32)\n",
    "* 'Pickle' (11)\n",
    "* 'Masala' (9)"
   ]
  },
  {
   "cell_type": "code",
   "execution_count": 23,
   "id": "37a1f325",
   "metadata": {},
   "outputs": [
    {
     "data": {
      "text/plain": [
       "9"
      ]
     },
     "execution_count": 23,
     "metadata": {},
     "output_type": "execute_result"
    }
   ],
   "source": [
    "# checking row count having the above taste types (ran this cell multiple times)\n",
    "train.name.str.contains(\"|\".join(['Masala'])).sum()"
   ]
  },
  {
   "cell_type": "markdown",
   "id": "7fdd9d67",
   "metadata": {},
   "source": [
    "#### Preparation\n",
    "* 'Instant', 'Minute', 'Ramyun', 'Jinjja', 'Bibim' (296)\n",
    "* 'Stir Fry', 'Bokkeum', 'Tteokbokki', 'Tteobokki', 'Topokki', 'Yukgaejang', 'Rabokki', 'Yakisoba', 'Yaki-Soba', 'Yakiosoba', 'Fried', 'Goreng', 'Tempura' (123)\n",
    "    * Eliminate 'Non-Fried' from this feature\n",
    "* 'Soup', 'Jjigae', 'Consomme' (109)\n",
    "* 'Pad Thai' (4)\n",
    "* 'Pho' (10)"
   ]
  },
  {
   "cell_type": "code",
   "execution_count": 24,
   "id": "5c6de46e",
   "metadata": {
    "scrolled": true
   },
   "outputs": [
    {
     "data": {
      "text/plain": [
       "31"
      ]
     },
     "execution_count": 24,
     "metadata": {},
     "output_type": "execute_result"
    }
   ],
   "source": [
    "# checking row count having the above preparation types (ran this cell multiple times)\n",
    "train.name.str.contains(\"|\".join(['Fried'])).sum()"
   ]
  },
  {
   "cell_type": "markdown",
   "id": "78ee3316",
   "metadata": {},
   "source": [
    "## Choosing Feasible Features\n",
    "Now that we have row counts for each grouping, we can begin to consider what features are viable. Here is what we should consider:\n",
    "1. A feature must have at least two values \n",
    "    ** EX: 'meat_type' feature has 'chicken', 'beef', 'pork', etc values\n",
    "1. A crosstab of the feature must have more than five values in each cell for the chi square statistical test\n",
    "1. The feature's values should be independent from one another \n",
    "    ** EX: 'taste_type' should not have individual 'sweet' and 'sour' values because some ramen have 'sweet & sour' in the product name\n",
    "    \n",
    "### Features that Pass the Above Requirements\n",
    "- noodle_type: \n",
    "    * **wheat** ('Udon', 'Udoin', 'U-Dong', 'U-dong', 'Sano', 'Spaghetti', 'Carbonara', 'Neapolitan', 'Napolitan', 'Kalguksoo') (63)\n",
    "    * **buckwheat** ('Buckwheat', 'Soba') (18)\n",
    "    * **rice** ('Rice', 'Vermicelli', 'Vernicalli', 'Bihun', 'Biryani', 'Tteokbokki', 'Tteobokki', 'Topokki', 'Rabokki') (109)\n",
    "- flavor: \n",
    "    * **miso** ('Miso') (23)\n",
    "    * **chicken** ('Chicken', 'Chikin', 'Duck', 'Pollo', 'Buldalk', 'Buldak', 'Requeijao', 'Gallina') (215)\n",
    "    * **beef** ('Beef', 'Gomtang', 'Seolleongtang', 'Sukiyaki', 'Nam Tok', 'Sutah', 'Sogokimyun', 'Cuchareable', 'Carne', 'Kebab', 'Gentong', 'Bulalo', 'Yukgaejang') (163)\n",
    "    * **pork** ('Pork', 'Prok', 'Jjajangmyeon', 'Jjajangmen', 'Jiajang', 'Jjajang', 'Chacharoni', 'Jjawang', 'Tonkotsu', 'Tomkotsu', 'Bacon', 'Ossyoi', 'Yakibuta', 'Batchoy') (115)\n",
    "    * **crustacean** ('Crab', 'Lobster', 'Shrimp', 'Prawn') (108)\n",
    "    * **mollusk** ('Bajirak', 'Clam', 'Abalone', 'Scallop', 'Vongole') (15)\n",
    "    * **chili** ('Chili', 'Chilli', 'chili', 'Cabe') (37)\n",
    "    * **curry** ('Curry', 'curry', 'Betawi', 'Perisa', 'Kari') (93)\n",
    "    * **chow_mein** ('Chow Mein') (25)\n",
    "    * **kimchi** ('Kimchi', 'Kimchee', 'Sabalmyeon', 'Kim Chee') (24)\n",
    "    * **mushroom** ('Mushroom', 'Shiitake', 'Shitake') (35)\n",
    "    * **tomato** ('Tomato') (21)\n",
    "    * **veggie** ('Clear', 'Veg', 'Oosterse') (86)\n",
    "    * **sesame** ('Sesame', 'Sesami') (33)\n",
    "    * **lime** ('Lime', 'Jeruk Nipis', 'Kalamansi') (11)\n",
    "- spicy:\n",
    "    * **True** ('Spicy', 'Spice', 'Shin', 'Jjamppong'/'Jjambbong'/'Jjampong'/'Champong'(seafood), 'Buldalk'/'Buldak'(chicken), 'Sutah'(beef), 'Budae'(sausage), 'RMy', 'Habanero', 'Jinjja', 'Jin', 'Yeul', 'Mala', 'Teumsae', 'Bibim', 'Picante', 'Bulnak', 'Volcano', 'Odongtong', 'Sriracha', 'Arrabiata', 'Tom Yum', 'Tom Yam', 'tom Yum', 'Tom Saab', 'Tom Klong', 'Suki', 'Laksa', 'Chah Chiang', 'Namja', 'Befikr', 'Mi Goreng', 'Kocek', 'Jalapeno', 'Pad Kee Mao', 'Kokomen', 'Wasabi', 'Kung Pao', 'Kimchi', 'Kimchee', 'Sabalmyeon', 'Kim Chee', 'Nam Tok', 'Sogokimyun', 'Gentong', 'Chili', 'Chilli', 'chili', 'Cabe', 'Yukgaejang', 'Yakisoba', 'Yaki-Soba', 'Yakiosoba') (446)\n",
    "    * **False** ('Miso', 'Requeijao', 'Seolleongtang', 'Sukiyaki', 'Jjajangmyeon', 'Jjajangmen', 'Jiajang', 'Jjajang', 'Chacharoni', 'Jjawang', 'Ossyoi', 'Batchoy', 'Bajirak', 'Mushroom', 'Shiitake', 'Shitake', 'Tomato', 'Clear') (99)\n",
    "- fried:\n",
    "    * **True** ('Stir Fry', 'Bokkeum', 'Tteokbokki', 'Tteobokki', 'Topokki', 'Yukgaejang', 'Rabokki', 'Yakisoba', 'Yaki-Soba', 'Yakiosoba', 'Fried', 'Goreng', 'Tempura', 'Kung Pao', 'Sukiyaki', 'Kebab', 'Gentong', 'Bulalo', 'Jjajangmyeon', 'Jjajangmen', 'Jiajang', 'Jjajang', 'Chacharoni', 'Jjawang', 'Tonkotsu', 'Tomkotsu', 'Bacon', 'Yakibuta', 'Batchoy', 'Chow Mein') (207)\n",
    "    * **False** ('Requeijao', 'Yakisoba', 'Yaki-Soba', 'Yakiosoba', 'Gomtang', 'Seolleongtang', 'Nam Tok', 'Sutah', 'Sogokimyun', 'Cuchareable', 'Gomtang', 'Yukgaejang', 'Ossyoi', 'Clear') (43)\n",
    "    \n",
    "## Creating the Features\n",
    "### noodle_type"
   ]
  },
  {
   "cell_type": "code",
   "execution_count": 25,
   "id": "eea20414",
   "metadata": {},
   "outputs": [],
   "source": [
    "# create mapping function for noodle_type feature\n",
    "def noodle_type_mapper(row, keywords, new_value):\n",
    "    for word in keywords:\n",
    "        if word in row['name']:\n",
    "            row['noodle_type'] = new_value\n",
    "\n",
    "    return row"
   ]
  },
  {
   "cell_type": "code",
   "execution_count": 26,
   "id": "74cf4817",
   "metadata": {},
   "outputs": [],
   "source": [
    "# rice\n",
    "keywords = ['Rice', 'Vermicelli', 'Vernicalli', 'Bihun', 'Biryani', 'Tteokbokki', 'Tteobokki', 'Topokki', 'Rabokki']\n",
    "new_value = 'rice'\n",
    "train = train.apply(lambda row: noodle_type_mapper(row, keywords, new_value), axis=1)"
   ]
  },
  {
   "cell_type": "code",
   "execution_count": 27,
   "id": "ff821137",
   "metadata": {},
   "outputs": [],
   "source": [
    "# wheat\n",
    "keywords = ['Udon', 'Udoin', 'U-Dong', 'U-dong', 'Sano', 'Spaghetti', 'Carbonara', 'Neapolitan', 'Napolitan', 'Kalguksoo']\n",
    "new_value = 'wheat'\n",
    "train = train.apply(lambda row: noodle_type_mapper(row, keywords, new_value), axis=1)"
   ]
  },
  {
   "cell_type": "code",
   "execution_count": 28,
   "id": "64bb0ec9",
   "metadata": {},
   "outputs": [],
   "source": [
    "# buckwheat\n",
    "keywords = ['Buckwheat', 'Soba']\n",
    "new_value = 'buckwheat'\n",
    "train = train.apply(lambda row: noodle_type_mapper(row, keywords, new_value), axis=1)"
   ]
  },
  {
   "cell_type": "markdown",
   "id": "2cc0eabb",
   "metadata": {},
   "source": [
    "### flavor"
   ]
  },
  {
   "cell_type": "code",
   "execution_count": 29,
   "id": "2b546ce4",
   "metadata": {},
   "outputs": [],
   "source": [
    "# create mapping function for flavor feature\n",
    "def flavor_mapper(row, keywords, new_value):\n",
    "    for word in keywords:\n",
    "        if word in row['name']:\n",
    "            row['flavor'] = new_value\n",
    "\n",
    "    return row"
   ]
  },
  {
   "cell_type": "code",
   "execution_count": 30,
   "id": "6364dfd7",
   "metadata": {},
   "outputs": [],
   "source": [
    "# chicken\n",
    "keywords = ['Chicken', 'Chikin', 'Duck', 'Pollo', 'Buldalk', 'Buldak', 'Requeijao', 'Gallina']\n",
    "new_value = 'chicken'\n",
    "train = train.apply(lambda row: flavor_mapper(row, keywords, new_value), axis=1)"
   ]
  },
  {
   "cell_type": "code",
   "execution_count": 31,
   "id": "6534b9ce",
   "metadata": {},
   "outputs": [],
   "source": [
    "# beef\n",
    "keywords = ['Beef', 'Gomtang', 'Seolleongtang', 'Sukiyaki', 'Nam Tok', 'Sutah', 'Sogokimyun', \n",
    "            'Cuchareable', 'Carne', 'Kebab', 'Gentong', 'Bulalo', 'Yukgaejang']\n",
    "new_value = 'beef'\n",
    "train = train.apply(lambda row: flavor_mapper(row, keywords, new_value), axis=1)"
   ]
  },
  {
   "cell_type": "code",
   "execution_count": 32,
   "id": "790ce59e",
   "metadata": {},
   "outputs": [],
   "source": [
    "# pork\n",
    "keywords = ['Pork', 'Prok', 'Jjajangmyeon', 'Jjajangmen', 'Jiajang', 'Jjajang', 'Chacharoni', \n",
    "            'Jjawang', 'Tonkotsu', 'Tomkotsu', 'Bacon', 'Ossyoi', 'Yakibuta', 'Batchoy']\n",
    "new_value = 'pork'\n",
    "train = train.apply(lambda row: flavor_mapper(row, keywords, new_value), axis=1)"
   ]
  },
  {
   "cell_type": "code",
   "execution_count": 33,
   "id": "67c16793",
   "metadata": {},
   "outputs": [],
   "source": [
    "# crustacean\n",
    "keywords = ['Crab', 'Lobster', 'Shrimp', 'Prawn']\n",
    "new_value = 'crustacean'\n",
    "train = train.apply(lambda row: flavor_mapper(row, keywords, new_value), axis=1)"
   ]
  },
  {
   "cell_type": "code",
   "execution_count": 34,
   "id": "757f0d52",
   "metadata": {},
   "outputs": [],
   "source": [
    "# curry\n",
    "keywords = ['Curry', 'curry', 'Betawi', 'Perisa', 'Kari']\n",
    "new_value = 'curry'\n",
    "train = train.apply(lambda row: flavor_mapper(row, keywords, new_value), axis=1)"
   ]
  },
  {
   "cell_type": "code",
   "execution_count": 35,
   "id": "8b011f93",
   "metadata": {},
   "outputs": [],
   "source": [
    "# veggie\n",
    "keywords = ['Clear', 'Veg', 'Oosterse']\n",
    "new_value = 'veggie'\n",
    "train = train.apply(lambda row: flavor_mapper(row, keywords, new_value), axis=1)"
   ]
  },
  {
   "cell_type": "code",
   "execution_count": 36,
   "id": "ca5bcc32",
   "metadata": {},
   "outputs": [],
   "source": [
    "# chili\n",
    "keywords = ['Chili', 'Chilli', 'chili', 'Cabe']\n",
    "new_value = 'chili'\n",
    "train = train.apply(lambda row: flavor_mapper(row, keywords, new_value), axis=1)"
   ]
  },
  {
   "cell_type": "code",
   "execution_count": 37,
   "id": "69d4f945",
   "metadata": {},
   "outputs": [],
   "source": [
    "# mushroom\n",
    "keywords = ['Mushroom', 'Shiitake', 'Shitake']\n",
    "new_value = 'mushroom'\n",
    "train = train.apply(lambda row: flavor_mapper(row, keywords, new_value), axis=1)"
   ]
  },
  {
   "cell_type": "code",
   "execution_count": 38,
   "id": "840c0181",
   "metadata": {},
   "outputs": [],
   "source": [
    "# sesame\n",
    "keywords = ['Sesame', 'Sesami']\n",
    "new_value = 'sesame'\n",
    "train = train.apply(lambda row: flavor_mapper(row, keywords, new_value), axis=1)"
   ]
  },
  {
   "cell_type": "code",
   "execution_count": 39,
   "id": "e95dbdc7",
   "metadata": {},
   "outputs": [],
   "source": [
    "# chow_mein\n",
    "keywords = ['Chow Mein']\n",
    "new_value = 'chow_mein'\n",
    "train = train.apply(lambda row: flavor_mapper(row, keywords, new_value), axis=1)"
   ]
  },
  {
   "cell_type": "code",
   "execution_count": 40,
   "id": "892961fc",
   "metadata": {},
   "outputs": [],
   "source": [
    "# kimchi\n",
    "keywords = ['Kimchi', 'Kimchee', 'Sabalmyeon', 'Kim Chee']\n",
    "new_value = 'kimchi'\n",
    "train = train.apply(lambda row: flavor_mapper(row, keywords, new_value), axis=1)"
   ]
  },
  {
   "cell_type": "code",
   "execution_count": 41,
   "id": "c88eb2f0",
   "metadata": {},
   "outputs": [],
   "source": [
    "# miso\n",
    "keywords = ['Miso']\n",
    "new_value = 'miso'\n",
    "train = train.apply(lambda row: flavor_mapper(row, keywords, new_value), axis=1)"
   ]
  },
  {
   "cell_type": "code",
   "execution_count": 42,
   "id": "18f7a3d3",
   "metadata": {},
   "outputs": [],
   "source": [
    "# tomato\n",
    "keywords = ['Tomato']\n",
    "new_value = 'tomato'\n",
    "train = train.apply(lambda row: flavor_mapper(row, keywords, new_value), axis=1)"
   ]
  },
  {
   "cell_type": "code",
   "execution_count": 43,
   "id": "7f9276d6",
   "metadata": {},
   "outputs": [],
   "source": [
    "# mollusk\n",
    "keywords = ['Bajirak', 'Clam', 'Abalone', 'Scallop', 'Vongole']\n",
    "new_value = 'mollusk'\n",
    "train = train.apply(lambda row: flavor_mapper(row, keywords, new_value), axis=1)"
   ]
  },
  {
   "cell_type": "code",
   "execution_count": 44,
   "id": "ca4b96d4",
   "metadata": {},
   "outputs": [],
   "source": [
    "# lime\n",
    "keywords = ['Lime', 'Jeruk Nipis', 'Kalamansi']\n",
    "new_value = 'lime'\n",
    "train = train.apply(lambda row: flavor_mapper(row, keywords, new_value), axis=1)"
   ]
  },
  {
   "cell_type": "markdown",
   "id": "69d29171",
   "metadata": {},
   "source": [
    "### spicy"
   ]
  },
  {
   "cell_type": "code",
   "execution_count": 45,
   "id": "a822c766",
   "metadata": {},
   "outputs": [],
   "source": [
    "# create mapping function for spicy feature\n",
    "def spicy_mapper(row, keywords, new_value):\n",
    "    for word in keywords:\n",
    "        if word in row['name']:\n",
    "            row['spicy'] = new_value\n",
    "\n",
    "    return row"
   ]
  },
  {
   "cell_type": "code",
   "execution_count": 46,
   "id": "4f79cf01",
   "metadata": {},
   "outputs": [],
   "source": [
    "# is spicy\n",
    "keywords = ['Spicy', 'Spice', 'Shin', 'Jjamppong', 'Jjambbong', 'Jjampong', 'Champong', 'Buldalk', 'Buldak', \n",
    "            'Sutah', 'Budae', 'RMy', 'Habanero', 'Jinjja', 'Jin', 'Yeul', 'Mala', 'Teumsae', 'Bibim', \n",
    "            'Picante', 'Bulnak', 'Volcano', 'Odongtong', 'Sriracha', 'Arrabiata', 'Tom Yum', 'Tom Yam', \n",
    "            'tom Yum', 'Tom Saab', 'Tom Klong', 'Suki', 'Laksa', 'Chah Chiang', 'Namja', 'Befikr', 'Mi Goreng', \n",
    "            'Kocek', 'Jalapeno', 'Pad Kee Mao', 'Kokomen', 'Wasabi', 'Kung Pao', 'Kimchi', 'Kimchee', \n",
    "            'Sabalmyeon', 'Kim Chee', 'Nam Tok', 'Sogokimyun', 'Gentong', 'Chili', 'Chilli', 'chili', 'Cabe', \n",
    "            'Yukgaejang', 'Yakisoba', 'Yaki-Soba', 'Yakiosoba']\n",
    "new_value = 'True'\n",
    "train = train.apply(lambda row: spicy_mapper(row, keywords, new_value), axis=1)"
   ]
  },
  {
   "cell_type": "code",
   "execution_count": 47,
   "id": "9ea45c66",
   "metadata": {},
   "outputs": [],
   "source": [
    "# isn't spicy\n",
    "keywords = ['Miso', 'Requeijao', 'Seolleongtang', 'Sukiyaki', 'Jjajangmyeon', 'Jjajangmen', 'Jiajang', \n",
    "            'Jjajang', 'Chacharoni', 'Jjawang', 'Ossyoi', 'Batchoy', 'Bajirak', 'Mushroom', 'Shiitake', \n",
    "            'Shitake', 'Tomato', 'Clear']\n",
    "new_value = 'False'\n",
    "train = train.apply(lambda row: spicy_mapper(row, keywords, new_value), axis=1)"
   ]
  },
  {
   "cell_type": "markdown",
   "id": "3bbbfecd",
   "metadata": {},
   "source": [
    "### fried"
   ]
  },
  {
   "cell_type": "code",
   "execution_count": 48,
   "id": "98b34235",
   "metadata": {},
   "outputs": [],
   "source": [
    "# create mapping function for fried feature\n",
    "def fried_mapper(row, keywords, new_value):\n",
    "    for word in keywords:\n",
    "        if word in row['name']:\n",
    "            row['fried'] = new_value\n",
    "\n",
    "    return row"
   ]
  },
  {
   "cell_type": "code",
   "execution_count": 49,
   "id": "e92e2f9e",
   "metadata": {},
   "outputs": [],
   "source": [
    "# fried\n",
    "keywords = ['Stir Fry', 'Bokkeum', 'Tteokbokki', 'Tteobokki', 'Topokki', 'Yukgaejang', 'Rabokki', 'Yakisoba', \n",
    "            'Yaki-Soba', 'Yakiosoba', 'Fried', 'Goreng', 'Tempura', 'Kung Pao', 'Sukiyaki', 'Kebab', 'Gentong', \n",
    "            'Bulalo', 'Jjajangmyeon', 'Jjajangmen', 'Jiajang', 'Jjajang', 'Chacharoni', 'Jjawang', 'Tonkotsu', \n",
    "            'Tomkotsu', 'Bacon', 'Yakibuta', 'Batchoy', 'Chow Mein']\n",
    "new_value = 'True'\n",
    "train = train.apply(lambda row: fried_mapper(row, keywords, new_value), axis=1)"
   ]
  },
  {
   "cell_type": "code",
   "execution_count": 50,
   "id": "8bc7c712",
   "metadata": {},
   "outputs": [],
   "source": [
    "# not fried\n",
    "keywords = ['Non-Fried', 'Requeijao', 'Yakisoba', 'Yaki-Soba', 'Yakiosoba', 'Gomtang', 'Seolleongtang', \n",
    "            'Nam Tok', 'Sutah', 'Sogokimyun', 'Cuchareable', 'Gomtang', 'Yukgaejang', 'Ossyoi', 'Clear']\n",
    "new_value = 'False'\n",
    "train = train.apply(lambda row: fried_mapper(row, keywords, new_value), axis=1)"
   ]
  },
  {
   "cell_type": "markdown",
   "id": "2e9a7172",
   "metadata": {},
   "source": [
    "### Check Feature Creation Work"
   ]
  },
  {
   "cell_type": "code",
   "execution_count": 51,
   "id": "68c0b354",
   "metadata": {},
   "outputs": [
    {
     "data": {
      "text/plain": [
       "rice         109\n",
       "wheat         63\n",
       "buckwheat     18\n",
       "Name: noodle_type, dtype: int64"
      ]
     },
     "execution_count": 51,
     "metadata": {},
     "output_type": "execute_result"
    }
   ],
   "source": [
    "# check noodle_type\n",
    "train[['name','noodle_type','flavor','spicy','fried']].noodle_type.value_counts()"
   ]
  },
  {
   "cell_type": "code",
   "execution_count": 52,
   "id": "ec93282a",
   "metadata": {},
   "outputs": [
    {
     "data": {
      "text/plain": [
       "chicken       175\n",
       "beef          149\n",
       "pork          106\n",
       "crustacean     98\n",
       "curry          92\n",
       "veggie         74\n",
       "mushroom       35\n",
       "sesame         33\n",
       "chili          32\n",
       "chow_mein      25\n",
       "kimchi         24\n",
       "miso           23\n",
       "tomato         21\n",
       "mollusk        15\n",
       "lime           11\n",
       "Name: flavor, dtype: int64"
      ]
     },
     "execution_count": 52,
     "metadata": {},
     "output_type": "execute_result"
    }
   ],
   "source": [
    "# check flavor\n",
    "train[['name','noodle_type','flavor','spicy','fried']].flavor.value_counts()"
   ]
  },
  {
   "cell_type": "code",
   "execution_count": 53,
   "id": "668e44ec",
   "metadata": {},
   "outputs": [
    {
     "data": {
      "text/plain": [
       "True     433\n",
       "False     99\n",
       "Name: spicy, dtype: int64"
      ]
     },
     "execution_count": 53,
     "metadata": {},
     "output_type": "execute_result"
    }
   ],
   "source": [
    "# check spicy\n",
    "train[['name','noodle_type','flavor','spicy','fried']].spicy.value_counts()"
   ]
  },
  {
   "cell_type": "code",
   "execution_count": 54,
   "id": "b73a0de0",
   "metadata": {},
   "outputs": [
    {
     "data": {
      "text/plain": [
       "True     171\n",
       "False     52\n",
       "Name: fried, dtype: int64"
      ]
     },
     "execution_count": 54,
     "metadata": {},
     "output_type": "execute_result"
    }
   ],
   "source": [
    "# check fried\n",
    "train[['name','noodle_type','flavor','spicy','fried']].fried.value_counts()"
   ]
  },
  {
   "cell_type": "markdown",
   "id": "bab3cef4",
   "metadata": {},
   "source": [
    "# Choosing from Current Features Using Chi-Square Tests\n",
    "## Noodle type\n",
    "Let's check if there's a dependent relationship between noodle type and our target.\n",
    "\n",
    "Hypotheses:\n",
    "- $H_0$: Ramen noodle type and five-star ratings are independent.\n",
    "- $H_a$: Ramen noodle type and five-star ratings have a dependent relationship.\n",
    "\n",
    "Confidence interval: 95%"
   ]
  },
  {
   "cell_type": "code",
   "execution_count": 55,
   "id": "88bed02c",
   "metadata": {},
   "outputs": [],
   "source": [
    "# drop nulls from noodle_type column\n",
    "noodle_type_col = train.noodle_type.dropna()\n",
    "# set confidence interval\n",
    "alpha = .05"
   ]
  },
  {
   "cell_type": "code",
   "execution_count": 56,
   "id": "5fab2e09",
   "metadata": {},
   "outputs": [],
   "source": [
    "# create crosstab for chi-square statistical test\n",
    "noodle_type_5star_crosstab = pd.crosstab(train.noodle_type, train.five_stars)\n",
    "# limit only to countries with sufficient value counts in crosstab (an assumption of chi-square)\n",
    "enough_values_mask = (noodle_type_5star_crosstab[False] > 5) & (noodle_type_5star_crosstab[True] > 5)\n",
    "# run chi-square test\n",
    "_, p, _, _ = stats.chi2_contingency(noodle_type_5star_crosstab[enough_values_mask])"
   ]
  },
  {
   "cell_type": "code",
   "execution_count": 57,
   "id": "94d53055",
   "metadata": {},
   "outputs": [
    {
     "name": "stdout",
     "output_type": "stream",
     "text": [
      "Noodle type and five-star ratings are independent, did not pass 95% confidence interval.\n",
      "p-value: 0.7249203299843536\n"
     ]
    }
   ],
   "source": [
    "# check if p is significant\n",
    "if p < alpha:\n",
    "    print(\"Noodle type and five-star ratings have a dependent relationship with 95% confidence.\")\n",
    "    print(\"p-value:\", p)\n",
    "else:\n",
    "    print(\"Noodle type and five-star ratings are independent, did not pass 95% confidence interval.\")\n",
    "    print(\"p-value:\", p)"
   ]
  },
  {
   "cell_type": "markdown",
   "id": "e64eefd4",
   "metadata": {},
   "source": [
    "**Ramen noodle type and five-star ratings are independent.** We will not use 'noodle_type' in our predictive model.\n",
    "\n",
    "## Flavor\n",
    "Let's check if there's a dependent relationship between flavor and our target.\n",
    "\n",
    "Hypotheses:\n",
    "- $H_0$: Ramen flavor and five-star ratings are independent.\n",
    "- $H_a$: Ramen flavor and five-star ratings have a dependent relationship.\n",
    "\n",
    "Confidence interval: 95%"
   ]
  },
  {
   "cell_type": "code",
   "execution_count": 58,
   "id": "517e8426",
   "metadata": {},
   "outputs": [],
   "source": [
    "# drop nulls from flavor column\n",
    "flavor_col = train.flavor.dropna()\n",
    "# set confidence interval\n",
    "alpha = .05"
   ]
  },
  {
   "cell_type": "code",
   "execution_count": 59,
   "id": "2c47d2fb",
   "metadata": {},
   "outputs": [],
   "source": [
    "# create crosstab for chi-square statistical test\n",
    "flavor_5star_crosstab = pd.crosstab(train.flavor, train.five_stars)\n",
    "# limit only to countries with sufficient value counts in crosstab (an assumption of chi-square)\n",
    "enough_values_mask = (flavor_5star_crosstab[False] > 5) & (flavor_5star_crosstab[True] > 5)\n",
    "# run chi-square test\n",
    "_, p, _, _ = stats.chi2_contingency(flavor_5star_crosstab[enough_values_mask])"
   ]
  },
  {
   "cell_type": "code",
   "execution_count": 60,
   "id": "32a75055",
   "metadata": {},
   "outputs": [
    {
     "name": "stdout",
     "output_type": "stream",
     "text": [
      "Flavor and five-star ratings have a dependent relationship with 95% confidence.\n",
      "p-value: 2.208875514064526e-06\n"
     ]
    }
   ],
   "source": [
    "# check if p is significant\n",
    "if p < alpha:\n",
    "    print(\"Flavor and five-star ratings have a dependent relationship with 95% confidence.\")\n",
    "    print(\"p-value:\", p)\n",
    "else:\n",
    "    print(\"Flavor and five-star ratings are independent, did not pass 95% confidence interval.\")\n",
    "    print(\"p-value:\", p)"
   ]
  },
  {
   "cell_type": "markdown",
   "id": "d59431dd",
   "metadata": {},
   "source": [
    "**Ramen flavor and five-star ratings have a dependent relationship.** We will further explore 'flavor' and consider using it in our model.\n",
    "\n",
    "## Spicy\n",
    "Let's check if there's a dependent relationship between spicy status and our target.\n",
    "\n",
    "Hypotheses:\n",
    "- $H_0$: Ramen spicy status and five-star ratings are independent.\n",
    "- $H_a$: Ramen spicy status and five-star ratings have a dependent relationship.\n",
    "\n",
    "Confidence interval: 95%"
   ]
  },
  {
   "cell_type": "code",
   "execution_count": 61,
   "id": "b731ad3f",
   "metadata": {},
   "outputs": [],
   "source": [
    "# drop nulls from spicy column\n",
    "spicy_col = train.spicy.dropna()\n",
    "# set confidence interval\n",
    "alpha = .05"
   ]
  },
  {
   "cell_type": "code",
   "execution_count": 62,
   "id": "8278251d",
   "metadata": {},
   "outputs": [],
   "source": [
    "# create crosstab for chi-square statistical test\n",
    "spicy_5star_crosstab = pd.crosstab(train.spicy, train.five_stars)\n",
    "# limit only to countries with sufficient value counts in crosstab (an assumption of chi-square)\n",
    "enough_values_mask = (spicy_5star_crosstab[False] > 5) & (spicy_5star_crosstab[True] > 5)\n",
    "# run chi-square test\n",
    "_, p, _, _ = stats.chi2_contingency(spicy_5star_crosstab[enough_values_mask])"
   ]
  },
  {
   "cell_type": "code",
   "execution_count": 63,
   "id": "21077f25",
   "metadata": {},
   "outputs": [
    {
     "name": "stdout",
     "output_type": "stream",
     "text": [
      "Spicy status and five-star ratings have a dependent relationship with 95% confidence.\n",
      "p-value: 0.012882366052480358\n"
     ]
    }
   ],
   "source": [
    "# check if p is significant\n",
    "if p < alpha:\n",
    "    print(\"Spicy status and five-star ratings have a dependent relationship with 95% confidence.\")\n",
    "    print(\"p-value:\", p)\n",
    "else:\n",
    "    print(\"Spicy status and five-star ratings are independent, did not pass 95% confidence interval.\")\n",
    "    print(\"p-value:\", p)"
   ]
  },
  {
   "cell_type": "markdown",
   "id": "b9113a2d",
   "metadata": {},
   "source": [
    "**Ramen spicy status and five-star ratings have a dependent relationship.** We will further explore country of origin and consider using it in our model.\n",
    "\n",
    "## Fried\n",
    "Let's check if there's a dependent relationship between fried status and our target.\n",
    "\n",
    "Hypotheses:\n",
    "- $H_0$: Ramen fried status and five-star ratings are independent.\n",
    "- $H_a$: Ramen fried status and five-star ratings have a dependent relationship.\n",
    "\n",
    "Confidence interval: 95%"
   ]
  },
  {
   "cell_type": "code",
   "execution_count": 64,
   "id": "01c63590",
   "metadata": {},
   "outputs": [],
   "source": [
    "# drop nulls from fried column\n",
    "fried_col = train.fried.dropna()\n",
    "# set confidence interval\n",
    "alpha = .05"
   ]
  },
  {
   "cell_type": "code",
   "execution_count": 65,
   "id": "a36e8bd6",
   "metadata": {},
   "outputs": [],
   "source": [
    "# create crosstab for chi-square statistical test\n",
    "fried_5star_crosstab = pd.crosstab(train.fried, train.five_stars)\n",
    "# limit only to countries with sufficient value counts in crosstab (an assumption of chi-square)\n",
    "enough_values_mask = (fried_5star_crosstab[False] > 5) & (fried_5star_crosstab[True] > 5)\n",
    "# run chi-square test\n",
    "_, p, _, _ = stats.chi2_contingency(fried_5star_crosstab[enough_values_mask])"
   ]
  },
  {
   "cell_type": "code",
   "execution_count": 66,
   "id": "4977a32c",
   "metadata": {},
   "outputs": [
    {
     "name": "stdout",
     "output_type": "stream",
     "text": [
      "Fried status and five-star ratings are independent, did not pass 95% confidence interval.\n",
      "p-value: 0.2823592261681379\n"
     ]
    }
   ],
   "source": [
    "# check if p is significant\n",
    "if p < alpha:\n",
    "    print(\"Fried status and five-star ratings have a dependent relationship with 95% confidence.\")\n",
    "    print(\"p-value:\", p)\n",
    "else:\n",
    "    print(\"Fried status and five-star ratings are independent, did not pass 95% confidence interval.\")\n",
    "    print(\"p-value:\", p)"
   ]
  },
  {
   "cell_type": "markdown",
   "id": "ffa3f858",
   "metadata": {},
   "source": [
    "**Ramen fried status and five-star ratings are independent.** We will not use 'fried' in our predictive model.\n",
    "\n",
    "# Our Chosen Features - A Univariate Look"
   ]
  },
  {
   "cell_type": "code",
   "execution_count": 67,
   "id": "c166f7aa",
   "metadata": {},
   "outputs": [],
   "source": [
    "train = train[['five_stars','country','flavor','spicy']]\n",
    "train['five_stars'] = train['five_stars'].astype('str')"
   ]
  },
  {
   "cell_type": "code",
   "execution_count": 68,
   "id": "a7e5522f",
   "metadata": {},
   "outputs": [
    {
     "data": {
      "image/png": "[encoded data removed]",
      "text/plain": [
       "<Figure size 432x288 with 1 Axes>"
      ]
     },
     "metadata": {
      "needs_background": "light"
     },
     "output_type": "display_data"
    },
    {
     "data": {
      "image/png": "[encoded data removed]",
      "text/plain": [
       "<Figure size 432x288 with 1 Axes>"
      ]
     },
     "metadata": {
      "needs_background": "light"
     },
     "output_type": "display_data"
    },
    {
     "data": {
      "image/png": "[encoded data removed]",
      "text/plain": [
       "<Figure size 432x288 with 1 Axes>"
      ]
     },
     "metadata": {
      "needs_background": "light"
     },
     "output_type": "display_data"
    },
    {
     "data": {
      "image/png": "[encoded data removed]",
      "text/plain": [
       "<Figure size 432x288 with 1 Axes>"
      ]
     },
     "metadata": {
      "needs_background": "light"
     },
     "output_type": "display_data"
    }
   ],
   "source": [
    "# initial univariate histograms\n",
    "sns.histplot(train.five_stars) # five_stars\n",
    "plt.title('Target: five_stars')\n",
    "plt.xlabel('')\n",
    "plt.show()\n",
    "\n",
    "sns.histplot(train.country) # country\n",
    "plt.title('Feature: country')\n",
    "plt.xticks(rotation=90)\n",
    "plt.xlabel('')\n",
    "plt.show()\n",
    "\n",
    "sns.histplot(flavor_col) # flavor\n",
    "plt.title('Feature: flavor')\n",
    "plt.xticks(rotation=60)\n",
    "plt.xlabel('')\n",
    "plt.show()\n",
    "\n",
    "sns.histplot(spicy_col) # spicy\n",
    "plt.title('Feature: spicy')\n",
    "plt.xlabel('')\n",
    "plt.show()"
   ]
  },
  {
   "cell_type": "markdown",
   "id": "ac4bde41",
   "metadata": {},
   "source": [
    "# Our Chosen Features - Preparing to Look in Terms of Five-Star Reviews\n",
    "We need to split out the country and flavor columns to make visual comparison easier. To do this, we will eliminate values that do not meet statistical minimums and create features for the values that meet requirements.\n",
    "\n",
    "## Country and 5-Star Reviews\n",
    "We will look at three metrics for each country:\n",
    "1. Total number of reviews\n",
    "2. Total number of five-star reviews\n",
    "3. The proportion of five-star reviews\n",
    "\n",
    "To break down the 'country' feature into valuable one-hot-encoded features, **we will only keep countries that have:**\n",
    "1. At least 30 reviews\n",
    "2. At least 5 five-star reviews\n",
    "\n",
    "Countries that meet these requirements will be placed in a relative **low-, medium- or high-proportion bracket** for the proportion of 5-star reviews against total reviews for that country. These three brackets should prove valuable for a predictive model.\n",
    "\n",
    "### Implementation"
   ]
  },
  {
   "cell_type": "code",
   "execution_count": 69,
   "id": "e4677cc9",
   "metadata": {
    "scrolled": false
   },
   "outputs": [],
   "source": [
    "# init empty list for results\n",
    "results_list = []\n",
    "# iterate each country and check results\n",
    "for cntry in train.country.unique().tolist():\n",
    "    # get total count of country's reviews\n",
    "    total_count = (train.country == cntry).sum()\n",
    "    # get count of 5-star reviews for country\n",
    "    count_5stars = (train[train.five_stars == 'True'].country == cntry).sum()\n",
    "    # check if at least 5 5-star reviews\n",
    "    enough = count_5stars >= 5\n",
    "    # get proportion between 5-star reviews and total count\n",
    "    proportion_5stars = count_5stars / total_count\n",
    "    # add results to list\n",
    "    results_list.append(f'{cntry} ({enough}): {total_count} reviews, {int(proportion_5stars * 100)}% 5-star')\n",
    "    # print(cntry, 'has enough:', enough)"
   ]
  },
  {
   "cell_type": "markdown",
   "id": "2014e520",
   "metadata": {},
   "source": [
    "### Results\n",
    "**Countries with enough 5-star reviews to continue (at least 5):**\n",
    "> - **Japan:** 213 total reviews, 19% 5-star\n",
    "> - **USA:** 193 total reviews, 8% 5-star\n",
    "> - **South Korea:** 188 total reviews, 16% 5-star\n",
    "> - **Taiwan:** 132 total reviews, 21% 5-star\n",
    "> - **China:** 112 total reviews, 4% 5-star\n",
    "> - **Thailand:** 108 total reviews, 8% 5-star\n",
    "> - **Malaysia:** 92 total reviews, 34% 5-star\n",
    "> - **Hong Kong:** 88 total reviews, 20% 5-star\n",
    "> - **Indonesia:** 71 total reviews, 16% 5-star\n",
    "> - **Singapore:** 57 total reviews, 28% 5-star\n",
    "\n",
    "**Countries without enough 5-star reviews:**\n",
    "> UK, India, Canada, Philippines, Mexico, Cambodia, Netherlands, Australia, Nepal, Vietnam, Myanmar, Germany, Pakistan, Hungary, Colombia, Bangladesh, Brazil \n",
    "\n",
    "Based on the results list, I've ordered the results below in terms of review count. I've also split the group into low-, medium-, and high-percentage countries."
   ]
  },
  {
   "cell_type": "code",
   "execution_count": 70,
   "id": "ef933ce8",
   "metadata": {},
   "outputs": [],
   "source": [
    "# make list of final countries\n",
    "final_countries = ['Japan', 'USA', 'South Korea', 'Taiwan', 'China', 'Thailand', \n",
    "                   'Malaysia', 'Hong Kong', 'Indonesia', 'Singapore']\n",
    "\n",
    "# make three brackets based on 5-star proportion\n",
    "high_percent_5star = ['Malaysia', 'Singapore', 'Taiwan']\n",
    "mid_percent_5star = ['Hong Kong', 'Japan', 'South Korea', 'Indonesia']\n",
    "low_percent_5star = ['China', 'Thailand', 'USA']"
   ]
  },
  {
   "cell_type": "markdown",
   "id": "e4d722ba",
   "metadata": {},
   "source": [
    "Now, we will create the features for these three brackets."
   ]
  },
  {
   "cell_type": "code",
   "execution_count": 71,
   "id": "eeef7783",
   "metadata": {},
   "outputs": [],
   "source": [
    "# high bracket\n",
    "train['many_5stars_country'] = train.country.str.contains('|'.join(high_percent_5star))\n",
    "# medium bracket\n",
    "train['moderate_5stars_country'] = train.country.str.contains('|'.join(mid_percent_5star))\n",
    "# low bracket\n",
    "train['few_5stars_country'] = train.country.str.contains('|'.join(low_percent_5star))\n",
    "# unknown bracket\n",
    "train['unknown_5stars_country'] = train.country.str.contains('|'.join(final_countries)) == False"
   ]
  },
  {
   "cell_type": "markdown",
   "id": "ac64b703",
   "metadata": {},
   "source": [
    "At this point, we'll drop the country column- we've analyzed it and created the necessary features from it."
   ]
  },
  {
   "cell_type": "code",
   "execution_count": 72,
   "id": "517cdbb3",
   "metadata": {},
   "outputs": [],
   "source": [
    "# drop redundant country column\n",
    "train.drop(columns='country', inplace=True)"
   ]
  },
  {
   "cell_type": "markdown",
   "id": "9af89c19",
   "metadata": {},
   "source": [
    "## Flavor\n",
    "We will apply similar requirements to Flavor as we did for Country.\n",
    "\n",
    "We will look at three metrics for each flavor:\n",
    "1. Total number of reviews\n",
    "2. Total number of five-star reviews\n",
    "3. The proportion of five-star reviews\n",
    "\n",
    "To break down the 'flavor' feature into valuable one-hot-encoded features, **we will only keep flavors that have:**\n",
    "1. At least 30 reviews\n",
    "2. At least 5 five-star reviews\n",
    "\n",
    "Flavors that meet these requirements will be placed in a relative **low-, medium- or high-proportion bracket** for the proportion of 5-star reviews against total reviews for that flavor. These three brackets should prove valuable for a predictive model.\n",
    "\n",
    "### Implementation"
   ]
  },
  {
   "cell_type": "code",
   "execution_count": 73,
   "id": "b05c4071",
   "metadata": {},
   "outputs": [],
   "source": [
    "non_null_flavor = train[train.flavor.isna() == False]\n",
    "# init empty list for results\n",
    "results_list = []\n",
    "# iterate each flavor and check results\n",
    "for flvr in non_null_flavor.flavor.unique().tolist():\n",
    "    # get total count of flavor's reviews\n",
    "    total_count = (non_null_flavor.flavor == flvr).sum()\n",
    "    # get count of 5-star reviews for flavor\n",
    "    count_5stars = (non_null_flavor[non_null_flavor.five_stars == 'True'].flavor == flvr).sum()\n",
    "    # check if at least 5 5-star reviews\n",
    "    enough = count_5stars >= 5\n",
    "    # get proportion between 5-star reviews and total count\n",
    "    proportion_5stars = count_5stars / total_count\n",
    "    # add results to list\n",
    "    results_list.append(f'{flvr} ({enough}): {total_count} reviews, {int(proportion_5stars * 100)}% 5-star')"
   ]
  },
  {
   "cell_type": "markdown",
   "id": "45897a7c",
   "metadata": {},
   "source": [
    "### Results\n",
    "**Flavors with enough 5-star reviews to continue (at least 5):**\n",
    "> - **chicken:** 175 reviews, 9% 5-star\n",
    "> - **beef:** 149 reviews, 4% 5-star\n",
    "> - **pork:** 106 reviews, 17% 5-star\n",
    "> - **crustacean:** 98 reviews, 16% 5-star\n",
    "> - **curry:** 92 reviews, 28% 5-star\n",
    "> - **sesame:** 33 reviews, 24% 5-star\n",
    "\n",
    "**Flavors without enough 5-star reviews:**\n",
    "> UK, India, Canada, Philippines, Mexico, Cambodia, Netherlands, Australia, Nepal, Vietnam, Myanmar, Germany, Pakistan, Hungary, Colombia, Bangladesh, Brazil \n",
    "\n",
    "Based on the results list, I've ordered the results below in terms of review count. I've also split the group into low-, medium-, and high-percentage flavors."
   ]
  },
  {
   "cell_type": "code",
   "execution_count": 74,
   "id": "2e560125",
   "metadata": {},
   "outputs": [],
   "source": [
    "# make list of final flavors\n",
    "final_flavors = ['curry', 'chicken', 'crustacean', 'beef', 'sesame', 'pork']\n",
    "\n",
    "# make three brackets based on 5-star proportion\n",
    "high_percent_5star = ['curry', 'sesame']\n",
    "mid_percent_5star = ['pork', 'crustacean']\n",
    "low_percent_5star = ['chicken', 'beef']"
   ]
  },
  {
   "cell_type": "markdown",
   "id": "af268e5a",
   "metadata": {},
   "source": [
    "Now, we will create the features for these three brackets."
   ]
  },
  {
   "cell_type": "code",
   "execution_count": 75,
   "id": "3990bc40",
   "metadata": {},
   "outputs": [],
   "source": [
    "# high bracket\n",
    "train['many_5stars_flavor'] = train.flavor.str.contains('|'.join(high_percent_5star))\n",
    "# medium bracket\n",
    "train['moderate_5stars_flavor'] = train.flavor.str.contains('|'.join(mid_percent_5star))\n",
    "# low bracket\n",
    "train['few_5stars_flavor'] = train.flavor.str.contains('|'.join(low_percent_5star))\n",
    "# unknown bracket\n",
    "train['unknown_5stars_flavor'] = train.flavor.str.contains('|'.join(final_flavors)) == False"
   ]
  },
  {
   "cell_type": "code",
   "execution_count": 76,
   "id": "29e8a3f5",
   "metadata": {},
   "outputs": [
    {
     "data": {
      "text/plain": [
       "2566    False\n",
       "332     False\n",
       "1363    False\n",
       "1888     True\n",
       "1628    False\n",
       "        ...  \n",
       "308      True\n",
       "379     False\n",
       "294      True\n",
       "1083     True\n",
       "2127    False\n",
       "Name: unknown_5stars_flavor, Length: 1515, dtype: bool"
      ]
     },
     "execution_count": 76,
     "metadata": {},
     "output_type": "execute_result"
    }
   ],
   "source": [
    "train['unknown_5stars_flavor']"
   ]
  },
  {
   "cell_type": "markdown",
   "id": "dcd008ce",
   "metadata": {},
   "source": [
    "At this point, we'll drop the flavor column- we've analyzed it and created the necessary features from it."
   ]
  },
  {
   "cell_type": "code",
   "execution_count": 77,
   "id": "7899d4b8",
   "metadata": {},
   "outputs": [],
   "source": [
    "# drop redundant flavor column\n",
    "train.drop(columns='flavor', inplace=True)"
   ]
  },
  {
   "cell_type": "markdown",
   "id": "48a6f346",
   "metadata": {},
   "source": [
    "# Final Features in Terms of Five-Star Reviews\n",
    "Now, we will visualize our features in terms of five-star reviews."
   ]
  },
  {
   "cell_type": "code",
   "execution_count": 78,
   "id": "fd894689",
   "metadata": {
    "scrolled": false
   },
   "outputs": [
    {
     "name": "stdout",
     "output_type": "stream",
     "text": [
      "-------------------- spicy --------------------\n",
      "True     433\n",
      "False     99\n",
      "Name: spicy, dtype: int64\n"
     ]
    },
    {
     "data": {
      "image/png": "[encoded data removed]",
      "text/plain": [
       "<Figure size 432x288 with 2 Axes>"
      ]
     },
     "metadata": {
      "needs_background": "light"
     },
     "output_type": "display_data"
    },
    {
     "name": "stdout",
     "output_type": "stream",
     "text": [
      "Not 5-Star t/f ratio: 79%\n",
      "Is 5-Star t/f ratio: 90%\n",
      "Percent Difference of Is 5-Star / Not 5-Star: 114%\n",
      "-------------------- many_5stars_country --------------------\n",
      "False    1234\n",
      "True      281\n",
      "Name: many_5stars_country, dtype: int64\n"
     ]
    },
    {
     "data": {
      "image/png": "[encoded data removed]",
      "text/plain": [
       "<Figure size 432x288 with 2 Axes>"
      ]
     },
     "metadata": {
      "needs_background": "light"
     },
     "output_type": "display_data"
    },
    {
     "name": "stdout",
     "output_type": "stream",
     "text": [
      "Not 5-Star t/f ratio: 15%\n",
      "Is 5-Star t/f ratio: 33%\n",
      "Percent Difference of Is 5-Star / Not 5-Star: 211%\n",
      "-------------------- moderate_5stars_country --------------------\n",
      "False    955\n",
      "True     560\n",
      "Name: moderate_5stars_country, dtype: int64\n"
     ]
    },
    {
     "data": {
      "image/png": "[encoded data removed]",
      "text/plain": [
       "<Figure size 432x288 with 2 Axes>"
      ]
     },
     "metadata": {
      "needs_background": "light"
     },
     "output_type": "display_data"
    },
    {
     "name": "stdout",
     "output_type": "stream",
     "text": [
      "Not 5-Star t/f ratio: 35%\n",
      "Is 5-Star t/f ratio: 45%\n",
      "Percent Difference of Is 5-Star / Not 5-Star: 128%\n",
      "-------------------- few_5stars_country --------------------\n",
      "False    1102\n",
      "True      413\n",
      "Name: few_5stars_country, dtype: int64\n"
     ]
    },
    {
     "data": {
      "image/png": "[encoded data removed]",
      "text/plain": [
       "<Figure size 432x288 with 2 Axes>"
      ]
     },
     "metadata": {
      "needs_background": "light"
     },
     "output_type": "display_data"
    },
    {
     "name": "stdout",
     "output_type": "stream",
     "text": [
      "Not 5-Star t/f ratio: 29%\n",
      "Is 5-Star t/f ratio: 13%\n",
      "Percent Difference of Is 5-Star / Not 5-Star: 46%\n",
      "-------------------- unknown_5stars_country --------------------\n",
      "False    1254\n",
      "True      261\n",
      "Name: unknown_5stars_country, dtype: int64\n"
     ]
    },
    {
     "data": {
      "image/png": "[encoded data removed]",
      "text/plain": [
       "<Figure size 432x288 with 2 Axes>"
      ]
     },
     "metadata": {
      "needs_background": "light"
     },
     "output_type": "display_data"
    },
    {
     "name": "stdout",
     "output_type": "stream",
     "text": [
      "Not 5-Star t/f ratio: 19%\n",
      "Is 5-Star t/f ratio: 7%\n",
      "Percent Difference of Is 5-Star / Not 5-Star: 37%\n",
      "-------------------- many_5stars_flavor --------------------\n",
      "False    788\n",
      "True     125\n",
      "Name: many_5stars_flavor, dtype: int64\n"
     ]
    },
    {
     "data": {
      "image/png": "[encoded data removed]",
      "text/plain": [
       "<Figure size 432x288 with 2 Axes>"
      ]
     },
     "metadata": {
      "needs_background": "light"
     },
     "output_type": "display_data"
    },
    {
     "name": "stdout",
     "output_type": "stream",
     "text": [
      "Not 5-Star t/f ratio: 11%\n",
      "Is 5-Star t/f ratio: 31%\n",
      "Percent Difference of Is 5-Star / Not 5-Star: 275%\n",
      "-------------------- moderate_5stars_flavor --------------------\n",
      "False    709\n",
      "True     204\n",
      "Name: moderate_5stars_flavor, dtype: int64\n"
     ]
    },
    {
     "data": {
      "image/png": "[encoded data removed]",
      "text/plain": [
       "<Figure size 432x288 with 2 Axes>"
      ]
     },
     "metadata": {
      "needs_background": "light"
     },
     "output_type": "display_data"
    },
    {
     "name": "stdout",
     "output_type": "stream",
     "text": [
      "Not 5-Star t/f ratio: 21%\n",
      "Is 5-Star t/f ratio: 32%\n",
      "Percent Difference of Is 5-Star / Not 5-Star: 152%\n",
      "-------------------- few_5stars_flavor --------------------\n",
      "False    589\n",
      "True     324\n",
      "Name: few_5stars_flavor, dtype: int64\n"
     ]
    },
    {
     "data": {
      "image/png": "[encoded data removed]",
      "text/plain": [
       "<Figure size 432x288 with 2 Axes>"
      ]
     },
     "metadata": {
      "needs_background": "light"
     },
     "output_type": "display_data"
    },
    {
     "name": "stdout",
     "output_type": "stream",
     "text": [
      "Not 5-Star t/f ratio: 37%\n",
      "Is 5-Star t/f ratio: 21%\n",
      "Percent Difference of Is 5-Star / Not 5-Star: 56%\n",
      "-------------------- unknown_5stars_flavor --------------------\n",
      "False    1255\n",
      "True      260\n",
      "Name: unknown_5stars_flavor, dtype: int64\n"
     ]
    },
    {
     "data": {
      "image/png": "[encoded data removed]",
      "text/plain": [
       "<Figure size 432x288 with 2 Axes>"
      ]
     },
     "metadata": {
      "needs_background": "light"
     },
     "output_type": "display_data"
    },
    {
     "name": "stdout",
     "output_type": "stream",
     "text": [
      "Not 5-Star t/f ratio: 18%\n",
      "Is 5-Star t/f ratio: 7%\n",
      "Percent Difference of Is 5-Star / Not 5-Star: 39%\n"
     ]
    }
   ],
   "source": [
    "# iterate through each non-target feature\n",
    "for col in train.columns[1:]:\n",
    "    # create samples based on 5-star and not 5-star reviews\n",
    "    col_not_5star = train[train.five_stars == 'False'][col].dropna().astype('str')\n",
    "    col_is_5star = train[train.five_stars == 'True'][col].dropna().astype('str')\n",
    "    # viz header\n",
    "    print('-'*20, col, '-'*20)\n",
    "    print(train[col].value_counts())\n",
    "    # visualization\n",
    "    plt.subplot(121) # Observations without five_stars (left charts)\n",
    "    plt.title('Not Five Stars')\n",
    "    sns.histplot(col_not_5star.sort_values(ascending=False))\n",
    "    plt.subplot(122) # Observations with five_stars (right charts)\n",
    "    plt.title('Five Stars')\n",
    "    sns.histplot(col_is_5star.sort_values(ascending=False), color='#ffa500')\n",
    "    plt.tight_layout()\n",
    "    plt.show()\n",
    "    not_5star_ratio = (col_not_5star == \"True\").sum() / col_not_5star.shape[0]\n",
    "    is_5star_ratio = (col_is_5star == \"True\").sum() / col_is_5star.shape[0]\n",
    "    percent_difference = is_5star_ratio / not_5star_ratio\n",
    "    print(f'Not 5-Star t/f ratio: {int(not_5star_ratio * 100)}%')\n",
    "    print(f'Is 5-Star t/f ratio: {int(is_5star_ratio * 100)}%')\n",
    "    print(f'Percent Difference of Is 5-Star / Not 5-Star: {int(percent_difference * 100)}%')"
   ]
  },
  {
   "cell_type": "markdown",
   "id": "cfa1ce89",
   "metadata": {},
   "source": [
    "## Features Against the Target - Results\n",
    "These results come from the above visualizations. Simply put, it compares the ratio in the blue charts against the ratio in the orange charts. **Larger differences in ratio are great as features for a predictive model.**\n",
    "> - **spicy: 14% increase;** 79% ratio in Not 5-Star -> 90% ratio in Is 5-Star\n",
    "> - **many_5stars_country: 111% increase;** 15% ratio in Not 5-Star -> 33% ratio in Is 5-Star\n",
    "> - **moderate_5stars_country: 28% increase;** 35% ratio in Not 5-Star -> 45% ratio in Is 5-Star\n",
    "> - **few_5stars_country: 54% decrease;** 29% ratio in Not 5-Star -> 13% ratio in Is 5-Star\n",
    "> - **unknown_5stars_country: 63% decrease;** 19% ratio in Not 5-Star -> 7% ratio in Is 5-Star\n",
    "> - **many_5stars_flavor: 175% increase;** 11% ratio in Not 5-Star -> 31% ratio in Is 5-Star\n",
    "> - **moderate_5stars_flavor: 52% increase;** 21% ratio in Not 5-Star -> 32% ratio in Is 5-Star\n",
    "> - **few_5stars_flavor: 44% decrease;** 37% ratio in Not 5-Star -> 21% ratio in Is 5-Star\n",
    "> - **unknown_5stars_flavor: 61% decrease;** 18% ratio in Not 5-Star -> 7% ratio in Is 5-Star\n",
    "\n",
    "# Exploration Conclusion\n",
    "In summary, this is the work done in Explore:\n",
    "- Used statistical analysis against our existing features for Brand, Country, and Packaging\n",
    "    * Eliminated Ramen Brand and Packaging because they are independent from the target\n",
    "    * Kept Ramen Country of Origin because it has a dependent relationship with the target\n",
    "- Used feature engineering to split out the Ramen Product Name column.\n",
    "    * Split product names into keywords\n",
    "    * Conducted domain research and translation to determine which categories a keyword belongs to\n",
    "    * Grouped relevant keywords into features\n",
    "    * Ran statistical tests to determine if the new features have a relationship with the target\n",
    "    * Eliminated features that did not have a relationship with the target\n",
    "    * Eliminated low-count or irrelevant keywords from important features\n",
    "    * Split keywords back out from feature into low-, medium-, and high-proportion groups in terms of 5-Stars\n",
    "    * Created new features for the new brackets, including an 'unknown' bracket\n",
    "    * Checked final features against the target in terms of proportionality\n",
    "\n",
    "**All of these features are technically valid for the model. We will recreate these features in wrangle.py for each data split.**\n",
    "\n",
    "## Test wrangle.py Function for Preparing for Modeling"
   ]
  },
  {
   "cell_type": "code",
   "execution_count": 79,
   "id": "f81c78b7",
   "metadata": {},
   "outputs": [
    {
     "name": "stdout",
     "output_type": "stream",
     "text": [
      "Train size: (1515, 11) Validate size: (506, 11) Test size: (506, 11)\n",
      "X_validate shape: (506, 10)\n"
     ]
    }
   ],
   "source": [
    "# run the modeling prep script\n",
    "X_train, y_train, X_validate, y_validate, X_test, y_test = wrangle.prep_model()\n",
    "\n",
    "print('X_validate shape:', X_validate.shape)"
   ]
  },
  {
   "cell_type": "code",
   "execution_count": 80,
   "id": "cb27079b",
   "metadata": {},
   "outputs": [
    {
     "name": "stdout",
     "output_type": "stream",
     "text": [
      "False    1069\n",
      "True      446\n",
      "Name: is_spicy, dtype: int64\n",
      "--------------------------------------------------------------------------------\n",
      "False    1416\n",
      "True       99\n",
      "Name: not_spicy, dtype: int64\n",
      "--------------------------------------------------------------------------------\n",
      "False    1234\n",
      "True      281\n",
      "Name: many_5stars_country, dtype: int64\n",
      "--------------------------------------------------------------------------------\n",
      "False    955\n",
      "True     560\n",
      "Name: moderate_5stars_country, dtype: int64\n",
      "--------------------------------------------------------------------------------\n",
      "False    1102\n",
      "True      413\n",
      "Name: few_5stars_country, dtype: int64\n",
      "--------------------------------------------------------------------------------\n",
      "False    1254\n",
      "True      261\n",
      "Name: unknown_5stars_country, dtype: int64\n",
      "--------------------------------------------------------------------------------\n",
      "False    1390\n",
      "True      125\n",
      "Name: many_5stars_flavor, dtype: int64\n",
      "--------------------------------------------------------------------------------\n",
      "False    1311\n",
      "True      204\n",
      "Name: moderate_5stars_flavor, dtype: int64\n",
      "--------------------------------------------------------------------------------\n",
      "False    1191\n",
      "True      324\n",
      "Name: few_5stars_flavor, dtype: int64\n",
      "--------------------------------------------------------------------------------\n",
      "False    1255\n",
      "True      260\n",
      "Name: unknown_5stars_flavor, dtype: int64\n",
      "--------------------------------------------------------------------------------\n"
     ]
    }
   ],
   "source": [
    "for col in X_train.columns:\n",
    "    print(X_train[col].value_counts())\n",
    "    print('-'*80)"
   ]
  },
  {
   "cell_type": "code",
   "execution_count": null,
   "id": "e086b00d",
   "metadata": {},
   "outputs": [],
   "source": []
  }
 ],
 "metadata": {
  "kernelspec": {
   "display_name": "Python 3 (ipykernel)",
   "language": "python",
   "name": "python3"
  },
  "language_info": {
   "codemirror_mode": {
    "name": "ipython",
    "version": 3
   },
   "file_extension": ".py",
   "mimetype": "text/x-python",
   "name": "python",
   "nbconvert_exporter": "python",
   "pygments_lexer": "ipython3",
   "version": "3.8.8"
  }
 },
 "nbformat": 4,
 "nbformat_minor": 5
}
