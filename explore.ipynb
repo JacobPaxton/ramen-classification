{
 "cells": [
  {
   "cell_type": "markdown",
   "id": "987981ee",
   "metadata": {},
   "source": [
    "# Overview\n",
    "This notebook explores the cleaned ramen-ratings CSV. Any engineered features or scripts will be added to explore.py.\n",
    "\n",
    "# Findings\n",
    "1. Ramen packaging and five-star ratings are independent.\n",
    "2. Ramen country of origin and five-star ratings **have a dependent relationship.**"
   ]
  },
  {
   "cell_type": "code",
   "execution_count": 1,
   "id": "12d27764",
   "metadata": {},
   "outputs": [],
   "source": [
    "import pandas as pd\n",
    "from scipy import stats\n",
    "import matplotlib.pyplot as plt\n",
    "import seaborn as sns\n",
    "\n",
    "import wrangle"
   ]
  },
  {
   "cell_type": "code",
   "execution_count": 2,
   "id": "cd2021de",
   "metadata": {},
   "outputs": [
    {
     "name": "stdout",
     "output_type": "stream",
     "text": [
      "Train size: (1515, 5) Validate size: (506, 5) Test size: (506, 5)\n",
      "\n",
      "<class 'pandas.core.frame.DataFrame'>\n",
      "Int64Index: 1515 entries, 2566 to 2127\n",
      "Data columns (total 5 columns):\n",
      " #   Column      Non-Null Count  Dtype \n",
      "---  ------      --------------  ----- \n",
      " 0   brand       1515 non-null   object\n",
      " 1   name        1515 non-null   object\n",
      " 2   package     1515 non-null   object\n",
      " 3   country     1515 non-null   object\n",
      " 4   five_stars  1515 non-null   bool  \n",
      "dtypes: bool(1), object(4)\n",
      "memory usage: 60.7+ KB\n"
     ]
    }
   ],
   "source": [
    "# create train split for exploration\n",
    "train, _, _ = wrangle.prep_explore()\n",
    "print('')\n",
    "\n",
    "# check work\n",
    "train.info()"
   ]
  },
  {
   "cell_type": "markdown",
   "id": "bc145762",
   "metadata": {},
   "source": [
    "# Initial Exploration of Ramen Packaging\n",
    "Let's check if there's a dependent relationship between packaging and our target.\n",
    "\n",
    "Hypotheses:\n",
    "- $H_0$: Packaging and five-star ratings are independent.\n",
    "- $H_a$: Packaging and five-star ratings have a dependent relationship.\n",
    "\n",
    "Confidence interval: 95%"
   ]
  },
  {
   "cell_type": "code",
   "execution_count": 3,
   "id": "9dd793f2",
   "metadata": {},
   "outputs": [],
   "source": [
    "# set confidence interval\n",
    "alpha = .05"
   ]
  },
  {
   "cell_type": "code",
   "execution_count": 4,
   "id": "121014e2",
   "metadata": {},
   "outputs": [],
   "source": [
    "# check dependence of packaging and target\n",
    "package_5star_crosstab = pd.crosstab(train.package, train.five_stars)\n",
    "_, p, _, _ = stats.chi2_contingency(package_5star_crosstab)"
   ]
  },
  {
   "cell_type": "code",
   "execution_count": 5,
   "id": "771e5b24",
   "metadata": {},
   "outputs": [
    {
     "name": "stdout",
     "output_type": "stream",
     "text": [
      "Packaging and five-star ratings are independent, did not pass 95% confidence interval.\n",
      "p-value: 0.43924606238117814\n"
     ]
    }
   ],
   "source": [
    "# check if p is significant\n",
    "if p < alpha:\n",
    "    print(\"Packaging and five-star ratings have a dependent relationship with 95% confidence.\")\n",
    "    print(\"p-value:\", p)\n",
    "else:\n",
    "    print(\"Packaging and five-star ratings are independent, did not pass 95% confidence interval.\")\n",
    "    print(\"p-value:\", p)"
   ]
  },
  {
   "cell_type": "markdown",
   "id": "173e8e31",
   "metadata": {},
   "source": [
    "**Packaging and five-star ratings are independent.** We will not use 'package' in our predictive model."
   ]
  },
  {
   "cell_type": "markdown",
   "id": "021715d4",
   "metadata": {},
   "source": [
    "# Initial Exploration of Ramen Country of Origin\n",
    "Let's check if there's a dependent relationship between country and our target.\n",
    "\n",
    "Hypotheses:\n",
    "- $H_0$: Country of origin and five-star ratings are independent.\n",
    "- $H_a$: Country of origin and five-star ratings have a dependent relationship.\n",
    "\n",
    "Confidence interval: 95%"
   ]
  },
  {
   "cell_type": "code",
   "execution_count": 6,
   "id": "854971c5",
   "metadata": {},
   "outputs": [],
   "source": [
    "# set confidence interval\n",
    "alpha = .05"
   ]
  },
  {
   "cell_type": "code",
   "execution_count": 7,
   "id": "6b738143",
   "metadata": {},
   "outputs": [],
   "source": [
    "# create crosstab for chi-square statistical test\n",
    "country_5star_crosstab = pd.crosstab(train.country, train.five_stars)\n",
    "# limit only to countries with sufficient value counts in crosstab (an assumption of chi-square)\n",
    "enough_values_mask = (country_5star_crosstab[False] > 5) & (country_5star_crosstab[True] > 5)\n",
    "# run chi-square test\n",
    "_, p, _, _ = stats.chi2_contingency(country_5star_crosstab[enough_values_mask])"
   ]
  },
  {
   "cell_type": "code",
   "execution_count": 8,
   "id": "8c0983b9",
   "metadata": {},
   "outputs": [
    {
     "name": "stdout",
     "output_type": "stream",
     "text": [
      "Country of origin and five-star ratings have a dependent relationship with 95% confidence.\n",
      "p-value: 1.680501270556502e-06\n"
     ]
    }
   ],
   "source": [
    "# check if p is significant\n",
    "if p < alpha:\n",
    "    print(\"Country of origin and five-star ratings have a dependent relationship with 95% confidence.\")\n",
    "    print(\"p-value:\", p)\n",
    "else:\n",
    "    print(\"Country of origin and five-star ratings are independent, did not pass 95% confidence interval.\")\n",
    "    print(\"p-value:\", p)"
   ]
  },
  {
   "cell_type": "markdown",
   "id": "a8864998",
   "metadata": {},
   "source": [
    "**Country of origin and five-star ratings have a dependent relationship.** We will further explore country of origin and consider using it in our model."
   ]
  },
  {
   "cell_type": "markdown",
   "id": "bf8c473b",
   "metadata": {},
   "source": [
    "# Initial Exploration of Ramen Brand\n",
    "Let's check if there's a dependent relationship between ramen brand and our target.\n",
    "\n",
    "Hypotheses:\n",
    "- $H_0$: Ramen brand and five-star ratings are independent.\n",
    "- $H_a$: Ramen brand and five-star ratings have a dependent relationship.\n",
    "\n",
    "Confidence interval: 95%"
   ]
  },
  {
   "cell_type": "code",
   "execution_count": 9,
   "id": "5aababe0",
   "metadata": {},
   "outputs": [],
   "source": [
    "# set confidence interval\n",
    "alpha = .05"
   ]
  },
  {
   "cell_type": "code",
   "execution_count": 10,
   "id": "25fe82aa",
   "metadata": {},
   "outputs": [],
   "source": [
    "# create crosstab for chi-square statistical test\n",
    "brand_5star_crosstab = pd.crosstab(train.brand, train.five_stars)\n",
    "# limit only to brands with sufficient value counts in crosstab (an assumption of chi-square)\n",
    "enough_values_mask = (brand_5star_crosstab[False] > 5) & (brand_5star_crosstab[True] > 5)\n",
    "# run chi-square test\n",
    "_, p, _, _ = stats.chi2_contingency(brand_5star_crosstab[enough_values_mask])"
   ]
  },
  {
   "cell_type": "code",
   "execution_count": 11,
   "id": "0d70b87f",
   "metadata": {},
   "outputs": [
    {
     "name": "stdout",
     "output_type": "stream",
     "text": [
      "Ramen brand and five-star ratings are independent, did not pass 95% confidence interval.\n",
      "p-value: 0.22292206264805428\n"
     ]
    }
   ],
   "source": [
    "# check if p is significant\n",
    "if p < alpha:\n",
    "    print(\"Ramen brand and five-star ratings have a dependent relationship with 95% confidence.\")\n",
    "    print(\"p-value:\", p)\n",
    "else:\n",
    "    print(\"Ramen brand and five-star ratings are independent, did not pass 95% confidence interval.\")\n",
    "    print(\"p-value:\", p)"
   ]
  },
  {
   "cell_type": "markdown",
   "id": "11480ff7",
   "metadata": {},
   "source": [
    "**Ramen brand and five-star ratings are independent.** We will not use 'brand' in our predictive model."
   ]
  },
  {
   "cell_type": "markdown",
   "id": "8e15c104",
   "metadata": {},
   "source": [
    "# Breaking Down the Ramen Product Name\n",
    "Nearly all ramen reviews in our dataset have a unique combination of brand and product name. Only 21 combinations of brand and product out of the nearly 1500 in our exploration split have two reviews, and there are no combinations with more than two reviews. Because of this low commonality, we can't run initial chi-square tests to see if product names have a dependent relationship with five star reviews."
   ]
  },
  {
   "cell_type": "code",
   "execution_count": 12,
   "id": "1c6877f5",
   "metadata": {},
   "outputs": [
    {
     "name": "stdout",
     "output_type": "stream",
     "text": [
      "Brand+name with only one review: 1473\n",
      "Brand+name with two reviews: 21\n",
      "Brand+name with more than two reviews: 0\n"
     ]
    }
   ],
   "source": [
    "# show the review repeats and non-repeats\n",
    "print(\"Brand+name with only one review:\", (train[['brand','name']].value_counts() == 1).sum())\n",
    "print(\"Brand+name with two reviews:\", (train[['brand','name']].value_counts() == 2).sum())\n",
    "print(\"Brand+name with more than two reviews:\", (train[['brand','name']].value_counts() > 2).sum())"
   ]
  },
  {
   "cell_type": "markdown",
   "id": "7604c51c",
   "metadata": {},
   "source": [
    "Before we can understand the relationship between product name and the target, we will need to split out certain keywords in product names to use as features."
   ]
  },
  {
   "cell_type": "markdown",
   "id": "8bc8e21d",
   "metadata": {},
   "source": [
    "## Identifying Keywords to Use\n",
    "### Results\n",
    "I looked at ramen with the word 'flavor' in the title in my older analysis. These are the counts I found:\n",
    "- Chicken (48); Beef (30); Pork (16); Shrimp (12); Fish/Seafood (10); Chow Mein (6);\n",
    "- Chili/Chilli (7); Curry (6); Kimchi (5); Stir-Fry (4);\n",
    "- Tom Yum (6); Tonkotsu (5); Miso (4); Wonton (2); Jjamppong (1); Shiodare (1); Bulgogi (1); Bulalo (1);\n",
    "- Tomato (6); Mushroom (5); Sesame (5); Onion (3); Shiitake (1);\n",
    "- Spicy (26); Hot (12); Soy (6); Sour (6); Sweet (2); Umami [savory] (2);\n",
    "- Sriracha (3); \n",
    "- Abalone (4);\n",
    "- Vegetable (11);\n",
    "- has_Lime (8);\n",
    "\n",
    "I will use these words to search the train split for more potential keywords. **The words I find interesting will all be listed here:**\n",
    "- **Instant or Minute** (does the name indicate a worse rating?) - **258 reviews**\n",
    "    * \"Instant\" used by many brands\n",
    "    * \"Minute\" used by three brands (Maggi, Tasy Bite, Trident - merge under 'Instant')\n",
    "- **Artificial, Imitation, or Simulated** (does the name indicate a worse rating?) - **93 reviews**\n",
    "    * Artificial (Many brands use this word)\n",
    "    * Imitation (Gefen and Traditional use this word - merge under 'Artificial')\n",
    "    * Simulated (Mr. Noodles brand uses this word - merge under 'Artificial')\n",
    "- **Good or Premium or Delicious** (does the name indicate a better rating?) - **Not enough reviews** (19 reviews)\n",
    "- **Less Sodium** (does less sodium make for a worse-rated product?) - **Not enough reviews** (5 reviews)\n",
    "\n",
    "### Scratch Work to Find Keywords (cells ran multiple times with different inputs)"
   ]
  },
  {
   "cell_type": "code",
   "execution_count": 13,
   "id": "c267a99f",
   "metadata": {
    "scrolled": true
   },
   "outputs": [],
   "source": [
    "# chicken (highest word count in previous analysis)\n",
    "# train[train.name.str.contains('Chicken')].name.value_counts().head(10)"
   ]
  },
  {
   "cell_type": "code",
   "execution_count": 14,
   "id": "f3d42c3e",
   "metadata": {},
   "outputs": [],
   "source": [
    "# beef (second highest word count in previous analysis)\n",
    "# train[train.name.str.contains('Beef')].name.value_counts().head(10)"
   ]
  },
  {
   "cell_type": "code",
   "execution_count": 15,
   "id": "1f81af98",
   "metadata": {},
   "outputs": [],
   "source": [
    "# spicy (third highest word count in previous analysis)\n",
    "# train[train.name.str.contains('Spicy')].name.value_counts().head(10)"
   ]
  },
  {
   "cell_type": "code",
   "execution_count": 16,
   "id": "6d49421d",
   "metadata": {
    "scrolled": true
   },
   "outputs": [],
   "source": [
    "# artificial, imitation, or simulated\n",
    "mask = (train.name.str.contains('Artificial') |\n",
    "        train.name.str.contains('Imitation') |\n",
    "        train.name.str.contains('Simulated'))\n",
    "# train[mask].name.value_counts().sample(10, random_state=777)"
   ]
  },
  {
   "cell_type": "code",
   "execution_count": 17,
   "id": "a43bbf96",
   "metadata": {},
   "outputs": [],
   "source": [
    "# instant or minute\n",
    "mask = (train.name.str.contains('Instant') |\n",
    "        train.name.str.contains('Minute'))\n",
    "# train[mask].name.value_counts().head(10)"
   ]
  },
  {
   "cell_type": "code",
   "execution_count": 18,
   "id": "0c995072",
   "metadata": {},
   "outputs": [],
   "source": [
    "# good or premium or delicious\n",
    "mask = (train.name.str.contains('Good') |\n",
    "        train.name.str.contains('Premium') |\n",
    "        train.name.str.contains('Delicious'))\n",
    "# train[mask].name.value_counts().head(10)"
   ]
  },
  {
   "cell_type": "code",
   "execution_count": 19,
   "id": "d8f702d2",
   "metadata": {},
   "outputs": [],
   "source": [
    "# sodium\n",
    "# train[train.name.str.contains('Sodium')]"
   ]
  },
  {
   "cell_type": "markdown",
   "id": "73a9194a",
   "metadata": {},
   "source": [
    "## Creating Groups of Similar Keywords\n",
    "From the product names, there are a few stand-out themes:\n",
    "- Product name describes flavor\n",
    "- Product name indicates flavoring is artificial\n",
    "- Product name describes fast cook time\n",
    "\n",
    "\"Artificial\" and \"Instant\" *only require one feature each to describe the product.* **The flavor, though, will require multiple features** to describe the ramen due to the fact that a ramen can have one or multiple flavors.\n",
    "\n",
    "> Note: Most ramen seems to be 'instant', but doesn't explicitly say so. Because of this, we should not use 'instant' as a feature.\n",
    "\n",
    "Another issue is that some product names use English and some do not use English. In order to accomodate this, **we will need to translate some words** to English and include them in our features (EX: put \"soy\" and \"shoyu\"/\"shouyu\" into one feature).\n",
    "\n",
    "#### Translations\n",
    "- Words indicating Vegetable: 'Vegetable', 'Soon Veggie'\n",
    "- Words indicating Beef: 'Beef', 'Gomtang', 'Seolleongtang'\n",
    "- Words indicating Pork: 'Jjajangmen', 'Jiajang', 'Tonkotsu'\n",
    "- Words indicating Sausage: 'Budae'\n",
    "- Words indicating Seafood: 'Seafood', 'Crab', 'Anchovy', 'Bajirak', 'Clam'\n",
    "- Words indicating Noodles: 'Noodle', 'Myeon', 'Myon'\n",
    "- Words indicating Rice Cake: 'Tteok', 'Rabokki', 'Raobokki'\n",
    "- Words indicating Soup: 'Soup', 'Jjigae', 'Consomme'\n",
    "- Words indicating Instant: 'Instant', 'Minute', 'Ramyun', 'Jinjja', 'Bibim'\n",
    "- Words indicating Spicy: 'Spicy', 'Spice', 'Shin', 'Jjamppong'/'Jjambbong'(seafood), 'Buldalk'(chicken), 'Sutah'(beef), 'Budae'(sausage), 'Habanero', 'Jinjja', 'Jin', 'Yeul', 'Mala', 'Teumsae', 'Bibim', 'Picante', 'Bulnak', 'Volcano', 'Odongtong', 'Sriracha'\n",
    "- Words indicating Stir-Fry: 'Stir Fry', 'Bokkeum', 'Tteokbokki'/'Topokki', 'Yukgaejang', 'Rabokki'\n",
    "- Words indicating no-spice: 'Ramyonsari'(plain), 'Keopnurungji', \n",
    "- Words indicating Kimchi: 'Sabalmyeon'\n",
    "\n",
    "### Artificial"
   ]
  },
  {
   "cell_type": "code",
   "execution_count": 20,
   "id": "50510506",
   "metadata": {},
   "outputs": [
    {
     "data": {
      "text/html": [
       "<div>\n",
       "<style scoped>\n",
       "    .dataframe tbody tr th:only-of-type {\n",
       "        vertical-align: middle;\n",
       "    }\n",
       "\n",
       "    .dataframe tbody tr th {\n",
       "        vertical-align: top;\n",
       "    }\n",
       "\n",
       "    .dataframe thead th {\n",
       "        text-align: right;\n",
       "    }\n",
       "</style>\n",
       "<table border=\"1\" class=\"dataframe\">\n",
       "  <thead>\n",
       "    <tr style=\"text-align: right;\">\n",
       "      <th></th>\n",
       "      <th>brand</th>\n",
       "      <th>name</th>\n",
       "      <th>package</th>\n",
       "      <th>country</th>\n",
       "      <th>five_stars</th>\n",
       "      <th>artificial</th>\n",
       "    </tr>\n",
       "  </thead>\n",
       "  <tbody>\n",
       "    <tr>\n",
       "      <th>2566</th>\n",
       "      <td>Samyang</td>\n",
       "      <td>Hot</td>\n",
       "      <td>Pack</td>\n",
       "      <td>South Korea</td>\n",
       "      <td>False</td>\n",
       "      <td>False</td>\n",
       "    </tr>\n",
       "    <tr>\n",
       "      <th>332</th>\n",
       "      <td>Nongshim</td>\n",
       "      <td>Shin Noodle Soup</td>\n",
       "      <td>Cup</td>\n",
       "      <td>USA</td>\n",
       "      <td>True</td>\n",
       "      <td>False</td>\n",
       "    </tr>\n",
       "    <tr>\n",
       "      <th>1363</th>\n",
       "      <td>Doll</td>\n",
       "      <td>Hello Kitty Dim Sum Noodle Japanese Curry Flavour</td>\n",
       "      <td>Cup</td>\n",
       "      <td>Hong Kong</td>\n",
       "      <td>False</td>\n",
       "      <td>False</td>\n",
       "    </tr>\n",
       "  </tbody>\n",
       "</table>\n",
       "</div>"
      ],
      "text/plain": [
       "         brand                                               name package  \\\n",
       "2566   Samyang                                                Hot    Pack   \n",
       "332   Nongshim                                   Shin Noodle Soup     Cup   \n",
       "1363      Doll  Hello Kitty Dim Sum Noodle Japanese Curry Flavour     Cup   \n",
       "\n",
       "          country  five_stars  artificial  \n",
       "2566  South Korea       False       False  \n",
       "332           USA        True       False  \n",
       "1363    Hong Kong       False       False  "
      ]
     },
     "execution_count": 20,
     "metadata": {},
     "output_type": "execute_result"
    }
   ],
   "source": [
    "# create boolean mask\n",
    "mask = (train.name.str.contains('Artificial') |\n",
    "        train.name.str.contains('Imitation') |\n",
    "        train.name.str.contains('Simulated'))\n",
    "# add column indicating the presence of these words in the product name\n",
    "train['artificial'] = mask\n",
    "# check work\n",
    "train.head(3)"
   ]
  },
  {
   "cell_type": "markdown",
   "id": "744799b7",
   "metadata": {},
   "source": [
    "### Instant\n",
    "> Note: Most ramen seems to be 'instant', but doesn't explicitly say so. Because of this, we should not use 'instant' as a feature."
   ]
  },
  {
   "cell_type": "code",
   "execution_count": 21,
   "id": "4f8cc8d8",
   "metadata": {},
   "outputs": [],
   "source": [
    "# # instant, minute, ramyun\n",
    "# mask = (train.name.str.contains('Instant') |\n",
    "#         train.name.str.contains('Minute') | \n",
    "#         train.name.str.contains('Ramyun'))\n",
    "# # add column indicating the presence of these words in the product name\n",
    "# train['instant'] = mask\n",
    "# # check work\n",
    "# train.head(3)"
   ]
  },
  {
   "cell_type": "markdown",
   "id": "85d27ca4",
   "metadata": {},
   "source": [
    "### Spicy"
   ]
  },
  {
   "cell_type": "code",
   "execution_count": 22,
   "id": "17a634bc",
   "metadata": {},
   "outputs": [
    {
     "name": "stdout",
     "output_type": "stream",
     "text": [
      "['South Korea', 'USA', 'Hong Kong', 'UK', 'Thailand', 'Japan', 'Taiwan', 'Malaysia', 'India', 'Canada', 'Singapore', 'Philippines', 'China', 'Mexico', 'Indonesia', 'Cambodia', 'Netherlands', 'Australia', 'Nepal', 'Vietnam', 'Myanmar', 'Germany', 'Pakistan', 'Hungary', 'Colombia', 'Bangladesh', 'Brazil']\n"
     ]
    }
   ],
   "source": [
    "# print a list of countries with a ramen product\n",
    "print(train.country.unique().tolist())"
   ]
  },
  {
   "cell_type": "code",
   "execution_count": 23,
   "id": "b45e3bd0",
   "metadata": {
    "scrolled": true
   },
   "outputs": [
    {
     "data": {
      "text/plain": [
       "['Hello Kitty Dim Sum Noodle Japanese Curry Flavour',\n",
       " 'Noodle King Hong Koing Style Wonton',\n",
       " 'Demae Iccho Mushroom With Vegetables Flavour Macaroni',\n",
       " 'Demae Iccho Black Garlic Oil Tonkotsu Flavour Instant Noodles',\n",
       " 'Cup Noodles Spicy Seafood',\n",
       " 'Demae Ramen Bar Noodle Aka Tonkotsu Flavour Instant Noodle',\n",
       " 'Big Bowl Crab ',\n",
       " 'Big Cup Noodles Tonkotsu Flavour',\n",
       " 'Taisho Fried Noodle Sesame Paste Flavour Instant Noodle',\n",
       " 'Demae Iccho Red Hot Seafood Flavour Instant Noodle',\n",
       " 'Spicy Artificial Pork',\n",
       " 'Demae Iccho XO Sauce Seafood Flavour',\n",
       " 'E-Men Noodles Abalone Soup Flavor',\n",
       " 'Instant Noodle Preserved Vegetable Flavour',\n",
       " 'Demae Iccho Chicken Flavour Instant Noodle (Bowl Noodle)',\n",
       " 'Big Bowl Artificial Chicken',\n",
       " 'Spicy Artificial Beef',\n",
       " 'Pickled Vegetable',\n",
       " 'Seaweed Hot & Spicy Instant Noodle Mushroom & Beef Flavour',\n",
       " 'Demae Ramen Roast Beef Flavour Instant Noodles',\n",
       " 'Noodle King Lobster Thick',\n",
       " 'Nupasta Bacon In Carbonara Sauce Flavour Instant Noodle',\n",
       " 'Demae Iccho Spicy Tonkotsu Flavour Instant Noodle (Bowl Noodle)',\n",
       " 'Nupasta Neapolitan Flavour Instant Noodle',\n",
       " 'Demae Ramen Sesame Oil Flavour Cup',\n",
       " 'Non-Fried Ramen Noodles Taiwan Roast Pork Flavour',\n",
       " 'Demae Ramen Straight Noodle Kyushu Tonkotsu Instant Noodle',\n",
       " 'Noodle King Scallop Thick',\n",
       " 'Chicken Flavour Instant Noodle',\n",
       " 'Nupasta Vongole Flavour Instant Noodle',\n",
       " 'Instant Noodle Vegetarian Flavour',\n",
       " 'Cup Noodles Black Pepper Crab Flavour',\n",
       " 'Dried Mix Noodles Scallop Seafood Flavoured',\n",
       " 'Oat Noodle Pork Rib Flavored',\n",
       " 'Demae Rice Vermicelli Chicken Flavour Instant Rice Vermicelli With Soup Base',\n",
       " 'Pepper Noodles Vegetarian',\n",
       " 'Rice Vermicelli Pickled Vegetable Pork Flavour',\n",
       " 'Noodle King Artificial Beef Soup Flavored',\n",
       " 'Demae Iccho Tonkotsu Flavour Instant Noodle',\n",
       " 'Nupasta Salmon In White Sauce Flavour Instant Noodle',\n",
       " 'Quick Serve Macaroni Shrimp Broth',\n",
       " 'Instant Noodle King Pepper Duck Flavour Soup',\n",
       " 'Bowl Chicken Flavour Instant Rice Vermicelli',\n",
       " 'Superior Soup Instant Noodles (Mfg in Thailand)',\n",
       " 'Spicy Soup Instant Noodle Beef Flavour',\n",
       " 'Superior Soup',\n",
       " 'Ho Fan Wonton Soup Flavored',\n",
       " 'Cup Noodles Chilli Crab Flavour',\n",
       " 'Black Pepper XO Sauce Flavour',\n",
       " 'Demae Ramen Miso Tonkotsu Artificial Pork Flavor Ramen Noodle',\n",
       " 'Cup Noodles Seafood Curry',\n",
       " 'Artificial Salted Beef With Mushrooms Flavour',\n",
       " 'Cup Noodles Beef Flavour',\n",
       " 'Demae Ramen Kimchi Flavour Instant Noodle With Soup Base',\n",
       " 'Seafood Flavour Rice Vermicelli',\n",
       " 'QQ Scallop Seafood Vermicelli',\n",
       " 'Cup Noodles Big Spicy Seafood Flavour',\n",
       " 'Demae Iccho Tokyo Shoru Tonkotsu Instant Noodle',\n",
       " 'Demae Iccho Spicy XO Sauce Seafood Flavour',\n",
       " 'Korean Kimchi Flavour Vermicelli',\n",
       " 'Cup Noodles BIG XO Sauce Seafood Flavour',\n",
       " 'Instant Noodle King Abalone & Chicken Flavoured',\n",
       " 'Cup Noodles Pork Chowder Flavour',\n",
       " 'Japanese Fried Ramen Noodles Kyoto Barbecue Sauce Flavour',\n",
       " 'Non-Fried Superior Soup Noodle',\n",
       " 'Superior Soup Instant Noodles (Mfg in Vietnam)',\n",
       " 'Demae Rice Vermicelli Beef Flavour',\n",
       " 'Chicken',\n",
       " 'Demae Ramen Spicy Xo Sauce Seafood Flavour Instant Noodle',\n",
       " 'Cup Noodles Tom Yum Goong Flavour',\n",
       " 'Non-Fried Mix Noodle Black Pepper XO Sauce Flavoured',\n",
       " 'Demae Ramen Straight Noodle Black Garlic Oil Tonkotsu Flavour Instant Noodle',\n",
       " 'Cup Noodles Crab',\n",
       " 'Cup Noodles Big Seafood Flavour',\n",
       " 'Tom Yam Soup Instant Noodle',\n",
       " 'Cup Noodles Mini Seafood Flavour',\n",
       " 'Superior Soup Instant Rice Vermicelli',\n",
       " 'Artificial Beef With Sauerkraut Flavour',\n",
       " 'Cup Noodles Spicy Beef Flavour',\n",
       " 'Big Cup Noodles Seafood Curry Flavour',\n",
       " 'Demae Iccho Curry Beef Flavour',\n",
       " 'Cup Noodles Seafood',\n",
       " 'Chinese Tan Tan Vermicelli',\n",
       " 'Sesame Oil Chicken Flavour Instant Noodle',\n",
       " 'Nupasta Carbonara Flavour Instant Noodle',\n",
       " 'Spicy Tomkotsu',\n",
       " 'Demae Iccho Spicy Kimchi Pot Flavour Instant Noodle (Bowl Noodle)',\n",
       " 'Noodle King Artificial Abalone And Chicken Soup Flavored']"
      ]
     },
     "execution_count": 23,
     "metadata": {},
     "output_type": "execute_result"
    }
   ],
   "source": [
    "# cell for exploring each ramen product's names, translating words I see in the list\n",
    "train[train.country == 'Hong Kong'].name.tolist()"
   ]
  },
  {
   "cell_type": "code",
   "execution_count": 24,
   "id": "6416ac86",
   "metadata": {},
   "outputs": [
    {
     "data": {
      "text/html": [
       "<div>\n",
       "<style scoped>\n",
       "    .dataframe tbody tr th:only-of-type {\n",
       "        vertical-align: middle;\n",
       "    }\n",
       "\n",
       "    .dataframe tbody tr th {\n",
       "        vertical-align: top;\n",
       "    }\n",
       "\n",
       "    .dataframe thead th {\n",
       "        text-align: right;\n",
       "    }\n",
       "</style>\n",
       "<table border=\"1\" class=\"dataframe\">\n",
       "  <thead>\n",
       "    <tr style=\"text-align: right;\">\n",
       "      <th></th>\n",
       "      <th>brand</th>\n",
       "      <th>name</th>\n",
       "      <th>package</th>\n",
       "      <th>country</th>\n",
       "      <th>five_stars</th>\n",
       "      <th>artificial</th>\n",
       "    </tr>\n",
       "  </thead>\n",
       "  <tbody>\n",
       "    <tr>\n",
       "      <th>332</th>\n",
       "      <td>Nongshim</td>\n",
       "      <td>Shin Noodle Soup</td>\n",
       "      <td>Cup</td>\n",
       "      <td>USA</td>\n",
       "      <td>True</td>\n",
       "      <td>False</td>\n",
       "    </tr>\n",
       "    <tr>\n",
       "      <th>2157</th>\n",
       "      <td>Noodle Time</td>\n",
       "      <td>Shin Cup</td>\n",
       "      <td>Cup</td>\n",
       "      <td>South Korea</td>\n",
       "      <td>False</td>\n",
       "      <td>False</td>\n",
       "    </tr>\n",
       "    <tr>\n",
       "      <th>291</th>\n",
       "      <td>Myojo</td>\n",
       "      <td>Shin Toyama Black Ramen</td>\n",
       "      <td>Bowl</td>\n",
       "      <td>Japan</td>\n",
       "      <td>False</td>\n",
       "      <td>False</td>\n",
       "    </tr>\n",
       "    <tr>\n",
       "      <th>1903</th>\n",
       "      <td>Nongshim</td>\n",
       "      <td>Shin Ramyun Shrimp</td>\n",
       "      <td>Pack</td>\n",
       "      <td>China</td>\n",
       "      <td>False</td>\n",
       "      <td>False</td>\n",
       "    </tr>\n",
       "    <tr>\n",
       "      <th>2002</th>\n",
       "      <td>Nongshim</td>\n",
       "      <td>Shin Ramyun Black</td>\n",
       "      <td>Pack</td>\n",
       "      <td>South Korea</td>\n",
       "      <td>False</td>\n",
       "      <td>False</td>\n",
       "    </tr>\n",
       "    <tr>\n",
       "      <th>1017</th>\n",
       "      <td>Nongshim</td>\n",
       "      <td>Shin Ramyun Noodle Soup (New Edition)</td>\n",
       "      <td>Pack</td>\n",
       "      <td>USA</td>\n",
       "      <td>False</td>\n",
       "      <td>False</td>\n",
       "    </tr>\n",
       "    <tr>\n",
       "      <th>2289</th>\n",
       "      <td>Nongshim</td>\n",
       "      <td>Shin Bowl</td>\n",
       "      <td>Bowl</td>\n",
       "      <td>South Korea</td>\n",
       "      <td>False</td>\n",
       "      <td>False</td>\n",
       "    </tr>\n",
       "    <tr>\n",
       "      <th>47</th>\n",
       "      <td>Nongshim</td>\n",
       "      <td>Shin Ramyun Black</td>\n",
       "      <td>Pack</td>\n",
       "      <td>South Korea</td>\n",
       "      <td>True</td>\n",
       "      <td>False</td>\n",
       "    </tr>\n",
       "    <tr>\n",
       "      <th>1582</th>\n",
       "      <td>Nongshim</td>\n",
       "      <td>Shin Ramyun Black Spicy Beef</td>\n",
       "      <td>Cup</td>\n",
       "      <td>South Korea</td>\n",
       "      <td>False</td>\n",
       "      <td>False</td>\n",
       "    </tr>\n",
       "    <tr>\n",
       "      <th>1402</th>\n",
       "      <td>Nongshim</td>\n",
       "      <td>Shin Black Spicy Pot-au-feu Flavor Premium Noo...</td>\n",
       "      <td>Cup</td>\n",
       "      <td>USA</td>\n",
       "      <td>True</td>\n",
       "      <td>False</td>\n",
       "    </tr>\n",
       "    <tr>\n",
       "      <th>1393</th>\n",
       "      <td>Nongshim</td>\n",
       "      <td>Shin Ramyun Cup</td>\n",
       "      <td>Cup</td>\n",
       "      <td>South Korea</td>\n",
       "      <td>False</td>\n",
       "      <td>False</td>\n",
       "    </tr>\n",
       "    <tr>\n",
       "      <th>76</th>\n",
       "      <td>Nongshim</td>\n",
       "      <td>Shin Ramyun</td>\n",
       "      <td>Pack</td>\n",
       "      <td>South Korea</td>\n",
       "      <td>False</td>\n",
       "      <td>False</td>\n",
       "    </tr>\n",
       "    <tr>\n",
       "      <th>902</th>\n",
       "      <td>Nongshim</td>\n",
       "      <td>Shin Black Spicy Po-Au-Feu Flavor (Mew Edition)</td>\n",
       "      <td>Pack</td>\n",
       "      <td>USA</td>\n",
       "      <td>True</td>\n",
       "      <td>False</td>\n",
       "    </tr>\n",
       "  </tbody>\n",
       "</table>\n",
       "</div>"
      ],
      "text/plain": [
       "            brand                                               name package  \\\n",
       "332      Nongshim                                   Shin Noodle Soup     Cup   \n",
       "2157  Noodle Time                                           Shin Cup     Cup   \n",
       "291         Myojo                            Shin Toyama Black Ramen    Bowl   \n",
       "1903     Nongshim                                 Shin Ramyun Shrimp    Pack   \n",
       "2002     Nongshim                                  Shin Ramyun Black    Pack   \n",
       "1017     Nongshim              Shin Ramyun Noodle Soup (New Edition)    Pack   \n",
       "2289     Nongshim                                          Shin Bowl    Bowl   \n",
       "47       Nongshim                                  Shin Ramyun Black    Pack   \n",
       "1582     Nongshim                       Shin Ramyun Black Spicy Beef     Cup   \n",
       "1402     Nongshim  Shin Black Spicy Pot-au-feu Flavor Premium Noo...     Cup   \n",
       "1393     Nongshim                                    Shin Ramyun Cup     Cup   \n",
       "76       Nongshim                                        Shin Ramyun    Pack   \n",
       "902      Nongshim    Shin Black Spicy Po-Au-Feu Flavor (Mew Edition)    Pack   \n",
       "\n",
       "          country  five_stars  artificial  \n",
       "332           USA        True       False  \n",
       "2157  South Korea       False       False  \n",
       "291         Japan       False       False  \n",
       "1903        China       False       False  \n",
       "2002  South Korea       False       False  \n",
       "1017          USA       False       False  \n",
       "2289  South Korea       False       False  \n",
       "47    South Korea        True       False  \n",
       "1582  South Korea       False       False  \n",
       "1402          USA        True       False  \n",
       "1393  South Korea       False       False  \n",
       "76    South Korea       False       False  \n",
       "902           USA        True       False  "
      ]
     },
     "execution_count": 24,
     "metadata": {},
     "output_type": "execute_result"
    }
   ],
   "source": [
    "# spicy, shin, jjamppong, buldalk\n",
    "train[train.name.str.contains('Shin')]"
   ]
  },
  {
   "cell_type": "code",
   "execution_count": null,
   "id": "a73b002d",
   "metadata": {},
   "outputs": [],
   "source": []
  }
 ],
 "metadata": {
  "kernelspec": {
   "display_name": "Python 3 (ipykernel)",
   "language": "python",
   "name": "python3"
  },
  "language_info": {
   "codemirror_mode": {
    "name": "ipython",
    "version": 3
   },
   "file_extension": ".py",
   "mimetype": "text/x-python",
   "name": "python",
   "nbconvert_exporter": "python",
   "pygments_lexer": "ipython3",
   "version": "3.8.8"
  }
 },
 "nbformat": 4,
 "nbformat_minor": 5
}
