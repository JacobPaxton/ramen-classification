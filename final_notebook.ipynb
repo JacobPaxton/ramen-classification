{
 "cells": [
  {
   "cell_type": "markdown",
   "id": "f8822dcc",
   "metadata": {},
   "source": [
    "# Overview\n",
    "## The cool new stuff I accomplished for this project\n",
    "- **Heavy keyword engineering**\n",
    "    * Domain research to understand ramen products based on keyword\n",
    "    * Translation to bring all keywords to consistent categories\n",
    "    * Categorization on common factors based on domain research and translation\n",
    "- **Multi-layered statistical testing to eliminate features**\n",
    "    * Chi-Square tests to eliminate initial features that are not related to target\n",
    "    * One-hot encoding of remaining features' categories\n",
    "    * Chi-Square tests to eliminate one-hot-encoded categories that are not related to target\n",
    "- **Clustering country and keyword features into low-, medium-, and high-rate five-star ratings groups**\n",
    "    * Checked proportions of five-star rating counts against not-five-star rating counts for True in encoded feature\n",
    "    * Checked proportions of five-star rating counts against not-five-star rating counts for False in encoded feature\n",
    "    * Compared five-star proportions to check increase/decrease in proportion from False to True\n",
    "    * Bracketed increasing, middle, and decreasing proportions from False to True\n",
    "    \n",
    "## Other stuff that I've done before\n",
    "- Categorize and encode target into five_stars column (classes: is five-stars, isn't five stars)\n",
    "- Fix some values, drop some nulls, outliers, and duplicate rows, get rid of unnecessary columns\n",
    "- Create univariate visualizations\n",
    "- Run Chi-Square testing to determine if feature is related to target\n",
    "- Feature engineering (overall)\n",
    "- Create bivariate visualizations\n",
    "- Choose features for model\n",
    "- Choose optimization priorities for the model (F1 Score)\n",
    "- Resample the target to address class imbalance\n",
    "- Create baseline model and multiple algorithmic models with varying hyperparameter combinations\n",
    "- Evaluate models on Validate (first out-of-sample split)\n",
    "- Choose best model in terms of our optimization priority\n",
    "- Calculate ROC AUC of baseline and best model\n",
    "- Evaluate baseline and best model on Test split"
   ]
  },
  {
   "cell_type": "code",
   "execution_count": null,
   "id": "fc155894",
   "metadata": {},
   "outputs": [],
   "source": []
  }
 ],
 "metadata": {
  "kernelspec": {
   "display_name": "Python 3 (ipykernel)",
   "language": "python",
   "name": "python3"
  },
  "language_info": {
   "codemirror_mode": {
    "name": "ipython",
    "version": 3
   },
   "file_extension": ".py",
   "mimetype": "text/x-python",
   "name": "python",
   "nbconvert_exporter": "python",
   "pygments_lexer": "ipython3",
   "version": "3.8.8"
  }
 },
 "nbformat": 4,
 "nbformat_minor": 5
}
