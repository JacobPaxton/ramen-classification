{
 "cells": [
  {
   "cell_type": "markdown",
   "id": "6121ab68",
   "metadata": {},
   "source": [
    "# <center>Overview\n",
    "This project analyzes the Ramen Ratings dataset from Kaggle. This dataset has a few thousand ramen products and their ratings, from 0 to 5 stars. The data includes the review number, the ramen's brand, product name, packaging style, country of origin, rating, and whether or not the ramen is in the top 10. I chose to make this a one-vs-rest classification problem on whether a ramen is rated five stars or not. The analysis uses independence tests and feature engineering to arrive at key drivers of five-star ratings, then uses these features to build a predictive model. The project successfully identified key drivers using these methods and build a predictive model that performs better than a standard baseline for the work.\n",
    "\n",
    "## The cool new stuff I accomplished for this project\n",
    "- **Heavy keyword engineering**\n",
    "    * Domain research to understand ramen products based on keyword\n",
    "    * Translation to group all keywords into consistent categories\n",
    "    * Categorization on common factors based on domain research and translation\n",
    "- **Multi-layered statistical testing to eliminate features**\n",
    "    * Chi-Square tests to eliminate initial features that are not related to target\n",
    "    * One-hot encoding of remaining features' categories\n",
    "    * Chi-Square tests to eliminate one-hot-encoded categories that are not related to target\n",
    "- **Clustering country and keyword features into low-, medium-, and high-rate five-star ratings groups**\n",
    "    * Checked proportions of five-star rating counts against not-five-star rating counts for True in encoded feature\n",
    "    * Checked proportions of five-star rating counts against not-five-star rating counts for False in encoded feature\n",
    "    * Compared five-star proportions to check increase/decrease in proportion from False to True\n",
    "    * Bracketed increasing, middle, and decreasing proportions from False to True\n",
    "    \n",
    "## Other stuff that I've done before\n",
    "- Wrangle\n",
    "    * Categorize and encode target into five_stars column (classes: is five-stars, isn't five stars)\n",
    "    * Fix some values, drop some nulls, outliers, and duplicate rows, get rid of unnecessary columns\n",
    "    * Create univariate visualizations\n",
    "- Explore\n",
    "    * Run Chi-Square testing to determine if feature is related to target\n",
    "    * Feature engineering (overall)\n",
    "    * Create bivariate visualizations\n",
    "    * Choose features for model\n",
    "- Model\n",
    "    * Choose optimization priorities for the model (F1 Score)\n",
    "    * Resample the target to address class imbalance\n",
    "    * Create baseline model and multiple algorithmic models with varying hyperparameter combinations\n",
    "    * Evaluate models on Validate (first out-of-sample split)\n",
    "    * Choose best three models in terms of our optimization priority\n",
    "    * Use GridSearchCV to choose best hyperparameters for top models\n",
    "    * Calculate ROC AUC of baseline and models\n",
    "    * Choose best model across all metrics\n",
    "    * Evaluate baseline and best model on Test split\n",
    "    \n",
    "## Findings\n",
    "1. The brand of ramen does not influence whether or not the ramen product has a five-star rating.\n",
    "1. The packaging of ramen does not influence whether or not the ramen product has a five-star rating.\n",
    "1. A ramen's country of origin has an influence on whether or not the ramen product has a five-star rating.\n",
    "    - Malaysia has the highest five-star rating proportion of all origin countries.\n",
    "    - Ramen originating from Malaysia, Singapore, or Taiwan have the highest proportion of five-star ratings.\n",
    "    - Ramen from Hong Kong, Japan, South Korea, or Indonesia have the next-highest proportions of five-star ratings.\n",
    "    - Ramen from China, Thailand, or USA have the lowest proportions of five-star ratings.\n",
    "    - China has the lowest five-star rating proportion of all origin countries.\n",
    "1. A ramen's noodle type does not influence whether or not the ramen product has a five-star rating.\n",
    "1. A ramen's flavor influences whether or not the ramen product has a five-star rating.\n",
    "    - Curry flavor has the highest proportion of five-star ratings for all flavor categories.\n",
    "    - Ramen with curry or sesame flavor have the highest proportions of five-star ratings.\n",
    "    - Ramen with pork flavor or the common crustaceans have the next-highest proportions of five-star ratings.\n",
    "    - Chicken- and beef- flavored ramen products have the lowest five-star rating proportions of all flavors.\n",
    "    - Chicken flavor has the lowest five-star rating proportions of all flavors.\n",
    "1. A ramen's spicy status influences whether or not the ramen product has a five-star rating.\n",
    "1. A ramen's fried status does not have an effect on whether or not the ramen product has a five-star rating.\n",
    "\n",
    "## Model Results\n",
    "- Features used: country and flavor brackets (as described above) and spicy status\n",
    "- Evaluation Metric: F1 Score\n",
    "- Best model: Logistic Regression\n",
    "- Model performance: outperforms the baseline on F1 Score and ROC AUC for unseen data\n",
    "\n",
    "# <center>Imports"
   ]
  },
  {
   "cell_type": "code",
   "execution_count": 1,
   "id": "63def197",
   "metadata": {},
   "outputs": [],
   "source": [
    "# cull warnings\n",
    "import warnings\n",
    "warnings.filterwarnings('ignore')\n",
    "\n",
    "# standard imports\n",
    "import pandas as pd\n",
    "from scipy import stats\n",
    "import matplotlib.pyplot as plt\n",
    "import seaborn as sns\n",
    "\n",
    "# top three modeling algorithms\n",
    "from sklearn.linear_model import LogisticRegression\n",
    "from sklearn.naive_bayes import GaussianNB\n",
    "from sklearn.ensemble import RandomForestClassifier\n",
    "\n",
    "# evaluation functions\n",
    "from sklearn.metrics import f1_score\n",
    "from sklearn.model_selection import GridSearchCV\n",
    "from sklearn.metrics import roc_curve, auc, roc_auc_score\n",
    "\n",
    "# scripts\n",
    "import wrangle\n",
    "import explore\n",
    "import model"
   ]
  },
  {
   "cell_type": "markdown",
   "id": "6472c182",
   "metadata": {},
   "source": [
    "# <center>Wrangle\n",
    "## Bottom Line Up Front: What I Did for Wrangle\n",
    "1. Acquire ramen-ratings.csv from Kaggle\n",
    "1. Rename a United States value to USA\n",
    "1. Drop low-count ramen styles Box, Can, and Bar (8 rows)\n",
    "1. Drop countries with less than 5 cumulative observations (29 rows)\n",
    "1. Drop Unrated, nulls and duplicates (16 rows)\n",
    "1. Replace Stars column with five_stars column\n",
    "1. Drop 'Review #' and 'Top Ten' columns\n",
    "1. Rename columns for easier exploration\n",
    "1. Split cleaned data into Train, Validate, and Test splits for exploration and modeling"
   ]
  },
  {
   "cell_type": "code",
   "execution_count": 2,
   "id": "4fad7b70",
   "metadata": {},
   "outputs": [
    {
     "name": "stdout",
     "output_type": "stream",
     "text": [
      "Train size: (1515, 5) Validate size: (506, 5) Test size: (506, 5)\n"
     ]
    },
    {
     "data": {
      "text/html": [
       "<div>\n",
       "<style scoped>\n",
       "    .dataframe tbody tr th:only-of-type {\n",
       "        vertical-align: middle;\n",
       "    }\n",
       "\n",
       "    .dataframe tbody tr th {\n",
       "        vertical-align: top;\n",
       "    }\n",
       "\n",
       "    .dataframe thead th {\n",
       "        text-align: right;\n",
       "    }\n",
       "</style>\n",
       "<table border=\"1\" class=\"dataframe\">\n",
       "  <thead>\n",
       "    <tr style=\"text-align: right;\">\n",
       "      <th></th>\n",
       "      <th>brand</th>\n",
       "      <th>name</th>\n",
       "      <th>package</th>\n",
       "      <th>country</th>\n",
       "      <th>five_stars</th>\n",
       "    </tr>\n",
       "  </thead>\n",
       "  <tbody>\n",
       "    <tr>\n",
       "      <th>2566</th>\n",
       "      <td>Samyang</td>\n",
       "      <td>Hot</td>\n",
       "      <td>Pack</td>\n",
       "      <td>South Korea</td>\n",
       "      <td>False</td>\n",
       "    </tr>\n",
       "    <tr>\n",
       "      <th>332</th>\n",
       "      <td>Nongshim</td>\n",
       "      <td>Shin Noodle Soup</td>\n",
       "      <td>Cup</td>\n",
       "      <td>USA</td>\n",
       "      <td>True</td>\n",
       "    </tr>\n",
       "    <tr>\n",
       "      <th>1363</th>\n",
       "      <td>Doll</td>\n",
       "      <td>Hello Kitty Dim Sum Noodle Japanese Curry Flavour</td>\n",
       "      <td>Cup</td>\n",
       "      <td>Hong Kong</td>\n",
       "      <td>False</td>\n",
       "    </tr>\n",
       "  </tbody>\n",
       "</table>\n",
       "</div>"
      ],
      "text/plain": [
       "         brand                                               name package  \\\n",
       "2566   Samyang                                                Hot    Pack   \n",
       "332   Nongshim                                   Shin Noodle Soup     Cup   \n",
       "1363      Doll  Hello Kitty Dim Sum Noodle Japanese Curry Flavour     Cup   \n",
       "\n",
       "          country  five_stars  \n",
       "2566  South Korea       False  \n",
       "332           USA        True  \n",
       "1363    Hong Kong       False  "
      ]
     },
     "execution_count": 2,
     "metadata": {},
     "output_type": "execute_result"
    }
   ],
   "source": [
    "# wrangle.py script to wrangle the data as described above\n",
    "train, _, _ = wrangle.prep_explore()\n",
    "\n",
    "train.head(3)"
   ]
  },
  {
   "cell_type": "markdown",
   "id": "3a2d6afc",
   "metadata": {},
   "source": [
    "# <center>Explore\n",
    "## Bottom Line Up Front: What I Did for Explore\n",
    "- Statistical testing on Ramen Brands that found brand is independent of five-star outcomes\n",
    "- Statistical testing on Ramen Packaging that found packaging is independent of five-star outcomes\n",
    "- Statistical testing on Country of Origin that found country is related to five-star outcomes\n",
    "- Keyword engineering to categorize ramen products into noodle type, flavor, spicy status, and fried status categories\n",
    "- Statistical testing on new features that found noodle type and fried status have no impact on five-star outcomes\n",
    "- Statistical testing on new features that found ramen flavor and spicy status have an impact on five-star outcomes\n",
    "- Dropped specific countries and flavors that did not have at least 5 reviews with five-star rating\n",
    "- Analyzed proportions of five-star reviews to all reviews for each country and flavor category\n",
    "- Grouped into high-, medium-, and low-proportion brackets for country and for flavor category\n",
    "- Checked country and flavor category brackets along with spicy status in terms of five-star and non-five-star reviews\n",
    "- Chose these features for modeling\n",
    "\n",
    "## Ramen Brand is Independent\n",
    "- $H_0$: Ramen brand and five-star ratings are independent.\n",
    "- $H_a$: Ramen brand and five-star ratings have a dependent relationship.\n",
    "\n",
    "Confidence interval: 95%"
   ]
  },
  {
   "cell_type": "code",
   "execution_count": 3,
   "id": "011a0998",
   "metadata": {},
   "outputs": [
    {
     "name": "stdout",
     "output_type": "stream",
     "text": [
      "Ramen brand and five-star ratings are independent, did not pass 95% confidence interval.\n",
      "p-value: 0.223\n"
     ]
    }
   ],
   "source": [
    "# run chi-square test on ramen brand\n",
    "explore.chi2_ramen_brand(train)"
   ]
  },
  {
   "cell_type": "markdown",
   "id": "6849488a",
   "metadata": {},
   "source": [
    "## Ramen Packaging is Independent\n",
    "\n",
    "- $H_0$: Packaging and five-star ratings are independent.\n",
    "- $H_a$: Packaging and five-star ratings have a dependent relationship.\n",
    "\n",
    "Confidence interval: 95%"
   ]
  },
  {
   "cell_type": "code",
   "execution_count": 4,
   "id": "5cd77cf8",
   "metadata": {},
   "outputs": [
    {
     "name": "stdout",
     "output_type": "stream",
     "text": [
      "Packaging and five-star ratings are independent, did not pass 95% confidence interval.\n",
      "p-value: 0.439\n"
     ]
    }
   ],
   "source": [
    "# run chi-square test on ramen packaging\n",
    "explore.chi2_ramen_packaging(train)"
   ]
  },
  {
   "cell_type": "markdown",
   "id": "fd31e8cf",
   "metadata": {},
   "source": [
    "## Ramen Country of Origin is Related\n",
    "\n",
    "- $H_0$: Country of origin and five-star ratings are independent.\n",
    "- $H_a$: Country of origin and five-star ratings have a dependent relationship.\n",
    "\n",
    "Confidence interval: 95%"
   ]
  },
  {
   "cell_type": "code",
   "execution_count": 5,
   "id": "01bbf47c",
   "metadata": {},
   "outputs": [
    {
     "name": "stdout",
     "output_type": "stream",
     "text": [
      "Country of origin and five-star ratings have a dependent relationship with 95% confidence.\n",
      "p-value: 0.0\n"
     ]
    }
   ],
   "source": [
    "# run chi-square test on ramen country of origin\n",
    "explore.chi2_ramen_origin_country(train)"
   ]
  },
  {
   "cell_type": "markdown",
   "id": "788b1347",
   "metadata": {},
   "source": [
    "## Breaking Down the Ramen Product Name\n",
    "### Why We Needed to Engineer Features for Product Name\n",
    "Nearly all ramen reviews in our dataset have a unique combination of brand and product name. Only 21 combinations of brand and product out of the nearly 1500 in our exploration split have two reviews, and there are no combinations with more than two reviews. Because of this low commonality, we couldn't run initial chi-square tests to see if product names have a dependent relationship with five star reviews."
   ]
  },
  {
   "cell_type": "code",
   "execution_count": 6,
   "id": "16256cc6",
   "metadata": {},
   "outputs": [
    {
     "name": "stdout",
     "output_type": "stream",
     "text": [
      "Brand+name with only one review: 1473\n",
      "Brand+name with two reviews: 21\n",
      "Brand+name with more than two reviews: 0\n"
     ]
    }
   ],
   "source": [
    "# show the review repeats and non-repeats\n",
    "print(\"Brand+name with only one review:\", (train[['brand','name']].value_counts() == 1).sum())\n",
    "print(\"Brand+name with two reviews:\", (train[['brand','name']].value_counts() == 2).sum())\n",
    "print(\"Brand+name with more than two reviews:\", (train[['brand','name']].value_counts() > 2).sum())"
   ]
  },
  {
   "cell_type": "markdown",
   "id": "337b6e8e",
   "metadata": {},
   "source": [
    "### Identifying Keywords\n",
    "I've designated certain keywords that I will use to categorize product names. Although that raw list is contained in the explore.py script, the analysis in this notebook will break it down into an organized format.\n",
    "\n",
    "Based on the designated keywords, I ran the following two cells to check remaining values that I missed earlier. If I found a notable word, I added it to the above keyword list and re-ran the cells. I repeated this process until I was satisfied with the words I had designated as keywords."
   ]
  },
  {
   "cell_type": "code",
   "execution_count": 7,
   "id": "ac459cf8",
   "metadata": {},
   "outputs": [
    {
     "data": {
      "text/plain": [
       "True     1377\n",
       "False     138\n",
       "Name: has_keyword, dtype: int64"
      ]
     },
     "execution_count": 7,
     "metadata": {},
     "output_type": "execute_result"
    }
   ],
   "source": [
    "# create has_keyword column, check value counts\n",
    "explore.create_has_keyword(train).has_keyword.value_counts()"
   ]
  },
  {
   "cell_type": "code",
   "execution_count": 8,
   "id": "3635062e",
   "metadata": {},
   "outputs": [
    {
     "name": "stdout",
     "output_type": "stream",
     "text": [
      "Noodles    34\n",
      "Noodle     30\n",
      "Ramen      19\n",
      "Instant    16\n",
      "Cup        14\n",
      "Flavour    11\n",
      "Sauce      11\n",
      "Flavor     10\n",
      "Rasa        9\n",
      "Mi          8\n",
      "dtype: int64\n"
     ]
    }
   ],
   "source": [
    "# check top-10 words\n",
    "explore.check_non_keywords(train)"
   ]
  },
  {
   "cell_type": "markdown",
   "id": "16996ec1",
   "metadata": {},
   "source": [
    "### Categorization Using Domain Research and Translation\n",
    "During and after creating this keyword list, I conducted background research and translation on keywords for the purposes of categorization. **This process took the most time of any step in this project.** \n",
    "\n",
    "I built the categories from scratch and researched whether a word indicated the product belonged to the category or not. After many iterations of this category creation and attribution, I came up with four features, which will be shown later. An early result of this process is contained here as an example.\n",
    "\n",
    "**Taste**\n",
    "* 'Spicy', 'Spice', 'Shin', 'Jjamppong'/'Jjambbong'(seafood), 'Buldalk'(chicken), 'Sutah'(beef), 'Budae'(sausage), 'Habanero', 'Jinjja', 'Jin', 'Yeul', 'Mala', 'Teumsae', 'Bibim', 'Picante', 'Bulnak', 'Volcano', 'Odongtong', 'Sriracha', 'Arrabiata', 'Tom Yum', 'Tom Yam', 'Tom Saab', 'Tom Klong', 'Suki', 'Laksa' (304)\n",
    "* 'Ramyonsari', 'Keopnurungji' (2)\n",
    "* 'Salt', 'Shio', 'Sio' (17)\n",
    "* 'Soy', 'Shoyu', 'Shouyu', 'Teriyaki' (70)\n",
    "* 'Mayo' (6)\n",
    "* 'Cheese' (11)\n",
    "* 'Sweet' (18)\n",
    "* 'Sour', 'sour' (19)\n",
    "* 'Curry' (68)\n",
    "* 'Sesame' (32)\n",
    "* 'Pickle' (11)\n",
    "* 'Masala' (9)\n",
    "\n",
    "As you can see, I grouped keywords loosely here and checked how many products contained at least one of the keywords in each bulletpoint. The code to check that number is shown below as an example."
   ]
  },
  {
   "cell_type": "code",
   "execution_count": 9,
   "id": "a74f5f42",
   "metadata": {},
   "outputs": [
    {
     "data": {
      "text/plain": [
       "70"
      ]
     },
     "execution_count": 9,
     "metadata": {},
     "output_type": "execute_result"
    }
   ],
   "source": [
    "# checking row count having the above noodle types (ran this cell multiple times with different inputs)\n",
    "train.name.str.contains(\"|\".join(['Soy', 'Shoyu', 'Shouyu', 'Teriyaki'])).sum()"
   ]
  },
  {
   "cell_type": "markdown",
   "id": "56406eeb",
   "metadata": {},
   "source": [
    "### Choosing Candidate Features\n",
    "After creating these rough categories and checking row counts, we were able to begin considering what features we should use in our analysis. \n",
    "#### Requirements\n",
    "1. A feature must have at least two unique values \n",
    "    * EX: A 'meat_type' feature must have at least two categories, like 'chicken', 'beef', 'pork', etc\n",
    "1. Each unique value in the feature must have a count of at least 10\n",
    "    * Assumption of chi-square test: each crosstab cell must have at least a value of 5\n",
    "    * Anything less than 10, when split for the crosstab, will not meet this chi-square assumption\n",
    "    * EX: 'chicken' should have at least a count of 10\n",
    "1. The feature's values should be independent from one another \n",
    "    * EX: 'taste_type' should not have individual 'sweet' and 'sour' values because some ramen have 'sweet & sour' in the product name\n",
    "    \n",
    "#### Features that Pass the Above Requirements\n",
    "- noodle_type: \n",
    "    * **wheat** ('Udon', 'Udoin', 'U-Dong', 'U-dong', 'Sano', 'Spaghetti', 'Carbonara', 'Neapolitan', 'Napolitan', 'Kalguksoo') (63)\n",
    "    * **buckwheat** ('Buckwheat', 'Soba') (18)\n",
    "    * **rice** ('Rice', 'Vermicelli', 'Vernicalli', 'Bihun', 'Biryani', 'Tteokbokki', 'Tteobokki', 'Topokki', 'Rabokki') (109)\n",
    "- flavor: \n",
    "    * **miso** ('Miso') (23)\n",
    "    * **chicken** ('Chicken', 'Chikin', 'Duck', 'Pollo', 'Buldalk', 'Buldak', 'Requeijao', 'Gallina') (215)\n",
    "    * **beef** ('Beef', 'Gomtang', 'Seolleongtang', 'Sukiyaki', 'Nam Tok', 'Sutah', 'Sogokimyun', 'Cuchareable', 'Carne', 'Kebab', 'Gentong', 'Bulalo', 'Yukgaejang') (163)\n",
    "    * **pork** ('Pork', 'Prok', 'Jjajangmyeon', 'Jjajangmen', 'Jiajang', 'Jjajang', 'Chacharoni', 'Jjawang', 'Tonkotsu', 'Tomkotsu', 'Bacon', 'Ossyoi', 'Yakibuta', 'Batchoy') (115)\n",
    "    * **crustacean** ('Crab', 'Lobster', 'Shrimp', 'Prawn') (108)\n",
    "    * **mollusk** ('Bajirak', 'Clam', 'Abalone', 'Scallop', 'Vongole') (15)\n",
    "    * **chili** ('Chili', 'Chilli', 'chili', 'Cabe') (37)\n",
    "    * **curry** ('Curry', 'curry', 'Betawi', 'Perisa', 'Kari') (93)\n",
    "    * **chow_mein** ('Chow Mein') (25)\n",
    "    * **kimchi** ('Kimchi', 'Kimchee', 'Sabalmyeon', 'Kim Chee') (24)\n",
    "    * **mushroom** ('Mushroom', 'Shiitake', 'Shitake') (35)\n",
    "    * **tomato** ('Tomato') (21)\n",
    "    * **veggie** ('Clear', 'Veg', 'Oosterse') (86)\n",
    "    * **sesame** ('Sesame', 'Sesami') (33)\n",
    "    * **lime** ('Lime', 'Jeruk Nipis', 'Kalamansi') (11)\n",
    "- spicy:\n",
    "    * **True** ('Spicy', 'Spice', 'Shin', 'Jjamppong'/'Jjambbong'/'Jjampong'/'Champong'(seafood), 'Buldalk'/'Buldak'(chicken), 'Sutah'(beef), 'Budae'(sausage), 'RMy', 'Habanero', 'Jinjja', 'Jin', 'Yeul', 'Mala', 'Teumsae', 'Bibim', 'Picante', 'Bulnak', 'Volcano', 'Odongtong', 'Sriracha', 'Arrabiata', 'Tom Yum', 'Tom Yam', 'tom Yum', 'Tom Saab', 'Tom Klong', 'Suki', 'Laksa', 'Chah Chiang', 'Namja', 'Befikr', 'Mi Goreng', 'Kocek', 'Jalapeno', 'Pad Kee Mao', 'Kokomen', 'Wasabi', 'Kung Pao', 'Kimchi', 'Kimchee', 'Sabalmyeon', 'Kim Chee', 'Nam Tok', 'Sogokimyun', 'Gentong', 'Chili', 'Chilli', 'chili', 'Cabe', 'Yukgaejang', 'Yakisoba', 'Yaki-Soba', 'Yakiosoba') (446)\n",
    "    * **False** ('Miso', 'Requeijao', 'Seolleongtang', 'Sukiyaki', 'Jjajangmyeon', 'Jjajangmen', 'Jiajang', 'Jjajang', 'Chacharoni', 'Jjawang', 'Ossyoi', 'Batchoy', 'Bajirak', 'Mushroom', 'Shiitake', 'Shitake', 'Tomato', 'Clear') (99)\n",
    "- fried:\n",
    "    * **True** ('Stir Fry', 'Stir-Fried', ' Fried', 'Bokkeum', 'Tteokbokki', 'Tteobokki', 'Topokki', 'Yukgaejang', 'Rabokki', 'Yakisoba', 'Yaki-Soba', 'Yakiosoba', 'Goreng', 'Tempura', 'Kung Pao', 'Sukiyaki', 'Kebab', 'Gentong', 'Bulalo', 'Jjajangmyeon', 'Jjajangmen', 'Jiajang', 'Jjajang', 'Chacharoni', 'Jjawang', 'Tonkotsu', 'Tomkotsu', 'Bacon', 'Yakibuta', 'Batchoy', 'Chow Mein') (198)\n",
    "    * **False** ('Non-Fried', 'Requeijao', 'Yakisoba', 'Yaki-Soba', 'Yakiosoba', 'Gomtang', 'Seolleongtang', 'Nam Tok', 'Sutah', 'Sogokimyun', 'Cuchareable', 'Gomtang', 'Yukgaejang', 'Ossyoi', 'Clear') (52)\n",
    "    \n",
    "### Creating the Features, Testing for Relationship to Target\n",
    "After background research and translation, after several rounds of categorization, after restricting categories for testing, and after choosing features that will maintain independence between categories, we finally have something to work with. \n",
    "\n",
    "Now, we will create each feature as described above, then test each feature to see if they have a relationship with our target, five_stars.\n",
    "\n",
    "#### noodle_type"
   ]
  },
  {
   "cell_type": "code",
   "execution_count": 10,
   "id": "c66fa863",
   "metadata": {},
   "outputs": [
    {
     "name": "stdout",
     "output_type": "stream",
     "text": [
      "Noodle type and five-star ratings are independent, did not pass 95% confidence interval.\n",
      "p-value: 0.725\n"
     ]
    }
   ],
   "source": [
    "# create noodle_type feature\n",
    "train = explore.create_noodle_type(train)\n",
    "# test noodle_type for independence\n",
    "explore.chi2_ramen_noodle_type(train)"
   ]
  },
  {
   "cell_type": "markdown",
   "id": "c4cc3ed8",
   "metadata": {},
   "source": [
    "#### flavor"
   ]
  },
  {
   "cell_type": "code",
   "execution_count": 11,
   "id": "4ecbc425",
   "metadata": {},
   "outputs": [
    {
     "name": "stdout",
     "output_type": "stream",
     "text": [
      "Flavor and five-star ratings have a dependent relationship with 95% confidence.\n",
      "p-value: 0.0\n"
     ]
    }
   ],
   "source": [
    "# create flavor feature\n",
    "train = explore.create_flavor(train)\n",
    "# test flavor for independence\n",
    "explore.chi2_ramen_flavor(train)"
   ]
  },
  {
   "cell_type": "markdown",
   "id": "553b8284",
   "metadata": {},
   "source": [
    "#### spicy"
   ]
  },
  {
   "cell_type": "code",
   "execution_count": 12,
   "id": "dd2d9a66",
   "metadata": {},
   "outputs": [
    {
     "name": "stdout",
     "output_type": "stream",
     "text": [
      "Spicy status and five-star ratings have a dependent relationship with 95% confidence.\n",
      "p-value: 0.014\n"
     ]
    }
   ],
   "source": [
    "# create spicy feature\n",
    "train = explore.create_spicy(train)\n",
    "# test spicy for independence\n",
    "explore.chi2_ramen_spicy_status(train)"
   ]
  },
  {
   "cell_type": "markdown",
   "id": "fe971cfe",
   "metadata": {},
   "source": [
    "#### fried"
   ]
  },
  {
   "cell_type": "code",
   "execution_count": 13,
   "id": "df765a2c",
   "metadata": {},
   "outputs": [
    {
     "name": "stdout",
     "output_type": "stream",
     "text": [
      "Fried status and five-star ratings are independent, did not pass 95% confidence interval.\n",
      "p-value: 0.282\n"
     ]
    }
   ],
   "source": [
    "# create fried feature\n",
    "train = explore.create_fried(train)\n",
    "# test fried for independence\n",
    "explore.chi2_ramen_fried_status(train)"
   ]
  },
  {
   "cell_type": "markdown",
   "id": "2b792c15",
   "metadata": {},
   "source": [
    "### Results of Breaking Down Product Name\n",
    "**Through feature engineering and statistical testing, the features 'flavor' and 'spicy' will join 'country' in our univariate and bivariate analysis.**"
   ]
  },
  {
   "cell_type": "code",
   "execution_count": 14,
   "id": "bc61c345",
   "metadata": {},
   "outputs": [],
   "source": [
    "# limit dataframe to the candidate features\n",
    "train = train[['five_stars','country','flavor','spicy']]\n",
    "train['five_stars'] = train['five_stars'].astype('str')"
   ]
  },
  {
   "cell_type": "markdown",
   "id": "316c630f",
   "metadata": {},
   "source": [
    "# Univatiate Look at Our Candidate Features\n",
    "Let's look at histograms for each feature and the target."
   ]
  },
  {
   "cell_type": "code",
   "execution_count": 15,
   "id": "f2711809",
   "metadata": {},
   "outputs": [
    {
     "data": {
      "image/png": "[encoded data removed]",
      "text/plain": [
       "<Figure size 432x288 with 1 Axes>"
      ]
     },
     "metadata": {
      "needs_background": "light"
     },
     "output_type": "display_data"
    },
    {
     "data": {
      "image/png": "[encoded data removed]",
      "text/plain": [
       "<Figure size 432x288 with 1 Axes>"
      ]
     },
     "metadata": {
      "needs_background": "light"
     },
     "output_type": "display_data"
    },
    {
     "data": {
      "image/png": "[encoded data removed]",
      "text/plain": [
       "<Figure size 432x288 with 1 Axes>"
      ]
     },
     "metadata": {
      "needs_background": "light"
     },
     "output_type": "display_data"
    },
    {
     "data": {
      "image/png": "[encoded data removed]",
      "text/plain": [
       "<Figure size 432x288 with 1 Axes>"
      ]
     },
     "metadata": {
      "needs_background": "light"
     },
     "output_type": "display_data"
    }
   ],
   "source": [
    "# initial univariate histograms\n",
    "sns.histplot(train.five_stars.sort_values(ascending=False)) # five_stars\n",
    "plt.title('Target: five_stars')\n",
    "plt.xlabel('')\n",
    "plt.show()\n",
    "\n",
    "sns.histplot(train.country) # country\n",
    "plt.title('Feature: country')\n",
    "plt.xticks(rotation=90)\n",
    "plt.xlabel('')\n",
    "plt.show()\n",
    "\n",
    "sns.histplot(train.flavor.dropna()) # flavor\n",
    "plt.title('Feature: flavor')\n",
    "plt.xticks(rotation=60)\n",
    "plt.xlabel('')\n",
    "plt.show()\n",
    "\n",
    "sns.histplot(train.spicy.dropna().sort_values(ascending=False)) # spicy\n",
    "plt.title('Feature: spicy')\n",
    "plt.xlabel('')\n",
    "plt.show()"
   ]
  },
  {
   "cell_type": "markdown",
   "id": "7df5def6",
   "metadata": {},
   "source": [
    "The features 'country' and 'flavor' have multiple categories. We will need to split these categories out for modeling.\n",
    "\n",
    "# Each Country and Flavor Into Brackets\n",
    "We need to split out the country and flavor columns to make visual comparison easier. To do this, we will eliminate values that do not meet statistical minimums and create features for the values that meet requirements.\n",
    "\n",
    "## Country\n",
    "### Check Total Reviews and Number of Five-Star Reviews\n",
    "We will look at three metrics for each country:\n",
    "1. Total number of reviews\n",
    "2. Total number of five-star reviews\n",
    "3. The proportion of five-star reviews\n",
    "\n",
    "To break down the 'country' feature into valuable one-hot-encoded features, **we will only keep countries that have:**\n",
    "1. At least 30 reviews\n",
    "2. At least 5 five-star reviews\n",
    "\n",
    "Countries that meet these requirements will be placed in a relative **low-, medium- or high-proportion bracket** for the proportion of 5-star reviews against total reviews for that country. These three brackets should prove valuable for a predictive model."
   ]
  },
  {
   "cell_type": "code",
   "execution_count": 16,
   "id": "806d263c",
   "metadata": {},
   "outputs": [],
   "source": [
    "# check counts\n",
    "results_list = explore.country_five_star_counts(train)\n",
    "# results_list # uncomment to see results of the test - markdown text below formats the results"
   ]
  },
  {
   "cell_type": "markdown",
   "id": "d59c7ff2",
   "metadata": {},
   "source": [
    "### Results\n",
    "**Countries with enough 5-star reviews to continue (at least 5):**\n",
    "> - **Japan:** 213 total reviews, 19% 5-star\n",
    "> - **USA:** 193 total reviews, 8% 5-star\n",
    "> - **South Korea:** 188 total reviews, 16% 5-star\n",
    "> - **Taiwan:** 132 total reviews, 21% 5-star\n",
    "> - **China:** 112 total reviews, 4% 5-star\n",
    "> - **Thailand:** 108 total reviews, 8% 5-star\n",
    "> - **Malaysia:** 92 total reviews, 34% 5-star\n",
    "> - **Hong Kong:** 88 total reviews, 20% 5-star\n",
    "> - **Indonesia:** 71 total reviews, 16% 5-star\n",
    "> - **Singapore:** 57 total reviews, 28% 5-star\n",
    "\n",
    "**Countries without enough 5-star reviews:**\n",
    "> UK, India, Canada, Philippines, Mexico, Cambodia, Netherlands, Australia, Nepal, Vietnam, Myanmar, Germany, Pakistan, Hungary, Colombia, Bangladesh, Brazil \n",
    "\n",
    "### Bracket Countries Based on Proportion of Five-Star Reviews\n",
    "Based on the results list, I've ordered the results below in terms of review count. I've also split the group into low-, medium-, and high-percentage countries."
   ]
  },
  {
   "cell_type": "code",
   "execution_count": 17,
   "id": "e68f9d20",
   "metadata": {},
   "outputs": [],
   "source": [
    "# make list of final countries\n",
    "final_countries = ['Japan', 'USA', 'South Korea', 'Taiwan', 'China', 'Thailand', \n",
    "                   'Malaysia', 'Hong Kong', 'Indonesia', 'Singapore']\n",
    "\n",
    "# bracket countries into high-, medium-, and low-proportion five star review brackets\n",
    "high_percent_5star = ['Malaysia', 'Singapore', 'Taiwan']\n",
    "mid_percent_5star = ['Hong Kong', 'Japan', 'South Korea', 'Indonesia']\n",
    "low_percent_5star = ['China', 'Thailand', 'USA']"
   ]
  },
  {
   "cell_type": "markdown",
   "id": "15669d0b",
   "metadata": {},
   "source": [
    "I used these brackets to create new features then dropped the country column."
   ]
  },
  {
   "cell_type": "code",
   "execution_count": 18,
   "id": "213c035d",
   "metadata": {},
   "outputs": [
    {
     "data": {
      "text/html": [
       "<div>\n",
       "<style scoped>\n",
       "    .dataframe tbody tr th:only-of-type {\n",
       "        vertical-align: middle;\n",
       "    }\n",
       "\n",
       "    .dataframe tbody tr th {\n",
       "        vertical-align: top;\n",
       "    }\n",
       "\n",
       "    .dataframe thead th {\n",
       "        text-align: right;\n",
       "    }\n",
       "</style>\n",
       "<table border=\"1\" class=\"dataframe\">\n",
       "  <thead>\n",
       "    <tr style=\"text-align: right;\">\n",
       "      <th></th>\n",
       "      <th>five_stars</th>\n",
       "      <th>flavor</th>\n",
       "      <th>spicy</th>\n",
       "      <th>many_5stars_country</th>\n",
       "      <th>moderate_5stars_country</th>\n",
       "      <th>few_5stars_country</th>\n",
       "      <th>unknown_5stars_country</th>\n",
       "    </tr>\n",
       "  </thead>\n",
       "  <tbody>\n",
       "    <tr>\n",
       "      <th>2566</th>\n",
       "      <td>False</td>\n",
       "      <td>NaN</td>\n",
       "      <td>NaN</td>\n",
       "      <td>False</td>\n",
       "      <td>True</td>\n",
       "      <td>False</td>\n",
       "      <td>False</td>\n",
       "    </tr>\n",
       "    <tr>\n",
       "      <th>332</th>\n",
       "      <td>True</td>\n",
       "      <td>NaN</td>\n",
       "      <td>True</td>\n",
       "      <td>False</td>\n",
       "      <td>False</td>\n",
       "      <td>True</td>\n",
       "      <td>False</td>\n",
       "    </tr>\n",
       "    <tr>\n",
       "      <th>1363</th>\n",
       "      <td>False</td>\n",
       "      <td>curry</td>\n",
       "      <td>NaN</td>\n",
       "      <td>False</td>\n",
       "      <td>True</td>\n",
       "      <td>False</td>\n",
       "      <td>False</td>\n",
       "    </tr>\n",
       "  </tbody>\n",
       "</table>\n",
       "</div>"
      ],
      "text/plain": [
       "     five_stars flavor spicy  many_5stars_country  moderate_5stars_country  \\\n",
       "2566      False    NaN   NaN                False                     True   \n",
       "332        True    NaN  True                False                    False   \n",
       "1363      False  curry   NaN                False                     True   \n",
       "\n",
       "      few_5stars_country  unknown_5stars_country  \n",
       "2566               False                   False  \n",
       "332                 True                   False  \n",
       "1363               False                   False  "
      ]
     },
     "execution_count": 18,
     "metadata": {},
     "output_type": "execute_result"
    }
   ],
   "source": [
    "train = explore.country_five_star_features(train)\n",
    "train.head(3)"
   ]
  },
  {
   "cell_type": "markdown",
   "id": "1bd79cc0",
   "metadata": {},
   "source": [
    "## Flavor\n",
    "### Check Total Reviews and Number of Five-Star Reviews\n",
    "We applied similar requirements to Flavor as we did for Country.\n",
    "\n",
    "We will look at three metrics for each flavor:\n",
    "1. Total number of reviews\n",
    "2. Total number of five-star reviews\n",
    "3. The proportion of five-star reviews\n",
    "\n",
    "To break down the 'flavor' feature into valuable one-hot-encoded features, **we will only keep flavors that have:**\n",
    "1. At least 30 reviews\n",
    "2. At least 5 five-star reviews\n",
    "\n",
    "Flavors that meet these requirements will be placed in a relative **low-, medium- or high-proportion bracket** for the proportion of 5-star reviews against total reviews for that flavor. These three brackets should prove valuable for a predictive model."
   ]
  },
  {
   "cell_type": "code",
   "execution_count": 19,
   "id": "e75b05f0",
   "metadata": {},
   "outputs": [],
   "source": [
    "# check counts\n",
    "results_list = explore.flavor_five_star_counts(train)\n",
    "# results_list # uncomment to see results of the test - markdown text below formats the results"
   ]
  },
  {
   "cell_type": "markdown",
   "id": "e288c474",
   "metadata": {},
   "source": [
    "### Results\n",
    "**Flavors with enough 5-star reviews to continue (at least 5):**\n",
    "> - **chicken:** 175 reviews, 9% 5-star\n",
    "> - **beef:** 149 reviews, 4% 5-star\n",
    "> - **pork:** 106 reviews, 17% 5-star\n",
    "> - **crustacean:** 98 reviews, 16% 5-star\n",
    "> - **curry:** 92 reviews, 28% 5-star\n",
    "> - **sesame:** 33 reviews, 24% 5-star\n",
    "\n",
    "**Flavors without enough 5-star reviews:**\n",
    "> veggie, tomato, mollusk, mushroom, miso, chili, lime, chow_mein, kimchi\n",
    "\n",
    "### Bracket Flavors Based on Proportion of Five-Star Reviews\n",
    "Based on the results list, I've ordered the results below in terms of review count. I've also split the group into low-, medium-, and high-percentage flavors."
   ]
  },
  {
   "cell_type": "code",
   "execution_count": 20,
   "id": "39f4ce21",
   "metadata": {},
   "outputs": [],
   "source": [
    "# make list of final flavors\n",
    "final_flavors = ['curry', 'chicken', 'crustacean', 'beef', 'sesame', 'pork']\n",
    "\n",
    "# make three brackets based on 5-star proportion\n",
    "high_percent_5star = ['curry', 'sesame']\n",
    "mid_percent_5star = ['pork', 'crustacean']\n",
    "low_percent_5star = ['chicken', 'beef']"
   ]
  },
  {
   "cell_type": "markdown",
   "id": "7258731f",
   "metadata": {},
   "source": [
    "I used these brackets to create new features then dropped the flavor column."
   ]
  },
  {
   "cell_type": "code",
   "execution_count": 21,
   "id": "f353b6c3",
   "metadata": {},
   "outputs": [
    {
     "data": {
      "text/html": [
       "<div>\n",
       "<style scoped>\n",
       "    .dataframe tbody tr th:only-of-type {\n",
       "        vertical-align: middle;\n",
       "    }\n",
       "\n",
       "    .dataframe tbody tr th {\n",
       "        vertical-align: top;\n",
       "    }\n",
       "\n",
       "    .dataframe thead th {\n",
       "        text-align: right;\n",
       "    }\n",
       "</style>\n",
       "<table border=\"1\" class=\"dataframe\">\n",
       "  <thead>\n",
       "    <tr style=\"text-align: right;\">\n",
       "      <th></th>\n",
       "      <th>five_stars</th>\n",
       "      <th>spicy</th>\n",
       "      <th>many_5stars_country</th>\n",
       "      <th>moderate_5stars_country</th>\n",
       "      <th>few_5stars_country</th>\n",
       "      <th>unknown_5stars_country</th>\n",
       "      <th>many_5stars_flavor</th>\n",
       "      <th>moderate_5stars_flavor</th>\n",
       "      <th>few_5stars_flavor</th>\n",
       "      <th>unknown_5stars_flavor</th>\n",
       "    </tr>\n",
       "  </thead>\n",
       "  <tbody>\n",
       "    <tr>\n",
       "      <th>2566</th>\n",
       "      <td>False</td>\n",
       "      <td>NaN</td>\n",
       "      <td>False</td>\n",
       "      <td>True</td>\n",
       "      <td>False</td>\n",
       "      <td>False</td>\n",
       "      <td>False</td>\n",
       "      <td>False</td>\n",
       "      <td>False</td>\n",
       "      <td>False</td>\n",
       "    </tr>\n",
       "    <tr>\n",
       "      <th>332</th>\n",
       "      <td>True</td>\n",
       "      <td>True</td>\n",
       "      <td>False</td>\n",
       "      <td>False</td>\n",
       "      <td>True</td>\n",
       "      <td>False</td>\n",
       "      <td>False</td>\n",
       "      <td>False</td>\n",
       "      <td>False</td>\n",
       "      <td>False</td>\n",
       "    </tr>\n",
       "    <tr>\n",
       "      <th>1363</th>\n",
       "      <td>False</td>\n",
       "      <td>NaN</td>\n",
       "      <td>False</td>\n",
       "      <td>True</td>\n",
       "      <td>False</td>\n",
       "      <td>False</td>\n",
       "      <td>True</td>\n",
       "      <td>False</td>\n",
       "      <td>False</td>\n",
       "      <td>False</td>\n",
       "    </tr>\n",
       "  </tbody>\n",
       "</table>\n",
       "</div>"
      ],
      "text/plain": [
       "     five_stars spicy  many_5stars_country  moderate_5stars_country  \\\n",
       "2566      False   NaN                False                     True   \n",
       "332        True  True                False                    False   \n",
       "1363      False   NaN                False                     True   \n",
       "\n",
       "      few_5stars_country  unknown_5stars_country  many_5stars_flavor  \\\n",
       "2566               False                   False               False   \n",
       "332                 True                   False               False   \n",
       "1363               False                   False                True   \n",
       "\n",
       "      moderate_5stars_flavor  few_5stars_flavor  unknown_5stars_flavor  \n",
       "2566                   False              False                  False  \n",
       "332                    False              False                  False  \n",
       "1363                   False              False                  False  "
      ]
     },
     "execution_count": 21,
     "metadata": {},
     "output_type": "execute_result"
    }
   ],
   "source": [
    "# bracket countries into high-, medium-, and low-proportion five star review brackets\n",
    "train = explore.flavor_five_star_features(train)\n",
    "train.head(3)"
   ]
  },
  {
   "cell_type": "markdown",
   "id": "0f9f79e2",
   "metadata": {},
   "source": [
    "## Final Features: Bivariate Look in Terms of Target\n",
    "Now that we have our final features, let's look at how our features vary in terms of our target, five_stars. \n",
    "\n",
    "**We are specifically looking at differences in ratio between blue and orange charts for each feature.**"
   ]
  },
  {
   "cell_type": "code",
   "execution_count": 22,
   "id": "0d06cd59",
   "metadata": {
    "scrolled": false
   },
   "outputs": [
    {
     "name": "stdout",
     "output_type": "stream",
     "text": [
      "-------------------- spicy --------------------\n",
      "True     435\n",
      "False     99\n",
      "Name: spicy, dtype: int64\n"
     ]
    },
    {
     "data": {
      "image/png": "[encoded data removed]",
      "text/plain": [
       "<Figure size 432x288 with 2 Axes>"
      ]
     },
     "metadata": {
      "needs_background": "light"
     },
     "output_type": "display_data"
    },
    {
     "name": "stdout",
     "output_type": "stream",
     "text": [
      "Not 5-Star t/f ratio: 79%\n",
      "Is 5-Star t/f ratio: 90%\n",
      "Percent Difference of Is 5-Star / Not 5-Star: 113%\n",
      "-------------------- many_5stars_country --------------------\n",
      "False    1234\n",
      "True      281\n",
      "Name: many_5stars_country, dtype: int64\n"
     ]
    },
    {
     "data": {
      "image/png": "[encoded data removed]",
      "text/plain": [
       "<Figure size 432x288 with 2 Axes>"
      ]
     },
     "metadata": {
      "needs_background": "light"
     },
     "output_type": "display_data"
    },
    {
     "name": "stdout",
     "output_type": "stream",
     "text": [
      "Not 5-Star t/f ratio: 15%\n",
      "Is 5-Star t/f ratio: 33%\n",
      "Percent Difference of Is 5-Star / Not 5-Star: 211%\n",
      "-------------------- moderate_5stars_country --------------------\n",
      "False    955\n",
      "True     560\n",
      "Name: moderate_5stars_country, dtype: int64\n"
     ]
    },
    {
     "data": {
      "image/png": "[encoded data removed]",
      "text/plain": [
       "<Figure size 432x288 with 2 Axes>"
      ]
     },
     "metadata": {
      "needs_background": "light"
     },
     "output_type": "display_data"
    },
    {
     "name": "stdout",
     "output_type": "stream",
     "text": [
      "Not 5-Star t/f ratio: 35%\n",
      "Is 5-Star t/f ratio: 45%\n",
      "Percent Difference of Is 5-Star / Not 5-Star: 128%\n",
      "-------------------- few_5stars_country --------------------\n",
      "False    1102\n",
      "True      413\n",
      "Name: few_5stars_country, dtype: int64\n"
     ]
    },
    {
     "data": {
      "image/png": "[encoded data removed]",
      "text/plain": [
       "<Figure size 432x288 with 2 Axes>"
      ]
     },
     "metadata": {
      "needs_background": "light"
     },
     "output_type": "display_data"
    },
    {
     "name": "stdout",
     "output_type": "stream",
     "text": [
      "Not 5-Star t/f ratio: 29%\n",
      "Is 5-Star t/f ratio: 13%\n",
      "Percent Difference of Is 5-Star / Not 5-Star: 46%\n",
      "-------------------- unknown_5stars_country --------------------\n",
      "False    1254\n",
      "True      261\n",
      "Name: unknown_5stars_country, dtype: int64\n"
     ]
    },
    {
     "data": {
      "image/png": "[encoded data removed]",
      "text/plain": [
       "<Figure size 432x288 with 2 Axes>"
      ]
     },
     "metadata": {
      "needs_background": "light"
     },
     "output_type": "display_data"
    },
    {
     "name": "stdout",
     "output_type": "stream",
     "text": [
      "Not 5-Star t/f ratio: 19%\n",
      "Is 5-Star t/f ratio: 7%\n",
      "Percent Difference of Is 5-Star / Not 5-Star: 37%\n",
      "-------------------- many_5stars_flavor --------------------\n",
      "False    1390\n",
      "True      125\n",
      "Name: many_5stars_flavor, dtype: int64\n"
     ]
    },
    {
     "data": {
      "image/png": "[encoded data removed]",
      "text/plain": [
       "<Figure size 432x288 with 2 Axes>"
      ]
     },
     "metadata": {
      "needs_background": "light"
     },
     "output_type": "display_data"
    },
    {
     "name": "stdout",
     "output_type": "stream",
     "text": [
      "Not 5-Star t/f ratio: 7%\n",
      "Is 5-Star t/f ratio: 15%\n",
      "Percent Difference of Is 5-Star / Not 5-Star: 213%\n",
      "-------------------- moderate_5stars_flavor --------------------\n",
      "False    1311\n",
      "True      204\n",
      "Name: moderate_5stars_flavor, dtype: int64\n"
     ]
    },
    {
     "data": {
      "image/png": "[encoded data removed]",
      "text/plain": [
       "<Figure size 432x288 with 2 Axes>"
      ]
     },
     "metadata": {
      "needs_background": "light"
     },
     "output_type": "display_data"
    },
    {
     "name": "stdout",
     "output_type": "stream",
     "text": [
      "Not 5-Star t/f ratio: 13%\n",
      "Is 5-Star t/f ratio: 15%\n",
      "Percent Difference of Is 5-Star / Not 5-Star: 118%\n",
      "-------------------- few_5stars_flavor --------------------\n",
      "False    1191\n",
      "True      324\n",
      "Name: few_5stars_flavor, dtype: int64\n"
     ]
    },
    {
     "data": {
      "image/png": "[encoded data removed]",
      "text/plain": [
       "<Figure size 432x288 with 2 Axes>"
      ]
     },
     "metadata": {
      "needs_background": "light"
     },
     "output_type": "display_data"
    },
    {
     "name": "stdout",
     "output_type": "stream",
     "text": [
      "Not 5-Star t/f ratio: 23%\n",
      "Is 5-Star t/f ratio: 10%\n",
      "Percent Difference of Is 5-Star / Not 5-Star: 43%\n",
      "-------------------- unknown_5stars_flavor --------------------\n",
      "False    1255\n",
      "True      260\n",
      "Name: unknown_5stars_flavor, dtype: int64\n"
     ]
    },
    {
     "data": {
      "image/png": "[encoded data removed]",
      "text/plain": [
       "<Figure size 432x288 with 2 Axes>"
      ]
     },
     "metadata": {
      "needs_background": "light"
     },
     "output_type": "display_data"
    },
    {
     "name": "stdout",
     "output_type": "stream",
     "text": [
      "Not 5-Star t/f ratio: 18%\n",
      "Is 5-Star t/f ratio: 7%\n",
      "Percent Difference of Is 5-Star / Not 5-Star: 39%\n"
     ]
    }
   ],
   "source": [
    "# visualize target/non-target charts for each feature here\n",
    "# include exact numbers and proportions\n",
    "explore.bivariate_bars(train)"
   ]
  },
  {
   "cell_type": "markdown",
   "id": "581a9eb5",
   "metadata": {},
   "source": [
    "## Features Against the Target - Results\n",
    "These results come from the above visualizations. Simply put, it compares the ratio in the blue charts against the ratio in the orange charts. **Larger differences in ratio are great as features for a predictive model.**\n",
    "> - **spicy: 13% increase;** 79% ratio in Not 5-Star -> 90% ratio in Is 5-Star\n",
    "> - **many_5stars_country: 111% increase;** 15% ratio in Not 5-Star -> 33% ratio in Is 5-Star\n",
    "> - **moderate_5stars_country: 28% increase;** 35% ratio in Not 5-Star -> 45% ratio in Is 5-Star\n",
    "> - **few_5stars_country: 54% decrease;** 29% ratio in Not 5-Star -> 13% ratio in Is 5-Star\n",
    "> - **unknown_5stars_country: 63% decrease;** 19% ratio in Not 5-Star -> 7% ratio in Is 5-Star\n",
    "> - **many_5stars_flavor: 113% increase;** 7% ratio in Not 5-Star -> 15% ratio in Is 5-Star\n",
    "> - **moderate_5stars_flavor: 18% increase;** 13% ratio in Not 5-Star -> 15% ratio in Is 5-Star\n",
    "> - **few_5stars_flavor: 57% decrease;** 23% ratio in Not 5-Star -> 10% ratio in Is 5-Star\n",
    "> - **unknown_5stars_flavor: 61% decrease;** 18% ratio in Not 5-Star -> 7% ratio in Is 5-Star\n",
    "\n",
    "**All of these features are technically valid for the model. We will recreate these features in wrangle.py for each data split.**\n",
    "\n",
    "# <center>Model\n",
    "## Bottom Line Up Front: What I Did for Model\n",
    "- Prepared entire dataset with model features\n",
    "- Chose F1 Score as our main evaluation metric due to prioritizing accuracy in presence of imbalanced classes\n",
    "- Split dataset into Train, Validate, and Test\n",
    "- Applied SMOTE+Tomek resampling to fix the class imbalance in our target for the Train split\n",
    "- Built, fit several classification models and hyperparameter combinations on resampled Train split\n",
    "- Evaluated baseline and all model performances on Validate, chose best model (Logistic Regression)\n",
    "- Chose not to use Grid Search to optimize hyperparameters due to nature of Logistic Regression hyperparameters\n",
    "- Evaluated baseline and best model's ROC Curve AUC\n",
    "- Evaluated baseline and best model on sequestered Test split\n",
    "    \n",
    "# Model Preparation\n",
    "## Preparing All Data Splits\n",
    "Here, we start with the original data, create the same final features as created above, then split the data into our model training split and our two out-of-sample splits. Validate will be used to choose our best model and Test will be used to evaluate our best model a second time."
   ]
  },
  {
   "cell_type": "code",
   "execution_count": 23,
   "id": "3b014b54",
   "metadata": {},
   "outputs": [
    {
     "name": "stdout",
     "output_type": "stream",
     "text": [
      "Train size: (1515, 11) Validate size: (506, 11) Test size: (506, 11)\n"
     ]
    },
    {
     "data": {
      "text/plain": [
       "((1515, 10), (506, 10), (506, 10))"
      ]
     },
     "execution_count": 23,
     "metadata": {},
     "output_type": "execute_result"
    }
   ],
   "source": [
    "# import prepared data\n",
    "X_train, y_train, X_validate, y_validate, X_test, y_test = wrangle.prep_model()\n",
    "# check import\n",
    "X_train.shape, X_validate.shape, X_test.shape"
   ]
  },
  {
   "cell_type": "markdown",
   "id": "0c9fc732",
   "metadata": {},
   "source": [
    "## Handling Class Imbalance\n",
    "We will need to resample our training split so that the classes are balanced. This will improve the performance of our models."
   ]
  },
  {
   "cell_type": "code",
   "execution_count": 24,
   "id": "989f7356",
   "metadata": {},
   "outputs": [
    {
     "data": {
      "image/png": "[encoded data removed]",
      "text/plain": [
       "<Figure size 432x288 with 1 Axes>"
      ]
     },
     "metadata": {
      "needs_background": "light"
     },
     "output_type": "display_data"
    }
   ],
   "source": [
    "# display class imbalance\n",
    "sns.histplot(y_train.astype('string'))\n",
    "plt.title('Imbalanced Classes - Need Resampling')\n",
    "plt.show()"
   ]
  },
  {
   "cell_type": "code",
   "execution_count": 25,
   "id": "ed428919",
   "metadata": {},
   "outputs": [
    {
     "name": "stdout",
     "output_type": "stream",
     "text": [
      "Before SMOTE+Tomek applied: (1515, 10) (1515,)\n",
      "After SMOTE+Tomek applied: (2578, 10) (2578,)\n"
     ]
    }
   ],
   "source": [
    "# resample classes in train split\n",
    "X_train, y_train = model.resampler(X_train, y_train)"
   ]
  },
  {
   "cell_type": "code",
   "execution_count": 26,
   "id": "b562d128",
   "metadata": {},
   "outputs": [
    {
     "data": {
      "image/png": "[encoded data removed]",
      "text/plain": [
       "<Figure size 432x288 with 1 Axes>"
      ]
     },
     "metadata": {
      "needs_background": "light"
     },
     "output_type": "display_data"
    }
   ],
   "source": [
    "# show results of resampling\n",
    "sns.histplot(y_train.astype('string'))\n",
    "plt.title('Training Split Classes No Longer Imbalanced')\n",
    "plt.show()"
   ]
  },
  {
   "cell_type": "markdown",
   "id": "45bfeba9",
   "metadata": {},
   "source": [
    "## Model Priorities\n",
    "Before building a model, we should first consider which evaluation metric to optimize for.\n",
    "1. Should we focus on capturing as many five-star reviews as possible? (Recall/Sensitivity)\n",
    "2. Should we focus on limiting incorrect five-star review guesses? (Precision)\n",
    "3. Should we focus on **guessing the minority class while retaining overall accuracy?** (F1 Score)\n",
    "4. Should we focus on accurately classifying five-star and not-five-star reviews equally? (Accuracy)\n",
    "5. Should we focus on capturing as many not-five-star reviews as possible? (Specificity)\n",
    "\n",
    "Since our goal is to predict five-star reviews (the minority class) while being accurate overall, **we should use the F1 Score as our main evaluation metric.**\n",
    "\n",
    "# Model Creation\n",
    "Now that the data is prepared and we've picked our main evaluation metric, this is our plan for modeling:\n",
    "1. First, we will create multiple standard models from a script I created.\n",
    "2. We will see which algorithms seem to perform best for F1 Score on the Validate split (our repeat-access out-of-sample split)\n",
    "3. We will choose one algorithm and use Grid Search to optimize hyperparameters for F1 Score\n",
    "4. We will choose 5 hyperparameter combinations and generate ROC Curves and calculate ROC AUC for each\n",
    "5. We will pick the model with the highest AUC (best model)\n",
    "6. Finally, evaluate model on Test split (our sequestered out-of-sample split)\n",
    "\n",
    "## Creating Standard Classification Models - Script\n",
    "My script creates the following models:\n",
    "1. Choose Most Common Class as Prediction (Mode Baseline)\n",
    "2. Decision Tree (DecisionTreeClassifier), max_depths = [1,2,3,5,10]\n",
    "3. Random Forest (RandomForestClassifier), max_depths = [1,2,3,5,10]\n",
    "4. Logistic Regression (LogisticRegression)\n",
    "5. Naive Bayes (GaussianNB), smooth_levels = [.00001, .0001, .001, .01, 10, 100]\n",
    "6. K-Nearest Neighbors (KNeighborsClassifier), neighbor_counts = [3,5,10,25,75]\n",
    "\n",
    "It **fits** these models on our Train split and **generates predictions for Train and Validate** splits. Then it **returns a predictions dataframe** where the first column is the actual observed values and each additional column contains one model's predictions. **This predictions dataframe will be put through an evaluation function** in the next section."
   ]
  },
  {
   "cell_type": "code",
   "execution_count": 27,
   "id": "4df1cbae",
   "metadata": {},
   "outputs": [
    {
     "name": "stdout",
     "output_type": "stream",
     "text": [
      "[18:36:45] WARNING: /Users/runner/miniforge3/conda-bld/xgboost-split_1637426408905/work/src/learner.cc:1115: Starting in XGBoost 1.3.0, the default evaluation metric used with the objective 'binary:logistic' was changed from 'error' to 'logloss'. Explicitly set eval_metric if you'd like to restore the old behavior.\n",
      "[18:36:45] WARNING: /Users/runner/miniforge3/conda-bld/xgboost-split_1637426408905/work/src/learner.cc:1115: Starting in XGBoost 1.3.0, the default evaluation metric used with the objective 'binary:logistic' was changed from 'error' to 'logloss'. Explicitly set eval_metric if you'd like to restore the old behavior.\n",
      "[18:36:45] WARNING: /Users/runner/miniforge3/conda-bld/xgboost-split_1637426408905/work/src/learner.cc:1115: Starting in XGBoost 1.3.0, the default evaluation metric used with the objective 'binary:logistic' was changed from 'error' to 'logloss'. Explicitly set eval_metric if you'd like to restore the old behavior.\n",
      "[18:36:46] WARNING: /Users/runner/miniforge3/conda-bld/xgboost-split_1637426408905/work/src/learner.cc:1115: Starting in XGBoost 1.3.0, the default evaluation metric used with the objective 'binary:logistic' was changed from 'error' to 'logloss'. Explicitly set eval_metric if you'd like to restore the old behavior.\n"
     ]
    }
   ],
   "source": [
    "# run the script\n",
    "y_train_preds, y_val_preds = model.classification_shotgun(X_train, y_train, X_validate, y_validate)"
   ]
  },
  {
   "cell_type": "markdown",
   "id": "47049510",
   "metadata": {},
   "source": [
    "Additionally, we will need to generate a column of predictions for our minority class. This will be used to compare the baseline against the models on out-of-sample data."
   ]
  },
  {
   "cell_type": "code",
   "execution_count": 28,
   "id": "6bd6e4e5",
   "metadata": {},
   "outputs": [],
   "source": [
    "# add prediction column for five_stars = True (minority class)\n",
    "y_train_preds, y_val_preds = model.manual_baseline(y_train_preds, y_val_preds, True)"
   ]
  },
  {
   "cell_type": "markdown",
   "id": "8fb6aee1",
   "metadata": {},
   "source": [
    "Let's check to make sure everything worked properly."
   ]
  },
  {
   "cell_type": "code",
   "execution_count": 29,
   "id": "078a62d5",
   "metadata": {},
   "outputs": [
    {
     "data": {
      "text/html": [
       "<div>\n",
       "<style scoped>\n",
       "    .dataframe tbody tr th:only-of-type {\n",
       "        vertical-align: middle;\n",
       "    }\n",
       "\n",
       "    .dataframe tbody tr th {\n",
       "        vertical-align: top;\n",
       "    }\n",
       "\n",
       "    .dataframe thead th {\n",
       "        text-align: right;\n",
       "    }\n",
       "</style>\n",
       "<table border=\"1\" class=\"dataframe\">\n",
       "  <thead>\n",
       "    <tr style=\"text-align: right;\">\n",
       "      <th></th>\n",
       "      <th>in_actuals</th>\n",
       "      <th>mode_baseline</th>\n",
       "      <th>tree_maxdepth1</th>\n",
       "      <th>tree_maxdepth2</th>\n",
       "      <th>tree_maxdepth3</th>\n",
       "      <th>tree_maxdepth5</th>\n",
       "      <th>tree_maxdepth10</th>\n",
       "      <th>rf_depth1</th>\n",
       "      <th>rf_depth2</th>\n",
       "      <th>rf_depth3</th>\n",
       "      <th>...</th>\n",
       "      <th>knn_n3</th>\n",
       "      <th>knn_n5</th>\n",
       "      <th>knn_n10</th>\n",
       "      <th>knn_n25</th>\n",
       "      <th>knn_n75</th>\n",
       "      <th>xgb_maxdepth3</th>\n",
       "      <th>xgb_maxdepth5</th>\n",
       "      <th>xgb_maxdepth7</th>\n",
       "      <th>xgb_maxdepth9</th>\n",
       "      <th>manual_baseline</th>\n",
       "    </tr>\n",
       "  </thead>\n",
       "  <tbody>\n",
       "    <tr>\n",
       "      <th>0</th>\n",
       "      <td>False</td>\n",
       "      <td>False</td>\n",
       "      <td>False</td>\n",
       "      <td>True</td>\n",
       "      <td>True</td>\n",
       "      <td>True</td>\n",
       "      <td>True</td>\n",
       "      <td>True</td>\n",
       "      <td>True</td>\n",
       "      <td>True</td>\n",
       "      <td>...</td>\n",
       "      <td>False</td>\n",
       "      <td>False</td>\n",
       "      <td>False</td>\n",
       "      <td>False</td>\n",
       "      <td>False</td>\n",
       "      <td>True</td>\n",
       "      <td>True</td>\n",
       "      <td>True</td>\n",
       "      <td>True</td>\n",
       "      <td>True</td>\n",
       "    </tr>\n",
       "    <tr>\n",
       "      <th>1</th>\n",
       "      <td>True</td>\n",
       "      <td>False</td>\n",
       "      <td>False</td>\n",
       "      <td>False</td>\n",
       "      <td>False</td>\n",
       "      <td>True</td>\n",
       "      <td>True</td>\n",
       "      <td>False</td>\n",
       "      <td>False</td>\n",
       "      <td>True</td>\n",
       "      <td>...</td>\n",
       "      <td>True</td>\n",
       "      <td>False</td>\n",
       "      <td>False</td>\n",
       "      <td>True</td>\n",
       "      <td>True</td>\n",
       "      <td>True</td>\n",
       "      <td>True</td>\n",
       "      <td>True</td>\n",
       "      <td>True</td>\n",
       "      <td>True</td>\n",
       "    </tr>\n",
       "    <tr>\n",
       "      <th>2</th>\n",
       "      <td>False</td>\n",
       "      <td>False</td>\n",
       "      <td>False</td>\n",
       "      <td>True</td>\n",
       "      <td>True</td>\n",
       "      <td>True</td>\n",
       "      <td>True</td>\n",
       "      <td>True</td>\n",
       "      <td>True</td>\n",
       "      <td>True</td>\n",
       "      <td>...</td>\n",
       "      <td>False</td>\n",
       "      <td>False</td>\n",
       "      <td>False</td>\n",
       "      <td>False</td>\n",
       "      <td>True</td>\n",
       "      <td>True</td>\n",
       "      <td>True</td>\n",
       "      <td>True</td>\n",
       "      <td>True</td>\n",
       "      <td>True</td>\n",
       "    </tr>\n",
       "    <tr>\n",
       "      <th>3</th>\n",
       "      <td>False</td>\n",
       "      <td>False</td>\n",
       "      <td>False</td>\n",
       "      <td>True</td>\n",
       "      <td>False</td>\n",
       "      <td>False</td>\n",
       "      <td>False</td>\n",
       "      <td>False</td>\n",
       "      <td>False</td>\n",
       "      <td>False</td>\n",
       "      <td>...</td>\n",
       "      <td>False</td>\n",
       "      <td>False</td>\n",
       "      <td>False</td>\n",
       "      <td>False</td>\n",
       "      <td>False</td>\n",
       "      <td>False</td>\n",
       "      <td>False</td>\n",
       "      <td>False</td>\n",
       "      <td>False</td>\n",
       "      <td>True</td>\n",
       "    </tr>\n",
       "    <tr>\n",
       "      <th>4</th>\n",
       "      <td>False</td>\n",
       "      <td>False</td>\n",
       "      <td>False</td>\n",
       "      <td>False</td>\n",
       "      <td>False</td>\n",
       "      <td>True</td>\n",
       "      <td>True</td>\n",
       "      <td>False</td>\n",
       "      <td>False</td>\n",
       "      <td>True</td>\n",
       "      <td>...</td>\n",
       "      <td>True</td>\n",
       "      <td>True</td>\n",
       "      <td>False</td>\n",
       "      <td>True</td>\n",
       "      <td>True</td>\n",
       "      <td>True</td>\n",
       "      <td>True</td>\n",
       "      <td>True</td>\n",
       "      <td>True</td>\n",
       "      <td>True</td>\n",
       "    </tr>\n",
       "  </tbody>\n",
       "</table>\n",
       "<p>5 rows × 29 columns</p>\n",
       "</div>"
      ],
      "text/plain": [
       "   in_actuals  mode_baseline  tree_maxdepth1  tree_maxdepth2  tree_maxdepth3  \\\n",
       "0       False          False           False            True            True   \n",
       "1        True          False           False           False           False   \n",
       "2       False          False           False            True            True   \n",
       "3       False          False           False            True           False   \n",
       "4       False          False           False           False           False   \n",
       "\n",
       "   tree_maxdepth5  tree_maxdepth10  rf_depth1  rf_depth2  rf_depth3  ...  \\\n",
       "0            True             True       True       True       True  ...   \n",
       "1            True             True      False      False       True  ...   \n",
       "2            True             True       True       True       True  ...   \n",
       "3           False            False      False      False      False  ...   \n",
       "4            True             True      False      False       True  ...   \n",
       "\n",
       "   knn_n3  knn_n5  knn_n10  knn_n25  knn_n75  xgb_maxdepth3  xgb_maxdepth5  \\\n",
       "0   False   False    False    False    False           True           True   \n",
       "1    True   False    False     True     True           True           True   \n",
       "2   False   False    False    False     True           True           True   \n",
       "3   False   False    False    False    False          False          False   \n",
       "4    True    True    False     True     True           True           True   \n",
       "\n",
       "   xgb_maxdepth7  xgb_maxdepth9  manual_baseline  \n",
       "0           True           True             True  \n",
       "1           True           True             True  \n",
       "2           True           True             True  \n",
       "3          False          False             True  \n",
       "4           True           True             True  \n",
       "\n",
       "[5 rows x 29 columns]"
      ]
     },
     "execution_count": 29,
     "metadata": {},
     "output_type": "execute_result"
    }
   ],
   "source": [
    "# check the results of script for train\n",
    "y_train_preds.head()"
   ]
  },
  {
   "cell_type": "code",
   "execution_count": 30,
   "id": "b90d3a61",
   "metadata": {},
   "outputs": [
    {
     "data": {
      "text/html": [
       "<div>\n",
       "<style scoped>\n",
       "    .dataframe tbody tr th:only-of-type {\n",
       "        vertical-align: middle;\n",
       "    }\n",
       "\n",
       "    .dataframe tbody tr th {\n",
       "        vertical-align: top;\n",
       "    }\n",
       "\n",
       "    .dataframe thead th {\n",
       "        text-align: right;\n",
       "    }\n",
       "</style>\n",
       "<table border=\"1\" class=\"dataframe\">\n",
       "  <thead>\n",
       "    <tr style=\"text-align: right;\">\n",
       "      <th></th>\n",
       "      <th>out_actuals</th>\n",
       "      <th>mode_baseline</th>\n",
       "      <th>tree_maxdepth1</th>\n",
       "      <th>tree_maxdepth2</th>\n",
       "      <th>tree_maxdepth3</th>\n",
       "      <th>tree_maxdepth5</th>\n",
       "      <th>tree_maxdepth10</th>\n",
       "      <th>rf_depth1</th>\n",
       "      <th>rf_depth2</th>\n",
       "      <th>rf_depth3</th>\n",
       "      <th>...</th>\n",
       "      <th>knn_n3</th>\n",
       "      <th>knn_n5</th>\n",
       "      <th>knn_n10</th>\n",
       "      <th>knn_n25</th>\n",
       "      <th>knn_n75</th>\n",
       "      <th>xgb_maxdepth3</th>\n",
       "      <th>xgb_maxdepth5</th>\n",
       "      <th>xgb_maxdepth7</th>\n",
       "      <th>xgb_maxdepth9</th>\n",
       "      <th>manual_baseline</th>\n",
       "    </tr>\n",
       "  </thead>\n",
       "  <tbody>\n",
       "    <tr>\n",
       "      <th>1264</th>\n",
       "      <td>False</td>\n",
       "      <td>False</td>\n",
       "      <td>False</td>\n",
       "      <td>True</td>\n",
       "      <td>True</td>\n",
       "      <td>True</td>\n",
       "      <td>True</td>\n",
       "      <td>True</td>\n",
       "      <td>True</td>\n",
       "      <td>True</td>\n",
       "      <td>...</td>\n",
       "      <td>False</td>\n",
       "      <td>False</td>\n",
       "      <td>False</td>\n",
       "      <td>False</td>\n",
       "      <td>False</td>\n",
       "      <td>True</td>\n",
       "      <td>True</td>\n",
       "      <td>True</td>\n",
       "      <td>True</td>\n",
       "      <td>True</td>\n",
       "    </tr>\n",
       "    <tr>\n",
       "      <th>367</th>\n",
       "      <td>False</td>\n",
       "      <td>False</td>\n",
       "      <td>False</td>\n",
       "      <td>False</td>\n",
       "      <td>False</td>\n",
       "      <td>False</td>\n",
       "      <td>False</td>\n",
       "      <td>False</td>\n",
       "      <td>False</td>\n",
       "      <td>False</td>\n",
       "      <td>...</td>\n",
       "      <td>False</td>\n",
       "      <td>False</td>\n",
       "      <td>False</td>\n",
       "      <td>False</td>\n",
       "      <td>False</td>\n",
       "      <td>False</td>\n",
       "      <td>False</td>\n",
       "      <td>False</td>\n",
       "      <td>False</td>\n",
       "      <td>True</td>\n",
       "    </tr>\n",
       "    <tr>\n",
       "      <th>1029</th>\n",
       "      <td>False</td>\n",
       "      <td>False</td>\n",
       "      <td>False</td>\n",
       "      <td>True</td>\n",
       "      <td>True</td>\n",
       "      <td>True</td>\n",
       "      <td>True</td>\n",
       "      <td>True</td>\n",
       "      <td>True</td>\n",
       "      <td>True</td>\n",
       "      <td>...</td>\n",
       "      <td>True</td>\n",
       "      <td>False</td>\n",
       "      <td>False</td>\n",
       "      <td>False</td>\n",
       "      <td>False</td>\n",
       "      <td>True</td>\n",
       "      <td>True</td>\n",
       "      <td>True</td>\n",
       "      <td>True</td>\n",
       "      <td>True</td>\n",
       "    </tr>\n",
       "    <tr>\n",
       "      <th>1391</th>\n",
       "      <td>True</td>\n",
       "      <td>False</td>\n",
       "      <td>False</td>\n",
       "      <td>True</td>\n",
       "      <td>True</td>\n",
       "      <td>True</td>\n",
       "      <td>True</td>\n",
       "      <td>True</td>\n",
       "      <td>True</td>\n",
       "      <td>True</td>\n",
       "      <td>...</td>\n",
       "      <td>False</td>\n",
       "      <td>False</td>\n",
       "      <td>False</td>\n",
       "      <td>False</td>\n",
       "      <td>False</td>\n",
       "      <td>True</td>\n",
       "      <td>True</td>\n",
       "      <td>True</td>\n",
       "      <td>True</td>\n",
       "      <td>True</td>\n",
       "    </tr>\n",
       "    <tr>\n",
       "      <th>527</th>\n",
       "      <td>False</td>\n",
       "      <td>False</td>\n",
       "      <td>False</td>\n",
       "      <td>False</td>\n",
       "      <td>False</td>\n",
       "      <td>False</td>\n",
       "      <td>False</td>\n",
       "      <td>False</td>\n",
       "      <td>False</td>\n",
       "      <td>False</td>\n",
       "      <td>...</td>\n",
       "      <td>False</td>\n",
       "      <td>False</td>\n",
       "      <td>False</td>\n",
       "      <td>False</td>\n",
       "      <td>False</td>\n",
       "      <td>False</td>\n",
       "      <td>False</td>\n",
       "      <td>False</td>\n",
       "      <td>False</td>\n",
       "      <td>True</td>\n",
       "    </tr>\n",
       "  </tbody>\n",
       "</table>\n",
       "<p>5 rows × 29 columns</p>\n",
       "</div>"
      ],
      "text/plain": [
       "      out_actuals  mode_baseline  tree_maxdepth1  tree_maxdepth2  \\\n",
       "1264        False          False           False            True   \n",
       "367         False          False           False           False   \n",
       "1029        False          False           False            True   \n",
       "1391         True          False           False            True   \n",
       "527         False          False           False           False   \n",
       "\n",
       "      tree_maxdepth3  tree_maxdepth5  tree_maxdepth10  rf_depth1  rf_depth2  \\\n",
       "1264            True            True             True       True       True   \n",
       "367            False           False            False      False      False   \n",
       "1029            True            True             True       True       True   \n",
       "1391            True            True             True       True       True   \n",
       "527            False           False            False      False      False   \n",
       "\n",
       "      rf_depth3  ...  knn_n3  knn_n5  knn_n10  knn_n25  knn_n75  \\\n",
       "1264       True  ...   False   False    False    False    False   \n",
       "367       False  ...   False   False    False    False    False   \n",
       "1029       True  ...    True   False    False    False    False   \n",
       "1391       True  ...   False   False    False    False    False   \n",
       "527       False  ...   False   False    False    False    False   \n",
       "\n",
       "      xgb_maxdepth3  xgb_maxdepth5  xgb_maxdepth7  xgb_maxdepth9  \\\n",
       "1264           True           True           True           True   \n",
       "367           False          False          False          False   \n",
       "1029           True           True           True           True   \n",
       "1391           True           True           True           True   \n",
       "527           False          False          False          False   \n",
       "\n",
       "      manual_baseline  \n",
       "1264             True  \n",
       "367              True  \n",
       "1029             True  \n",
       "1391             True  \n",
       "527              True  \n",
       "\n",
       "[5 rows x 29 columns]"
      ]
     },
     "execution_count": 30,
     "metadata": {},
     "output_type": "execute_result"
    }
   ],
   "source": [
    "# check the results of script for validate\n",
    "y_val_preds.head()"
   ]
  },
  {
   "cell_type": "markdown",
   "id": "72f8ec6d",
   "metadata": {},
   "source": [
    "## First Evaluation: Initial Models and F1 Score\n",
    "Now that we have predictions dataframes, we will push these dataframes through our evaluation script and check which models scored highest on F1 score."
   ]
  },
  {
   "cell_type": "code",
   "execution_count": 31,
   "id": "7641312e",
   "metadata": {},
   "outputs": [
    {
     "data": {
      "text/html": [
       "<div>\n",
       "<style scoped>\n",
       "    .dataframe tbody tr th:only-of-type {\n",
       "        vertical-align: middle;\n",
       "    }\n",
       "\n",
       "    .dataframe tbody tr th {\n",
       "        vertical-align: top;\n",
       "    }\n",
       "\n",
       "    .dataframe thead th {\n",
       "        text-align: right;\n",
       "    }\n",
       "</style>\n",
       "<table border=\"1\" class=\"dataframe\">\n",
       "  <thead>\n",
       "    <tr style=\"text-align: right;\">\n",
       "      <th></th>\n",
       "      <th>Model</th>\n",
       "      <th>OutSample_F1_Score</th>\n",
       "    </tr>\n",
       "  </thead>\n",
       "  <tbody>\n",
       "    <tr>\n",
       "      <th>11</th>\n",
       "      <td>logit</td>\n",
       "      <td>0.3841</td>\n",
       "    </tr>\n",
       "    <tr>\n",
       "      <th>17</th>\n",
       "      <td>nb_vsmooth100</td>\n",
       "      <td>0.3767</td>\n",
       "    </tr>\n",
       "    <tr>\n",
       "      <th>16</th>\n",
       "      <td>nb_vsmooth10</td>\n",
       "      <td>0.3767</td>\n",
       "    </tr>\n",
       "    <tr>\n",
       "      <th>8</th>\n",
       "      <td>rf_depth3</td>\n",
       "      <td>0.3734</td>\n",
       "    </tr>\n",
       "    <tr>\n",
       "      <th>9</th>\n",
       "      <td>rf_depth5</td>\n",
       "      <td>0.3718</td>\n",
       "    </tr>\n",
       "    <tr>\n",
       "      <th>14</th>\n",
       "      <td>nb_vsmooth0.001</td>\n",
       "      <td>0.3679</td>\n",
       "    </tr>\n",
       "    <tr>\n",
       "      <th>15</th>\n",
       "      <td>nb_vsmooth0.01</td>\n",
       "      <td>0.3679</td>\n",
       "    </tr>\n",
       "  </tbody>\n",
       "</table>\n",
       "</div>"
      ],
      "text/plain": [
       "              Model  OutSample_F1_Score\n",
       "11            logit              0.3841\n",
       "17    nb_vsmooth100              0.3767\n",
       "16     nb_vsmooth10              0.3767\n",
       "8         rf_depth3              0.3734\n",
       "9         rf_depth5              0.3718\n",
       "14  nb_vsmooth0.001              0.3679\n",
       "15   nb_vsmooth0.01              0.3679"
      ]
     },
     "execution_count": 31,
     "metadata": {},
     "output_type": "execute_result"
    }
   ],
   "source": [
    "# build dataframe for model performance metrics\n",
    "model_performances = model.print_classification_results(y_train_preds, y_val_preds)\n",
    "\n",
    "# sort results by top-F1 score\n",
    "model_performances[['Model','OutSample_F1_Score']].sort_values(by='OutSample_F1_Score', ascending=False).head(7)"
   ]
  },
  {
   "cell_type": "markdown",
   "id": "960b7db9",
   "metadata": {},
   "source": [
    "### Results of First Evaluation\n",
    "- Always-Guess-Five-Star-Rating baseline on out-of-sample F1 Score: 28%\n",
    "- Our best algorithms on out-of-sample F1 Score:\n",
    "    * Logistic Regression (38%)\n",
    "    * Gaussian Naive Bayes (37%)\n",
    "    * Random Forest Classifier (37%)\n",
    "    \n",
    "## Second Evaluation: Grid Search\n",
    "Now, we will apply Grid Search on Gaussian Naive Bayes and Random Forest Classifier to see which hyperparameter combination works best. We won't use Grid Search on Logistic Regression because its hyperparameters are not well-suited for the iteration technique involved with Grid Search.\n",
    "\n",
    "### Grid Search for GaussianNB"
   ]
  },
  {
   "cell_type": "code",
   "execution_count": 32,
   "id": "77357172",
   "metadata": {},
   "outputs": [
    {
     "data": {
      "text/plain": [
       "GaussianNB(var_smoothing=100)"
      ]
     },
     "execution_count": 32,
     "metadata": {},
     "output_type": "execute_result"
    }
   ],
   "source": [
    "# create grid\n",
    "nb_grid = GridSearchCV(estimator=GaussianNB(),\n",
    "                       param_grid={'var_smoothing':[.001, .01, .1, 10, 100, 1000]},\n",
    "                       scoring='f1',\n",
    "                       cv=5)\n",
    "\n",
    "# fit grid on train, calculate best var_smoothing\n",
    "nb_grid.fit(X_train, y_train)\n",
    "results = nb_grid.best_estimator_\n",
    "results"
   ]
  },
  {
   "cell_type": "markdown",
   "id": "31fa1cd0",
   "metadata": {},
   "source": [
    "### Grid Search for Random Forest Classifier"
   ]
  },
  {
   "cell_type": "code",
   "execution_count": 33,
   "id": "901aa50c",
   "metadata": {},
   "outputs": [
    {
     "data": {
      "text/plain": [
       "RandomForestClassifier(max_depth=9)"
      ]
     },
     "execution_count": 33,
     "metadata": {},
     "output_type": "execute_result"
    }
   ],
   "source": [
    "# create grid\n",
    "rf_grid = GridSearchCV(estimator=RandomForestClassifier(),\n",
    "                       param_grid={'max_depth':[5,6,7,8,9],\n",
    "                                   'min_samples_leaf':[1,2,3]},\n",
    "                       scoring='f1',\n",
    "                       cv=5)\n",
    "\n",
    "# fit grid on train, calculate best hyperparameter combination\n",
    "rf_grid.fit(X_train, y_train)\n",
    "results = rf_grid.best_estimator_\n",
    "results"
   ]
  },
  {
   "cell_type": "markdown",
   "id": "494af339",
   "metadata": {},
   "source": [
    "Best hyperparameter combinations:\n",
    "> - Gaussian Naive Bayes: var_smoothing=100\n",
    "> - Random Forest Classifier: max_depth=7, min_samples_leaf=1\n",
    "\n",
    "## Third Evaluation: ROC Curve AUC\n",
    "Using our top three models, we will create ROC Curves and calculate area under the curve (AUC) to see which model performs best. We will choose that model as our best performing model of all models."
   ]
  },
  {
   "cell_type": "code",
   "execution_count": 34,
   "id": "cb14f14a",
   "metadata": {},
   "outputs": [],
   "source": [
    "# create and fit the top three models and baseline\n",
    "logit = LogisticRegression(random_state=123).fit(X_train, y_train)\n",
    "nb = GaussianNB(var_smoothing=100).fit(X_train, y_train)\n",
    "rf = RandomForestClassifier(max_depth=7, random_state=123).fit(X_train, y_train)"
   ]
  },
  {
   "cell_type": "code",
   "execution_count": 35,
   "id": "8c98506c",
   "metadata": {},
   "outputs": [],
   "source": [
    "# only use prediction percentages for five-star ratings\n",
    "# baseline\n",
    "bl_probs = [True for _ in range(len(y_validate))]\n",
    "# logistic regression\n",
    "logit_probs = logit.predict_proba(X_validate)\n",
    "logit_probs = logit_probs[:,1]\n",
    "# naive bayes\n",
    "nb_probs = nb.predict_proba(X_validate)\n",
    "nb_probs = nb_probs[:,1]\n",
    "# random forest\n",
    "rf_probs = rf.predict_proba(X_validate)\n",
    "rf_probs = rf_probs[:,1]"
   ]
  },
  {
   "cell_type": "code",
   "execution_count": 36,
   "id": "a3bd11c1",
   "metadata": {},
   "outputs": [],
   "source": [
    "# calculate ROC AUC for baseline and our models\n",
    "bl_auc = roc_auc_score(y_validate, bl_probs)\n",
    "logit_auc = roc_auc_score(y_validate, logit_probs)\n",
    "nb_auc = roc_auc_score(y_validate, nb_probs)\n",
    "rf_auc = roc_auc_score(y_validate, rf_probs)"
   ]
  },
  {
   "cell_type": "code",
   "execution_count": 37,
   "id": "49df6aea",
   "metadata": {},
   "outputs": [
    {
     "name": "stdout",
     "output_type": "stream",
     "text": [
      "Baseline: ROC AUC=0.500\n",
      "Logistic Regression: ROC AUC=0.703\n",
      "Naive Bayes: ROC AUC=0.685\n",
      "Random Forest: ROC AUC=0.669\n"
     ]
    }
   ],
   "source": [
    "# print ROC AUC for baseline and our models\n",
    "print('Baseline: ROC AUC=%.3f' % (bl_auc))\n",
    "print('Logistic Regression: ROC AUC=%.3f' % (logit_auc))\n",
    "print('Naive Bayes: ROC AUC=%.3f' % (nb_auc))\n",
    "print('Random Forest: ROC AUC=%.3f' % (rf_auc))"
   ]
  },
  {
   "cell_type": "code",
   "execution_count": 38,
   "id": "f0114902",
   "metadata": {},
   "outputs": [],
   "source": [
    "# generate ROC curve for baseline and our models\n",
    "bl_fpr, bl_tpr, _ = roc_curve(y_validate, bl_probs)\n",
    "logit_fpr, logit_tpr, _ = roc_curve(y_validate, logit_probs)\n",
    "nb_fpr, nb_tpr, _ = roc_curve(y_validate, nb_probs)\n",
    "rf_fpr, rf_tpr, _ = roc_curve(y_validate, rf_probs)"
   ]
  },
  {
   "cell_type": "code",
   "execution_count": 39,
   "id": "17075b84",
   "metadata": {},
   "outputs": [
    {
     "data": {
      "image/png": "[encoded data removed]",
      "text/plain": [
       "<Figure size 432x288 with 1 Axes>"
      ]
     },
     "metadata": {
      "needs_background": "light"
     },
     "output_type": "display_data"
    }
   ],
   "source": [
    "# plot ROC curve for baseline and our models\n",
    "plt.plot(bl_fpr, bl_tpr, linestyle='--', label='Baseline')\n",
    "plt.plot(logit_fpr, logit_tpr, marker='.', label='Logistic Regression')\n",
    "plt.plot(nb_fpr, nb_tpr, marker='.', label='Naive Bayes')\n",
    "plt.plot(rf_fpr, rf_tpr, marker='.', label='Random Forest')\n",
    "plt.xlabel(\"False Positive Rate\")\n",
    "plt.ylabel(\"True Positive Rate\")\n",
    "plt.title(\"Receiver Operating Characteristic\")\n",
    "plt.legend(loc=\"lower right\")\n",
    "plt.show()"
   ]
  },
  {
   "cell_type": "markdown",
   "id": "6e7fa9a7",
   "metadata": {},
   "source": [
    "## Overall Results of Model Creation\n",
    "> - Best Model: Logistic Regression\n",
    "> - Baseline F1 Score: 28%\n",
    "> - Our F1 Score: 34%\n",
    "> - Baseline ROC AUC: 50%\n",
    "> - Our ROC AUC: 70%\n",
    "\n",
    "# Evaluating Best Model on Test Split\n",
    "Now, we will check our best model's F1 Score for our sequestered out-of-sample split."
   ]
  },
  {
   "cell_type": "code",
   "execution_count": 40,
   "id": "7570af89",
   "metadata": {},
   "outputs": [],
   "source": [
    "# prepare y_test for evaluation\n",
    "y_test = pd.DataFrame(y_test)"
   ]
  },
  {
   "cell_type": "code",
   "execution_count": 41,
   "id": "5b286ac4",
   "metadata": {},
   "outputs": [],
   "source": [
    "# add columns for predictions and baseline\n",
    "y_test['predictions'] = logit.predict(X_test)\n",
    "y_test['baseline'] = True"
   ]
  },
  {
   "cell_type": "code",
   "execution_count": 42,
   "id": "49a66b05",
   "metadata": {},
   "outputs": [],
   "source": [
    "# calculate f1 scores\n",
    "baseline_f1_score = f1_score(y_test['five_stars'], y_test['baseline'])\n",
    "predictions_f1_score = f1_score(y_test['five_stars'], y_test['predictions'])"
   ]
  },
  {
   "cell_type": "code",
   "execution_count": 43,
   "id": "07abc178",
   "metadata": {},
   "outputs": [
    {
     "name": "stdout",
     "output_type": "stream",
     "text": [
      "Baseline F1 Score: 24%\n",
      "Best Model F1 Score: 28%\n"
     ]
    }
   ],
   "source": [
    "# output f1 scores\n",
    "print(f'Baseline F1 Score: {int(baseline_f1_score * 100)}%')\n",
    "print(f'Best Model F1 Score: {int(predictions_f1_score * 100)}%')"
   ]
  },
  {
   "cell_type": "markdown",
   "id": "086e3db9",
   "metadata": {},
   "source": [
    "# <center>Conclusion\n",
    "- **Using nothing more than analyzing ramen product names, I was able to build several categorical features that incorporated domain knowledge and translation for keywords in product names.**\n",
    "- **Using statistical testing, we reduced features to only the features that were related to our target.** \n",
    "- **In the end, our predictive model outperformed the baseline on common evaluation metrics for unseen data.**"
   ]
  },
  {
   "cell_type": "code",
   "execution_count": null,
   "id": "f8873469",
   "metadata": {},
   "outputs": [],
   "source": []
  }
 ],
 "metadata": {
  "kernelspec": {
   "display_name": "Python 3 (ipykernel)",
   "language": "python",
   "name": "python3"
  },
  "language_info": {
   "codemirror_mode": {
    "name": "ipython",
    "version": 3
   },
   "file_extension": ".py",
   "mimetype": "text/x-python",
   "name": "python",
   "nbconvert_exporter": "python",
   "pygments_lexer": "ipython3",
   "version": "3.8.8"
  }
 },
 "nbformat": 4,
 "nbformat_minor": 5
}
